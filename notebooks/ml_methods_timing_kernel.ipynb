{
 "cells": [
  {
   "cell_type": "markdown",
   "metadata": {},
   "source": [
    "## Import Dataset"
   ]
  },
  {
   "cell_type": "code",
   "execution_count": 5,
   "metadata": {},
   "outputs": [
    {
     "data": {
      "text/html": [
       "<div>\n",
       "<style scoped>\n",
       "    .dataframe tbody tr th:only-of-type {\n",
       "        vertical-align: middle;\n",
       "    }\n",
       "\n",
       "    .dataframe tbody tr th {\n",
       "        vertical-align: top;\n",
       "    }\n",
       "\n",
       "    .dataframe thead th {\n",
       "        text-align: right;\n",
       "    }\n",
       "</style>\n",
       "<table border=\"1\" class=\"dataframe\">\n",
       "  <thead>\n",
       "    <tr style=\"text-align: right;\">\n",
       "      <th></th>\n",
       "      <th>zero_dim_rtl</th>\n",
       "      <th>zero_dim_ltr</th>\n",
       "      <th>zero_dim_btt</th>\n",
       "      <th>zero_dim_ttb</th>\n",
       "      <th>one_dim_rtl</th>\n",
       "      <th>one_dim_ltr</th>\n",
       "      <th>one_dim_btt</th>\n",
       "      <th>one_dim_ttb</th>\n",
       "      <th>labels</th>\n",
       "    </tr>\n",
       "  </thead>\n",
       "  <tbody>\n",
       "    <tr>\n",
       "      <th>0</th>\n",
       "      <td>[[23.0, 50.0], [13.0, 20.0]]</td>\n",
       "      <td>[[24.0, 50.0], [11.0, 21.0]]</td>\n",
       "      <td>[[24.0, 50.0], [8.0, 9.0]]</td>\n",
       "      <td>[[23.0, 50.0]]</td>\n",
       "      <td>[]</td>\n",
       "      <td>[]</td>\n",
       "      <td>[]</td>\n",
       "      <td>[]</td>\n",
       "      <td>5</td>\n",
       "    </tr>\n",
       "    <tr>\n",
       "      <th>1</th>\n",
       "      <td>[[22.0, 50.0]]</td>\n",
       "      <td>[[22.0, 50.0]]</td>\n",
       "      <td>[[23.0, 50.0]]</td>\n",
       "      <td>[[24.0, 50.0]]</td>\n",
       "      <td>[[0.0, 8.0]]</td>\n",
       "      <td>[[0.0, 8.0]]</td>\n",
       "      <td>[[0.0, 9.0]]</td>\n",
       "      <td>[[0.0, 8.0]]</td>\n",
       "      <td>0</td>\n",
       "    </tr>\n",
       "    <tr>\n",
       "      <th>2</th>\n",
       "      <td>[[22.0, 50.0]]</td>\n",
       "      <td>[[25.0, 50.0]]</td>\n",
       "      <td>[[24.0, 50.0], [15.0, 16.0]]</td>\n",
       "      <td>[[23.0, 50.0], [13.0, 22.0]]</td>\n",
       "      <td>[]</td>\n",
       "      <td>[]</td>\n",
       "      <td>[]</td>\n",
       "      <td>[]</td>\n",
       "      <td>4</td>\n",
       "    </tr>\n",
       "    <tr>\n",
       "      <th>3</th>\n",
       "      <td>[[21.0, 50.0]]</td>\n",
       "      <td>[[20.0, 50.0]]</td>\n",
       "      <td>[[24.0, 50.0]]</td>\n",
       "      <td>[[23.0, 50.0]]</td>\n",
       "      <td>[]</td>\n",
       "      <td>[]</td>\n",
       "      <td>[]</td>\n",
       "      <td>[]</td>\n",
       "      <td>1</td>\n",
       "    </tr>\n",
       "    <tr>\n",
       "      <th>4</th>\n",
       "      <td>[[20.0, 50.0], [16.0, 18.0]]</td>\n",
       "      <td>[[22.0, 50.0], [14.0, 15.0]]</td>\n",
       "      <td>[[26.0, 50.0]]</td>\n",
       "      <td>[[21.0, 50.0]]</td>\n",
       "      <td>[[0.0, 9.0]]</td>\n",
       "      <td>[[0.0, 12.0]]</td>\n",
       "      <td>[[0.0, 9.0]]</td>\n",
       "      <td>[[0.0, 14.0]]</td>\n",
       "      <td>9</td>\n",
       "    </tr>\n",
       "    <tr>\n",
       "      <th>...</th>\n",
       "      <td>...</td>\n",
       "      <td>...</td>\n",
       "      <td>...</td>\n",
       "      <td>...</td>\n",
       "      <td>...</td>\n",
       "      <td>...</td>\n",
       "      <td>...</td>\n",
       "      <td>...</td>\n",
       "      <td>...</td>\n",
       "    </tr>\n",
       "    <tr>\n",
       "      <th>59995</th>\n",
       "      <td>[[23.0, 50.0], [16.0, 17.0]]</td>\n",
       "      <td>[[22.0, 50.0], [16.0, 18.0]]</td>\n",
       "      <td>[[24.0, 50.0]]</td>\n",
       "      <td>[[23.0, 50.0]]</td>\n",
       "      <td>[[0.0, 13.0], [0.0, 7.0]]</td>\n",
       "      <td>[[0.0, 13.0], [0.0, 9.0]]</td>\n",
       "      <td>[[0.0, 16.0], [0.0, 6.0]]</td>\n",
       "      <td>[[0.0, 17.0], [0.0, 5.0]]</td>\n",
       "      <td>8</td>\n",
       "    </tr>\n",
       "    <tr>\n",
       "      <th>59996</th>\n",
       "      <td>[[21.0, 50.0], [17.0, 18.0]]</td>\n",
       "      <td>[[24.0, 50.0], [12.0, 18.0], [9.0, 17.0]]</td>\n",
       "      <td>[[23.0, 50.0]]</td>\n",
       "      <td>[[24.0, 50.0], [7.0, 10.0]]</td>\n",
       "      <td>[]</td>\n",
       "      <td>[]</td>\n",
       "      <td>[]</td>\n",
       "      <td>[]</td>\n",
       "      <td>3</td>\n",
       "    </tr>\n",
       "    <tr>\n",
       "      <th>59997</th>\n",
       "      <td>[[24.0, 50.0], [13.0, 18.0]]</td>\n",
       "      <td>[[23.0, 50.0], [12.0, 20.0]]</td>\n",
       "      <td>[[24.0, 50.0]]</td>\n",
       "      <td>[[23.0, 50.0], [5.0, 7.0]]</td>\n",
       "      <td>[]</td>\n",
       "      <td>[]</td>\n",
       "      <td>[]</td>\n",
       "      <td>[]</td>\n",
       "      <td>5</td>\n",
       "    </tr>\n",
       "    <tr>\n",
       "      <th>59998</th>\n",
       "      <td>[[23.0, 50.0], [8.0, 21.0]]</td>\n",
       "      <td>[[22.0, 50.0], [11.0, 15.0]]</td>\n",
       "      <td>[[21.0, 50.0]]</td>\n",
       "      <td>[[26.0, 50.0], [8.0, 15.0]]</td>\n",
       "      <td>[[0.0, 17.0]]</td>\n",
       "      <td>[[0.0, 8.0]]</td>\n",
       "      <td>[[0.0, 15.0]]</td>\n",
       "      <td>[[0.0, 10.0]]</td>\n",
       "      <td>6</td>\n",
       "    </tr>\n",
       "    <tr>\n",
       "      <th>59999</th>\n",
       "      <td>[[25.0, 50.0]]</td>\n",
       "      <td>[[22.0, 50.0]]</td>\n",
       "      <td>[[24.0, 50.0]]</td>\n",
       "      <td>[[22.0, 50.0], [19.0, 20.0]]</td>\n",
       "      <td>[[0.0, 11.0], [0.0, 8.0]]</td>\n",
       "      <td>[[0.0, 18.0], [0.0, 9.0]]</td>\n",
       "      <td>[[0.0, 20.0], [0.0, 8.0]]</td>\n",
       "      <td>[[0.0, 14.0], [0.0, 5.0]]</td>\n",
       "      <td>8</td>\n",
       "    </tr>\n",
       "  </tbody>\n",
       "</table>\n",
       "<p>60000 rows × 9 columns</p>\n",
       "</div>"
      ],
      "text/plain": [
       "                       zero_dim_rtl  \\\n",
       "0      [[23.0, 50.0], [13.0, 20.0]]   \n",
       "1                    [[22.0, 50.0]]   \n",
       "2                    [[22.0, 50.0]]   \n",
       "3                    [[21.0, 50.0]]   \n",
       "4      [[20.0, 50.0], [16.0, 18.0]]   \n",
       "...                             ...   \n",
       "59995  [[23.0, 50.0], [16.0, 17.0]]   \n",
       "59996  [[21.0, 50.0], [17.0, 18.0]]   \n",
       "59997  [[24.0, 50.0], [13.0, 18.0]]   \n",
       "59998   [[23.0, 50.0], [8.0, 21.0]]   \n",
       "59999                [[25.0, 50.0]]   \n",
       "\n",
       "                                    zero_dim_ltr  \\\n",
       "0                   [[24.0, 50.0], [11.0, 21.0]]   \n",
       "1                                 [[22.0, 50.0]]   \n",
       "2                                 [[25.0, 50.0]]   \n",
       "3                                 [[20.0, 50.0]]   \n",
       "4                   [[22.0, 50.0], [14.0, 15.0]]   \n",
       "...                                          ...   \n",
       "59995               [[22.0, 50.0], [16.0, 18.0]]   \n",
       "59996  [[24.0, 50.0], [12.0, 18.0], [9.0, 17.0]]   \n",
       "59997               [[23.0, 50.0], [12.0, 20.0]]   \n",
       "59998               [[22.0, 50.0], [11.0, 15.0]]   \n",
       "59999                             [[22.0, 50.0]]   \n",
       "\n",
       "                       zero_dim_btt                  zero_dim_ttb  \\\n",
       "0        [[24.0, 50.0], [8.0, 9.0]]                [[23.0, 50.0]]   \n",
       "1                    [[23.0, 50.0]]                [[24.0, 50.0]]   \n",
       "2      [[24.0, 50.0], [15.0, 16.0]]  [[23.0, 50.0], [13.0, 22.0]]   \n",
       "3                    [[24.0, 50.0]]                [[23.0, 50.0]]   \n",
       "4                    [[26.0, 50.0]]                [[21.0, 50.0]]   \n",
       "...                             ...                           ...   \n",
       "59995                [[24.0, 50.0]]                [[23.0, 50.0]]   \n",
       "59996                [[23.0, 50.0]]   [[24.0, 50.0], [7.0, 10.0]]   \n",
       "59997                [[24.0, 50.0]]    [[23.0, 50.0], [5.0, 7.0]]   \n",
       "59998                [[21.0, 50.0]]   [[26.0, 50.0], [8.0, 15.0]]   \n",
       "59999                [[24.0, 50.0]]  [[22.0, 50.0], [19.0, 20.0]]   \n",
       "\n",
       "                     one_dim_rtl                one_dim_ltr  \\\n",
       "0                             []                         []   \n",
       "1                   [[0.0, 8.0]]               [[0.0, 8.0]]   \n",
       "2                             []                         []   \n",
       "3                             []                         []   \n",
       "4                   [[0.0, 9.0]]              [[0.0, 12.0]]   \n",
       "...                          ...                        ...   \n",
       "59995  [[0.0, 13.0], [0.0, 7.0]]  [[0.0, 13.0], [0.0, 9.0]]   \n",
       "59996                         []                         []   \n",
       "59997                         []                         []   \n",
       "59998              [[0.0, 17.0]]               [[0.0, 8.0]]   \n",
       "59999  [[0.0, 11.0], [0.0, 8.0]]  [[0.0, 18.0], [0.0, 9.0]]   \n",
       "\n",
       "                     one_dim_btt                one_dim_ttb  labels  \n",
       "0                             []                         []       5  \n",
       "1                   [[0.0, 9.0]]               [[0.0, 8.0]]       0  \n",
       "2                             []                         []       4  \n",
       "3                             []                         []       1  \n",
       "4                   [[0.0, 9.0]]              [[0.0, 14.0]]       9  \n",
       "...                          ...                        ...     ...  \n",
       "59995  [[0.0, 16.0], [0.0, 6.0]]  [[0.0, 17.0], [0.0, 5.0]]       8  \n",
       "59996                         []                         []       3  \n",
       "59997                         []                         []       5  \n",
       "59998              [[0.0, 15.0]]              [[0.0, 10.0]]       6  \n",
       "59999  [[0.0, 20.0], [0.0, 8.0]]  [[0.0, 14.0], [0.0, 5.0]]       8  \n",
       "\n",
       "[60000 rows x 9 columns]"
      ]
     },
     "execution_count": 5,
     "metadata": {},
     "output_type": "execute_result"
    }
   ],
   "source": [
    "from teaspoon.ML import load_datasets\n",
    "import numpy as np\n",
    "import pandas as pd\n",
    "mnist = load_datasets.mnist()\n",
    "mnist"
   ]
  },
  {
   "cell_type": "markdown",
   "metadata": {},
   "source": [
    "### Fill Missing Data in One Dimension"
   ]
  },
  {
   "cell_type": "code",
   "execution_count": 2,
   "metadata": {},
   "outputs": [],
   "source": [
    "def fill_missing(dim_1):\n",
    "    for i in range(0, len(dim_1)):\n",
    "        if len(dim_1[i])== 0:\n",
    "            dim_1[i] = np.array([[0,.01]])\n",
    "        else: \n",
    "            dim_1[i] = dim_1[i]\n",
    "    return dim_1"
   ]
  },
  {
   "cell_type": "code",
   "execution_count": 3,
   "metadata": {},
   "outputs": [],
   "source": [
    "import warnings\n",
    "warnings.filterwarnings('ignore')\n",
    "mnist['one_dim_rtl'] = fill_missing(mnist['one_dim_rtl'])\n",
    "mnist['one_dim_ltr'] = fill_missing(mnist['one_dim_ltr'])\n",
    "mnist['one_dim_btt'] = fill_missing(mnist['one_dim_btt'])\n",
    "mnist['one_dim_ttb'] = fill_missing(mnist['one_dim_ttb'])"
   ]
  },
  {
   "cell_type": "markdown",
   "metadata": {},
   "source": [
    "### Choose Dimension for Timing Test"
   ]
  },
  {
   "cell_type": "code",
   "execution_count": 6,
   "metadata": {},
   "outputs": [],
   "source": [
    "def train_test_split_sklearn(DgmsFD, labels_col, train_size=.5, seed=12):\n",
    "    from sklearn.model_selection import train_test_split\n",
    "    labels = DgmsFD[labels_col]\n",
    "    training_dgms, testing_dgms = train_test_split(DgmsFD, train_size=train_size, random_state=seed, stratify=labels)\n",
    "    return training_dgms.reset_index(), testing_dgms.reset_index()"
   ]
  },
  {
   "cell_type": "code",
   "execution_count": 5,
   "metadata": {},
   "outputs": [],
   "source": [
    "dgms_train, dgms_test = train_test_split_sklearn(mnist, 'labels', train_size = .95)\n",
    "xdgm0_train = dgms_train['zero_dim_rtl']\n",
    "xdgm0_test = dgms_test['zero_dim_rtl']\n",
    "xdgm1_train = dgms_train['one_dim_rtl']\n",
    "xdgm1_test = dgms_test['one_dim_rtl']\n",
    "labels_train = dgms_train['labels']\n",
    "labels_test = dgms_test['labels']"
   ]
  },
  {
   "cell_type": "markdown",
   "metadata": {},
   "source": [
    "### Load original kernel method function from teaspoon"
   ]
  },
  {
   "cell_type": "code",
   "execution_count": 68,
   "metadata": {},
   "outputs": [],
   "source": [
    "import numpy as np\n",
    "import math\n",
    "from numpy.linalg import norm as lnorm\n",
    "from math import pi\n",
    "\n",
    "def KernelMethod(perDgm1, perDgm2, sigma):\n",
    "    \n",
    "    L1 = len(perDgm1)\n",
    "    L2 = len(perDgm2)\n",
    "    kernel = np.zeros((L2, L1))\n",
    "\n",
    "    Kernel = 0\n",
    "\n",
    "    for i in range(0, L1):\n",
    "        p = perDgm1[i]\n",
    "        p = np.reshape(p, (2, 1))\n",
    "        for j in range(0, L2):\n",
    "            q = perDgm2[j]\n",
    "            q = np.reshape(q, (2, 1))\n",
    "            q_bar = np.zeros((2, 1))\n",
    "            q_bar[0] = q[1]\n",
    "            q_bar[1] = q[0]\n",
    "            dist1 = lnorm(p-q)\n",
    "            dist2 = lnorm(p-q_bar)\n",
    "            kernel[j, i] = np.exp(-(math.pow(dist1, 2))/(8*sigma)) - \\\n",
    "                np.exp(-(math.pow(dist2, 2))/(8*sigma))\n",
    "            Kernel = Kernel+kernel[j, i]\n",
    "    Kernel = Kernel*(1/(8*pi*sigma))\n",
    "\n",
    "    return Kernel\n",
    "\n",
    "def heat_kernel_distance(dgm0, dgm1, sigma=.4):\n",
    "    return np.sqrt(KernelMethod(dgm0, dgm0, sigma) + KernelMethod(dgm1, dgm1, sigma) - 2*KernelMethod(dgm0, dgm1, sigma))\n",
    "\n",
    "def kernel_features(train, s):\n",
    "    import time\n",
    "    import numpy as np\n",
    "    n_train = len(train)\n",
    "    X_train_features = np.zeros((n_train, n_train))\n",
    "\n",
    "    for i in range(0,n_train):\n",
    "        for j in range(0,i):\n",
    "            dgm0 = train[i]\n",
    "            dgm1 = train[j]\n",
    "            hka = heat_kernel_distance(dgm0, dgm1, sigma = s) \n",
    "            X_train_features[i,j] = hka\n",
    "            X_train_features[j,i] = hka\n",
    "\n",
    "    return X_train_features"
   ]
  },
  {
   "cell_type": "markdown",
   "metadata": {},
   "source": [
    "Optimized with Numba"
   ]
  },
  {
   "cell_type": "code",
   "execution_count": 60,
   "metadata": {},
   "outputs": [
    {
     "name": "stderr",
     "output_type": "stream",
     "text": [
      "/var/folders/p6/pn26dbmx4jj67d6nh7m6557h0000gn/T/ipykernel_42875/1583188434.py:39: NumbaDeprecationWarning: The 'nopython' keyword argument was not supplied to the 'numba.jit' decorator. The implicit default value for this argument is currently False, but it will be changed to True in Numba 0.59.0. See https://numba.readthedocs.io/en/stable/reference/deprecation.html#deprecation-of-object-mode-fall-back-behaviour-when-using-jit for details.\n",
      "  def optimized_kernel_features(train, s):\n"
     ]
    }
   ],
   "source": [
    "import numpy as np\n",
    "import math\n",
    "from numpy.linalg import norm as lnorm\n",
    "from math import pi\n",
    "from numba import jit\n",
    "import time\n",
    "\n",
    "@jit(nopython=True, parallel=True)\n",
    "def optimizedKernelMethod(perDgm1, perDgm2, sigma):\n",
    "    L1 = len(perDgm1)\n",
    "    L2 = len(perDgm2)\n",
    "    kernel = np.zeros((L2, L1))\n",
    "\n",
    "    Kernel = 0\n",
    "\n",
    "    for i in range(0, L1):\n",
    "        p = perDgm1[i]\n",
    "        p = np.reshape(p, (2, 1))\n",
    "        for j in range(0, L2):\n",
    "            q = perDgm2[j]\n",
    "            q = np.reshape(q, (2, 1))\n",
    "            q_bar = np.zeros((2, 1))\n",
    "            q_bar[0] = q[1]\n",
    "            q_bar[1] = q[0]\n",
    "            dist1 = lnorm(p-q)\n",
    "            dist2 = lnorm(p-q_bar)\n",
    "            kernel[j, i] = np.exp(-(np.power(dist1, 2))/(8*sigma)) - \\\n",
    "                np.exp(-(np.power(dist2, 2))/(8*sigma))\n",
    "            Kernel = Kernel+kernel[j, i]\n",
    "    Kernel = Kernel*(1/(8*pi*sigma))\n",
    "\n",
    "    return Kernel\n",
    "\n",
    "@jit(nopython=True)\n",
    "def optimized_heat_kernel_distance(dgm0, dgm1, sigma=.4):\n",
    "    return np.sqrt(optimizedKernelMethod(dgm0, dgm0, sigma) + optimizedKernelMethod(dgm1, dgm1, sigma) - 2*optimizedKernelMethod(dgm0, dgm1, sigma))\n",
    "\n",
    "@jit\n",
    "def optimized_kernel_features(train, s):\n",
    "    n_train = len(train)\n",
    "    X_train_features = np.zeros((n_train, n_train))\n",
    "    \n",
    "    for i in range(0,n_train):\n",
    "        for j in range(0,i):\n",
    "            dgm0 = train[i]\n",
    "            dgm1 = train[j]\n",
    "            hka = optimized_heat_kernel_distance(dgm0, dgm1, sigma = s) \n",
    "            X_train_features[i,j] = hka\n",
    "            X_train_features[j,i] = hka\n",
    "\n",
    "    return X_train_features"
   ]
  },
  {
   "cell_type": "code",
   "execution_count": 62,
   "metadata": {},
   "outputs": [
    {
     "name": "stdout",
     "output_type": "stream",
     "text": [
      " \n",
      "================================================================================\n",
      " Parallel Accelerator Optimizing:  Function optimizedKernelMethod, \n",
      "/var/folders/p6/pn26dbmx4jj67d6nh7m6557h0000gn/T/ipykernel_42875/1583188434.py \n",
      "(8)  \n",
      "================================================================================\n",
      "\n",
      "\n",
      "Parallel loop listing for  Function optimizedKernelMethod, /var/folders/p6/pn26dbmx4jj67d6nh7m6557h0000gn/T/ipykernel_42875/1583188434.py (8) \n",
      "--------------------------------------------------------------------------|loop #ID\n",
      "@jit(nopython=True, parallel=True)                                        | \n",
      "def optimizedKernelMethod(perDgm1, perDgm2, sigma):                       | \n",
      "    L1 = len(perDgm1)                                                     | \n",
      "    L2 = len(perDgm2)                                                     | \n",
      "    kernel = np.zeros((L2, L1))-------------------------------------------| #4\n",
      "                                                                          | \n",
      "    Kernel = 0                                                            | \n",
      "                                                                          | \n",
      "    for i in range(0, L1):                                                | \n",
      "        p = perDgm1[i]                                                    | \n",
      "        p = np.reshape(p, (2, 1))                                         | \n",
      "        for j in range(0, L2):                                            | \n",
      "            q = perDgm2[j]                                                | \n",
      "            q = np.reshape(q, (2, 1))                                     | \n",
      "            q_bar = np.zeros((2, 1))--------------------------------------| #5\n",
      "            q_bar[0] = q[1]                                               | \n",
      "            q_bar[1] = q[0]                                               | \n",
      "            dist1 = lnorm(p-q)--------------------------------------------| #6\n",
      "            dist2 = lnorm(p-q_bar)----------------------------------------| #7\n",
      "            kernel[j, i] = np.exp(-(np.power(dist1, 2))/(8*sigma)) - \\    | \n",
      "                np.exp(-(np.power(dist2, 2))/(8*sigma))                   | \n",
      "            Kernel = Kernel+kernel[j, i]                                  | \n",
      "    Kernel = Kernel*(1/(8*pi*sigma))                                      | \n",
      "                                                                          | \n",
      "    return Kernel                                                         | \n",
      "--------------------------------- Fusing loops ---------------------------------\n",
      "Attempting fusion of parallel loops (combines loops with similar properties)...\n",
      "----------------------------- Before Optimisation ------------------------------\n",
      "--------------------------------------------------------------------------------\n",
      "------------------------------ After Optimisation ------------------------------\n",
      "Parallel structure is already optimal.\n",
      "--------------------------------------------------------------------------------\n",
      "--------------------------------------------------------------------------------\n",
      " \n",
      "---------------------------Loop invariant code motion---------------------------\n",
      "Allocation hoisting:\n",
      "No allocation hoisting found\n",
      "\n",
      "Instruction hoisting:\n",
      "loop #4:\n",
      "  Has the following hoisted:\n",
      "    $expr_out_var.275 = const(float64, 0.0)\n",
      "  Failed to hoist the following:\n",
      "    dependency: $parfor_index_tuple_var.276 = build_tuple(items=[Var($parfor__index_269.466, <string>:2), Var($parfor__index_270.468, <string>:3)])\n",
      "loop #5:\n",
      "  Has the following hoisted:\n",
      "    $expr_out_var.283 = const(float64, 0.0)\n",
      "  Failed to hoist the following:\n",
      "    dependency: $parfor_index_tuple_var.284 = build_tuple(items=[Var($parfor__index_277.470, <string>:2), Var($parfor__index_278.472, <string>:3)])\n",
      "loop #6:\n",
      "  Has the following hoisted:\n",
      "    $const_ind_0.295 = const(int, 0)\n",
      "    $const_ind_0.298 = const(int, 0)\n",
      "  Failed to hoist the following:\n",
      "    dependency: $parfor_index_tuple_var.292 = build_tuple(items=[Var($parfor__index_285.474, <string>:2), Var($parfor__index_286.476, <string>:3)])\n",
      "    dependency: $parfor_index_tuple_var_bcast.294 = build_tuple(items=[Var($parfor__index_285.474, <string>:2), Var($const_ind_0.295, 1583188434.py:18)])\n",
      "    dependency: $arg_out_var.293 = getitem(value=p_1, index=$parfor_index_tuple_var_bcast.294, fn=<built-in function getitem>)\n",
      "    dependency: $parfor_index_tuple_var_bcast.297 = build_tuple(items=[Var($parfor__index_285.474, <string>:2), Var($const_ind_0.298, 1583188434.py:21)])\n",
      "    dependency: $arg_out_var.296 = getitem(value=q_1, index=$parfor_index_tuple_var_bcast.297, fn=<built-in function getitem>)\n",
      "    dependency: $expr_out_var.291 = $arg_out_var.293 - $arg_out_var.296\n",
      "loop #7:\n",
      "  Has the following hoisted:\n",
      "    $const_ind_0.309 = const(int, 0)\n",
      "    $const_ind_0.312 = const(int, 0)\n",
      "  Failed to hoist the following:\n",
      "    dependency: $parfor_index_tuple_var.306 = build_tuple(items=[Var($parfor__index_299.478, <string>:2), Var($parfor__index_300.480, <string>:3)])\n",
      "    dependency: $parfor_index_tuple_var_bcast.308 = build_tuple(items=[Var($parfor__index_299.478, <string>:2), Var($const_ind_0.309, 1583188434.py:18)])\n",
      "    dependency: $arg_out_var.307 = getitem(value=p_1, index=$parfor_index_tuple_var_bcast.308, fn=<built-in function getitem>)\n",
      "    dependency: $parfor_index_tuple_var_bcast.311 = build_tuple(items=[Var($parfor__index_299.478, <string>:2), Var($const_ind_0.312, 1583188434.py:22)])\n",
      "    dependency: $arg_out_var.310 = getitem(value=q__bar, index=$parfor_index_tuple_var_bcast.311, fn=<built-in function getitem>)\n",
      "    dependency: $expr_out_var.305 = $arg_out_var.307 - $arg_out_var.310\n",
      "--------------------------------------------------------------------------------\n"
     ]
    }
   ],
   "source": [
    "optimizedKernelMethod(train_test[0], train_test[1], .3)\n",
    "optimized_heat_kernel_distance(train_test[0], train_test[1], sigma=.3)\n",
    "optimized_kernel_features(train_test, .3)\n",
    "optimizedKernelMethod.parallel_diagnostics(level=4)"
   ]
  },
  {
   "cell_type": "markdown",
   "metadata": {},
   "source": [
    "Parallel with jit"
   ]
  },
  {
   "cell_type": "code",
   "execution_count": 21,
   "metadata": {},
   "outputs": [],
   "source": []
  },
  {
   "cell_type": "code",
   "execution_count": 63,
   "metadata": {},
   "outputs": [],
   "source": [
    "dgms_train, dgms_test = train_test_split_sklearn(mnist, 'labels', train_size = 10, seed=1)\n",
    "train_test = np.array(dgms_train['zero_dim_rtl'])\n",
    "X_train_features = optimized_kernel_features(train_test, s = .3)"
   ]
  },
  {
   "cell_type": "code",
   "execution_count": 64,
   "metadata": {},
   "outputs": [],
   "source": [
    "from numba import jit\n",
    "@jit(nopython=True)\n",
    "def parallel_kernel_features_train(train, s):\n",
    "    n_train = len(dummy)\n",
    "    for i in range(n_train):\n",
    "        for j in range(i):\n",
    "            dgm0 = train[train[:,0]==i,1:3]\n",
    "            dgm1 = train[train[:,0]==j,1:3]\n",
    "            kSigma0 = 0\n",
    "            kSigma1 = 0\n",
    "            kSigma2 = 0\n",
    "            sigma = s\n",
    "            for k in range(dgm0.shape[0]):\n",
    "                p = dgm0[k,0:2]\n",
    "                for l in range(dgm0.shape[0]):\n",
    "                    q = dgm0[l,0:2]\n",
    "                    qc = dgm0[l, 1::-1]\n",
    "                    pq = (p[0] - q[0])**2 + (p[1] - q[1])**2\n",
    "                    pqc = (p[0] - qc[0])**2 + (p[1] - qc[1])**2\n",
    "                    kSigma0 += math.exp(-( pq) / (8 * sigma)) - math.exp(-(pqc) / (8 * sigma))\n",
    "            for k in range(dgm1.shape[0]):\n",
    "                p = dgm1[k,0:2]\n",
    "                for l in range(dgm1.shape[0]):\n",
    "                    q = dgm1[l,0:2]\n",
    "                    qc = dgm1[l, 1::-1]\n",
    "                    pq = (p[0] - q[0])**2 + (p[1] - q[1])**2\n",
    "                    pqc = (p[0] - qc[0])**2 + (p[1] - qc[1])**2\n",
    "                    kSigma1 += math.exp(-( pq) / (8 * sigma)) - math.exp(-(pqc) / (8 * sigma))\n",
    "            for k in range(dgm0.shape[0]):\n",
    "                p = dgm0[k,0:2]\n",
    "                for l in range(dgm1.shape[0]):\n",
    "                    q = dgm1[l,0:2]\n",
    "                    qc = dgm1[l, 1::-1]\n",
    "                    pq = (p[0] - q[0])**2 + (p[1] - q[1])**2\n",
    "                    pqc = (p[0] - qc[0])**2 + (p[1] - qc[1])**2\n",
    "                    kSigma2 += math.exp(-( pq) / (8 * sigma)) - math.exp(-(pqc) / (8 * sigma))\n",
    "\n",
    "            kSigma0 = kSigma0/(8 * np.pi * sigma)\n",
    "            kSigma1 = kSigma1/(8 * np.pi * sigma)\n",
    "            kSigma2 = kSigma2/(8 * np.pi * sigma)\n",
    "            result[i,j] = math.sqrt(kSigma1 + kSigma0-2*kSigma2)\n",
    "            result[j,i] = math.sqrt(kSigma1 + kSigma0-2*kSigma2)"
   ]
  },
  {
   "cell_type": "code",
   "execution_count": 65,
   "metadata": {},
   "outputs": [],
   "source": [
    "from numba import guvectorize\n",
    "@guvectorize([\"void(float64[:,:], float64[:], float64, float64[:,:])\",],\"(m,n),(p),()->(p,p)\", target='cpu')\n",
    "def gu_kernel_features_train(train, dummy, s, result):\n",
    "    n_train = len(dummy)\n",
    "    for i in range(n_train):\n",
    "        for j in range(i):\n",
    "            dgm0 = train[train[:,0]==i,1:3]\n",
    "            dgm1 = train[train[:,0]==j,1:3]\n",
    "            kSigma0 = 0\n",
    "            kSigma1 = 0\n",
    "            kSigma2 = 0\n",
    "            sigma = s\n",
    "            for k in range(dgm0.shape[0]):\n",
    "                p = dgm0[k,0:2]\n",
    "                for l in range(dgm0.shape[0]):\n",
    "                    q = dgm0[l,0:2]\n",
    "                    qc = dgm0[l, 1::-1]\n",
    "                    pq = (p[0] - q[0])**2 + (p[1] - q[1])**2\n",
    "                    pqc = (p[0] - qc[0])**2 + (p[1] - qc[1])**2\n",
    "                    kSigma0 += math.exp(-( pq) / (8 * sigma)) - math.exp(-(pqc) / (8 * sigma))\n",
    "            for k in range(dgm1.shape[0]):\n",
    "                p = dgm1[k,0:2]\n",
    "                for l in range(dgm1.shape[0]):\n",
    "                    q = dgm1[l,0:2]\n",
    "                    qc = dgm1[l, 1::-1]\n",
    "                    pq = (p[0] - q[0])**2 + (p[1] - q[1])**2\n",
    "                    pqc = (p[0] - qc[0])**2 + (p[1] - qc[1])**2\n",
    "                    kSigma1 += math.exp(-( pq) / (8 * sigma)) - math.exp(-(pqc) / (8 * sigma))\n",
    "            for k in range(dgm0.shape[0]):\n",
    "                p = dgm0[k,0:2]\n",
    "                for l in range(dgm1.shape[0]):\n",
    "                    q = dgm1[l,0:2]\n",
    "                    qc = dgm1[l, 1::-1]\n",
    "                    pq = (p[0] - q[0])**2 + (p[1] - q[1])**2\n",
    "                    pqc = (p[0] - qc[0])**2 + (p[1] - qc[1])**2\n",
    "                    kSigma2 += math.exp(-( pq) / (8 * sigma)) - math.exp(-(pqc) / (8 * sigma))\n",
    "\n",
    "            kSigma0 = kSigma0/(8 * np.pi * sigma)\n",
    "            kSigma1 = kSigma1/(8 * np.pi * sigma)\n",
    "            kSigma2 = kSigma2/(8 * np.pi * sigma)\n",
    "            result[i,j] = math.sqrt(kSigma1 + kSigma0-2*kSigma2)\n",
    "            result[j,i] = math.sqrt(kSigma1 + kSigma0-2*kSigma2)"
   ]
  },
  {
   "cell_type": "code",
   "execution_count": 66,
   "metadata": {},
   "outputs": [],
   "source": [
    "def reshape_persistence_diagrams(dgm):\n",
    "    dgm_reshape = np.array([])\n",
    "    n = len(dgm)\n",
    "    for i in range(0,n):\n",
    "        t = np.repeat(i, len(dgm[i]))\n",
    "        t = t.reshape(len(dgm[i]),1)\n",
    "        t1 = np.concatenate((t,dgm[i]),1)\n",
    "        if i == 0:\n",
    "            dgm_reshape = t1\n",
    "        else:\n",
    "            dgm_reshape = np.append(dgm_reshape, t1, 0)\n",
    "    return dgm_reshape"
   ]
  },
  {
   "cell_type": "markdown",
   "metadata": {},
   "source": [
    "First run to compile"
   ]
  },
  {
   "cell_type": "code",
   "execution_count": 69,
   "metadata": {},
   "outputs": [],
   "source": [
    "dgms_train, dgms_test = train_test_split_sklearn(mnist, 'labels', train_size = 10, seed=1)\n",
    "train_test = np.array(dgms_train['zero_dim_rtl'])\n",
    "X_train_features = kernel_features(np.array(train_test), s = .3)\n",
    "X_train_features = optimized_kernel_features(np.array(train_test), s = .3)\n",
    "dummy_train = np.arange(len(train_test), dtype=np.float64)\n",
    "train = reshape_persistence_diagrams(train_test)\n",
    "result = parallel_kernel_features_train(train, dummy_train, .3)\n",
    "#X_train_features = par_optimized_kernel_features(np.array(train_test), s = .3)"
   ]
  },
  {
   "cell_type": "markdown",
   "metadata": {},
   "source": [
    "### Loop for random samples and timing"
   ]
  },
  {
   "cell_type": "code",
   "execution_count": 25,
   "metadata": {},
   "outputs": [
    {
     "name": "stdout",
     "output_type": "stream",
     "text": [
      "Finished Training  0\n",
      "Finished Training  1\n",
      "Finished Training  2\n",
      "Finished Training  3\n"
     ]
    }
   ],
   "source": [
    "seed = [0,1,2,3,4]\n",
    "train_size = [.001, .005, .01, .05, .1]\n",
    "n = len(train_size)\n",
    "timing = np.zeros((n,3))\n",
    "for i in range(0,n):\n",
    "    for j in seed:\n",
    "        dgms_train, dgms_test = train_test_split_sklearn(mnist, 'labels', train_size = train_size[i], seed=j)\n",
    "        xdgm0_train = np.array(dgms_train['zero_dim_rtl'])\n",
    "        dummy_train = np.arange(len(xdgm0_train), dtype=np.float64)\n",
    "        train = reshape_persistence_diagrams(xdgm0_train)\n",
    "        timing[i,0] += len(xdgm0_train)\n",
    "\n",
    "        start = time.time()\n",
    "        result1 = gu_kernel_features_train(train, dummy_train, .3)\n",
    "        end = time.time()-start\n",
    "        timing[i,1] +=end\n",
    "\n",
    "        start = time.time()\n",
    "        X_train_features = optimized_kernel_features(xdgm0_train, s = .3)\n",
    "        end = time.time()-start\n",
    "        timing[i,2] +=end\n",
    "\n",
    "    print(\"Finished Training \", i)\n",
    "timing = pd.DataFrame(timing/5)\n",
    "timing.columns=['Observations', 'guvectorize', 'jit optimized']\n",
    "print(timing)"
   ]
  },
  {
   "cell_type": "markdown",
   "metadata": {},
   "source": [
    "Plot Timing"
   ]
  },
  {
   "cell_type": "code",
   "execution_count": 23,
   "metadata": {},
   "outputs": [
    {
     "data": {
      "text/plain": [
       "<Axes: xlabel='Observations'>"
      ]
     },
     "execution_count": 23,
     "metadata": {},
     "output_type": "execute_result"
    },
    {
     "data": {
      "image/png": "[encoded data removed]",
      "text/plain": [
       "<Figure size 640x480 with 1 Axes>"
      ]
     },
     "metadata": {},
     "output_type": "display_data"
    }
   ],
   "source": [
    "timing.columns=['Observations', 'guvectorize', 'jit optimized', 'Vectorized and Threading']\n",
    "timing.plot(x='Observations')"
   ]
  },
  {
   "cell_type": "code",
   "execution_count": 70,
   "metadata": {},
   "outputs": [
    {
     "name": "stdout",
     "output_type": "stream",
     "text": [
      "Finished Training  0\n",
      "Finished Training  1\n",
      "Finished Training  2\n",
      "Finished Training  3\n",
      "   Observations    Original  Jit optimized  Vectorized and Threading\n",
      "0          60.0    0.114951       2.448380                  0.001022\n",
      "1         300.0    2.752399      58.231782                  0.065892\n",
      "2         600.0   10.942251     228.400587                  0.430869\n",
      "3        3000.0  271.485491    5669.453464                 46.637876\n"
     ]
    }
   ],
   "source": [
    "seed = [0,1,2,3,4,5,6,7,8,9]\n",
    "train_size = [.001, .005, .01, .05]\n",
    "n = len(train_size)\n",
    "timing = np.zeros((n,4))\n",
    "for i in range(0,n):\n",
    "    for j in seed:\n",
    "        dgms_train, dgms_test = train_test_split_sklearn(mnist, 'labels', train_size = train_size[i], seed=j)\n",
    "        xdgm0_train = np.array(dgms_train['zero_dim_rtl'])\n",
    "        timing[i,0] += len(xdgm0_train)\n",
    "        start = time.time()\n",
    "        X_train_features1 = kernel_features(xdgm0_train, s = .3)\n",
    "        end = time.time()-start\n",
    "        timing[i,1] +=end\n",
    "        start = time.time()\n",
    "        X_train_features = optimized_kernel_features(xdgm0_train, s = .3)\n",
    "        end = time.time()-start\n",
    "        timing[i,2] +=end\n",
    "        dummy_train = np.arange(len(xdgm0_train), dtype=np.float64)\n",
    "        train = reshape_persistence_diagrams(xdgm0_train)\n",
    "        start = time.time()\n",
    "        result3 = parallel_kernel_features_train(train, dummy_train, .3)\n",
    "        end = time.time()-start\n",
    "        timing[i,3] +=end\n",
    "    print(\"Finished Training \", i)\n",
    "timing = pd.DataFrame(timing/10)\n",
    "timing.columns=['Observations', 'Original', 'Jit optimized', 'Vectorized and Threading']\n",
    "print(timing)"
   ]
  },
  {
   "cell_type": "code",
   "execution_count": 71,
   "metadata": {},
   "outputs": [
    {
     "data": {
      "text/plain": [
       "<Axes: xlabel='Observations'>"
      ]
     },
     "execution_count": 71,
     "metadata": {},
     "output_type": "execute_result"
    },
    {
     "data": {
      "image/png": "[encoded data removed]",
      "text/plain": [
       "<Figure size 640x480 with 1 Axes>"
      ]
     },
     "metadata": {},
     "output_type": "display_data"
    }
   ],
   "source": [
    "timing.plot(x='Observations')"
   ]
  },
  {
   "cell_type": "code",
   "execution_count": null,
   "metadata": {},
   "outputs": [],
   "source": []
  },
  {
   "cell_type": "code",
   "execution_count": null,
   "metadata": {},
   "outputs": [],
   "source": [
    "train_test = xdgm0_train[0:200]\n",
    "%timeit timing, X_train_features = kernel_features(np.array(train_test), s = .3)\n",
    "%timeit timing, X_train_features = optimized_kernel_features(np.array(train_test), s = .3)\n",
    "dummy_train = np.arange(len(train_test), dtype=np.float64)\n",
    "train = reshape_persistence_diagrams(train_test)\n",
    "%timeit numba_kernel_features_train(train, dummy_train, .3)"
   ]
  },
  {
   "cell_type": "code",
   "execution_count": null,
   "metadata": {},
   "outputs": [],
   "source": [
    "train_test = xdgm0_train[0:300]\n",
    "%timeit timing, X_train_features = kernel_features(np.array(train_test), s = .3)\n",
    "%timeit timing, X_train_features = optimized_kernel_features(np.array(train_test), s = .3)\n",
    "%timeit timing, X_train_features = parallel_optimized_kernel_features(np.array(train_test), s = .3)"
   ]
  },
  {
   "cell_type": "code",
   "execution_count": null,
   "metadata": {},
   "outputs": [],
   "source": [
    "train_test = xdgm0_train[0:400]\n",
    "%timeit timing, X_train_features = kernel_features(np.array(train_test), s = .3)\n",
    "%timeit timing, X_train_features = optimized_kernel_features(np.array(train_test), s = .3)\n",
    "%timeit timing, X_train_features = parallel_optimized_kernel_features(np.array(train_test), s = .3)"
   ]
  },
  {
   "cell_type": "code",
   "execution_count": null,
   "metadata": {},
   "outputs": [],
   "source": [
    "train_test = xdgm0_train[0:500]\n",
    "%timeit timing, X_train_features = kernel_features(np.array(train_test), s = .3)\n",
    "%timeit timing, X_train_features = optimized_kernel_features(np.array(train_test), s = .3)\n",
    "%timeit timing, X_train_features = parallel_optimized_kernel_features(np.array(train_test), s = .3)"
   ]
  },
  {
   "cell_type": "code",
   "execution_count": null,
   "metadata": {},
   "outputs": [],
   "source": [
    "train_test = xdgm0_train[0:750]\n",
    "%timeit timing, X_train_features = kernel_features(np.array(train_test), s = .3)\n",
    "%timeit timing, X_train_features = optimized_kernel_features(np.array(train_test), s = .3)\n",
    "%timeit timing, X_train_features = parallel_optimized_kernel_features(np.array(train_test), s = .3)"
   ]
  },
  {
   "cell_type": "code",
   "execution_count": null,
   "metadata": {},
   "outputs": [],
   "source": [
    "train_test = xdgm0_train[0:1000]\n",
    "%timeit timing, X_train_features = kernel_features(np.array(train_test), s = .3)\n",
    "%timeit timing, X_train_features = optimized_kernel_features(np.array(train_test), s = .3)\n",
    "%timeit timing, X_train_features = parallel_optimized_kernel_features(np.array(train_test), s = .3)"
   ]
  },
  {
   "cell_type": "code",
   "execution_count": null,
   "metadata": {},
   "outputs": [],
   "source": [
    "train_test = xdgm0_train[0:1250]\n",
    "%timeit timing, X_train_features = kernel_features(np.array(train_test), s = .3)\n",
    "%timeit timing, X_train_features = optimized_kernel_features(np.array(train_test), s = .3)\n",
    "%timeit timing, X_train_features = parallel_optimized_kernel_features(np.array(train_test), s = .3)"
   ]
  },
  {
   "cell_type": "code",
   "execution_count": null,
   "metadata": {},
   "outputs": [],
   "source": [
    "train_test = xdgm0_train[0:1500]\n",
    "%timeit timing, X_train_features = kernel_features(np.array(train_test), s = .3)\n",
    "%timeit timing, X_train_features = optimized_kernel_features(np.array(train_test), s = .3)\n",
    "%timeit timing, X_train_features = parallel_optimized_kernel_features(np.array(train_test), s = .3)"
   ]
  },
  {
   "cell_type": "code",
   "execution_count": null,
   "metadata": {},
   "outputs": [],
   "source": [
    "train_test = xdgm0_train[0:2000]\n",
    "%timeit timing, X_train_features = kernel_features(np.array(train_test), s = .3)\n",
    "%timeit timing, X_train_features = optimized_kernel_features(np.array(train_test), s = .3)\n",
    "%timeit timing, X_train_features = parallel_optimized_kernel_features(np.array(train_test), s = .3)"
   ]
  }
 ],
 "metadata": {
  "kernelspec": {
   "display_name": ".venv",
   "language": "python",
   "name": "python3"
  },
  "language_info": {
   "codemirror_mode": {
    "name": "ipython",
    "version": 3
   },
   "file_extension": ".py",
   "mimetype": "text/x-python",
   "name": "python",
   "nbconvert_exporter": "python",
   "pygments_lexer": "ipython3",
   "version": "3.9.6"
  }
 },
 "nbformat": 4,
 "nbformat_minor": 2
}
