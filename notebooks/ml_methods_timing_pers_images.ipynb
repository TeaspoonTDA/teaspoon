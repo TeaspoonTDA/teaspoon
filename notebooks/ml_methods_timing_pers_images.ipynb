{
 "cells": [
  {
   "cell_type": "markdown",
   "metadata": {},
   "source": [
    "## Import Dataset"
   ]
  },
  {
   "cell_type": "code",
   "execution_count": 2,
   "metadata": {},
   "outputs": [
    {
     "data": {
      "text/html": [
       "<div>\n",
       "<style scoped>\n",
       "    .dataframe tbody tr th:only-of-type {\n",
       "        vertical-align: middle;\n",
       "    }\n",
       "\n",
       "    .dataframe tbody tr th {\n",
       "        vertical-align: top;\n",
       "    }\n",
       "\n",
       "    .dataframe thead th {\n",
       "        text-align: right;\n",
       "    }\n",
       "</style>\n",
       "<table border=\"1\" class=\"dataframe\">\n",
       "  <thead>\n",
       "    <tr style=\"text-align: right;\">\n",
       "      <th></th>\n",
       "      <th>zero_dim_rtl</th>\n",
       "      <th>zero_dim_ltr</th>\n",
       "      <th>zero_dim_btt</th>\n",
       "      <th>zero_dim_ttb</th>\n",
       "      <th>one_dim_rtl</th>\n",
       "      <th>one_dim_ltr</th>\n",
       "      <th>one_dim_btt</th>\n",
       "      <th>one_dim_ttb</th>\n",
       "      <th>labels</th>\n",
       "    </tr>\n",
       "  </thead>\n",
       "  <tbody>\n",
       "    <tr>\n",
       "      <th>0</th>\n",
       "      <td>[[23.0, 50.0], [13.0, 20.0]]</td>\n",
       "      <td>[[24.0, 50.0], [11.0, 21.0]]</td>\n",
       "      <td>[[24.0, 50.0], [8.0, 9.0]]</td>\n",
       "      <td>[[23.0, 50.0]]</td>\n",
       "      <td>[]</td>\n",
       "      <td>[]</td>\n",
       "      <td>[]</td>\n",
       "      <td>[]</td>\n",
       "      <td>5</td>\n",
       "    </tr>\n",
       "    <tr>\n",
       "      <th>1</th>\n",
       "      <td>[[22.0, 50.0]]</td>\n",
       "      <td>[[22.0, 50.0]]</td>\n",
       "      <td>[[23.0, 50.0]]</td>\n",
       "      <td>[[24.0, 50.0]]</td>\n",
       "      <td>[[0.0, 8.0]]</td>\n",
       "      <td>[[0.0, 8.0]]</td>\n",
       "      <td>[[0.0, 9.0]]</td>\n",
       "      <td>[[0.0, 8.0]]</td>\n",
       "      <td>0</td>\n",
       "    </tr>\n",
       "    <tr>\n",
       "      <th>2</th>\n",
       "      <td>[[22.0, 50.0]]</td>\n",
       "      <td>[[25.0, 50.0]]</td>\n",
       "      <td>[[24.0, 50.0], [15.0, 16.0]]</td>\n",
       "      <td>[[23.0, 50.0], [13.0, 22.0]]</td>\n",
       "      <td>[]</td>\n",
       "      <td>[]</td>\n",
       "      <td>[]</td>\n",
       "      <td>[]</td>\n",
       "      <td>4</td>\n",
       "    </tr>\n",
       "    <tr>\n",
       "      <th>3</th>\n",
       "      <td>[[21.0, 50.0]]</td>\n",
       "      <td>[[20.0, 50.0]]</td>\n",
       "      <td>[[24.0, 50.0]]</td>\n",
       "      <td>[[23.0, 50.0]]</td>\n",
       "      <td>[]</td>\n",
       "      <td>[]</td>\n",
       "      <td>[]</td>\n",
       "      <td>[]</td>\n",
       "      <td>1</td>\n",
       "    </tr>\n",
       "    <tr>\n",
       "      <th>4</th>\n",
       "      <td>[[20.0, 50.0], [16.0, 18.0]]</td>\n",
       "      <td>[[22.0, 50.0], [14.0, 15.0]]</td>\n",
       "      <td>[[26.0, 50.0]]</td>\n",
       "      <td>[[21.0, 50.0]]</td>\n",
       "      <td>[[0.0, 9.0]]</td>\n",
       "      <td>[[0.0, 12.0]]</td>\n",
       "      <td>[[0.0, 9.0]]</td>\n",
       "      <td>[[0.0, 14.0]]</td>\n",
       "      <td>9</td>\n",
       "    </tr>\n",
       "    <tr>\n",
       "      <th>...</th>\n",
       "      <td>...</td>\n",
       "      <td>...</td>\n",
       "      <td>...</td>\n",
       "      <td>...</td>\n",
       "      <td>...</td>\n",
       "      <td>...</td>\n",
       "      <td>...</td>\n",
       "      <td>...</td>\n",
       "      <td>...</td>\n",
       "    </tr>\n",
       "    <tr>\n",
       "      <th>59995</th>\n",
       "      <td>[[23.0, 50.0], [16.0, 17.0]]</td>\n",
       "      <td>[[22.0, 50.0], [16.0, 18.0]]</td>\n",
       "      <td>[[24.0, 50.0]]</td>\n",
       "      <td>[[23.0, 50.0]]</td>\n",
       "      <td>[[0.0, 13.0], [0.0, 7.0]]</td>\n",
       "      <td>[[0.0, 13.0], [0.0, 9.0]]</td>\n",
       "      <td>[[0.0, 16.0], [0.0, 6.0]]</td>\n",
       "      <td>[[0.0, 17.0], [0.0, 5.0]]</td>\n",
       "      <td>8</td>\n",
       "    </tr>\n",
       "    <tr>\n",
       "      <th>59996</th>\n",
       "      <td>[[21.0, 50.0], [17.0, 18.0]]</td>\n",
       "      <td>[[24.0, 50.0], [12.0, 18.0], [9.0, 17.0]]</td>\n",
       "      <td>[[23.0, 50.0]]</td>\n",
       "      <td>[[24.0, 50.0], [7.0, 10.0]]</td>\n",
       "      <td>[]</td>\n",
       "      <td>[]</td>\n",
       "      <td>[]</td>\n",
       "      <td>[]</td>\n",
       "      <td>3</td>\n",
       "    </tr>\n",
       "    <tr>\n",
       "      <th>59997</th>\n",
       "      <td>[[24.0, 50.0], [13.0, 18.0]]</td>\n",
       "      <td>[[23.0, 50.0], [12.0, 20.0]]</td>\n",
       "      <td>[[24.0, 50.0]]</td>\n",
       "      <td>[[23.0, 50.0], [5.0, 7.0]]</td>\n",
       "      <td>[]</td>\n",
       "      <td>[]</td>\n",
       "      <td>[]</td>\n",
       "      <td>[]</td>\n",
       "      <td>5</td>\n",
       "    </tr>\n",
       "    <tr>\n",
       "      <th>59998</th>\n",
       "      <td>[[23.0, 50.0], [8.0, 21.0]]</td>\n",
       "      <td>[[22.0, 50.0], [11.0, 15.0]]</td>\n",
       "      <td>[[21.0, 50.0]]</td>\n",
       "      <td>[[26.0, 50.0], [8.0, 15.0]]</td>\n",
       "      <td>[[0.0, 17.0]]</td>\n",
       "      <td>[[0.0, 8.0]]</td>\n",
       "      <td>[[0.0, 15.0]]</td>\n",
       "      <td>[[0.0, 10.0]]</td>\n",
       "      <td>6</td>\n",
       "    </tr>\n",
       "    <tr>\n",
       "      <th>59999</th>\n",
       "      <td>[[25.0, 50.0]]</td>\n",
       "      <td>[[22.0, 50.0]]</td>\n",
       "      <td>[[24.0, 50.0]]</td>\n",
       "      <td>[[22.0, 50.0], [19.0, 20.0]]</td>\n",
       "      <td>[[0.0, 11.0], [0.0, 8.0]]</td>\n",
       "      <td>[[0.0, 18.0], [0.0, 9.0]]</td>\n",
       "      <td>[[0.0, 20.0], [0.0, 8.0]]</td>\n",
       "      <td>[[0.0, 14.0], [0.0, 5.0]]</td>\n",
       "      <td>8</td>\n",
       "    </tr>\n",
       "  </tbody>\n",
       "</table>\n",
       "<p>60000 rows × 9 columns</p>\n",
       "</div>"
      ],
      "text/plain": [
       "                       zero_dim_rtl  \\\n",
       "0      [[23.0, 50.0], [13.0, 20.0]]   \n",
       "1                    [[22.0, 50.0]]   \n",
       "2                    [[22.0, 50.0]]   \n",
       "3                    [[21.0, 50.0]]   \n",
       "4      [[20.0, 50.0], [16.0, 18.0]]   \n",
       "...                             ...   \n",
       "59995  [[23.0, 50.0], [16.0, 17.0]]   \n",
       "59996  [[21.0, 50.0], [17.0, 18.0]]   \n",
       "59997  [[24.0, 50.0], [13.0, 18.0]]   \n",
       "59998   [[23.0, 50.0], [8.0, 21.0]]   \n",
       "59999                [[25.0, 50.0]]   \n",
       "\n",
       "                                    zero_dim_ltr  \\\n",
       "0                   [[24.0, 50.0], [11.0, 21.0]]   \n",
       "1                                 [[22.0, 50.0]]   \n",
       "2                                 [[25.0, 50.0]]   \n",
       "3                                 [[20.0, 50.0]]   \n",
       "4                   [[22.0, 50.0], [14.0, 15.0]]   \n",
       "...                                          ...   \n",
       "59995               [[22.0, 50.0], [16.0, 18.0]]   \n",
       "59996  [[24.0, 50.0], [12.0, 18.0], [9.0, 17.0]]   \n",
       "59997               [[23.0, 50.0], [12.0, 20.0]]   \n",
       "59998               [[22.0, 50.0], [11.0, 15.0]]   \n",
       "59999                             [[22.0, 50.0]]   \n",
       "\n",
       "                       zero_dim_btt                  zero_dim_ttb  \\\n",
       "0        [[24.0, 50.0], [8.0, 9.0]]                [[23.0, 50.0]]   \n",
       "1                    [[23.0, 50.0]]                [[24.0, 50.0]]   \n",
       "2      [[24.0, 50.0], [15.0, 16.0]]  [[23.0, 50.0], [13.0, 22.0]]   \n",
       "3                    [[24.0, 50.0]]                [[23.0, 50.0]]   \n",
       "4                    [[26.0, 50.0]]                [[21.0, 50.0]]   \n",
       "...                             ...                           ...   \n",
       "59995                [[24.0, 50.0]]                [[23.0, 50.0]]   \n",
       "59996                [[23.0, 50.0]]   [[24.0, 50.0], [7.0, 10.0]]   \n",
       "59997                [[24.0, 50.0]]    [[23.0, 50.0], [5.0, 7.0]]   \n",
       "59998                [[21.0, 50.0]]   [[26.0, 50.0], [8.0, 15.0]]   \n",
       "59999                [[24.0, 50.0]]  [[22.0, 50.0], [19.0, 20.0]]   \n",
       "\n",
       "                     one_dim_rtl                one_dim_ltr  \\\n",
       "0                             []                         []   \n",
       "1                   [[0.0, 8.0]]               [[0.0, 8.0]]   \n",
       "2                             []                         []   \n",
       "3                             []                         []   \n",
       "4                   [[0.0, 9.0]]              [[0.0, 12.0]]   \n",
       "...                          ...                        ...   \n",
       "59995  [[0.0, 13.0], [0.0, 7.0]]  [[0.0, 13.0], [0.0, 9.0]]   \n",
       "59996                         []                         []   \n",
       "59997                         []                         []   \n",
       "59998              [[0.0, 17.0]]               [[0.0, 8.0]]   \n",
       "59999  [[0.0, 11.0], [0.0, 8.0]]  [[0.0, 18.0], [0.0, 9.0]]   \n",
       "\n",
       "                     one_dim_btt                one_dim_ttb  labels  \n",
       "0                             []                         []       5  \n",
       "1                   [[0.0, 9.0]]               [[0.0, 8.0]]       0  \n",
       "2                             []                         []       4  \n",
       "3                             []                         []       1  \n",
       "4                   [[0.0, 9.0]]              [[0.0, 14.0]]       9  \n",
       "...                          ...                        ...     ...  \n",
       "59995  [[0.0, 16.0], [0.0, 6.0]]  [[0.0, 17.0], [0.0, 5.0]]       8  \n",
       "59996                         []                         []       3  \n",
       "59997                         []                         []       5  \n",
       "59998              [[0.0, 15.0]]              [[0.0, 10.0]]       6  \n",
       "59999  [[0.0, 20.0], [0.0, 8.0]]  [[0.0, 14.0], [0.0, 5.0]]       8  \n",
       "\n",
       "[60000 rows x 9 columns]"
      ]
     },
     "execution_count": 2,
     "metadata": {},
     "output_type": "execute_result"
    }
   ],
   "source": [
    "from teaspoon.ML import load_datasets\n",
    "import numpy as np\n",
    "import pandas as pd\n",
    "mnist = load_datasets.mnist()\n",
    "mnist"
   ]
  },
  {
   "cell_type": "markdown",
   "metadata": {},
   "source": [
    "### Fill Missing Data in One Dimension"
   ]
  },
  {
   "cell_type": "code",
   "execution_count": 2,
   "metadata": {},
   "outputs": [],
   "source": [
    "def fill_missing(dim_1):\n",
    "    for i in range(0, len(dim_1)):\n",
    "        if len(dim_1[i])== 0:\n",
    "            dim_1[i] = np.array([[0,.01]])\n",
    "        else: \n",
    "            dim_1[i] = dim_1[i]\n",
    "    return dim_1"
   ]
  },
  {
   "cell_type": "code",
   "execution_count": 3,
   "metadata": {},
   "outputs": [],
   "source": [
    "import warnings\n",
    "warnings.filterwarnings('ignore')\n",
    "mnist['one_dim_rtl'] = fill_missing(mnist['one_dim_rtl'])\n",
    "mnist['one_dim_ltr'] = fill_missing(mnist['one_dim_ltr'])\n",
    "mnist['one_dim_btt'] = fill_missing(mnist['one_dim_btt'])\n",
    "mnist['one_dim_ttb'] = fill_missing(mnist['one_dim_ttb'])"
   ]
  },
  {
   "cell_type": "markdown",
   "metadata": {},
   "source": [
    "### Choose Dimension for Timing Test"
   ]
  },
  {
   "cell_type": "code",
   "execution_count": 3,
   "metadata": {},
   "outputs": [],
   "source": [
    "def train_test_split_sklearn(DgmsFD, labels_col, train_size=.5, seed=12):\n",
    "    from sklearn.model_selection import train_test_split\n",
    "    labels = DgmsFD[labels_col]\n",
    "    training_dgms, testing_dgms = train_test_split(DgmsFD, train_size=train_size, random_state=seed, stratify=labels)\n",
    "    return training_dgms.reset_index(), testing_dgms.reset_index()"
   ]
  },
  {
   "cell_type": "code",
   "execution_count": 4,
   "metadata": {},
   "outputs": [],
   "source": [
    "dgms_train, dgms_test = train_test_split_sklearn(mnist, 'labels', train_size = .05)\n",
    "xdgm0_train = dgms_train['zero_dim_rtl']\n",
    "xdgm0_test = dgms_test['zero_dim_rtl']\n",
    "xdgm1_train = dgms_train['one_dim_rtl']\n",
    "xdgm1_test = dgms_test['one_dim_rtl']\n",
    "labels_train = dgms_train['labels']\n",
    "labels_test = dgms_test['labels']"
   ]
  },
  {
   "cell_type": "markdown",
   "metadata": {},
   "source": [
    "### Load original persistence images method function from teaspoon"
   ]
  },
  {
   "cell_type": "code",
   "execution_count": 5,
   "metadata": {},
   "outputs": [],
   "source": [
    "import numpy as np\n",
    "import matplotlib.pyplot as plt\n",
    "import pandas as pd\n",
    "import matplotlib.pyplot as plt\n",
    "from persim import PersistenceImager\n",
    "import math\n",
    "from math import pi\n",
    "from numpy.linalg import norm as lnorm\n",
    "from sympy.abc import t\n",
    "from sympy import Piecewise\n",
    "from sympy import diff, integrate\n",
    "from itertools import combinations\n",
    "\n",
    "def F_Image(PD1, PS, var, plot, D_Img=[], pers_imager=None, training=True):\n",
    "    \n",
    "\n",
    "    output = {}\n",
    "    # number of persistence diagrams\n",
    "    N1 = len(PD1)\n",
    "\n",
    "    if training == True:\n",
    "        # adjust the image parameters and compute images\n",
    "        pers_imager = PersistenceImager()\n",
    "        pers_imager.pixel_size = PS\n",
    "        pers_imager.kernel_params = {'sigma': var}\n",
    "\n",
    "        PDs = PD1.tolist()\n",
    "        pers_imager.fit(PDs, skew=True)\n",
    "        pers_img = [pers_imager.transform(PD1[i], skew=True) for i in np.arange(0, N1, 1)]\n",
    "    else:\n",
    "        pers_img = [pers_imager.transform(PD1[i], skew=True) for i in np.arange(0, N1, 1)]\n",
    "\n",
    "    # generate feature matrix\n",
    "    feature_PI = np.zeros(\n",
    "        (N1, len(pers_img[0][:, 0])*len(pers_img[0][0, :])))\n",
    "    for i in range(N1):\n",
    "        feature_PI[i, :] = pers_img[i].flatten()\n",
    "\n",
    "    # plot all images or images of certain persistence diagrams\n",
    "    if plot == True:\n",
    "        fig = []\n",
    "        if D_Img == []:\n",
    "            D_Img = np.arange(1, 2, 1)\n",
    "        for i in range(len(D_Img)):\n",
    "            plt.figure()\n",
    "            ax = plt.gca()\n",
    "            pimgr = PersistenceImager()\n",
    "            pimgr.pixel_size = PS\n",
    "            pimgr.kernel_params = {'sigma': var}\n",
    "            pimgr.fit(PD1[D_Img[i]-1], skew=True)\n",
    "            imgs = pimgr.transform(PD1[D_Img[i]-1], skew=True)\n",
    "            pers_imager.plot_image(imgs, ax)\n",
    "            fig.append(plt.gcf())\n",
    "        output['figures'] = fig\n",
    "\n",
    "    output['F_Matrix'] = feature_PI\n",
    "    output['pers_imager'] = pers_imager\n",
    "\n",
    "    return output"
   ]
  },
  {
   "cell_type": "code",
   "execution_count": 234,
   "metadata": {},
   "outputs": [],
   "source": [
    "from numba import jit\n",
    "@jit(nopython=True, parallel=True)\n",
    "def pers_reshape_par(dgms):\n",
    "    n = dgms[1].shape[0]\n",
    "    m = dgms[1].shape[1]\n",
    "    r = len(dgms)\n",
    "    result = np.zeros((r, n*m))\n",
    "    for i in range(0,r):\n",
    "        for j in range(0,n):\n",
    "            for k in range(0,m):\n",
    "                result[i, k+m*j] = dgms[i][j][k]\n",
    "    return result "
   ]
  },
  {
   "cell_type": "code",
   "execution_count": 235,
   "metadata": {},
   "outputs": [],
   "source": [
    "from numba import jit\n",
    "@jit(nopython=True)\n",
    "def pers_reshape(dgms):\n",
    "    n = dgms[1].shape[0]\n",
    "    m = dgms[1].shape[1]\n",
    "    r = len(dgms)\n",
    "    result = np.zeros((r, n*m))\n",
    "    for i in range(0,r):\n",
    "        for j in range(0,n):\n",
    "            for k in range(0,m):\n",
    "                result[i, k+m*j] = dgms[i][j][k]\n",
    "    return result "
   ]
  },
  {
   "cell_type": "code",
   "execution_count": 227,
   "metadata": {},
   "outputs": [],
   "source": [
    "from numba import vectorize\n",
    "@vectorize\n",
    "def pers_reshape_vec(dgms):\n",
    "    n = dgms[1].shape[0]\n",
    "    m = dgms[1].shape[1]\n",
    "    r = len(dgms)\n",
    "    result = np.zeros((r, n*m))\n",
    "    for i in range(0,r):\n",
    "        for j in range(0,n):\n",
    "            for k in range(0,m):\n",
    "                result[i, k+m*j] = dgms[i][j][k] "
   ]
  },
  {
   "cell_type": "code",
   "execution_count": 228,
   "metadata": {},
   "outputs": [],
   "source": [
    "\n",
    "def pers_reshape(dgms):\n",
    "    n = dgms[1].shape[0]\n",
    "    m = dgms[1].shape[1]\n",
    "    r = len(dgms)\n",
    "    return np.reshape(dgms, (r, n+m))"
   ]
  },
  {
   "cell_type": "code",
   "execution_count": 238,
   "metadata": {},
   "outputs": [
    {
     "name": "stdout",
     "output_type": "stream",
     "text": [
      "Seed is:  0\n",
      "Done with sampling\n",
      "Done with parallel\n",
      "Done with serial\n",
      "Done with original\n",
      "Seed is:  1\n",
      "Done with sampling\n",
      "Done with parallel\n",
      "Done with serial\n",
      "Done with original\n",
      "Seed is:  2\n",
      "Done with sampling\n",
      "Done with parallel\n",
      "Done with serial\n",
      "Done with original\n",
      "Seed is:  3\n",
      "Done with sampling\n",
      "Done with parallel\n",
      "Done with serial\n",
      "Done with original\n",
      "Seed is:  4\n",
      "Done with sampling\n",
      "Done with parallel\n",
      "Done with serial\n",
      "Done with original\n",
      "Finished Training  0\n",
      "Seed is:  0\n",
      "Done with sampling\n",
      "Done with parallel\n",
      "Done with serial\n",
      "Done with original\n",
      "Seed is:  1\n",
      "Done with sampling\n",
      "Done with parallel\n",
      "Done with serial\n",
      "Done with original\n",
      "Seed is:  2\n",
      "Done with sampling\n",
      "Done with parallel\n",
      "Done with serial\n",
      "Done with original\n",
      "Seed is:  3\n",
      "Done with sampling\n",
      "Done with parallel\n",
      "Done with serial\n",
      "Done with original\n",
      "Seed is:  4\n",
      "Done with sampling\n",
      "Done with parallel\n",
      "Done with serial\n",
      "Done with original\n",
      "Finished Training  1\n",
      "Seed is:  0\n",
      "Done with sampling\n",
      "Done with parallel\n",
      "Done with serial\n",
      "Done with original\n",
      "Seed is:  1\n",
      "Done with sampling\n",
      "Done with parallel\n",
      "Done with serial\n",
      "Done with original\n",
      "Seed is:  2\n",
      "Done with sampling\n",
      "Done with parallel\n",
      "Done with serial\n",
      "Done with original\n",
      "Seed is:  3\n",
      "Done with sampling\n",
      "Done with parallel\n",
      "Done with serial\n",
      "Done with original\n",
      "Seed is:  4\n",
      "Done with sampling\n",
      "Done with parallel\n",
      "Done with serial\n",
      "Done with original\n",
      "Finished Training  2\n",
      "Seed is:  0\n",
      "Done with sampling\n",
      "Done with parallel\n",
      "Done with serial\n",
      "Done with original\n",
      "Seed is:  1\n",
      "Done with sampling\n",
      "Done with parallel\n",
      "Done with serial\n",
      "Done with original\n",
      "Seed is:  2\n",
      "Done with sampling\n",
      "Done with parallel\n",
      "Done with serial\n",
      "Done with original\n",
      "Seed is:  3\n",
      "Done with sampling\n",
      "Done with parallel\n",
      "Done with serial\n",
      "Done with original\n",
      "Seed is:  4\n",
      "Done with sampling\n",
      "Done with parallel\n",
      "Done with serial\n",
      "Done with original\n",
      "Finished Training  3\n",
      "Seed is:  0\n",
      "Done with sampling\n",
      "Done with parallel\n",
      "Done with serial\n",
      "Done with original\n",
      "Seed is:  1\n",
      "Done with sampling\n",
      "Done with parallel\n",
      "Done with serial\n",
      "Done with original\n",
      "Seed is:  2\n",
      "Done with sampling\n",
      "Done with parallel\n",
      "Done with serial\n",
      "Done with original\n",
      "Seed is:  3\n",
      "Done with sampling\n",
      "Done with parallel\n",
      "Done with serial\n",
      "Done with original\n",
      "Seed is:  4\n",
      "Done with sampling\n",
      "Done with parallel\n",
      "Done with serial\n",
      "Done with original\n",
      "Finished Training  4\n",
      "Seed is:  0\n",
      "Done with sampling\n",
      "Done with parallel\n",
      "Done with serial\n",
      "Done with original\n",
      "Seed is:  1\n",
      "Done with sampling\n",
      "Done with parallel\n",
      "Done with serial\n",
      "Done with original\n",
      "Seed is:  2\n",
      "Done with sampling\n",
      "Done with parallel\n",
      "Done with serial\n",
      "Done with original\n",
      "Seed is:  3\n",
      "Done with sampling\n",
      "Done with parallel\n",
      "Done with serial\n",
      "Done with original\n",
      "Seed is:  4\n",
      "Done with sampling\n",
      "Done with parallel\n",
      "Done with serial\n",
      "Done with original\n",
      "Finished Training  5\n",
      "   Observations  Parallel (8 cores)  Single Core  Prior Function\n",
      "0          60.0            0.102372     0.041565        0.042835\n",
      "1         300.0            0.504532     0.220937        0.196779\n",
      "2         600.0            0.994891     0.467255        0.378117\n",
      "3        3000.0            5.370412     3.632533        2.756318\n",
      "4        6000.0           13.604644     8.581563        8.507775\n",
      "5        9000.0           41.344670    43.478603       25.345567\n"
     ]
    }
   ],
   "source": [
    "import time\n",
    "import multiprocessing\n",
    "cpu_count = multiprocessing.cpu_count()\n",
    "pers_imager = PersistenceImager()\n",
    "pers_imager.pixel_size = .1\n",
    "pers_imager.kernel_params = {'sigma': 1}\n",
    "seed = [0,1,2,3,4]\n",
    "train_size = [.001, .005, .01, .05, .1, .15]\n",
    "n = len(train_size)\n",
    "timing = np.zeros((n,4))\n",
    "for i in range(0,n):\n",
    "    for j in seed:\n",
    "        print(\"Seed is: \", j)\n",
    "        dgms_train, dgms_test = train_test_split_sklearn(mnist, 'labels', train_size = train_size[i], seed=j)\n",
    "        xdgm0_train = np.array(dgms_train['zero_dim_rtl'])\n",
    "        timing[i,0] += len(xdgm0_train)\n",
    "        print(\"Done with sampling\")\n",
    "\n",
    "        start = time.time()\n",
    "        pers_imager.fit(xdgm0_train)\n",
    "        X_train_features = np.array(pers_imager.transform(xdgm0_train, n_jobs=cpu_count))\n",
    "        X_train_features = pers_reshape_par(X_train_features)\n",
    "        end = time.time()-start\n",
    "        timing[i,1] +=end\n",
    "        print(\"Done with parallel\")\n",
    "\n",
    "        start = time.time()\n",
    "        pers_imager.fit(xdgm0_train)\n",
    "        X_train_features = np.array(pers_imager.transform(xdgm0_train))\n",
    "        X_train_features = pers_reshape(X_train_features)\n",
    "        end = time.time()-start\n",
    "        timing[i,2] +=end\n",
    "        print(\"Done with serial\")\n",
    "\n",
    "        start = time.time()\n",
    "        output = F_Image(xdgm0_train, PS=.1, var=1, plot=False, training=True)\n",
    "        end = time.time()-start\n",
    "        timing[i,3] +=end\n",
    "        print(\"Done with original\")\n",
    "\n",
    "    print(\"Finished Training \", i)\n",
    "timing = pd.DataFrame(timing/5)\n",
    "timing.columns=['Observations', 'Parallel (8 cores)', 'Single Core', 'Prior Function']\n",
    "print(timing)"
   ]
  },
  {
   "cell_type": "code",
   "execution_count": 239,
   "metadata": {},
   "outputs": [
    {
     "data": {
      "text/plain": [
       "Text(0, 0.5, 'Time in Seconds')"
      ]
     },
     "execution_count": 239,
     "metadata": {},
     "output_type": "execute_result"
    },
    {
     "data": {
      "image/png": "[encoded data removed]",
      "text/plain": [
       "<Figure size 640x480 with 1 Axes>"
      ]
     },
     "metadata": {},
     "output_type": "display_data"
    }
   ],
   "source": [
    "t = timing.plot(x='Observations')\n",
    "t.set_xlabel(\"Sample Size\")\n",
    "t.set_ylabel(\"Time in Seconds\")"
   ]
  },
  {
   "cell_type": "code",
   "execution_count": 210,
   "metadata": {},
   "outputs": [
    {
     "data": {
      "text/plain": [
       "(10, 8)"
      ]
     },
     "execution_count": 210,
     "metadata": {},
     "output_type": "execute_result"
    }
   ],
   "source": [
    "dgms_train, dgms_test = train_test_split_sklearn(mnist, 'labels', train_size = 10)\n",
    "xdgm0_train = dgms_train['zero_dim_rtl']\n",
    "output0 = F_Image(xdgm0_train, PS=8, var=1, plot=False, training=True)\n",
    "output0['F_Matrix'].shape"
   ]
  },
  {
   "cell_type": "code",
   "execution_count": 211,
   "metadata": {},
   "outputs": [],
   "source": [
    "from persim import PersistenceImager\n",
    "pers_imager = PersistenceImager()\n",
    "pers_imager.fit(xdgm0_train)\n",
    "pers_imager.pixel_size = 8\n",
    "pers_imager.kernel_params = {'sigma': 1}\n",
    "outputn = np.array(pers_imager.transform(xdgm0_train))\n",
    "output1 = pers_reshape(outputn)"
   ]
  },
  {
   "cell_type": "code",
   "execution_count": 212,
   "metadata": {},
   "outputs": [
    {
     "data": {
      "text/plain": [
       "array([[3.17263306e-126, 1.45780267e-056, 1.41951503e-014,\n",
       "        1.14091306e+001, 1.41566094e-126, 6.50486284e-057,\n",
       "        6.33401955e-015, 5.09086939e+000],\n",
       "       [1.54268769e-001, 2.31524140e-016, 2.13661903e-007,\n",
       "        6.74581597e-003, 3.45731231e-001, 4.99600361e-016,\n",
       "        9.18249231e-004, 2.89913187e+001],\n",
       "       [4.99436167e-079, 3.90683722e-030, 1.16644064e-008,\n",
       "        5.01053780e-007, 2.61372439e-071, 2.04458476e-022,\n",
       "        6.10439242e-001, 2.62218993e+001],\n",
       "       [4.99436167e-079, 3.90683722e-030, 1.16644064e-008,\n",
       "        5.01053780e-007, 2.61372439e-071, 2.04458476e-022,\n",
       "        6.10439242e-001, 2.62218993e+001],\n",
       "       [1.51235268e+000, 1.77052251e-012, 3.99017997e-013,\n",
       "        3.99017997e-013, 6.51163927e-001, 1.16169267e-014,\n",
       "        8.64328077e+000, 8.64328077e+000],\n",
       "       [5.19172874e-001, 7.89831619e-013, 2.13661903e-007,\n",
       "        6.74581597e-003, 1.16351662e+000, 1.77002857e-012,\n",
       "        9.18249231e-004, 2.89913187e+001],\n",
       "       [1.85766182e-091, 1.19845805e-035, 2.13661903e-007,\n",
       "        6.74581597e-003, 7.98362515e-088, 5.15058216e-032,\n",
       "        9.18249231e-004, 2.89913187e+001],\n",
       "       [4.99850323e+000, 1.58318833e-004, 1.65661451e-010,\n",
       "        8.78498615e-010, 1.16307172e-003, 3.68382591e-008,\n",
       "        3.84945445e+000, 2.04135583e+001],\n",
       "       [4.47205642e+000, 4.47205642e+000, 2.13661909e-007,\n",
       "        6.74581597e-003, 8.54530312e-008, 8.54530312e-008,\n",
       "        9.18249231e-004, 2.89913187e+001],\n",
       "       [6.79827018e+000, 1.58262026e-001, 5.34003096e-008,\n",
       "        1.86038434e-001, 1.29902832e-007, 3.02410563e-009,\n",
       "        8.54614668e-006, 2.97734555e+001]])"
      ]
     },
     "execution_count": 212,
     "metadata": {},
     "output_type": "execute_result"
    }
   ],
   "source": [
    "output1"
   ]
  },
  {
   "cell_type": "code",
   "execution_count": 201,
   "metadata": {},
   "outputs": [
    {
     "data": {
      "text/plain": [
       "(10, 2, 4)"
      ]
     },
     "execution_count": 201,
     "metadata": {},
     "output_type": "execute_result"
    }
   ],
   "source": [
    "np.array(outputn).shape"
   ]
  },
  {
   "cell_type": "code",
   "execution_count": 168,
   "metadata": {},
   "outputs": [],
   "source": [
    "\n"
   ]
  },
  {
   "cell_type": "code",
   "execution_count": 204,
   "metadata": {},
   "outputs": [
    {
     "data": {
      "text/plain": [
       "array([[3.17263306e-126, 1.45780267e-056, 1.41951503e-014,\n",
       "        1.14091306e+001, 1.41566094e-126, 6.50486284e-057,\n",
       "        6.33401955e-015, 5.09086939e+000],\n",
       "       [1.54268769e-001, 2.31524140e-016, 2.13661903e-007,\n",
       "        6.74581597e-003, 3.45731231e-001, 4.99600361e-016,\n",
       "        9.18249231e-004, 2.89913187e+001],\n",
       "       [4.99436167e-079, 3.90683722e-030, 1.16644064e-008,\n",
       "        5.01053780e-007, 2.61372439e-071, 2.04458476e-022,\n",
       "        6.10439242e-001, 2.62218993e+001],\n",
       "       [4.99436167e-079, 3.90683722e-030, 1.16644064e-008,\n",
       "        5.01053780e-007, 2.61372439e-071, 2.04458476e-022,\n",
       "        6.10439242e-001, 2.62218993e+001],\n",
       "       [1.51235268e+000, 1.77052251e-012, 3.99017997e-013,\n",
       "        3.99017997e-013, 6.51163927e-001, 1.16169267e-014,\n",
       "        8.64328077e+000, 8.64328077e+000],\n",
       "       [5.19172874e-001, 7.89831619e-013, 2.13661903e-007,\n",
       "        6.74581597e-003, 1.16351662e+000, 1.77002857e-012,\n",
       "        9.18249231e-004, 2.89913187e+001],\n",
       "       [1.85766182e-091, 1.19845805e-035, 2.13661903e-007,\n",
       "        6.74581597e-003, 7.98362515e-088, 5.15058216e-032,\n",
       "        9.18249231e-004, 2.89913187e+001],\n",
       "       [4.99850323e+000, 1.58318833e-004, 1.65661451e-010,\n",
       "        8.78498615e-010, 1.16307172e-003, 3.68382591e-008,\n",
       "        3.84945445e+000, 2.04135583e+001],\n",
       "       [4.47205642e+000, 4.47205642e+000, 2.13661909e-007,\n",
       "        6.74581597e-003, 8.54530312e-008, 8.54530312e-008,\n",
       "        9.18249231e-004, 2.89913187e+001],\n",
       "       [6.79827018e+000, 1.58262026e-001, 5.34003096e-008,\n",
       "        1.86038434e-001, 1.29902832e-007, 3.02410563e-009,\n",
       "        8.54614668e-006, 2.97734555e+001]])"
      ]
     },
     "execution_count": 204,
     "metadata": {},
     "output_type": "execute_result"
    }
   ],
   "source": [
    "result"
   ]
  },
  {
   "cell_type": "code",
   "execution_count": 214,
   "metadata": {},
   "outputs": [
    {
     "data": {
      "text/plain": [
       "array([[0., 0., 0., 0., 0., 0., 0., 0.],\n",
       "       [0., 0., 0., 0., 0., 0., 0., 0.],\n",
       "       [0., 0., 0., 0., 0., 0., 0., 0.],\n",
       "       [0., 0., 0., 0., 0., 0., 0., 0.],\n",
       "       [0., 0., 0., 0., 0., 0., 0., 0.],\n",
       "       [0., 0., 0., 0., 0., 0., 0., 0.],\n",
       "       [0., 0., 0., 0., 0., 0., 0., 0.],\n",
       "       [0., 0., 0., 0., 0., 0., 0., 0.],\n",
       "       [0., 0., 0., 0., 0., 0., 0., 0.],\n",
       "       [0., 0., 0., 0., 0., 0., 0., 0.]])"
      ]
     },
     "execution_count": 214,
     "metadata": {},
     "output_type": "execute_result"
    }
   ],
   "source": [
    "output0['F_Matrix'] - output1"
   ]
  },
  {
   "cell_type": "code",
   "execution_count": 213,
   "metadata": {},
   "outputs": [
    {
     "data": {
      "text/plain": [
       "array([[0., 0., 0., 0., 0., 0., 0., 0.],\n",
       "       [0., 0., 0., 0., 0., 0., 0., 0.],\n",
       "       [0., 0., 0., 0., 0., 0., 0., 0.],\n",
       "       [0., 0., 0., 0., 0., 0., 0., 0.],\n",
       "       [0., 0., 0., 0., 0., 0., 0., 0.],\n",
       "       [0., 0., 0., 0., 0., 0., 0., 0.],\n",
       "       [0., 0., 0., 0., 0., 0., 0., 0.],\n",
       "       [0., 0., 0., 0., 0., 0., 0., 0.],\n",
       "       [0., 0., 0., 0., 0., 0., 0., 0.],\n",
       "       [0., 0., 0., 0., 0., 0., 0., 0.]])"
      ]
     },
     "execution_count": 213,
     "metadata": {},
     "output_type": "execute_result"
    }
   ],
   "source": [
    "output1 - result"
   ]
  },
  {
   "cell_type": "code",
   "execution_count": 60,
   "metadata": {},
   "outputs": [
    {
     "data": {
      "text/plain": [
       "(600, 884)"
      ]
     },
     "execution_count": 60,
     "metadata": {},
     "output_type": "execute_result"
    }
   ],
   "source": [
    "output0['F_Matrix'].shape"
   ]
  },
  {
   "cell_type": "code",
   "execution_count": 61,
   "metadata": {},
   "outputs": [
    {
     "data": {
      "text/plain": [
       "(600, 884)"
      ]
     },
     "execution_count": 61,
     "metadata": {},
     "output_type": "execute_result"
    }
   ],
   "source": [
    "output1.shape"
   ]
  },
  {
   "cell_type": "code",
   "execution_count": 47,
   "metadata": {},
   "outputs": [
    {
     "name": "stdout",
     "output_type": "stream",
     "text": [
      "17.6 ms ± 350 µs per loop (mean ± std. dev. of 7 runs, 100 loops each)\n",
      "18 ms ± 195 µs per loop (mean ± std. dev. of 7 runs, 100 loops each)\n"
     ]
    }
   ],
   "source": [
    "%timeit output0 = F_Image(xdgm0_train, PS=.1, var=1, plot=False, training=True)\n",
    "%timeit output1 = jit_F_Image(xdgm0_train, PS=.1, var=1, plot = False, training=True)"
   ]
  },
  {
   "cell_type": "code",
   "execution_count": 37,
   "metadata": {},
   "outputs": [
    {
     "data": {
      "image/png": "[encoded data removed]",
      "text/plain": [
       "<Figure size 640x480 with 1 Axes>"
      ]
     },
     "metadata": {},
     "output_type": "display_data"
    }
   ],
   "source": [
    "output1 = F_Image(xdgm0_train, PS=.1, var=1, plot=True, training=True, pers_imager=pi)"
   ]
  },
  {
   "cell_type": "code",
   "execution_count": 39,
   "metadata": {},
   "outputs": [
    {
     "data": {
      "text/plain": [
       "{'figures': [<Figure size 640x480 with 1 Axes>],\n",
       " 'F_Matrix': array([[9.50975080e-046, 9.41520563e-046, 9.22892583e-046, ...,\n",
       "         3.54494212e-013, 2.92543767e-013, 2.44360088e-013],\n",
       "        [7.77072155e-286, 1.88306132e-284, 4.51779957e-283, ...,\n",
       "         0.00000000e+000, 0.00000000e+000, 0.00000000e+000],\n",
       "        [4.27383805e-046, 5.16731949e-046, 6.18547753e-046, ...,\n",
       "         0.00000000e+000, 2.77555756e-015, 0.00000000e+000],\n",
       "        ...,\n",
       "        [2.40851608e-041, 4.34281236e-041, 7.75270381e-041, ...,\n",
       "         2.27318164e-011, 1.71795911e-011, 1.28630440e-011],\n",
       "        [1.73933013e-262, 2.31397184e-261, 3.04785178e-260, ...,\n",
       "         3.72541997e-011, 2.08723039e-011, 1.15767396e-011],\n",
       "        [1.96092280e-048, 2.89530688e-048, 4.23242581e-048, ...,\n",
       "         8.05355782e-013, 4.07007761e-013, 2.04947170e-013]]),\n",
       " 'pers_imager': PersistenceImager(birth_range=(0.0, 26.0), pers_range=(1.0, 33.0), pixel_size=0.1, weight=persistence, weight_params={'n': 1.0}, kernel=gaussian, kernel_params={'sigma': 1})}"
      ]
     },
     "execution_count": 39,
     "metadata": {},
     "output_type": "execute_result"
    }
   ],
   "source": [
    "output0"
   ]
  }
 ],
 "metadata": {
  "kernelspec": {
   "display_name": ".venv",
   "language": "python",
   "name": "python3"
  },
  "language_info": {
   "codemirror_mode": {
    "name": "ipython",
    "version": 3
   },
   "file_extension": ".py",
   "mimetype": "text/x-python",
   "name": "python",
   "nbconvert_exporter": "python",
   "pygments_lexer": "ipython3",
   "version": "3.9.6"
  }
 },
 "nbformat": 4,
 "nbformat_minor": 2
}
