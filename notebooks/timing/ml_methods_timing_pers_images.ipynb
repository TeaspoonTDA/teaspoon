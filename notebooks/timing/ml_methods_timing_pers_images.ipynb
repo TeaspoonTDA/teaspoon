{
 "cells": [
  {
   "cell_type": "markdown",
   "metadata": {},
   "source": [
    "Load Libraries"
   ]
  },
  {
   "cell_type": "code",
   "execution_count": 2,
   "metadata": {},
   "outputs": [],
   "source": [
    "import numpy as np\n",
    "import pandas as pd"
   ]
  },
  {
   "cell_type": "markdown",
   "metadata": {},
   "source": [
    "Create Dataset for Timing"
   ]
  },
  {
   "cell_type": "code",
   "execution_count": 3,
   "metadata": {},
   "outputs": [
    {
     "data": {
      "text/html": [
       "<div>\n",
       "<style scoped>\n",
       "    .dataframe tbody tr th:only-of-type {\n",
       "        vertical-align: middle;\n",
       "    }\n",
       "\n",
       "    .dataframe tbody tr th {\n",
       "        vertical-align: top;\n",
       "    }\n",
       "\n",
       "    .dataframe thead th {\n",
       "        text-align: right;\n",
       "    }\n",
       "</style>\n",
       "<table border=\"1\" class=\"dataframe\">\n",
       "  <thead>\n",
       "    <tr style=\"text-align: right;\">\n",
       "      <th></th>\n",
       "      <th>Length 3 dgms</th>\n",
       "      <th>Length 6 dgms</th>\n",
       "      <th>Length 10 dgms</th>\n",
       "      <th>Length 20 dgms</th>\n",
       "      <th>Length 40 dgms</th>\n",
       "      <th>Length 80 dgms</th>\n",
       "    </tr>\n",
       "  </thead>\n",
       "  <tbody>\n",
       "    <tr>\n",
       "      <th>0</th>\n",
       "      <td>[[0, 20], [5, 9], [19, 19]]</td>\n",
       "      <td>[[0, 20], [3, 6], [2, 13], [8, 14], [13, 15], ...</td>\n",
       "      <td>[[0, 20], [6, 14], [18, 18], [5, 13], [11, 13]...</td>\n",
       "      <td>[[0, 20], [4, 11], [13, 14], [1, 16], [0, 7], ...</td>\n",
       "      <td>[[0, 20], [15, 17], [11, 19], [7, 16], [16, 16...</td>\n",
       "      <td>[[0, 20], [5, 19], [19, 19], [11, 17], [18, 19...</td>\n",
       "    </tr>\n",
       "    <tr>\n",
       "      <th>1</th>\n",
       "      <td>[[0, 20], [9, 17], [16, 19]]</td>\n",
       "      <td>[[0, 20], [3, 8], [13, 14], [9, 17], [16, 16],...</td>\n",
       "      <td>[[0, 20], [8, 17], [0, 17], [10, 18], [11, 13]...</td>\n",
       "      <td>[[0, 20], [19, 19], [16, 18], [4, 13], [8, 18]...</td>\n",
       "      <td>[[0, 20], [16, 18], [12, 14], [3, 15], [5, 11]...</td>\n",
       "      <td>[[0, 20], [0, 7], [15, 18], [0, 16], [9, 15], ...</td>\n",
       "    </tr>\n",
       "    <tr>\n",
       "      <th>2</th>\n",
       "      <td>[[0, 20], [4, 5], [3, 13]]</td>\n",
       "      <td>[[0, 20], [1, 7], [12, 12], [15, 17], [3, 19],...</td>\n",
       "      <td>[[0, 20], [19, 19], [8, 10], [11, 11], [11, 17...</td>\n",
       "      <td>[[0, 20], [4, 10], [11, 13], [16, 16], [6, 14]...</td>\n",
       "      <td>[[0, 20], [1, 11], [15, 15], [13, 14], [17, 19...</td>\n",
       "      <td>[[0, 20], [7, 12], [2, 11], [18, 18], [3, 17],...</td>\n",
       "    </tr>\n",
       "    <tr>\n",
       "      <th>3</th>\n",
       "      <td>[[0, 20], [8, 9], [5, 5]]</td>\n",
       "      <td>[[0, 20], [19, 19], [10, 15], [19, 19], [0, 18...</td>\n",
       "      <td>[[0, 20], [8, 16], [17, 19], [17, 18], [6, 19]...</td>\n",
       "      <td>[[0, 20], [18, 19], [19, 19], [9, 9], [11, 13]...</td>\n",
       "      <td>[[0, 20], [16, 17], [10, 12], [19, 19], [0, 1]...</td>\n",
       "      <td>[[0, 20], [9, 12], [1, 12], [8, 19], [18, 19],...</td>\n",
       "    </tr>\n",
       "    <tr>\n",
       "      <th>4</th>\n",
       "      <td>[[0, 20], [13, 18], [2, 15]]</td>\n",
       "      <td>[[0, 20], [3, 5], [2, 13], [6, 9], [19, 19], [...</td>\n",
       "      <td>[[0, 20], [8, 16], [5, 6], [16, 16], [4, 15], ...</td>\n",
       "      <td>[[0, 20], [8, 11], [19, 19], [14, 18], [15, 15...</td>\n",
       "      <td>[[0, 20], [8, 10], [7, 18], [4, 10], [11, 18],...</td>\n",
       "      <td>[[0, 20], [15, 15], [19, 19], [7, 15], [16, 17...</td>\n",
       "    </tr>\n",
       "    <tr>\n",
       "      <th>...</th>\n",
       "      <td>...</td>\n",
       "      <td>...</td>\n",
       "      <td>...</td>\n",
       "      <td>...</td>\n",
       "      <td>...</td>\n",
       "      <td>...</td>\n",
       "    </tr>\n",
       "    <tr>\n",
       "      <th>4995</th>\n",
       "      <td>[[0, 20], [2, 7], [8, 18]]</td>\n",
       "      <td>[[0, 20], [16, 19], [9, 17], [16, 16], [2, 7],...</td>\n",
       "      <td>[[0, 20], [18, 18], [12, 13], [13, 13], [16, 1...</td>\n",
       "      <td>[[0, 20], [5, 11], [10, 18], [2, 3], [18, 19],...</td>\n",
       "      <td>[[0, 20], [11, 19], [9, 14], [11, 17], [16, 19...</td>\n",
       "      <td>[[0, 20], [8, 11], [6, 17], [3, 4], [4, 7], [1...</td>\n",
       "    </tr>\n",
       "    <tr>\n",
       "      <th>4996</th>\n",
       "      <td>[[0, 20], [18, 18], [18, 18]]</td>\n",
       "      <td>[[0, 20], [2, 19], [0, 13], [14, 14], [18, 18]...</td>\n",
       "      <td>[[0, 20], [15, 16], [1, 13], [9, 18], [11, 19]...</td>\n",
       "      <td>[[0, 20], [17, 18], [16, 17], [9, 17], [7, 15]...</td>\n",
       "      <td>[[0, 20], [5, 14], [6, 14], [11, 16], [19, 19]...</td>\n",
       "      <td>[[0, 20], [7, 13], [19, 19], [19, 19], [6, 19]...</td>\n",
       "    </tr>\n",
       "    <tr>\n",
       "      <th>4997</th>\n",
       "      <td>[[0, 20], [5, 13], [16, 18]]</td>\n",
       "      <td>[[0, 20], [3, 8], [13, 17], [9, 19], [12, 16],...</td>\n",
       "      <td>[[0, 20], [15, 17], [8, 9], [2, 15], [14, 18],...</td>\n",
       "      <td>[[0, 20], [9, 17], [11, 19], [10, 14], [1, 19]...</td>\n",
       "      <td>[[0, 20], [9, 16], [16, 19], [8, 16], [10, 17]...</td>\n",
       "      <td>[[0, 20], [3, 11], [1, 13], [5, 9], [14, 19], ...</td>\n",
       "    </tr>\n",
       "    <tr>\n",
       "      <th>4998</th>\n",
       "      <td>[[0, 20], [4, 15], [0, 3]]</td>\n",
       "      <td>[[0, 20], [19, 19], [9, 12], [8, 19], [5, 11],...</td>\n",
       "      <td>[[0, 20], [1, 5], [14, 19], [19, 19], [16, 17]...</td>\n",
       "      <td>[[0, 20], [19, 19], [16, 16], [13, 19], [15, 1...</td>\n",
       "      <td>[[0, 20], [18, 18], [3, 18], [1, 4], [5, 14], ...</td>\n",
       "      <td>[[0, 20], [5, 9], [7, 12], [12, 12], [10, 19],...</td>\n",
       "    </tr>\n",
       "    <tr>\n",
       "      <th>4999</th>\n",
       "      <td>[[0, 20], [10, 12], [2, 12]]</td>\n",
       "      <td>[[0, 20], [7, 10], [13, 19], [5, 13], [4, 17],...</td>\n",
       "      <td>[[0, 20], [14, 15], [6, 19], [9, 13], [7, 16],...</td>\n",
       "      <td>[[0, 20], [12, 15], [18, 19], [17, 17], [14, 1...</td>\n",
       "      <td>[[0, 20], [5, 16], [15, 17], [4, 19], [15, 15]...</td>\n",
       "      <td>[[0, 20], [16, 17], [12, 18], [0, 5], [14, 18]...</td>\n",
       "    </tr>\n",
       "  </tbody>\n",
       "</table>\n",
       "<p>5000 rows × 6 columns</p>\n",
       "</div>"
      ],
      "text/plain": [
       "                      Length 3 dgms  \\\n",
       "0       [[0, 20], [5, 9], [19, 19]]   \n",
       "1      [[0, 20], [9, 17], [16, 19]]   \n",
       "2        [[0, 20], [4, 5], [3, 13]]   \n",
       "3         [[0, 20], [8, 9], [5, 5]]   \n",
       "4      [[0, 20], [13, 18], [2, 15]]   \n",
       "...                             ...   \n",
       "4995     [[0, 20], [2, 7], [8, 18]]   \n",
       "4996  [[0, 20], [18, 18], [18, 18]]   \n",
       "4997   [[0, 20], [5, 13], [16, 18]]   \n",
       "4998     [[0, 20], [4, 15], [0, 3]]   \n",
       "4999   [[0, 20], [10, 12], [2, 12]]   \n",
       "\n",
       "                                          Length 6 dgms  \\\n",
       "0     [[0, 20], [3, 6], [2, 13], [8, 14], [13, 15], ...   \n",
       "1     [[0, 20], [3, 8], [13, 14], [9, 17], [16, 16],...   \n",
       "2     [[0, 20], [1, 7], [12, 12], [15, 17], [3, 19],...   \n",
       "3     [[0, 20], [19, 19], [10, 15], [19, 19], [0, 18...   \n",
       "4     [[0, 20], [3, 5], [2, 13], [6, 9], [19, 19], [...   \n",
       "...                                                 ...   \n",
       "4995  [[0, 20], [16, 19], [9, 17], [16, 16], [2, 7],...   \n",
       "4996  [[0, 20], [2, 19], [0, 13], [14, 14], [18, 18]...   \n",
       "4997  [[0, 20], [3, 8], [13, 17], [9, 19], [12, 16],...   \n",
       "4998  [[0, 20], [19, 19], [9, 12], [8, 19], [5, 11],...   \n",
       "4999  [[0, 20], [7, 10], [13, 19], [5, 13], [4, 17],...   \n",
       "\n",
       "                                         Length 10 dgms  \\\n",
       "0     [[0, 20], [6, 14], [18, 18], [5, 13], [11, 13]...   \n",
       "1     [[0, 20], [8, 17], [0, 17], [10, 18], [11, 13]...   \n",
       "2     [[0, 20], [19, 19], [8, 10], [11, 11], [11, 17...   \n",
       "3     [[0, 20], [8, 16], [17, 19], [17, 18], [6, 19]...   \n",
       "4     [[0, 20], [8, 16], [5, 6], [16, 16], [4, 15], ...   \n",
       "...                                                 ...   \n",
       "4995  [[0, 20], [18, 18], [12, 13], [13, 13], [16, 1...   \n",
       "4996  [[0, 20], [15, 16], [1, 13], [9, 18], [11, 19]...   \n",
       "4997  [[0, 20], [15, 17], [8, 9], [2, 15], [14, 18],...   \n",
       "4998  [[0, 20], [1, 5], [14, 19], [19, 19], [16, 17]...   \n",
       "4999  [[0, 20], [14, 15], [6, 19], [9, 13], [7, 16],...   \n",
       "\n",
       "                                         Length 20 dgms  \\\n",
       "0     [[0, 20], [4, 11], [13, 14], [1, 16], [0, 7], ...   \n",
       "1     [[0, 20], [19, 19], [16, 18], [4, 13], [8, 18]...   \n",
       "2     [[0, 20], [4, 10], [11, 13], [16, 16], [6, 14]...   \n",
       "3     [[0, 20], [18, 19], [19, 19], [9, 9], [11, 13]...   \n",
       "4     [[0, 20], [8, 11], [19, 19], [14, 18], [15, 15...   \n",
       "...                                                 ...   \n",
       "4995  [[0, 20], [5, 11], [10, 18], [2, 3], [18, 19],...   \n",
       "4996  [[0, 20], [17, 18], [16, 17], [9, 17], [7, 15]...   \n",
       "4997  [[0, 20], [9, 17], [11, 19], [10, 14], [1, 19]...   \n",
       "4998  [[0, 20], [19, 19], [16, 16], [13, 19], [15, 1...   \n",
       "4999  [[0, 20], [12, 15], [18, 19], [17, 17], [14, 1...   \n",
       "\n",
       "                                         Length 40 dgms  \\\n",
       "0     [[0, 20], [15, 17], [11, 19], [7, 16], [16, 16...   \n",
       "1     [[0, 20], [16, 18], [12, 14], [3, 15], [5, 11]...   \n",
       "2     [[0, 20], [1, 11], [15, 15], [13, 14], [17, 19...   \n",
       "3     [[0, 20], [16, 17], [10, 12], [19, 19], [0, 1]...   \n",
       "4     [[0, 20], [8, 10], [7, 18], [4, 10], [11, 18],...   \n",
       "...                                                 ...   \n",
       "4995  [[0, 20], [11, 19], [9, 14], [11, 17], [16, 19...   \n",
       "4996  [[0, 20], [5, 14], [6, 14], [11, 16], [19, 19]...   \n",
       "4997  [[0, 20], [9, 16], [16, 19], [8, 16], [10, 17]...   \n",
       "4998  [[0, 20], [18, 18], [3, 18], [1, 4], [5, 14], ...   \n",
       "4999  [[0, 20], [5, 16], [15, 17], [4, 19], [15, 15]...   \n",
       "\n",
       "                                         Length 80 dgms  \n",
       "0     [[0, 20], [5, 19], [19, 19], [11, 17], [18, 19...  \n",
       "1     [[0, 20], [0, 7], [15, 18], [0, 16], [9, 15], ...  \n",
       "2     [[0, 20], [7, 12], [2, 11], [18, 18], [3, 17],...  \n",
       "3     [[0, 20], [9, 12], [1, 12], [8, 19], [18, 19],...  \n",
       "4     [[0, 20], [15, 15], [19, 19], [7, 15], [16, 17...  \n",
       "...                                                 ...  \n",
       "4995  [[0, 20], [8, 11], [6, 17], [3, 4], [4, 7], [1...  \n",
       "4996  [[0, 20], [7, 13], [19, 19], [19, 19], [6, 19]...  \n",
       "4997  [[0, 20], [3, 11], [1, 13], [5, 9], [14, 19], ...  \n",
       "4998  [[0, 20], [5, 9], [7, 12], [12, 12], [10, 19],...  \n",
       "4999  [[0, 20], [16, 17], [12, 18], [0, 5], [14, 18]...  \n",
       "\n",
       "[5000 rows x 6 columns]"
      ]
     },
     "execution_count": 3,
     "metadata": {},
     "output_type": "execute_result"
    }
   ],
   "source": [
    "timing_dgms = np.empty([5000,6], dtype=object)\n",
    "for j in range(0,5000):\n",
    "    three_dgms = []\n",
    "    six_dgms = []\n",
    "    ten_dgms = []\n",
    "    twenty_dgms = []\n",
    "    forty_dgms = []\n",
    "    eighty_dgms = []\n",
    "    point = [0, 20]\n",
    "    three_dgms.append(point)\n",
    "    six_dgms.append(point)\n",
    "    ten_dgms.append(point)\n",
    "    twenty_dgms.append(point)\n",
    "    forty_dgms.append(point)\n",
    "    eighty_dgms.append(point)\n",
    "    for i in range(0,2):\n",
    "        birth = np.random.randint(0, 20, size=1)\n",
    "        death = np.random.randint(birth, 20, size=1)\n",
    "        point = [birth[0], death[0]]\n",
    "        three_dgms.append(point)\n",
    "    for i in range(0,5):\n",
    "        birth = np.random.randint(0, 20, size=1)\n",
    "        death = np.random.randint(birth, 20, size=1)\n",
    "        point = [birth[0], death[0]]\n",
    "        six_dgms.append(point)\n",
    "    for i in range(0,9):\n",
    "        birth = np.random.randint(0, 20, size=1)\n",
    "        death = np.random.randint(birth, 20, size=1)\n",
    "        point = [birth[0], death[0]]\n",
    "        ten_dgms.append(point)\n",
    "    for i in range(0,19):\n",
    "        birth = np.random.randint(0, 20, size=1)\n",
    "        death = np.random.randint(birth, 20, size=1)\n",
    "        point = [birth[0], death[0]]\n",
    "        twenty_dgms.append(point)\n",
    "    for i in range(0,39):\n",
    "        birth = np.random.randint(0, 20, size=1)\n",
    "        death = np.random.randint(birth, 20, size=1)\n",
    "        point = [birth[0], death[0]]\n",
    "        forty_dgms.append(point)\n",
    "    for i in range(0,79):\n",
    "        birth = np.random.randint(0, 20, size=1)\n",
    "        death = np.random.randint(birth, 20, size=1)\n",
    "        point = [birth[0], death[0]]\n",
    "        eighty_dgms.append(point)\n",
    "    timing_dgms[j,0]=three_dgms\n",
    "    timing_dgms[j,1]=six_dgms\n",
    "    timing_dgms[j,2]=ten_dgms\n",
    "    timing_dgms[j,3]=twenty_dgms\n",
    "    timing_dgms[j,4]=forty_dgms\n",
    "    timing_dgms[j,5]=eighty_dgms\n",
    "timing_dgms = pd.DataFrame(timing_dgms)\n",
    "timing_dgms.columns = ['Length 3 dgms', 'Length 6 dgms', 'Length 10 dgms', 'Length 20 dgms', 'Length 40 dgms', 'Length 80 dgms']\n",
    "timing_dgms"
   ]
  },
  {
   "cell_type": "markdown",
   "metadata": {},
   "source": [
    "### Choose Dimension for Timing Test"
   ]
  },
  {
   "cell_type": "code",
   "execution_count": 4,
   "metadata": {},
   "outputs": [],
   "source": [
    "dgms_3 = timing_dgms['Length 3 dgms']\n",
    "dgms_6 = timing_dgms['Length 6 dgms']\n",
    "dgms_10 = timing_dgms['Length 10 dgms']\n",
    "dgms_20 = timing_dgms['Length 20 dgms']\n",
    "dgms_40 = timing_dgms['Length 40 dgms']\n",
    "dgms_80 = timing_dgms['Length 80 dgms']"
   ]
  },
  {
   "cell_type": "markdown",
   "metadata": {},
   "source": [
    "### Load original persistence images method function from teaspoon and update for parallel flag"
   ]
  },
  {
   "cell_type": "code",
   "execution_count": 5,
   "metadata": {},
   "outputs": [],
   "source": [
    "import numpy as np\n",
    "import matplotlib.pyplot as plt\n",
    "import pandas as pd\n",
    "import matplotlib.pyplot as plt\n",
    "from persim import PersistenceImager\n",
    "from math import pi\n",
    "\n",
    "def F_Image(PD1, PS, var, plot, D_Img=[], pers_imager=None, training=True, parallel=False):\n",
    "    \n",
    "    output = {}\n",
    "    # number of persistence diagrams\n",
    "    N1 = len(PD1)\n",
    "\n",
    "    if training == True:\n",
    "        # adjust the image parameters and compute images\n",
    "        pers_imager = PersistenceImager()\n",
    "        pers_imager.pixel_size = PS\n",
    "        pers_imager.kernel_params = {'sigma': var}\n",
    "\n",
    "        PDs = PD1.tolist()\n",
    "        pers_imager.fit(PDs, skew=True)\n",
    "        if parallel==True:\n",
    "            pers_img = pers_imager.transform(PD1, skew=True, n_jobs=-1)\n",
    "        else:\n",
    "            pers_img = pers_imager.transform(PD1, skew=True)\n",
    "    else:\n",
    "        if parallel==True:\n",
    "            pers_img = pers_imager.transform(PD1, skew=True, n_jobs=-1)\n",
    "        else:\n",
    "            pers_img = pers_imager.transform(PD1, skew=True)\n",
    "\n",
    "    # generate feature matrix\n",
    "    feature_PI = np.zeros(\n",
    "        (N1, len(pers_img[0][:, 0])*len(pers_img[0][0, :])))\n",
    "    for i in range(N1):\n",
    "        feature_PI[i, :] = pers_img[i].flatten()\n",
    "\n",
    "    # plot all images or images of certain persistence diagrams\n",
    "    if plot == True:\n",
    "        fig = []\n",
    "        if D_Img == []:\n",
    "            D_Img = np.arange(1, 2, 1)\n",
    "        for i in range(len(D_Img)):\n",
    "            plt.figure()\n",
    "            ax = plt.gca()\n",
    "            pimgr = PersistenceImager()\n",
    "            pimgr.pixel_size = PS\n",
    "            pimgr.kernel_params = {'sigma': var}\n",
    "            pimgr.fit(PD1[D_Img[i]-1], skew=True)\n",
    "            imgs = pimgr.transform(PD1[D_Img[i]-1], skew=True)\n",
    "            pers_imager.plot_image(imgs, ax)\n",
    "            fig.append(plt.gcf())\n",
    "        output['figures'] = fig\n",
    "\n",
    "    output['F_Matrix'] = feature_PI\n",
    "    output['pers_imager'] = pers_imager\n",
    "\n",
    "    return output"
   ]
  },
  {
   "cell_type": "code",
   "execution_count": 26,
   "metadata": {},
   "outputs": [
    {
     "data": {
      "text/plain": [
       "8"
      ]
     },
     "execution_count": 26,
     "metadata": {},
     "output_type": "execute_result"
    }
   ],
   "source": [
    "import os\n",
    "os.cpu_count()"
   ]
  },
  {
   "cell_type": "markdown",
   "metadata": {},
   "source": [
    "Test Initial Timings for Parallel Performance"
   ]
  },
  {
   "cell_type": "code",
   "execution_count": 6,
   "metadata": {},
   "outputs": [
    {
     "name": "stdout",
     "output_type": "stream",
     "text": [
      "9.96 ms ± 164 µs per loop (mean ± std. dev. of 7 runs, 100 loops each)\n",
      "26 ms ± 1.91 ms per loop (mean ± std. dev. of 7 runs, 1 loop each)\n"
     ]
    }
   ],
   "source": [
    "dgms_3_train = dgms_3[0:100]\n",
    "%timeit output0 = F_Image(dgms_3_train, PS=1, var=2, plot=False, training=True)\n",
    "%timeit output0 = F_Image(dgms_3_train, PS=1, var=2, plot=False, training=True, parallel=True)"
   ]
  },
  {
   "cell_type": "markdown",
   "metadata": {},
   "source": [
    "### Timing with simulated Datasets"
   ]
  },
  {
   "cell_type": "markdown",
   "metadata": {},
   "source": [
    "20 Diagrams, Pixel Size 1"
   ]
  },
  {
   "cell_type": "code",
   "execution_count": 31,
   "metadata": {},
   "outputs": [
    {
     "name": "stdout",
     "output_type": "stream",
     "text": [
      "Finished Training  0\n",
      "Finished Training  1\n",
      "Finished Training  2\n",
      "Finished Training  3\n",
      "Finished Training  4\n",
      "Finished Training  5\n",
      "Finished Training  6\n",
      "Finished Training  7\n",
      "Finished Training  8\n",
      "Finished Training  9\n",
      "Finished Training  10\n",
      "Finished Training  11\n",
      "Finished Training  12\n",
      "Finished Training  13\n",
      "Finished Training  14\n",
      "Finished Training  15\n",
      "    Observations  Parallel (8 cores)  Single Core\n",
      "0          100.0            0.048005     0.050625\n",
      "1          500.0            0.139996     0.252862\n",
      "2         1000.0            0.263143     0.507925\n",
      "3         1500.0            0.392437     0.755772\n",
      "4         2000.0            0.490071     1.005603\n",
      "5         2500.0            0.598718     1.251296\n",
      "6         3000.0            0.693403     1.505795\n",
      "7         3500.0            0.795196     1.750303\n",
      "8         4000.0            0.909987     2.004640\n",
      "9         4500.0            1.012414     2.260854\n",
      "10        5000.0            1.113390     2.506583\n",
      "11        6000.0            1.354554     3.008583\n",
      "12        7000.0            1.560587     3.514750\n",
      "13        8000.0            1.765284     4.007775\n",
      "14        9000.0            1.967143     4.576819\n",
      "15       10000.0            2.260780     5.117979\n"
     ]
    }
   ],
   "source": [
    "import time\n",
    "seed = [0,1,2,3,4]\n",
    "train_size = [100, 500,1000,1500, 2000, 2500, 3000, 3500, 4000, 4500, 5000, 6000, 7000, 8000, 9000,10000]\n",
    "n = len(train_size)\n",
    "dgm20_timing = np.zeros((n,3))\n",
    "for i in range(0,n):\n",
    "    for j in seed:\n",
    "        dgms_train = dgms_20[0:train_size[i]]\n",
    "        xdgm0_train = np.array(dgms_train)\n",
    "        dgm20_timing[i,0] += len(xdgm0_train)\n",
    "\n",
    "        start = time.time()\n",
    "        output = F_Image(xdgm0_train, PS=1, var=1, plot=False, training=True, parallel=True)\n",
    "        end = time.time()-start\n",
    "        dgm20_timing[i,1] +=end\n",
    "\n",
    "        start = time.time()\n",
    "        output = F_Image(xdgm0_train, PS=1, var=1, plot=False, training=True)\n",
    "        end = time.time()-start\n",
    "        dgm20_timing[i,2] +=end\n",
    "\n",
    "    print(\"Finished Training \", i)\n",
    "dgm20_timing_ps1 = pd.DataFrame(dgm20_timing/5)\n",
    "dgm20_timing_ps1.columns=['Observations', 'Parallel (8 cores)', 'Single Core']\n",
    "print(dgm20_timing_ps1)"
   ]
  },
  {
   "cell_type": "code",
   "execution_count": 32,
   "metadata": {},
   "outputs": [
    {
     "data": {
      "text/plain": [
       "1.6666666666666667"
      ]
     },
     "execution_count": 32,
     "metadata": {},
     "output_type": "execute_result"
    }
   ],
   "source": [
    "5/3"
   ]
  },
  {
   "cell_type": "code",
   "execution_count": 33,
   "metadata": {},
   "outputs": [
    {
     "data": {
      "text/plain": [
       "Text(0.5, 1.0, 'Simulated Data - 20 dgms per observation, Pixel Size 1')"
      ]
     },
     "execution_count": 33,
     "metadata": {},
     "output_type": "execute_result"
    },
    {
     "data": {
      "image/png": "[encoded data removed]",
      "text/plain": [
       "<Figure size 432x288 with 1 Axes>"
      ]
     },
     "metadata": {
      "needs_background": "light"
     },
     "output_type": "display_data"
    }
   ],
   "source": [
    "t = dgm20_timing_ps1.plot(x='Observations')\n",
    "t.set_xlabel(\"Sample Size\")\n",
    "t.set_ylabel(\"Time in Seconds\")\n",
    "t.set_ylim(0,5)\n",
    "t.set_title(\"Simulated Data - 20 dgms per observation, Pixel Size 1\")"
   ]
  },
  {
   "cell_type": "markdown",
   "metadata": {},
   "source": [
    "20 Diagrams, Pixel Size 2"
   ]
  },
  {
   "cell_type": "code",
   "execution_count": 34,
   "metadata": {},
   "outputs": [
    {
     "name": "stdout",
     "output_type": "stream",
     "text": [
      "Finished Training  0\n",
      "Finished Training  1\n",
      "Finished Training  2\n",
      "Finished Training  3\n",
      "Finished Training  4\n",
      "Finished Training  5\n",
      "Finished Training  6\n",
      "Finished Training  7\n",
      "Finished Training  8\n",
      "Finished Training  9\n",
      "Finished Training  10\n",
      "Finished Training  11\n",
      "Finished Training  12\n",
      "Finished Training  13\n",
      "Finished Training  14\n",
      "Finished Training  15\n",
      "    Observations  Parallel (8 cores)  Single Core\n",
      "0          100.0            0.055605     0.048402\n",
      "1          500.0            0.140998     0.242741\n",
      "2         1000.0            0.271814     0.474754\n",
      "3         1500.0            0.366823     0.712022\n",
      "4         2000.0            0.475994     0.950952\n",
      "5         2500.0            0.573373     1.181316\n",
      "6         3000.0            0.671096     1.410837\n",
      "7         3500.0            0.750708     1.655820\n",
      "8         4000.0            0.857133     1.886968\n",
      "9         4500.0            0.950491     2.113639\n",
      "10        5000.0            1.041130     2.350470\n",
      "11        6000.0            1.251492     2.808190\n",
      "12        7000.0            1.441623     3.284410\n",
      "13        8000.0            1.618063     3.774254\n",
      "14        9000.0            1.798855     4.251074\n",
      "15       10000.0            1.962201     4.700916\n"
     ]
    }
   ],
   "source": [
    "import time\n",
    "seed = [0,1,2,3,4]\n",
    "train_size = [100, 500,1000,1500, 2000, 2500, 3000, 3500, 4000, 4500, 5000, 6000, 7000, 8000, 9000,10000]\n",
    "n = len(train_size)\n",
    "dgm20_timing = np.zeros((n,3))\n",
    "for i in range(0,n):\n",
    "    for j in seed:\n",
    "        dgms_train = dgms_20[0:train_size[i]]\n",
    "        xdgm0_train = np.array(dgms_train)\n",
    "        dgm20_timing[i,0] += len(xdgm0_train)\n",
    "\n",
    "        start = time.time()\n",
    "        output = F_Image(xdgm0_train, PS=2, var=1, plot=False, training=True, parallel=True)\n",
    "        end = time.time()-start\n",
    "        dgm20_timing[i,1] +=end\n",
    "\n",
    "        start = time.time()\n",
    "        output = F_Image(xdgm0_train, PS=2, var=1, plot=False, training=True)\n",
    "        end = time.time()-start\n",
    "        dgm20_timing[i,2] +=end\n",
    "\n",
    "    print(\"Finished Training \", i)\n",
    "dgm20_timing_ps2 = pd.DataFrame(dgm20_timing/5)\n",
    "dgm20_timing_ps2.columns=['Observations', 'Parallel (8 cores)', 'Single Core']\n",
    "print(dgm20_timing_ps2)"
   ]
  },
  {
   "cell_type": "code",
   "execution_count": 35,
   "metadata": {},
   "outputs": [
    {
     "data": {
      "text/plain": [
       "Text(0.5, 1.0, 'Simulated Data - 20 dgms per observation, Pixel Size 2')"
      ]
     },
     "execution_count": 35,
     "metadata": {},
     "output_type": "execute_result"
    },
    {
     "data": {
      "image/png": "[encoded data removed]",
      "text/plain": [
       "<Figure size 432x288 with 1 Axes>"
      ]
     },
     "metadata": {
      "needs_background": "light"
     },
     "output_type": "display_data"
    }
   ],
   "source": [
    "t = dgm20_timing_ps2.plot(x='Observations')\n",
    "t.set_xlabel(\"Sample Size\")\n",
    "t.set_ylabel(\"Time in Seconds\")\n",
    "t.set_ylim(0,5)\n",
    "t.set_title(\"Simulated Data - 20 dgms per observation, Pixel Size 2\")"
   ]
  },
  {
   "cell_type": "code",
   "execution_count": 36,
   "metadata": {},
   "outputs": [
    {
     "name": "stdout",
     "output_type": "stream",
     "text": [
      "Finished Training  0\n",
      "Finished Training  1\n",
      "Finished Training  2\n",
      "Finished Training  3\n",
      "Finished Training  4\n",
      "Finished Training  5\n",
      "Finished Training  6\n",
      "Finished Training  7\n",
      "Finished Training  8\n",
      "Finished Training  9\n",
      "Finished Training  10\n",
      "Finished Training  11\n",
      "Finished Training  12\n",
      "Finished Training  13\n",
      "Finished Training  14\n",
      "Finished Training  15\n",
      "    Observations  Parallel (8 cores)  Single Core\n",
      "0          100.0            0.054681     0.060950\n",
      "1          500.0            0.161507     0.305103\n",
      "2         1000.0            0.315497     0.603606\n",
      "3         1500.0            0.455506     0.908962\n",
      "4         2000.0            0.618452     1.238043\n",
      "5         2500.0            0.683109     1.507218\n",
      "6         3000.0            0.795744     1.790574\n",
      "7         3500.0            0.895150     2.069274\n",
      "8         4000.0            1.015890     2.361334\n",
      "9         4500.0            1.132752     2.657492\n",
      "10        5000.0            1.265614     2.955752\n",
      "11        6000.0            1.503771     3.544993\n",
      "12        7000.0            1.804489     4.149977\n",
      "13        8000.0            1.959623     4.755235\n",
      "14        9000.0            2.195575     5.340664\n",
      "15       10000.0            2.453856     5.933616\n"
     ]
    }
   ],
   "source": [
    "import time\n",
    "seed = [0,1,2,3,4]\n",
    "train_size = [100, 500,1000,1500, 2000, 2500, 3000, 3500, 4000, 4500, 5000, 6000, 7000, 8000, 9000,10000]\n",
    "n = len(train_size)\n",
    "dgm20_timing = np.zeros((n,3))\n",
    "for i in range(0,n):\n",
    "    for j in seed:\n",
    "        dgms_train = dgms_20[0:train_size[i]]\n",
    "        xdgm0_train = np.array(dgms_train)\n",
    "        dgm20_timing[i,0] += len(xdgm0_train)\n",
    "\n",
    "        start = time.time()\n",
    "        output = F_Image(xdgm0_train, PS=.5, var=1, plot=False, training=True, parallel=True)\n",
    "        end = time.time()-start\n",
    "        dgm20_timing[i,1] +=end\n",
    "\n",
    "        start = time.time()\n",
    "        output = F_Image(xdgm0_train, PS=.5, var=1, plot=False, training=True)\n",
    "        end = time.time()-start\n",
    "        dgm20_timing[i,2] +=end\n",
    "\n",
    "    print(\"Finished Training \", i)\n",
    "dgm20_timing_ps05 = pd.DataFrame(dgm20_timing/5)\n",
    "dgm20_timing_ps05.columns=['Observations', 'Parallel (8 cores)', 'Single Core']\n",
    "print(dgm20_timing_ps05)"
   ]
  },
  {
   "cell_type": "code",
   "execution_count": 37,
   "metadata": {},
   "outputs": [
    {
     "data": {
      "text/plain": [
       "Text(0.5, 1.0, 'Simulated Data - 20 dgms per observation, Pixel Size .5')"
      ]
     },
     "execution_count": 37,
     "metadata": {},
     "output_type": "execute_result"
    },
    {
     "data": {
      "image/png": "[encoded data removed]",
      "text/plain": [
       "<Figure size 432x288 with 1 Axes>"
      ]
     },
     "metadata": {
      "needs_background": "light"
     },
     "output_type": "display_data"
    }
   ],
   "source": [
    "t = dgm20_timing_ps05.plot(x='Observations')\n",
    "t.set_xlabel(\"Sample Size\")\n",
    "t.set_ylabel(\"Time in Seconds\")\n",
    "t.set_ylim(0,5)\n",
    "t.set_title(\"Simulated Data - 20 dgms per observation, Pixel Size .5\")"
   ]
  },
  {
   "cell_type": "code",
   "execution_count": 38,
   "metadata": {},
   "outputs": [
    {
     "name": "stdout",
     "output_type": "stream",
     "text": [
      "Finished Training  0\n",
      "Finished Training  1\n",
      "Finished Training  2\n",
      "Finished Training  3\n",
      "Finished Training  4\n",
      "Finished Training  5\n",
      "Finished Training  6\n",
      "Finished Training  7\n",
      "Finished Training  8\n",
      "Finished Training  9\n",
      "Finished Training  10\n",
      "Finished Training  11\n",
      "Finished Training  12\n",
      "Finished Training  13\n",
      "Finished Training  14\n",
      "Finished Training  15\n",
      "    Observations  Parallel (8 cores)  Single Core\n",
      "0          100.0            0.143981     0.309163\n",
      "1          500.0            0.564390     1.579294\n",
      "2         1000.0            1.148992     3.123514\n",
      "3         1500.0            1.862866     4.748414\n",
      "4         2000.0            2.448496     6.211382\n",
      "5         2500.0            3.043907     7.787179\n",
      "6         3000.0            3.504918     9.359286\n",
      "7         3500.0            4.234642    10.940397\n",
      "8         4000.0            5.059450    12.772380\n",
      "9         4500.0            5.825833    14.320246\n",
      "10        5000.0            6.380402    15.966117\n",
      "11        6000.0            7.732007    19.303916\n",
      "12        7000.0            9.050332    22.528895\n",
      "13        8000.0           10.278033    25.596250\n",
      "14        9000.0           11.338115    28.783421\n",
      "15       10000.0           12.980816    32.209436\n"
     ]
    }
   ],
   "source": [
    "import time\n",
    "seed = [0,1,2,3,4]\n",
    "train_size = [100, 500,1000,1500, 2000, 2500, 3000, 3500, 4000, 4500, 5000, 6000, 7000, 8000, 9000,10000]\n",
    "n = len(train_size)\n",
    "dgm20_timing = np.zeros((n,3))\n",
    "for i in range(0,n):\n",
    "    for j in seed:\n",
    "        dgms_train = dgms_20[0:train_size[i]]\n",
    "        xdgm0_train = np.array(dgms_train)\n",
    "        dgm20_timing[i,0] += len(xdgm0_train)\n",
    "\n",
    "        start = time.time()\n",
    "        output = F_Image(xdgm0_train, PS=.1, var=1, plot=False, training=True, parallel=True)\n",
    "        end = time.time()-start\n",
    "        dgm20_timing[i,1] +=end\n",
    "\n",
    "        start = time.time()\n",
    "        output = F_Image(xdgm0_train, PS=.1, var=1, plot=False, training=True)\n",
    "        end = time.time()-start\n",
    "        dgm20_timing[i,2] +=end\n",
    "\n",
    "    print(\"Finished Training \", i)\n",
    "dgm20_timing_ps01 = pd.DataFrame(dgm20_timing/5)\n",
    "dgm20_timing_ps01.columns=['Observations', 'Parallel (8 cores)', 'Single Core']\n",
    "print(dgm20_timing_ps01)"
   ]
  },
  {
   "cell_type": "code",
   "execution_count": 39,
   "metadata": {},
   "outputs": [
    {
     "data": {
      "text/plain": [
       "Text(0.5, 1.0, 'Simulated Data - 20 dgms per observation, Pixel Size .1')"
      ]
     },
     "execution_count": 39,
     "metadata": {},
     "output_type": "execute_result"
    },
    {
     "data": {
      "image/png": "[encoded data removed]",
      "text/plain": [
       "<Figure size 432x288 with 1 Axes>"
      ]
     },
     "metadata": {
      "needs_background": "light"
     },
     "output_type": "display_data"
    }
   ],
   "source": [
    "t = dgm20_timing_ps01.plot(x='Observations')\n",
    "t.set_xlabel(\"Sample Size\")\n",
    "t.set_ylabel(\"Time in Seconds\")\n",
    "t.set_ylim(0,85)\n",
    "t.set_title(\"Simulated Data - 20 dgms per observation, Pixel Size .1\")"
   ]
  },
  {
   "cell_type": "markdown",
   "metadata": {},
   "source": [
    "Timing for 80 Diagrams"
   ]
  },
  {
   "cell_type": "code",
   "execution_count": 7,
   "metadata": {},
   "outputs": [
    {
     "name": "stdout",
     "output_type": "stream",
     "text": [
      "Finished Training  0\n",
      "Finished Training  1\n",
      "Finished Training  2\n",
      "Finished Training  3\n",
      "Finished Training  4\n",
      "Finished Training  5\n",
      "Finished Training  6\n",
      "Finished Training  7\n",
      "Finished Training  8\n",
      "Finished Training  9\n",
      "Finished Training  10\n",
      "    Observations  Parallel (8 cores)  Single Core\n",
      "0          100.0            0.112594     0.210126\n",
      "1          500.0            0.377099     1.021074\n",
      "2         1000.0            0.698676     2.070235\n",
      "3         1500.0            1.009526     3.093656\n",
      "4         2000.0            1.358813     4.172608\n",
      "5         2500.0            1.611560     5.134289\n",
      "6         3000.0            1.954703     6.153973\n",
      "7         3500.0            2.201763     7.180611\n",
      "8         4000.0            2.514293     8.181579\n",
      "9         4500.0            2.843360     9.207341\n",
      "10        5000.0            3.122915    10.238581\n"
     ]
    }
   ],
   "source": [
    "import time\n",
    "seed = [0,1,2,3,4]\n",
    "train_size = [100, 500,1000,1500, 2000, 2500, 3000, 3500, 4000, 4500, 5000]\n",
    "n = len(train_size)\n",
    "dgm80_timing = np.zeros((n,3))\n",
    "for i in range(0,n):\n",
    "    for j in seed:\n",
    "        dgms_train = dgms_80[0:train_size[i]]\n",
    "        xdgm0_train = np.array(dgms_train)\n",
    "        dgm80_timing[i,0] += len(xdgm0_train)\n",
    "\n",
    "        start = time.time()\n",
    "        output = F_Image(xdgm0_train, PS=1, var=1, plot=False, training=True, parallel=True)\n",
    "        end = time.time()-start\n",
    "        dgm80_timing[i,1] +=end\n",
    "\n",
    "        start = time.time()\n",
    "        output = F_Image(xdgm0_train, PS=1, var=1, plot=False, training=True)\n",
    "        end = time.time()-start\n",
    "        dgm80_timing[i,2] +=end\n",
    "\n",
    "    print(\"Finished Training \", i)\n",
    "dgm80_timing_ps1 = pd.DataFrame(dgm80_timing/5)\n",
    "dgm80_timing_ps1.columns=['Observations', 'Parallel (8 cores)', 'Single Core']\n",
    "print(dgm80_timing_ps1)"
   ]
  },
  {
   "cell_type": "code",
   "execution_count": 8,
   "metadata": {},
   "outputs": [
    {
     "data": {
      "text/plain": [
       "Text(0.5, 1.0, 'Persistence Images Timing - Pixel Size 1')"
      ]
     },
     "execution_count": 8,
     "metadata": {},
     "output_type": "execute_result"
    },
    {
     "data": {
      "image/png": "[encoded data removed]",
      "text/plain": [
       "<Figure size 432x288 with 1 Axes>"
      ]
     },
     "metadata": {
      "needs_background": "light"
     },
     "output_type": "display_data"
    }
   ],
   "source": [
    "t = dgm80_timing_ps1.plot(x='Observations')\n",
    "t.set_xlabel(\"Sample Size\")\n",
    "t.set_ylabel(\"Time in Seconds\")\n",
    "t.set_title(\"Persistence Images Timing - Pixel Size 1\")"
   ]
  },
  {
   "cell_type": "code",
   "execution_count": 9,
   "metadata": {},
   "outputs": [
    {
     "name": "stdout",
     "output_type": "stream",
     "text": [
      "Finished Training  0\n",
      "Finished Training  1\n",
      "Finished Training  2\n",
      "Finished Training  3\n",
      "Finished Training  4\n",
      "Finished Training  5\n",
      "Finished Training  6\n",
      "Finished Training  7\n",
      "Finished Training  8\n",
      "Finished Training  9\n",
      "Finished Training  10\n",
      "    Observations  Parallel (8 cores)  Single Core\n",
      "0          100.0            0.612043     1.182218\n",
      "1          500.0            1.578745     6.010823\n",
      "2         1000.0            2.963747    12.107308\n",
      "3         1500.0            4.237635    18.002342\n",
      "4         2000.0            5.747854    23.969964\n",
      "5         2500.0            7.551622    30.212011\n",
      "6         3000.0            9.075232    36.253158\n",
      "7         3500.0            9.748666    41.611449\n",
      "8         4000.0           11.212476    47.577610\n",
      "9         4500.0           12.583600    53.616633\n",
      "10        5000.0           14.013740    59.585717\n"
     ]
    }
   ],
   "source": [
    "import time\n",
    "seed = [0,1,2,3,4]\n",
    "train_size = [100, 500,1000,1500, 2000, 2500, 3000, 3500, 4000, 4500, 5000]\n",
    "n = len(train_size)\n",
    "dgm80_timing = np.zeros((n,3))\n",
    "for i in range(0,n):\n",
    "    for j in seed:\n",
    "        dgms_train = dgms_80[0:train_size[i]]\n",
    "        xdgm0_train = np.array(dgms_train)\n",
    "        dgm80_timing[i,0] += len(xdgm0_train)\n",
    "\n",
    "        start = time.time()\n",
    "        output = F_Image(xdgm0_train, PS=.1, var=1, plot=False, training=True, parallel=True)\n",
    "        end = time.time()-start\n",
    "        dgm80_timing[i,1] +=end\n",
    "\n",
    "        start = time.time()\n",
    "        output = F_Image(xdgm0_train, PS=.1, var=1, plot=False, training=True)\n",
    "        end = time.time()-start\n",
    "        dgm80_timing[i,2] +=end\n",
    "\n",
    "    print(\"Finished Training \", i)\n",
    "dgm80_timing_ps1 = pd.DataFrame(dgm80_timing/5)\n",
    "dgm80_timing_ps1.columns=['Observations', 'Parallel (8 cores)', 'Single Core']\n",
    "print(dgm80_timing_ps1)"
   ]
  },
  {
   "cell_type": "code",
   "execution_count": 10,
   "metadata": {},
   "outputs": [
    {
     "data": {
      "text/plain": [
       "Text(0.5, 1.0, 'Persistence Images Timing - Pixel Size .1')"
      ]
     },
     "execution_count": 10,
     "metadata": {},
     "output_type": "execute_result"
    },
    {
     "data": {
      "image/png": "[encoded data removed]",
      "text/plain": [
       "<Figure size 432x288 with 1 Axes>"
      ]
     },
     "metadata": {
      "needs_background": "light"
     },
     "output_type": "display_data"
    }
   ],
   "source": [
    "t = dgm80_timing_ps1.plot(x='Observations')\n",
    "t.set_xlabel(\"Sample Size\")\n",
    "t.set_ylabel(\"Time in Seconds\")\n",
    "t.set_title(\"Persistence Images Timing - Pixel Size .1\")"
   ]
  },
  {
   "cell_type": "code",
   "execution_count": 42,
   "metadata": {},
   "outputs": [
    {
     "name": "stdout",
     "output_type": "stream",
     "text": [
      "Finished Training  0\n",
      "Finished Training  1\n",
      "Finished Training  2\n",
      "Finished Training  3\n",
      "Finished Training  4\n",
      "Finished Training  5\n",
      "Finished Training  6\n",
      "Finished Training  7\n",
      "Finished Training  8\n",
      "Finished Training  9\n",
      "Finished Training  10\n",
      "Finished Training  11\n",
      "Finished Training  12\n",
      "Finished Training  13\n",
      "Finished Training  14\n",
      "Finished Training  15\n",
      "    Observations  Parallel (8 cores)  Single Core\n",
      "0          100.0            0.110090     0.180841\n",
      "1          500.0            0.408390     0.899892\n",
      "2         1000.0            0.759594     1.792157\n",
      "3         1500.0            1.092700     2.675116\n",
      "4         2000.0            1.413747     3.579848\n",
      "5         2500.0            1.758463     4.465159\n",
      "6         3000.0            2.101189     5.343076\n",
      "7         3500.0            2.411381     6.234753\n",
      "8         4000.0            2.792606     7.145565\n",
      "9         4500.0            3.129435     8.006292\n",
      "10        5000.0            3.486793     8.905084\n",
      "11        6000.0            4.157260    10.714618\n",
      "12        7000.0            4.846051    12.465681\n",
      "13        8000.0            5.596682    14.248623\n",
      "14        9000.0            6.210765    16.039312\n",
      "15       10000.0            6.922541    17.813404\n"
     ]
    }
   ],
   "source": [
    "import time\n",
    "seed = [0,1,2,3,4]\n",
    "train_size = [100, 500,1000,1500, 2000, 2500, 3000, 3500, 4000, 4500, 5000, 6000, 7000, 8000, 9000,10000]\n",
    "n = len(train_size)\n",
    "dgm80_timing = np.zeros((n,3))\n",
    "for i in range(0,n):\n",
    "    for j in seed:\n",
    "        dgms_train = dgms_80[0:train_size[i]]\n",
    "        xdgm0_train = np.array(dgms_train)\n",
    "        dgm80_timing[i,0] += len(xdgm0_train)\n",
    "\n",
    "        start = time.time()\n",
    "        output = F_Image(xdgm0_train, PS=2, var=1, plot=False, training=True, parallel=True)\n",
    "        end = time.time()-start\n",
    "        dgm80_timing[i,1] +=end\n",
    "\n",
    "        start = time.time()\n",
    "        output = F_Image(xdgm0_train, PS=2, var=1, plot=False, training=True)\n",
    "        end = time.time()-start\n",
    "        dgm80_timing[i,2] +=end\n",
    "\n",
    "    print(\"Finished Training \", i)\n",
    "dgm80_timing_ps2 = pd.DataFrame(dgm80_timing/5)\n",
    "dgm80_timing_ps2.columns=['Observations', 'Parallel (8 cores)', 'Single Core']\n",
    "print(dgm80_timing_ps2)"
   ]
  },
  {
   "cell_type": "code",
   "execution_count": 43,
   "metadata": {},
   "outputs": [
    {
     "data": {
      "text/plain": [
       "Text(0.5, 1.0, 'Simulated Data - 80 dgms per observation, Pixel Size 2')"
      ]
     },
     "execution_count": 43,
     "metadata": {},
     "output_type": "execute_result"
    },
    {
     "data": {
      "image/png": "[encoded data removed]",
      "text/plain": [
       "<Figure size 432x288 with 1 Axes>"
      ]
     },
     "metadata": {
      "needs_background": "light"
     },
     "output_type": "display_data"
    }
   ],
   "source": [
    "t = dgm80_timing_ps2.plot(x='Observations')\n",
    "t.set_xlabel(\"Sample Size\")\n",
    "t.set_ylabel(\"Time in Seconds\")\n",
    "t.set_ylim(0,15)\n",
    "t.set_title(\"Simulated Data - 80 dgms per observation, Pixel Size 2\")"
   ]
  },
  {
   "cell_type": "code",
   "execution_count": 44,
   "metadata": {},
   "outputs": [
    {
     "name": "stdout",
     "output_type": "stream",
     "text": [
      "Finished Training  0\n",
      "Finished Training  1\n",
      "Finished Training  2\n",
      "Finished Training  3\n",
      "Finished Training  4\n",
      "Finished Training  5\n",
      "Finished Training  6\n",
      "Finished Training  7\n",
      "Finished Training  8\n",
      "Finished Training  9\n",
      "Finished Training  10\n",
      "Finished Training  11\n",
      "Finished Training  12\n",
      "Finished Training  13\n",
      "Finished Training  14\n",
      "Finished Training  15\n",
      "    Observations  Parallel (8 cores)  Single Core\n",
      "0          100.0            0.116990     0.230123\n",
      "1          500.0            0.480263     1.161827\n",
      "2         1000.0            0.881123     2.306140\n",
      "3         1500.0            1.344703     3.424972\n",
      "4         2000.0            1.751760     4.565745\n",
      "5         2500.0            2.168999     5.729094\n",
      "6         3000.0            2.620894     6.916369\n",
      "7         3500.0            3.017471     8.019390\n",
      "8         4000.0            3.427559     9.119240\n",
      "9         4500.0            3.874880    10.320137\n",
      "10        5000.0            4.288157    11.551013\n",
      "11        6000.0            5.208615    13.686530\n",
      "12        7000.0            5.965402    15.988539\n",
      "13        8000.0            6.902549    18.295964\n",
      "14        9000.0            7.754439    20.491960\n",
      "15       10000.0            8.602415    22.796008\n"
     ]
    }
   ],
   "source": [
    "import time\n",
    "seed = [0,1,2,3,4]\n",
    "train_size = [100, 500,1000,1500, 2000, 2500, 3000, 3500, 4000, 4500, 5000, 6000, 7000, 8000, 9000,10000]\n",
    "n = len(train_size)\n",
    "dgm80_timing = np.zeros((n,3))\n",
    "for i in range(0,n):\n",
    "    for j in seed:\n",
    "        dgms_train = dgms_80[0:train_size[i]]\n",
    "        xdgm0_train = np.array(dgms_train)\n",
    "        dgm80_timing[i,0] += len(xdgm0_train)\n",
    "\n",
    "        start = time.time()\n",
    "        output = F_Image(xdgm0_train, PS=.5, var=1, plot=False, training=True, parallel=True)\n",
    "        end = time.time()-start\n",
    "        dgm80_timing[i,1] +=end\n",
    "\n",
    "        start = time.time()\n",
    "        output = F_Image(xdgm0_train, PS=.5, var=1, plot=False, training=True)\n",
    "        end = time.time()-start\n",
    "        dgm80_timing[i,2] +=end\n",
    "\n",
    "    print(\"Finished Training \", i)\n",
    "dgm80_timing_ps05 = pd.DataFrame(dgm80_timing/5)\n",
    "dgm80_timing_ps05.columns=['Observations', 'Parallel (8 cores)', 'Single Core']\n",
    "print(dgm80_timing_ps05)"
   ]
  },
  {
   "cell_type": "code",
   "execution_count": 45,
   "metadata": {},
   "outputs": [
    {
     "data": {
      "text/plain": [
       "Text(0.5, 1.0, 'Simulated Data - 80 dgms per observation, Pixel Size .5')"
      ]
     },
     "execution_count": 45,
     "metadata": {},
     "output_type": "execute_result"
    },
    {
     "data": {
      "image/png": "[encoded data removed]",
      "text/plain": [
       "<Figure size 432x288 with 1 Axes>"
      ]
     },
     "metadata": {
      "needs_background": "light"
     },
     "output_type": "display_data"
    }
   ],
   "source": [
    "t = dgm80_timing_ps05.plot(x='Observations')\n",
    "t.set_xlabel(\"Sample Size\")\n",
    "t.set_ylabel(\"Time in Seconds\")\n",
    "t.set_ylim(0,15)\n",
    "t.set_title(\"Simulated Data - 80 dgms per observation, Pixel Size .5\")"
   ]
  },
  {
   "cell_type": "code",
   "execution_count": 46,
   "metadata": {},
   "outputs": [
    {
     "name": "stdout",
     "output_type": "stream",
     "text": [
      "Finished Training  0\n",
      "Finished Training  1\n",
      "Finished Training  2\n",
      "Finished Training  3\n",
      "Finished Training  4\n",
      "Finished Training  5\n",
      "Finished Training  6\n",
      "Finished Training  7\n",
      "Finished Training  8\n",
      "Finished Training  9\n",
      "Finished Training  10\n",
      "Finished Training  11\n",
      "Finished Training  12\n",
      "Finished Training  13\n",
      "Finished Training  14\n",
      "Finished Training  15\n",
      "    Observations  Parallel (8 cores)  Single Core\n",
      "0          100.0            0.375060     1.200241\n",
      "1          500.0            1.644868     5.978273\n",
      "2         1000.0            3.197592    11.954106\n",
      "3         1500.0            4.796141    17.983676\n",
      "4         2000.0            6.401207    24.085245\n",
      "5         2500.0            7.861060    29.882426\n",
      "6         3000.0            9.429819    35.757951\n",
      "7         3500.0           11.058543    41.915863\n",
      "8         4000.0           12.625389    47.595167\n",
      "9         4500.0           14.398288    54.115559\n",
      "10        5000.0           16.325304    60.015755\n",
      "11        6000.0           19.658887    71.942894\n",
      "12        7000.0           23.051401    84.253377\n",
      "13        8000.0           28.399792    98.161396\n",
      "14        9000.0           30.190890   108.634070\n",
      "15       10000.0           33.061714   120.040573\n"
     ]
    }
   ],
   "source": [
    "import time\n",
    "seed = [0,1,2,3,4]\n",
    "train_size = [100, 500,1000,1500, 2000, 2500, 3000, 3500, 4000, 4500, 5000, 6000, 7000, 8000, 9000,10000]\n",
    "n = len(train_size)\n",
    "dgm80_timing = np.zeros((n,3))\n",
    "for i in range(0,n):\n",
    "    for j in seed:\n",
    "        dgms_train = dgms_80[0:train_size[i]]\n",
    "        xdgm0_train = np.array(dgms_train)\n",
    "        dgm80_timing[i,0] += len(xdgm0_train)\n",
    "\n",
    "        start = time.time()\n",
    "        output = F_Image(xdgm0_train, PS=.1, var=1, plot=False, training=True, parallel=True)\n",
    "        end = time.time()-start\n",
    "        dgm80_timing[i,1] +=end\n",
    "\n",
    "        start = time.time()\n",
    "        output = F_Image(xdgm0_train, PS=.1, var=1, plot=False, training=True)\n",
    "        end = time.time()-start\n",
    "        dgm80_timing[i,2] +=end\n",
    "\n",
    "    print(\"Finished Training \", i)\n",
    "dgm80_timing_ps01 = pd.DataFrame(dgm80_timing/5)\n",
    "dgm80_timing_ps01.columns=['Observations', 'Parallel (8 cores)', 'Single Core']\n",
    "print(dgm80_timing_ps01)"
   ]
  },
  {
   "cell_type": "code",
   "execution_count": 47,
   "metadata": {},
   "outputs": [
    {
     "data": {
      "text/plain": [
       "Text(0.5, 1.0, 'Simulated Data - 80 dgms per observation, Pixel Size .1')"
      ]
     },
     "execution_count": 47,
     "metadata": {},
     "output_type": "execute_result"
    },
    {
     "data": {
      "image/png": "[encoded data removed]",
      "text/plain": [
       "<Figure size 432x288 with 1 Axes>"
      ]
     },
     "metadata": {
      "needs_background": "light"
     },
     "output_type": "display_data"
    }
   ],
   "source": [
    "t = dgm80_timing_ps01.plot(x='Observations')\n",
    "t.set_xlabel(\"Sample Size\")\n",
    "t.set_ylabel(\"Time in Seconds\")\n",
    "t.set_ylim(0,85)\n",
    "t.set_title(\"Simulated Data - 80 dgms per observation, Pixel Size .1\")"
   ]
  },
  {
   "cell_type": "markdown",
   "metadata": {},
   "source": [
    "3 Diagrams Pixel Size 2"
   ]
  },
  {
   "cell_type": "code",
   "execution_count": 48,
   "metadata": {},
   "outputs": [
    {
     "name": "stdout",
     "output_type": "stream",
     "text": [
      "Finished Training  0\n",
      "Finished Training  1\n",
      "Finished Training  2\n",
      "Finished Training  3\n",
      "Finished Training  4\n",
      "Finished Training  5\n",
      "Finished Training  6\n",
      "Finished Training  7\n",
      "Finished Training  8\n",
      "Finished Training  9\n",
      "Finished Training  10\n",
      "Finished Training  11\n",
      "Finished Training  12\n",
      "Finished Training  13\n",
      "Finished Training  14\n",
      "Finished Training  15\n",
      "    Observations  Parallel (8 cores)  Single Core\n",
      "0          100.0            0.141649     0.177559\n",
      "1          500.0            0.396248     0.889747\n",
      "2         1000.0            0.742667     1.780756\n",
      "3         1500.0            1.078854     2.669408\n",
      "4         2000.0            1.402385     3.547935\n",
      "5         2500.0            1.742330     4.441966\n",
      "6         3000.0            2.140429     5.318609\n",
      "7         3500.0            2.414219     6.211850\n",
      "8         4000.0            2.767185     7.086386\n",
      "9         4500.0            3.211021     7.972592\n",
      "10        5000.0            3.483727     8.861928\n",
      "11        6000.0            4.130585    10.642519\n",
      "12        7000.0            4.858102    12.414053\n",
      "13        8000.0            5.591654    14.157827\n",
      "14        9000.0            6.193252    15.923925\n",
      "15       10000.0            6.939796    17.837663\n"
     ]
    }
   ],
   "source": [
    "import time\n",
    "seed = [0,1,2,3,4]\n",
    "train_size = [100, 500,1000,1500, 2000, 2500, 3000, 3500, 4000, 4500, 5000, 6000, 7000, 8000, 9000,10000]\n",
    "n = len(train_size)\n",
    "dgm80_timing = np.zeros((n,3))\n",
    "for i in range(0,n):\n",
    "    for j in seed:\n",
    "        dgms_train = dgms_80[0:train_size[i]]\n",
    "        xdgm0_train = np.array(dgms_train)\n",
    "        dgm80_timing[i,0] += len(xdgm0_train)\n",
    "\n",
    "        start = time.time()\n",
    "        output = F_Image(xdgm0_train, PS=2, var=1, plot=False, training=True, parallel=True)\n",
    "        end = time.time()-start\n",
    "        dgm80_timing[i,1] +=end\n",
    "\n",
    "        start = time.time()\n",
    "        output = F_Image(xdgm0_train, PS=2, var=1, plot=False, training=True)\n",
    "        end = time.time()-start\n",
    "        dgm80_timing[i,2] +=end\n",
    "\n",
    "    print(\"Finished Training \", i)\n",
    "dgm80_timing_ps2 = pd.DataFrame(dgm80_timing/5)\n",
    "dgm80_timing_ps2.columns=['Observations', 'Parallel (8 cores)', 'Single Core']\n",
    "print(dgm80_timing_ps2)"
   ]
  },
  {
   "cell_type": "code",
   "execution_count": 49,
   "metadata": {},
   "outputs": [
    {
     "data": {
      "text/plain": [
       "Text(0.5, 1.0, 'Simulated Data - Pixel Size 2')"
      ]
     },
     "execution_count": 49,
     "metadata": {},
     "output_type": "execute_result"
    },
    {
     "data": {
      "image/png": "[encoded data removed]",
      "text/plain": [
       "<Figure size 432x288 with 1 Axes>"
      ]
     },
     "metadata": {
      "needs_background": "light"
     },
     "output_type": "display_data"
    }
   ],
   "source": [
    "t = dgm80_timing_ps2.plot(x='Observations')\n",
    "t.set_xlabel(\"Sample Size\")\n",
    "t.set_ylabel(\"Time in Seconds\")\n",
    "t.set_title(\"Simulated Data - Pixel Size 2\")"
   ]
  },
  {
   "cell_type": "markdown",
   "metadata": {},
   "source": [
    "Pixel size .5"
   ]
  },
  {
   "cell_type": "code",
   "execution_count": 50,
   "metadata": {},
   "outputs": [
    {
     "name": "stdout",
     "output_type": "stream",
     "text": [
      "Finished Training  0\n",
      "Finished Training  1\n",
      "Finished Training  2\n",
      "Finished Training  3\n",
      "Finished Training  4\n",
      "Finished Training  5\n",
      "Finished Training  6\n",
      "Finished Training  7\n",
      "Finished Training  8\n",
      "Finished Training  9\n",
      "Finished Training  10\n",
      "Finished Training  11\n",
      "Finished Training  12\n",
      "Finished Training  13\n",
      "Finished Training  14\n",
      "Finished Training  15\n",
      "    Observations  Parallel (8 cores)  Single Core\n",
      "0          100.0            0.130016     0.229054\n",
      "1          500.0            0.460344     1.153839\n",
      "2         1000.0            0.873162     2.282845\n",
      "3         1500.0            1.310253     3.420373\n",
      "4         2000.0            1.703538     4.546084\n",
      "5         2500.0            2.098863     5.726672\n",
      "6         3000.0            2.573656     6.829700\n",
      "7         3500.0            2.994556     7.945909\n",
      "8         4000.0            3.442099     9.136493\n",
      "9         4500.0            3.895835    10.228693\n",
      "10        5000.0            4.285362    11.383375\n",
      "11        6000.0            5.165020    13.701473\n",
      "12        7000.0            5.946347    15.959747\n",
      "13        8000.0            6.820537    18.175510\n",
      "14        9000.0            7.692255    20.415314\n",
      "15       10000.0            8.525427    22.733575\n"
     ]
    }
   ],
   "source": [
    "import time\n",
    "seed = [0,1,2,3,4]\n",
    "train_size = [100, 500,1000,1500, 2000, 2500, 3000, 3500, 4000, 4500, 5000, 6000, 7000, 8000, 9000,10000]\n",
    "n = len(train_size)\n",
    "dgm80_timing = np.zeros((n,3))\n",
    "for i in range(0,n):\n",
    "    for j in seed:\n",
    "        dgms_train = dgms_80[0:train_size[i]]\n",
    "        xdgm0_train = np.array(dgms_train)\n",
    "        dgm80_timing[i,0] += len(xdgm0_train)\n",
    "\n",
    "        start = time.time()\n",
    "        output = F_Image(xdgm0_train, PS=.5, var=1, plot=False, training=True, parallel=True)\n",
    "        end = time.time()-start\n",
    "        dgm80_timing[i,1] +=end\n",
    "\n",
    "        start = time.time()\n",
    "        output = F_Image(xdgm0_train, PS=.5, var=1, plot=False, training=True)\n",
    "        end = time.time()-start\n",
    "        dgm80_timing[i,2] +=end\n",
    "\n",
    "    print(\"Finished Training \", i)\n",
    "dgm80_timing_ps05 = pd.DataFrame(dgm80_timing/5)\n",
    "dgm80_timing_ps05.columns=['Observations', 'Parallel (8 cores)', 'Single Core']\n",
    "print(dgm80_timing_ps05)"
   ]
  },
  {
   "cell_type": "code",
   "execution_count": 51,
   "metadata": {},
   "outputs": [
    {
     "data": {
      "text/plain": [
       "Text(0.5, 1.0, 'Simulated Data - Pixel Size .5')"
      ]
     },
     "execution_count": 51,
     "metadata": {},
     "output_type": "execute_result"
    },
    {
     "data": {
      "image/png": "[encoded data removed]",
      "text/plain": [
       "<Figure size 432x288 with 1 Axes>"
      ]
     },
     "metadata": {
      "needs_background": "light"
     },
     "output_type": "display_data"
    }
   ],
   "source": [
    "t = dgm80_timing_ps05.plot(x='Observations')\n",
    "t.set_xlabel(\"Sample Size\")\n",
    "t.set_ylabel(\"Time in Seconds\")\n",
    "t.set_title(\"Simulated Data - Pixel Size .5\")"
   ]
  },
  {
   "cell_type": "markdown",
   "metadata": {},
   "source": [
    "Pixel Size .1"
   ]
  },
  {
   "cell_type": "code",
   "execution_count": 52,
   "metadata": {},
   "outputs": [
    {
     "name": "stdout",
     "output_type": "stream",
     "text": [
      "Finished Training  0\n",
      "Finished Training  1\n",
      "Finished Training  2\n",
      "Finished Training  3\n",
      "Finished Training  4\n",
      "Finished Training  5\n",
      "Finished Training  6\n",
      "Finished Training  7\n"
     ]
    }
   ],
   "source": [
    "import time\n",
    "seed = [0,1,2,3,4]\n",
    "train_size = [100, 500,1000,1500, 2000, 2500, 3000, 3500, 4000, 4500, 5000, 6000, 7000, 8000, 9000,10000]\n",
    "n = len(train_size)\n",
    "dgm80_timing = np.zeros((n,3))\n",
    "for i in range(0,n):\n",
    "    for j in seed:\n",
    "        dgms_train = dgms_80[0:train_size[i]]\n",
    "        xdgm0_train = np.array(dgms_train)\n",
    "        dgm80_timing[i,0] += len(xdgm0_train)\n",
    "\n",
    "        start = time.time()\n",
    "        output = F_Image(xdgm0_train, PS=.1, var=1, plot=False, training=True, parallel=True)\n",
    "        end = time.time()-start\n",
    "        dgm80_timing[i,1] +=end\n",
    "\n",
    "        start = time.time()\n",
    "        output = F_Image(xdgm0_train, PS=.1, var=1, plot=False, training=True)\n",
    "        end = time.time()-start\n",
    "        dgm80_timing[i,2] +=end\n",
    "\n",
    "    print(\"Finished Training \", i)\n",
    "dgm80_timing_ps01 = pd.DataFrame(dgm80_timing/5)\n",
    "dgm80_timing_ps01.columns=['Observations', 'Parallel (8 cores)', 'Single Core']\n",
    "print(dgm80_timing_ps01)"
   ]
  },
  {
   "cell_type": "code",
   "execution_count": 1,
   "metadata": {},
   "outputs": [
    {
     "ename": "NameError",
     "evalue": "name 'dgm80_timing_ps01' is not defined",
     "output_type": "error",
     "traceback": [
      "\u001b[0;31m---------------------------------------------------------------------------\u001b[0m",
      "\u001b[0;31mNameError\u001b[0m                                 Traceback (most recent call last)",
      "\u001b[0;32m/var/folders/p6/pn26dbmx4jj67d6nh7m6557h0000gn/T/ipykernel_43696/891818964.py\u001b[0m in \u001b[0;36m<module>\u001b[0;34m\u001b[0m\n\u001b[0;32m----> 1\u001b[0;31m \u001b[0mt\u001b[0m \u001b[0;34m=\u001b[0m \u001b[0mdgm80_timing_ps01\u001b[0m\u001b[0;34m.\u001b[0m\u001b[0mplot\u001b[0m\u001b[0;34m(\u001b[0m\u001b[0mx\u001b[0m\u001b[0;34m=\u001b[0m\u001b[0;34m'Observations'\u001b[0m\u001b[0;34m)\u001b[0m\u001b[0;34m\u001b[0m\u001b[0;34m\u001b[0m\u001b[0m\n\u001b[0m\u001b[1;32m      2\u001b[0m \u001b[0mt\u001b[0m\u001b[0;34m.\u001b[0m\u001b[0mset_xlabel\u001b[0m\u001b[0;34m(\u001b[0m\u001b[0;34m\"Sample Size\"\u001b[0m\u001b[0;34m)\u001b[0m\u001b[0;34m\u001b[0m\u001b[0;34m\u001b[0m\u001b[0m\n\u001b[1;32m      3\u001b[0m \u001b[0mt\u001b[0m\u001b[0;34m.\u001b[0m\u001b[0mset_ylabel\u001b[0m\u001b[0;34m(\u001b[0m\u001b[0;34m\"Time in Seconds\"\u001b[0m\u001b[0;34m)\u001b[0m\u001b[0;34m\u001b[0m\u001b[0;34m\u001b[0m\u001b[0m\n\u001b[1;32m      4\u001b[0m \u001b[0mt\u001b[0m\u001b[0;34m.\u001b[0m\u001b[0mset_title\u001b[0m\u001b[0;34m(\u001b[0m\u001b[0;34m\"Simulated Data - Pixel Size .1\"\u001b[0m\u001b[0;34m)\u001b[0m\u001b[0;34m\u001b[0m\u001b[0;34m\u001b[0m\u001b[0m\n",
      "\u001b[0;31mNameError\u001b[0m: name 'dgm80_timing_ps01' is not defined"
     ]
    }
   ],
   "source": [
    "t = dgm80_timing_ps01.plot(x='Observations')\n",
    "t.set_xlabel(\"Sample Size\")\n",
    "t.set_ylabel(\"Time in Seconds\")\n",
    "t.set_title(\"Simulated Data - Pixel Size .1\")"
   ]
  },
  {
   "cell_type": "markdown",
   "metadata": {},
   "source": [
    "### Code for potential vectorized functions"
   ]
  },
  {
   "cell_type": "code",
   "execution_count": null,
   "metadata": {},
   "outputs": [],
   "source": [
    "def reshape_persistence_diagrams(dgm):\n",
    "    dgm_reshape = np.array([])\n",
    "    num_dgms = len(dgm)\n",
    "    for i in range(0,num_dgms):\n",
    "        t = np.repeat(i, len(dgm[i]))\n",
    "        t = t.reshape(len(dgm[i]),1)\n",
    "        t1 = np.concatenate((t,dgm[i]),1)\n",
    "        if i == 0:\n",
    "            dgm_reshape = t1\n",
    "        else:\n",
    "            dgm_reshape = np.append(dgm_reshape, t1, 0)\n",
    "    dummy = np.zeros((num_dgms))\n",
    "    return dgm_reshape, num_dgms, dummy"
   ]
  },
  {
   "cell_type": "code",
   "execution_count": null,
   "metadata": {},
   "outputs": [],
   "source": [
    "from numba import jit\n",
    "@jit(nopython=True, parallel=True)\n",
    "def pers_reshape_par(dgms):\n",
    "    n = dgms[1].shape[0]\n",
    "    m = dgms[1].shape[1]\n",
    "    r = len(dgms)\n",
    "    result = np.zeros((r, n*m))\n",
    "    for i in range(0,r):\n",
    "        for j in range(0,n):\n",
    "            for k in range(0,m):\n",
    "                result[i, k+m*j] = dgms[i][j][k]\n",
    "    return result "
   ]
  },
  {
   "cell_type": "code",
   "execution_count": null,
   "metadata": {},
   "outputs": [],
   "source": [
    "from numba import jit\n",
    "@jit(nopython=True)\n",
    "def pers_reshape(dgms):\n",
    "    n = dgms[1].shape[0]\n",
    "    m = dgms[1].shape[1]\n",
    "    r = len(dgms)\n",
    "    result = np.zeros((r, n*m))\n",
    "    for i in range(0,r):\n",
    "        for j in range(0,n):\n",
    "            for k in range(0,m):\n",
    "                result[i, k+m*j] = dgms[i][j][k]\n",
    "    return result "
   ]
  },
  {
   "cell_type": "code",
   "execution_count": null,
   "metadata": {},
   "outputs": [],
   "source": [
    "from numba import vectorize\n",
    "@vectorize\n",
    "def pers_reshape_vec(dgms):\n",
    "    n = dgms[1].shape[0]\n",
    "    m = dgms[1].shape[1]\n",
    "    r = len(dgms)\n",
    "    result = np.zeros((r, n*m))\n",
    "    for i in range(0,r):\n",
    "        for j in range(0,n):\n",
    "            for k in range(0,m):\n",
    "                result[i, k+m*j] = dgms[i][j][k] "
   ]
  },
  {
   "cell_type": "code",
   "execution_count": null,
   "metadata": {},
   "outputs": [],
   "source": [
    "\n",
    "def pers_reshape(dgms):\n",
    "    n = dgms[1].shape[0]\n",
    "    m = dgms[1].shape[1]\n",
    "    r = len(dgms)\n",
    "    return np.reshape(dgms, (r, n+m))"
   ]
  },
  {
   "cell_type": "code",
   "execution_count": null,
   "metadata": {},
   "outputs": [
    {
     "name": "stdout",
     "output_type": "stream",
     "text": [
      "Seed is:  0\n",
      "Done with sampling\n",
      "Done with parallel\n",
      "Done with serial\n",
      "Done with original\n",
      "Seed is:  1\n",
      "Done with sampling\n",
      "Done with parallel\n",
      "Done with serial\n",
      "Done with original\n",
      "Seed is:  2\n",
      "Done with sampling\n",
      "Done with parallel\n",
      "Done with serial\n",
      "Done with original\n",
      "Seed is:  3\n",
      "Done with sampling\n",
      "Done with parallel\n",
      "Done with serial\n",
      "Done with original\n",
      "Seed is:  4\n",
      "Done with sampling\n",
      "Done with parallel\n",
      "Done with serial\n",
      "Done with original\n",
      "Finished Training  0\n",
      "Seed is:  0\n",
      "Done with sampling\n",
      "Done with parallel\n",
      "Done with serial\n",
      "Done with original\n",
      "Seed is:  1\n",
      "Done with sampling\n",
      "Done with parallel\n",
      "Done with serial\n",
      "Done with original\n",
      "Seed is:  2\n",
      "Done with sampling\n",
      "Done with parallel\n",
      "Done with serial\n",
      "Done with original\n",
      "Seed is:  3\n",
      "Done with sampling\n",
      "Done with parallel\n",
      "Done with serial\n",
      "Done with original\n",
      "Seed is:  4\n",
      "Done with sampling\n",
      "Done with parallel\n",
      "Done with serial\n",
      "Done with original\n",
      "Finished Training  1\n",
      "Seed is:  0\n",
      "Done with sampling\n",
      "Done with parallel\n",
      "Done with serial\n",
      "Done with original\n",
      "Seed is:  1\n",
      "Done with sampling\n",
      "Done with parallel\n",
      "Done with serial\n",
      "Done with original\n",
      "Seed is:  2\n",
      "Done with sampling\n",
      "Done with parallel\n",
      "Done with serial\n",
      "Done with original\n",
      "Seed is:  3\n",
      "Done with sampling\n",
      "Done with parallel\n",
      "Done with serial\n",
      "Done with original\n",
      "Seed is:  4\n",
      "Done with sampling\n",
      "Done with parallel\n",
      "Done with serial\n",
      "Done with original\n",
      "Finished Training  2\n",
      "Seed is:  0\n",
      "Done with sampling\n",
      "Done with parallel\n",
      "Done with serial\n",
      "Done with original\n",
      "Seed is:  1\n",
      "Done with sampling\n",
      "Done with parallel\n",
      "Done with serial\n",
      "Done with original\n",
      "Seed is:  2\n",
      "Done with sampling\n",
      "Done with parallel\n",
      "Done with serial\n",
      "Done with original\n",
      "Seed is:  3\n",
      "Done with sampling\n",
      "Done with parallel\n",
      "Done with serial\n",
      "Done with original\n",
      "Seed is:  4\n",
      "Done with sampling\n",
      "Done with parallel\n",
      "Done with serial\n",
      "Done with original\n",
      "Finished Training  3\n",
      "Seed is:  0\n",
      "Done with sampling\n",
      "Done with parallel\n",
      "Done with serial\n",
      "Done with original\n",
      "Seed is:  1\n",
      "Done with sampling\n",
      "Done with parallel\n",
      "Done with serial\n",
      "Done with original\n",
      "Seed is:  2\n",
      "Done with sampling\n",
      "Done with parallel\n",
      "Done with serial\n",
      "Done with original\n",
      "Seed is:  3\n",
      "Done with sampling\n",
      "Done with parallel\n",
      "Done with serial\n",
      "Done with original\n",
      "Seed is:  4\n",
      "Done with sampling\n",
      "Done with parallel\n",
      "Done with serial\n",
      "Done with original\n",
      "Finished Training  4\n",
      "   Observations  Parallel (8 cores)  Single Core  Prior Function\n",
      "0          25.0            0.042236     0.016993        0.014831\n",
      "1         100.0            0.198980     0.071190        0.071686\n",
      "2         200.0            0.374458     0.154962        0.129489\n",
      "3         300.0            0.510706     0.222916        0.207862\n",
      "4         500.0            0.808129     0.407326        0.322294\n"
     ]
    }
   ],
   "source": [
    "import time\n",
    "import multiprocessing\n",
    "cpu_count = multiprocessing.cpu_count()\n",
    "pers_imager = PersistenceImager()\n",
    "pers_imager.pixel_size = .1\n",
    "pers_imager.kernel_params = {'sigma': 1}\n",
    "seed = [0,1,2,3,4]\n",
    "train_size = [25, 100, 200, 300, 500]\n",
    "n = len(train_size)\n",
    "timing = np.zeros((n,4))\n",
    "for i in range(0,n):\n",
    "    for j in seed:\n",
    "        print(\"Seed is: \", j)\n",
    "        dgms_train, dgms_test = train_test_split_sklearn(mnist, 'labels', train_size = train_size[i], seed=j)\n",
    "        xdgm0_train = np.array(dgms_train['zero_dim_rtl'])\n",
    "        timing[i,0] += len(xdgm0_train)\n",
    "        print(\"Done with sampling\")\n",
    "\n",
    "        start = time.time()\n",
    "        output = F_Image_parallel(xdgm0_train, PS=.1, var=1, plot=False, training=True)\n",
    "        end = time.time()-start\n",
    "        timing[i,1] +=end\n",
    "        print(\"Done with parallel\")\n",
    "\n",
    "        start = time.time()\n",
    "        pers_imager.fit(xdgm0_train)\n",
    "        X_train_features = np.array(pers_imager.transform(xdgm0_train))\n",
    "        X_train_features = pers_reshape(X_train_features)\n",
    "        end = time.time()-start\n",
    "        timing[i,2] +=end\n",
    "        print(\"Done with serial\")\n",
    "\n",
    "        start = time.time()\n",
    "        output = F_Image(xdgm0_train, PS=.1, var=1, plot=False, training=True)\n",
    "        end = time.time()-start\n",
    "        timing[i,3] +=end\n",
    "        print(\"Done with original\")\n",
    "\n",
    "    print(\"Finished Training \", i)\n",
    "timing = pd.DataFrame(timing/5)\n",
    "timing.columns=['Observations', 'Parallel (8 cores)', 'Single Core', 'Prior Function']\n",
    "print(timing)"
   ]
  },
  {
   "cell_type": "code",
   "execution_count": null,
   "metadata": {},
   "outputs": [
    {
     "data": {
      "text/plain": [
       "Text(0, 0.5, 'Time in Seconds')"
      ]
     },
     "execution_count": 1423,
     "metadata": {},
     "output_type": "execute_result"
    },
    {
     "data": {
      "image/png": "[encoded data removed]",
      "text/plain": [
       "<Figure size 640x480 with 1 Axes>"
      ]
     },
     "metadata": {},
     "output_type": "display_data"
    }
   ],
   "source": [
    "t = timing.plot(x='Observations')\n",
    "t.set_xlabel(\"Sample Size\")\n",
    "t.set_ylabel(\"Time in Seconds\")"
   ]
  },
  {
   "cell_type": "code",
   "execution_count": null,
   "metadata": {},
   "outputs": [
    {
     "name": "stdout",
     "output_type": "stream",
     "text": [
      "Seed is:  0\n",
      "Done with sampling\n",
      "Done with parallel (original)\n",
      "Done with serial\n",
      "Done with original\n",
      "Done with parallel\n",
      "Seed is:  1\n",
      "Done with sampling\n",
      "Done with parallel (original)\n",
      "Done with serial\n",
      "Done with original\n",
      "Done with parallel\n",
      "Seed is:  2\n",
      "Done with sampling\n",
      "Done with parallel (original)\n",
      "Done with serial\n",
      "Done with original\n",
      "Done with parallel\n",
      "Seed is:  3\n",
      "Done with sampling\n",
      "Done with parallel (original)\n",
      "Done with serial\n",
      "Done with original\n",
      "Done with parallel\n",
      "Seed is:  4\n",
      "Done with sampling\n",
      "Done with parallel (original)\n",
      "Done with serial\n",
      "Done with original\n",
      "Done with parallel\n",
      "Finished Training  0\n",
      "Seed is:  0\n",
      "Done with sampling\n",
      "Done with parallel (original)\n",
      "Done with serial\n",
      "Done with original\n",
      "Done with parallel\n",
      "Seed is:  1\n",
      "Done with sampling\n",
      "Done with parallel (original)\n",
      "Done with serial\n",
      "Done with original\n",
      "Done with parallel\n",
      "Seed is:  2\n",
      "Done with sampling\n",
      "Done with parallel (original)\n",
      "Done with serial\n",
      "Done with original\n",
      "Done with parallel\n",
      "Seed is:  3\n",
      "Done with sampling\n",
      "Done with parallel (original)\n",
      "Done with serial\n",
      "Done with original\n",
      "Done with parallel\n",
      "Seed is:  4\n",
      "Done with sampling\n",
      "Done with parallel (original)\n",
      "Done with serial\n",
      "Done with original\n",
      "Done with parallel\n",
      "Finished Training  1\n",
      "Seed is:  0\n",
      "Done with sampling\n",
      "Done with parallel (original)\n",
      "Done with serial\n",
      "Done with original\n",
      "Done with parallel\n",
      "Seed is:  1\n",
      "Done with sampling\n",
      "Done with parallel (original)\n",
      "Done with serial\n",
      "Done with original\n",
      "Done with parallel\n",
      "Seed is:  2\n",
      "Done with sampling\n",
      "Done with parallel (original)\n",
      "Done with serial\n",
      "Done with original\n",
      "Done with parallel\n",
      "Seed is:  3\n",
      "Done with sampling\n",
      "Done with parallel (original)\n",
      "Done with serial\n",
      "Done with original\n",
      "Done with parallel\n",
      "Seed is:  4\n",
      "Done with sampling\n",
      "Done with parallel (original)\n",
      "Done with serial\n",
      "Done with original\n",
      "Done with parallel\n",
      "Finished Training  2\n",
      "Seed is:  0\n",
      "Done with sampling\n",
      "Done with parallel (original)\n",
      "Done with serial\n",
      "Done with original\n",
      "Done with parallel\n",
      "Seed is:  1\n",
      "Done with sampling\n",
      "Done with parallel (original)\n",
      "Done with serial\n",
      "Done with original\n",
      "Done with parallel\n",
      "Seed is:  2\n",
      "Done with sampling\n",
      "Done with parallel (original)\n",
      "Done with serial\n",
      "Done with original\n",
      "Done with parallel\n",
      "Seed is:  3\n",
      "Done with sampling\n",
      "Done with parallel (original)\n",
      "Done with serial\n",
      "Done with original\n",
      "Done with parallel\n",
      "Seed is:  4\n",
      "Done with sampling\n",
      "Done with parallel (original)\n",
      "Done with serial\n",
      "Done with original\n",
      "Done with parallel\n",
      "Finished Training  3\n",
      "Seed is:  0\n",
      "Done with sampling\n",
      "Done with parallel (original)\n",
      "Done with serial\n",
      "Done with original\n",
      "Done with parallel\n",
      "Seed is:  1\n",
      "Done with sampling\n",
      "Done with parallel (original)\n",
      "Done with serial\n",
      "Done with original\n",
      "Done with parallel\n",
      "Seed is:  2\n",
      "Done with sampling\n",
      "Done with parallel (original)\n",
      "Done with serial\n",
      "Done with original\n",
      "Done with parallel\n",
      "Seed is:  3\n",
      "Done with sampling\n",
      "Done with parallel (original)\n",
      "Done with serial\n",
      "Done with original\n",
      "Done with parallel\n",
      "Seed is:  4\n",
      "Done with sampling\n",
      "Done with parallel (original)\n",
      "Done with serial\n",
      "Done with original\n",
      "Done with parallel\n",
      "Finished Training  4\n",
      "Seed is:  0\n",
      "Done with sampling\n",
      "Done with parallel (original)\n",
      "Done with serial\n",
      "Done with original\n",
      "Done with parallel\n",
      "Seed is:  1\n",
      "Done with sampling\n",
      "Done with parallel (original)\n",
      "Done with serial\n",
      "Done with original\n",
      "Done with parallel\n",
      "Seed is:  2\n",
      "Done with sampling\n",
      "Done with parallel (original)\n",
      "Done with serial\n",
      "Done with original\n",
      "Done with parallel\n",
      "Seed is:  3\n",
      "Done with sampling\n",
      "Done with parallel (original)\n",
      "Done with serial\n",
      "Done with original\n",
      "Done with parallel\n",
      "Seed is:  4\n",
      "Done with sampling\n",
      "Done with parallel (original)\n",
      "Done with serial\n",
      "Done with original\n",
      "Done with parallel\n",
      "Finished Training  5\n",
      "Seed is:  0\n",
      "Done with sampling\n",
      "Done with parallel (original)\n",
      "Done with serial\n",
      "Done with original\n",
      "Done with parallel\n",
      "Seed is:  1\n",
      "Done with sampling\n",
      "Done with parallel (original)\n",
      "Done with serial\n",
      "Done with original\n",
      "Done with parallel\n",
      "Seed is:  2\n",
      "Done with sampling\n",
      "Done with parallel (original)\n",
      "Done with serial\n",
      "Done with original\n",
      "Done with parallel\n",
      "Seed is:  3\n",
      "Done with sampling\n",
      "Done with parallel (original)\n",
      "Done with serial\n",
      "Done with original\n",
      "Done with parallel\n",
      "Seed is:  4\n",
      "Done with sampling\n",
      "Done with parallel (original)\n",
      "Done with serial\n",
      "Done with original\n",
      "Done with parallel\n",
      "Finished Training  6\n",
      "Seed is:  0\n",
      "Done with sampling\n",
      "Done with parallel (original)\n",
      "Done with serial\n",
      "Done with original\n",
      "Done with parallel\n",
      "Seed is:  1\n",
      "Done with sampling\n",
      "Done with parallel (original)\n",
      "Done with serial\n",
      "Done with original\n",
      "Done with parallel\n",
      "Seed is:  2\n",
      "Done with sampling\n",
      "Done with parallel (original)\n",
      "Done with serial\n",
      "Done with original\n",
      "Done with parallel\n",
      "Seed is:  3\n",
      "Done with sampling\n",
      "Done with parallel (original)\n",
      "Done with serial\n",
      "Done with original\n",
      "Done with parallel\n",
      "Seed is:  4\n",
      "Done with sampling\n",
      "Done with parallel (original)\n",
      "Done with serial\n",
      "Done with original\n",
      "Done with parallel\n",
      "Finished Training  7\n",
      "Seed is:  0\n",
      "Done with sampling\n",
      "Done with parallel (original)\n",
      "Done with serial\n",
      "Done with original\n",
      "Done with parallel\n",
      "Seed is:  1\n",
      "Done with sampling\n",
      "Done with parallel (original)\n",
      "Done with serial\n",
      "Done with original\n",
      "Done with parallel\n",
      "Seed is:  2\n",
      "Done with sampling\n",
      "Done with parallel (original)\n",
      "Done with serial\n",
      "Done with original\n",
      "Done with parallel\n",
      "Seed is:  3\n",
      "Done with sampling\n",
      "Done with parallel (original)\n",
      "Done with serial\n",
      "Done with original\n",
      "Done with parallel\n",
      "Seed is:  4\n",
      "Done with sampling\n",
      "Done with parallel (original)\n",
      "Done with serial\n",
      "Done with original\n",
      "Done with parallel\n",
      "Finished Training  8\n",
      "Seed is:  0\n",
      "Done with sampling\n",
      "Done with parallel (original)\n",
      "Done with serial\n",
      "Done with original\n",
      "Done with parallel\n",
      "Seed is:  1\n",
      "Done with sampling\n",
      "Done with parallel (original)\n",
      "Done with serial\n",
      "Done with original\n",
      "Done with parallel\n",
      "Seed is:  2\n",
      "Done with sampling\n",
      "Done with parallel (original)\n",
      "Done with serial\n",
      "Done with original\n",
      "Done with parallel\n",
      "Seed is:  3\n",
      "Done with sampling\n",
      "Done with parallel (original)\n",
      "Done with serial\n",
      "Done with original\n",
      "Done with parallel\n",
      "Seed is:  4\n",
      "Done with sampling\n",
      "Done with parallel (original)\n",
      "Done with serial\n",
      "Done with original\n",
      "Done with parallel\n",
      "Finished Training  9\n",
      "Seed is:  0\n",
      "Done with sampling\n",
      "Done with parallel (original)\n",
      "Done with serial\n",
      "Done with original\n",
      "Done with parallel\n",
      "Seed is:  1\n",
      "Done with sampling\n",
      "Done with parallel (original)\n",
      "Done with serial\n",
      "Done with original\n",
      "Done with parallel\n",
      "Seed is:  2\n",
      "Done with sampling\n",
      "Done with parallel (original)\n",
      "Done with serial\n",
      "Done with original\n",
      "Done with parallel\n",
      "Seed is:  3\n",
      "Done with sampling\n",
      "Done with parallel (original)\n",
      "Done with serial\n",
      "Done with original\n",
      "Done with parallel\n",
      "Seed is:  4\n",
      "Done with sampling\n",
      "Done with parallel (original)\n",
      "Done with serial\n",
      "Done with original\n",
      "Done with parallel\n",
      "Finished Training  10\n",
      "    Observations  Parallel (8 cores)  Single Core  Prior Function  \\\n",
      "0           25.0            0.026060     0.019918        0.020589   \n",
      "1          100.0            0.049464     0.088139        0.085206   \n",
      "2          200.0            0.091836     0.200144        0.184719   \n",
      "3          300.0            0.128083     0.322233        0.307428   \n",
      "4          400.0            0.166507     0.440913        0.428614   \n",
      "5          500.0            0.193509     0.584811        0.578161   \n",
      "6          600.0            0.242667     0.746967        0.732875   \n",
      "7          700.0            0.268755     0.859054        0.862207   \n",
      "8          800.0            0.317229     1.001814        1.013617   \n",
      "9          900.0            0.364350     1.172742        1.156016   \n",
      "10        1000.0            0.412235     1.307797        1.288354   \n",
      "\n",
      "    Parallel New Function  \n",
      "0                0.023654  \n",
      "1                0.063030  \n",
      "2                0.087639  \n",
      "3                0.131342  \n",
      "4                0.164097  \n",
      "5                0.196551  \n",
      "6                0.252380  \n",
      "7                0.274363  \n",
      "8                0.341716  \n",
      "9                0.377112  \n",
      "10               0.406560  \n"
     ]
    }
   ],
   "source": [
    "import time\n",
    "import multiprocessing\n",
    "cpu_count = multiprocessing.cpu_count()\n",
    "pers_imager = PersistenceImager()\n",
    "pers_imager.pixel_size = 1\n",
    "pers_imager.kernel_params = {'sigma': 1}\n",
    "seed = [0,1,2,3,4]\n",
    "train_size = [25, 100, 200, 300, 400, 500, 600, 700, 800, 900, 1000]\n",
    "n = len(train_size)\n",
    "timing = np.zeros((n,5))\n",
    "for i in range(0,n):\n",
    "    for j in seed:\n",
    "        print(\"Seed is: \", j)\n",
    "        dgms_train = dgms_20[0:train_size[i]]\n",
    "        xdgm0_train = np.array(dgms_train)\n",
    "        timing[i,0] += len(xdgm0_train)\n",
    "        print(\"Done with sampling\")\n",
    "\n",
    "        start = time.time()\n",
    "        output = F_Image_parallel(xdgm0_train, PS=1, var=1, plot=False, training=True)\n",
    "        end = time.time()-start\n",
    "        timing[i,1] +=end\n",
    "        print(\"Done with parallel (original)\")\n",
    "\n",
    "        start = time.time()\n",
    "        pers_imager.fit(xdgm0_train)\n",
    "        X_train_features = np.array(pers_imager.transform(xdgm0_train))\n",
    "        X_train_features = pers_reshape(X_train_features)\n",
    "        end = time.time()-start\n",
    "        timing[i,2] +=end\n",
    "        print(\"Done with serial\")\n",
    "\n",
    "        start = time.time()\n",
    "        output = F_Image(xdgm0_train, PS=1, var=1, plot=False, training=True)\n",
    "        end = time.time()-start\n",
    "        timing[i,3] +=end\n",
    "        print(\"Done with original\")\n",
    "\n",
    "        start = time.time()\n",
    "        pers_imager.fit(xdgm0_train)\n",
    "        X_train_features = np.array(pers_imager.transform(xdgm0_train, n_jobs=8))\n",
    "        X_train_features = pers_reshape(X_train_features)\n",
    "        end = time.time()-start\n",
    "        timing[i,4] +=end\n",
    "        print(\"Done with parallel\")\n",
    "\n",
    "    print(\"Finished Training \", i)\n",
    "timing = pd.DataFrame(timing/5)\n",
    "timing.columns=['Observations', 'Parallel (8 cores)', 'Single Core', 'Prior Function', 'Parallel New Function']\n",
    "print(timing)"
   ]
  },
  {
   "cell_type": "code",
   "execution_count": null,
   "metadata": {},
   "outputs": [
    {
     "data": {
      "text/plain": [
       "Text(0, 0.5, 'Time in Seconds')"
      ]
     },
     "execution_count": 1435,
     "metadata": {},
     "output_type": "execute_result"
    },
    {
     "data": {
      "image/png": "[encoded data removed]",
      "text/plain": [
       "<Figure size 640x480 with 1 Axes>"
      ]
     },
     "metadata": {},
     "output_type": "display_data"
    }
   ],
   "source": [
    "t = timing.plot(x='Observations')\n",
    "t.set_xlabel(\"Sample Size\")\n",
    "t.set_ylabel(\"Time in Seconds\")"
   ]
  },
  {
   "cell_type": "code",
   "execution_count": null,
   "metadata": {},
   "outputs": [
    {
     "data": {
      "text/plain": [
       "(100, 20)"
      ]
     },
     "execution_count": 1324,
     "metadata": {},
     "output_type": "execute_result"
    }
   ],
   "source": [
    "dgms_train, dgms_test = train_test_split_sklearn(mnist, 'labels', train_size = 100)\n",
    "xdgm0_train = dgms_train['zero_dim_rtl']\n",
    "output0 = F_Image(xdgm0_train, PS=8, var=1, plot=False, training=True)\n",
    "output0['F_Matrix'].shape"
   ]
  },
  {
   "cell_type": "code",
   "execution_count": null,
   "metadata": {},
   "outputs": [],
   "source": [
    "from persim import PersistenceImager\n",
    "pers_imager = PersistenceImager()\n",
    "pers_imager.fit(xdgm0_train)\n",
    "pers_imager.pixel_size = 1\n",
    "outputn = np.array(pers_imager.transform(xdgm0_train))\n",
    "output1 = pers_reshape(outputn)"
   ]
  },
  {
   "cell_type": "code",
   "execution_count": null,
   "metadata": {},
   "outputs": [
    {
     "name": "stdout",
     "output_type": "stream",
     "text": [
      "PersistenceImager(birth_range=(0.0, 26.0), pers_range=(1.0, 35.0), pixel_size=1, weight=persistence, weight_params={'n': 1.0}, kernel=gaussian, kernel_params={'sigma': [[1.0, 0.0], [0.0, 1.0]]})\n"
     ]
    }
   ],
   "source": [
    "print(pers_imager)"
   ]
  },
  {
   "cell_type": "code",
   "execution_count": null,
   "metadata": {},
   "outputs": [
    {
     "data": {
      "text/plain": [
       "<Axes: xlabel='birth', ylabel='persistence'>"
      ]
     },
     "execution_count": 1327,
     "metadata": {},
     "output_type": "execute_result"
    },
    {
     "data": {
      "image/png": "[encoded data removed]",
      "text/plain": [
       "<Figure size 640x480 with 1 Axes>"
      ]
     },
     "metadata": {},
     "output_type": "display_data"
    }
   ],
   "source": [
    "pers_imager.plot_image(outputn[0])"
   ]
  },
  {
   "cell_type": "code",
   "execution_count": null,
   "metadata": {},
   "outputs": [],
   "source": [
    "def reshape_persistence_diagrams(dgm):\n",
    "    dgm_reshape = np.array([])\n",
    "    num_dgms = len(dgm)\n",
    "    for i in range(0,num_dgms):\n",
    "        t = np.repeat(i, len(dgm[i]))\n",
    "        t = t.reshape(len(dgm[i]),1)\n",
    "        t1 = np.concatenate((t,dgm[i]),1)\n",
    "        if i == 0:\n",
    "            dgm_reshape = t1\n",
    "        else:\n",
    "            dgm_reshape = np.append(dgm_reshape, t1, 0)\n",
    "    dummy = np.zeros((num_dgms))\n",
    "    return dgm_reshape, num_dgms, dummy"
   ]
  },
  {
   "cell_type": "code",
   "execution_count": null,
   "metadata": {},
   "outputs": [],
   "source": [
    "dgm_reshape, num_dgms, dummy = reshape_persistence_diagrams(dgms_3_train)"
   ]
  },
  {
   "cell_type": "markdown",
   "metadata": {},
   "source": [
    "Write New Function"
   ]
  },
  {
   "cell_type": "code",
   "execution_count": null,
   "metadata": {},
   "outputs": [],
   "source": [
    "from numba import jit\n",
    "@jit(nopython=True)\n",
    "def mult(A, B):\n",
    "    n = A.shape[0]\n",
    "    m = B.shape[1]\n",
    "    r = B.shape[0]\n",
    "    result = np.zeros((n,m))\n",
    "    for i in range(0,n):\n",
    "        for j in range(0,m):\n",
    "            for k in range(0,r):\n",
    "                result[i,j]+=A[i,k]*B[k,j]\n",
    "    return(result)\n",
    "\n",
    "@jit(nopython=True)\n",
    "def birth_persistence(Xdgms):\n",
    "    birth = Xdgms[:,1]\n",
    "    death = Xdgms[:,2]\n",
    "    persistence = Xdgms[:,2] - Xdgms[:,1]\n",
    "    diagram = Xdgms[:,0]\n",
    "    return birth, death, persistence, diagram\n",
    "\n",
    "@jit(nopython=True)\n",
    "def gaussianpdf(mean = np.array([[0,0]], dtype=float), point = np.array([[0,0]], dtype=float), sigma=np.array([[2,0],[0,2]], dtype=float)):\n",
    "    exponent = mult(mult((mean-point), np.linalg.inv(sigma)), np.transpose(mean-point))\n",
    "    denominator = np.sqrt(np.power((2*pi),2)*np.linalg.det(sigma))\n",
    "    distribution = 1/denominator*np.exp(-1/2*exponent)\n",
    "    return distribution\n",
    "\n",
    "@jit(nopython=True)\n",
    "def feature_intervals(birth, persistence, x_pixel_size=1, y_pixel_size = 1):\n",
    "    x_start = np.min(birth)\n",
    "    y_start = np.min(persistence)\n",
    "    x_end = np.max(birth)\n",
    "    y_end = np.max(persistence)\n",
    "    x_length = x_end - x_start + x_pixel_size\n",
    "    n = int(np.ceil(x_length/x_pixel_size))\n",
    "    x_intervals = np.zeros((n,1))\n",
    "    x_intervals[0] = x_start\n",
    "    for i in range(1,n):\n",
    "        x_intervals[i] = x_intervals[i-1]+x_pixel_size\n",
    "    x_factor = x_intervals[n-1] - x_end\n",
    "    x_intervals = x_intervals - x_factor/2\n",
    "    y_length = y_end - y_start + y_pixel_size\n",
    "    m = int(np.ceil(y_length/y_pixel_size))\n",
    "    y_intervals = np.zeros((m,1))\n",
    "    y_intervals[0] = y_start\n",
    "    for i in range(1,m):\n",
    "        y_intervals[i] = y_intervals[i-1]+y_pixel_size\n",
    "    y_factor = y_intervals[m-1] - y_end\n",
    "    y_intervals = y_intervals - y_factor/2\n",
    "    \n",
    "    return x_intervals, y_intervals\n",
    "\n",
    "@jit(nopython=True)\n",
    "def pers_images(diagram, birth, persistence, x_intervals, y_intervals, num_dgms, sigma=np.array([[2,0],[0,2]], dtype=float)):\n",
    "    n = len(x_intervals)\n",
    "    m = len(y_intervals)\n",
    "    persistence_images = np.zeros((num_dgms,(n-1)*(m-1)))\n",
    "    plot_size = np.array([n-1,m-1])\n",
    "    for i in range(1,n):\n",
    "        for j in range(1,m):\n",
    "            x = (x_intervals[i] + x_intervals[i-1])/2\n",
    "            y = (y_intervals[j] + y_intervals[j-1])/2\n",
    "            x_len = x_intervals[i] - x_intervals[i-1]\n",
    "            y_len = y_intervals[j] - y_intervals[j-1]\n",
    "            for k in range(0,num_dgms):\n",
    "                #diagrams = np.transpose(np.array([diagram, birth, persistence]))\n",
    "                index = np.where(diagram==k)[0]\n",
    "                means = np.stack((birth, persistence), axis=1)\n",
    "                for l in index:\n",
    "                    mvmeans = np.array([[means[l, :][0],means[l, :][1]]])\n",
    "                    point = np.array([[x[0],y[0]]])\n",
    "                    area = float(y_len[0]*x_len[0])\n",
    "                    value = gaussianpdf(mean=mvmeans, point=point, sigma=sigma)*y*area\n",
    "                    persistence_images[k,j-1+(m-1)*(i-1)] = persistence_images[k,j-1+(m-1)*(i-1)] + value[0][0]\n",
    "    return persistence_images, plot_size\n",
    "\n",
    "@jit(nopython=True)\n",
    "def persistenceImageFeatures(birth, persistence, diagram, num_dgms, xps=2, yps=2):\n",
    "    x_intervals, y_intervals = feature_intervals(birth, persistence, x_pixel_size = xps, y_pixel_size = yps)\n",
    "    t, plot_size = pers_images(diagram, birth, persistence, x_intervals, y_intervals, num_dgms)\n",
    "    return t, plot_size\n"
   ]
  },
  {
   "cell_type": "code",
   "execution_count": null,
   "metadata": {},
   "outputs": [],
   "source": [
    "dgms_3_train = np.array(dgms_3[0:25])\n",
    "dgm_reshape, num_dgms, dummy = reshape_persistence_diagrams(dgms_3_train)\n",
    "birth, death, persistence, diagram= birth_persistence(dgm_reshape)\n",
    "x_intervals, y_intervals = feature_intervals(birth, persistence, x_pixel_size = 1, y_pixel_size = 1)\n",
    "t, plot_size = pers_images(diagram, birth, persistence, x_intervals, y_intervals, num_dgms)"
   ]
  },
  {
   "cell_type": "code",
   "execution_count": null,
   "metadata": {},
   "outputs": [
    {
     "name": "stdout",
     "output_type": "stream",
     "text": [
      "1.03 s ± 5.66 ms per loop (mean ± std. dev. of 7 runs, 1 loop each)\n",
      "3.3 ms ± 63.8 µs per loop (mean ± std. dev. of 7 runs, 100 loops each)\n"
     ]
    }
   ],
   "source": [
    "%timeit t, plot_size = persistenceImageFeatures(birth, persistence, diagram, num_dgms, xps=1, yps=1)\n",
    "%timeit output0 = F_Image(dgms_3[0:25], PS=1, var=2, plot=False, training=True)"
   ]
  },
  {
   "cell_type": "code",
   "execution_count": null,
   "metadata": {},
   "outputs": [],
   "source": [
    "output0 = F_Image(xdgm0_train[0:10], PS=1, var=2, plot=False, training=True)\n",
    "t, plot_size = persistenceImageFeatures(birth, persistence, diagram, num_dgms, xps=1, yps=1)"
   ]
  },
  {
   "cell_type": "code",
   "execution_count": null,
   "metadata": {},
   "outputs": [
    {
     "data": {
      "text/plain": [
       "<Axes: xlabel='birth', ylabel='persistence'>"
      ]
     },
     "execution_count": 19,
     "metadata": {},
     "output_type": "execute_result"
    },
    {
     "data": {
      "image/png": "[encoded data removed]",
      "text/plain": [
       "<Figure size 640x480 with 1 Axes>"
      ]
     },
     "metadata": {},
     "output_type": "display_data"
    }
   ],
   "source": [
    "from persim import PersistenceImager\n",
    "pers_imager = PersistenceImager()\n",
    "pers_imager.fit(xdgm0_train[0:10])\n",
    "pers_imager.pixel_size = 1\n",
    "outputn = np.array(pers_imager.transform(xdgm0_train[0:10]))\n",
    "pers_imager.plot_image(outputn[0])"
   ]
  },
  {
   "cell_type": "code",
   "execution_count": null,
   "metadata": {},
   "outputs": [
    {
     "data": {
      "text/plain": [
       "<Axes: xlabel='birth', ylabel='persistence'>"
      ]
     },
     "execution_count": 20,
     "metadata": {},
     "output_type": "execute_result"
    },
    {
     "data": {
      "image/png": "[encoded data removed]",
      "text/plain": [
       "<Figure size 640x480 with 1 Axes>"
      ]
     },
     "metadata": {},
     "output_type": "display_data"
    }
   ],
   "source": [
    "pers_imager.plot_image(np.reshape(t[0], plot_size))"
   ]
  },
  {
   "cell_type": "code",
   "execution_count": null,
   "metadata": {},
   "outputs": [
    {
     "name": "stdout",
     "output_type": "stream",
     "text": [
      "Seed is:  0\n",
      "Done with sampling\n"
     ]
    },
    {
     "ename": "",
     "evalue": "",
     "output_type": "error",
     "traceback": [
      "\u001b[1;31mThe Kernel crashed while executing code in the the current cell or a previous cell. Please review the code in the cell(s) to identify a possible cause of the failure. Click <a href='https://aka.ms/vscodeJupyterKernelCrash'>here</a> for more info. View Jupyter <a href='command:jupyter.viewOutput'>log</a> for further details."
     ]
    }
   ],
   "source": [
    "import time\n",
    "import multiprocessing\n",
    "cpu_count = multiprocessing.cpu_count()\n",
    "pers_imager = PersistenceImager()\n",
    "pers_imager.pixel_size = 1\n",
    "pers_imager.kernel_params = {'sigma': 2}\n",
    "seed = [0,1,2,3,4]\n",
    "train_size = [25, 50] #100, 200, 300, 400, 500, 600, 700, 800, 900, 1000]\n",
    "n = len(train_size)\n",
    "timing = np.zeros((n,4))\n",
    "for i in range(0,n):\n",
    "    for j in seed:\n",
    "        print(\"Seed is: \", j)\n",
    "        dgms_train = dgms_10[0:train_size[i]]\n",
    "        xdgm0_train = np.array(dgms_train)\n",
    "        timing[i,0] += len(xdgm0_train)\n",
    "        print(\"Done with sampling\")\n",
    "\n",
    "        start = time.time()\n",
    "        dgm_reshape, num_dgms, dummy = reshape_persistence_diagrams(xdgm0_train)\n",
    "        print('reshaped')\n",
    "        birth, death, persistence, diagram= birth_persistence(dgm_reshape)\n",
    "        x_intervals, y_intervals = feature_intervals(birth, persistence, x_pixel_size = 1, y_pixel_size = 1)\n",
    "        t, plot_size = pers_images(diagram, birth, persistence, x_intervals, y_intervals, num_dgms)\n",
    "        timing[i,1] +=end\n",
    "        print(\"Done with New\")\n",
    "\n",
    "        start = time.time()\n",
    "        output = F_Image_parallel(xdgm0_train, PS=.1, var=1, plot=False, training=True)\n",
    "        end = time.time()-start\n",
    "        timing[i,2] +=end\n",
    "        print(\"Done with serial\")\n",
    "\n",
    "        start = time.time()\n",
    "        output = F_Image(xdgm0_train, PS=.1, var=1, plot=False, training=True)\n",
    "        end = time.time()-start\n",
    "        timing[i,3] +=end\n",
    "        print(\"Done with original\")\n",
    "\n",
    "    print(\"Finished Training \", i)\n",
    "timing = pd.DataFrame(timing/5)\n",
    "timing.columns=['Observations', 'New Function', 'Single Core', 'Prior Function']\n",
    "print(timing)"
   ]
  },
  {
   "cell_type": "code",
   "execution_count": null,
   "metadata": {},
   "outputs": [
    {
     "name": "stdout",
     "output_type": "stream",
     "text": [
      "Seed is:  0\n",
      "Done with sampling\n",
      "reshaped\n",
      "Done with New\n",
      "Done with serial\n",
      "Done with original\n",
      "Seed is:  1\n",
      "Done with sampling\n",
      "reshaped\n",
      "Done with New\n",
      "Done with serial\n",
      "Done with original\n",
      "Seed is:  2\n",
      "Done with sampling\n",
      "reshaped\n",
      "Done with New\n",
      "Done with serial\n",
      "Done with original\n",
      "Seed is:  3\n",
      "Done with sampling\n",
      "reshaped\n",
      "Done with New\n",
      "Done with serial\n",
      "Done with original\n",
      "Seed is:  4\n",
      "Done with sampling\n",
      "reshaped\n",
      "Done with New\n",
      "Done with serial\n",
      "Done with original\n",
      "Finished Training  0\n",
      "Seed is:  0\n",
      "Done with sampling\n",
      "reshaped\n",
      "Done with New\n",
      "Done with serial\n",
      "Done with original\n",
      "Seed is:  1\n",
      "Done with sampling\n",
      "reshaped\n",
      "Done with New\n",
      "Done with serial\n",
      "Done with original\n",
      "Seed is:  2\n",
      "Done with sampling\n",
      "reshaped\n",
      "Done with New\n",
      "Done with serial\n",
      "Done with original\n",
      "Seed is:  3\n",
      "Done with sampling\n",
      "reshaped\n",
      "Done with New\n",
      "Done with serial\n",
      "Done with original\n",
      "Seed is:  4\n",
      "Done with sampling\n",
      "reshaped\n",
      "Done with New\n",
      "Done with serial\n",
      "Done with original\n",
      "Finished Training  1\n",
      "   Observations  New Function  Single Core  Prior Function\n",
      "0          25.0      3.858902     0.858627        0.906437\n",
      "1          50.0      8.423316     1.759242        1.698195\n"
     ]
    }
   ],
   "source": [
    "import time\n",
    "import multiprocessing\n",
    "cpu_count = multiprocessing.cpu_count()\n",
    "pers_imager = PersistenceImager()\n",
    "pers_imager.pixel_size = 1\n",
    "pers_imager.kernel_params = {'sigma': 2}\n",
    "seed = [0,1,2,3,4]\n",
    "train_size = [25, 50] #100, 200, 300, 400, 500, 600, 700, 800, 900, 1000]\n",
    "n = len(train_size)\n",
    "timing = np.zeros((n,4))\n",
    "for i in range(0,n):\n",
    "    for j in seed:\n",
    "        print(\"Seed is: \", j)\n",
    "        dgms_train = dgms_10[0:train_size[i]]\n",
    "        xdgm0_train = np.array(dgms_train)\n",
    "        timing[i,0] += len(xdgm0_train)\n",
    "        print(\"Done with sampling\")\n",
    "\n",
    "        start = time.time()\n",
    "        dgm_reshape, num_dgms, dummy = reshape_persistence_diagrams(xdgm0_train)\n",
    "        birth, death, persistence, diagram= birth_persistence(dgm_reshape)\n",
    "        x_intervals, y_intervals = feature_intervals(birth, persistence, x_pixel_size = 1, y_pixel_size = 1)\n",
    "        t, plot_size = pers_images(diagram, birth, persistence, x_intervals, y_intervals, num_dgms)\n",
    "        end = time.time()-start\n",
    "        timing[i,1] +=end\n",
    "        print(\"Done with New\")\n",
    "\n",
    "        start = time.time()\n",
    "        output = F_Image_parallel(xdgm0_train, PS=.1, var=1, plot=False, training=True)\n",
    "        end = time.time()-start\n",
    "        timing[i,2] +=end\n",
    "        print(\"Done with serial\")\n",
    "\n",
    "        start = time.time()\n",
    "        output = F_Image(xdgm0_train, PS=.1, var=1, plot=False, training=True)\n",
    "        end = time.time()-start\n",
    "        timing[i,3] +=end\n",
    "        print(\"Done with original\")\n",
    "\n",
    "    print(\"Finished Training \", i)\n",
    "timing = pd.DataFrame(timing/5)\n",
    "timing.columns=['Observations', 'New Function', 'Single Core', 'Prior Function']\n",
    "print(timing)"
   ]
  },
  {
   "cell_type": "code",
   "execution_count": null,
   "metadata": {},
   "outputs": [
    {
     "data": {
      "text/plain": [
       "Text(0, 0.5, 'Time in Seconds')"
      ]
     },
     "execution_count": 20,
     "metadata": {},
     "output_type": "execute_result"
    },
    {
     "data": {
      "image/png": "[encoded data removed]",
      "text/plain": [
       "<Figure size 640x480 with 1 Axes>"
      ]
     },
     "metadata": {},
     "output_type": "display_data"
    }
   ],
   "source": [
    "t = timing.plot(x='Observations')\n",
    "t.set_xlabel(\"Sample Size\")\n",
    "t.set_ylabel(\"Time in Seconds\")"
   ]
  }
 ],
 "metadata": {
  "kernelspec": {
   "display_name": ".venv",
   "language": "python",
   "name": "python3"
  },
  "language_info": {
   "codemirror_mode": {
    "name": "ipython",
    "version": 3
   },
   "file_extension": ".py",
   "mimetype": "text/x-python",
   "name": "python",
   "nbconvert_exporter": "python",
   "pygments_lexer": "ipython3",
   "version": "3.8.8"
  }
 },
 "nbformat": 4,
 "nbformat_minor": 2
}
