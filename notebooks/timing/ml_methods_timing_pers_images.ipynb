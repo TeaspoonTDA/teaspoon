{
 "cells": [
  {
   "cell_type": "markdown",
   "metadata": {},
   "source": [
    "Load Libraries"
   ]
  },
  {
   "cell_type": "code",
   "execution_count": 10,
   "metadata": {},
   "outputs": [],
   "source": [
    "import numpy as np\n",
    "import pandas as pd"
   ]
  },
  {
   "cell_type": "markdown",
   "metadata": {},
   "source": [
    "Create Dataset for Timing"
   ]
  },
  {
   "cell_type": "code",
   "execution_count": 11,
   "metadata": {},
   "outputs": [
    {
     "data": {
      "text/html": [
       "<div>\n",
       "<style scoped>\n",
       "    .dataframe tbody tr th:only-of-type {\n",
       "        vertical-align: middle;\n",
       "    }\n",
       "\n",
       "    .dataframe tbody tr th {\n",
       "        vertical-align: top;\n",
       "    }\n",
       "\n",
       "    .dataframe thead th {\n",
       "        text-align: right;\n",
       "    }\n",
       "</style>\n",
       "<table border=\"1\" class=\"dataframe\">\n",
       "  <thead>\n",
       "    <tr style=\"text-align: right;\">\n",
       "      <th></th>\n",
       "      <th>Length 3 dgms</th>\n",
       "      <th>Length 6 dgms</th>\n",
       "      <th>Length 10 dgms</th>\n",
       "      <th>Length 20 dgms</th>\n",
       "      <th>Length 40 dgms</th>\n",
       "      <th>Length 80 dgms</th>\n",
       "    </tr>\n",
       "  </thead>\n",
       "  <tbody>\n",
       "    <tr>\n",
       "      <th>0</th>\n",
       "      <td>[[0, 20], [14, 19], [8, 19]]</td>\n",
       "      <td>[[0, 20], [15, 17], [11, 14], [5, 15], [18, 19...</td>\n",
       "      <td>[[0, 20], [19, 19], [2, 6], [9, 13], [9, 10], ...</td>\n",
       "      <td>[[0, 20], [3, 4], [15, 15], [13, 17], [8, 14],...</td>\n",
       "      <td>[[0, 20], [8, 10], [13, 15], [2, 14], [4, 17],...</td>\n",
       "      <td>[[0, 20], [13, 14], [6, 18], [1, 18], [5, 11],...</td>\n",
       "    </tr>\n",
       "    <tr>\n",
       "      <th>1</th>\n",
       "      <td>[[0, 20], [8, 19], [19, 19]]</td>\n",
       "      <td>[[0, 20], [5, 18], [8, 14], [3, 17], [16, 16],...</td>\n",
       "      <td>[[0, 20], [11, 14], [2, 5], [17, 19], [7, 7], ...</td>\n",
       "      <td>[[0, 20], [7, 7], [6, 18], [4, 17], [0, 11], [...</td>\n",
       "      <td>[[0, 20], [19, 19], [14, 15], [9, 16], [7, 19]...</td>\n",
       "      <td>[[0, 20], [18, 18], [17, 18], [2, 9], [4, 14],...</td>\n",
       "    </tr>\n",
       "    <tr>\n",
       "      <th>2</th>\n",
       "      <td>[[0, 20], [10, 11], [5, 11]]</td>\n",
       "      <td>[[0, 20], [6, 13], [8, 9], [1, 5], [12, 13], [...</td>\n",
       "      <td>[[0, 20], [9, 18], [2, 15], [17, 18], [14, 14]...</td>\n",
       "      <td>[[0, 20], [14, 15], [7, 13], [14, 18], [8, 11]...</td>\n",
       "      <td>[[0, 20], [16, 17], [17, 17], [18, 18], [4, 4]...</td>\n",
       "      <td>[[0, 20], [0, 5], [15, 18], [17, 19], [13, 16]...</td>\n",
       "    </tr>\n",
       "    <tr>\n",
       "      <th>3</th>\n",
       "      <td>[[0, 20], [16, 17], [10, 19]]</td>\n",
       "      <td>[[0, 20], [19, 19], [0, 5], [14, 16], [18, 19]...</td>\n",
       "      <td>[[0, 20], [10, 11], [0, 15], [11, 15], [19, 19...</td>\n",
       "      <td>[[0, 20], [17, 19], [13, 19], [1, 6], [17, 17]...</td>\n",
       "      <td>[[0, 20], [15, 17], [19, 19], [12, 13], [18, 1...</td>\n",
       "      <td>[[0, 20], [0, 7], [15, 19], [5, 18], [8, 13], ...</td>\n",
       "    </tr>\n",
       "    <tr>\n",
       "      <th>4</th>\n",
       "      <td>[[0, 20], [13, 19], [1, 10]]</td>\n",
       "      <td>[[0, 20], [1, 2], [10, 11], [5, 11], [19, 19],...</td>\n",
       "      <td>[[0, 20], [13, 14], [19, 19], [15, 18], [8, 16...</td>\n",
       "      <td>[[0, 20], [3, 8], [8, 19], [15, 15], [19, 19],...</td>\n",
       "      <td>[[0, 20], [11, 15], [6, 12], [7, 10], [11, 19]...</td>\n",
       "      <td>[[0, 20], [6, 9], [8, 11], [16, 16], [11, 14],...</td>\n",
       "    </tr>\n",
       "    <tr>\n",
       "      <th>...</th>\n",
       "      <td>...</td>\n",
       "      <td>...</td>\n",
       "      <td>...</td>\n",
       "      <td>...</td>\n",
       "      <td>...</td>\n",
       "      <td>...</td>\n",
       "    </tr>\n",
       "    <tr>\n",
       "      <th>4995</th>\n",
       "      <td>[[0, 20], [5, 14], [6, 7]]</td>\n",
       "      <td>[[0, 20], [17, 17], [12, 12], [18, 18], [14, 1...</td>\n",
       "      <td>[[0, 20], [17, 17], [10, 13], [16, 16], [9, 18...</td>\n",
       "      <td>[[0, 20], [14, 14], [12, 15], [2, 6], [4, 5], ...</td>\n",
       "      <td>[[0, 20], [3, 15], [12, 14], [10, 16], [2, 3],...</td>\n",
       "      <td>[[0, 20], [5, 9], [16, 17], [8, 15], [7, 10], ...</td>\n",
       "    </tr>\n",
       "    <tr>\n",
       "      <th>4996</th>\n",
       "      <td>[[0, 20], [16, 19], [11, 11]]</td>\n",
       "      <td>[[0, 20], [9, 12], [19, 19], [11, 16], [3, 13]...</td>\n",
       "      <td>[[0, 20], [1, 3], [3, 16], [9, 16], [2, 9], [1...</td>\n",
       "      <td>[[0, 20], [1, 4], [9, 13], [8, 10], [17, 17], ...</td>\n",
       "      <td>[[0, 20], [8, 16], [15, 18], [16, 18], [6, 15]...</td>\n",
       "      <td>[[0, 20], [17, 18], [16, 19], [8, 13], [2, 11]...</td>\n",
       "    </tr>\n",
       "    <tr>\n",
       "      <th>4997</th>\n",
       "      <td>[[0, 20], [14, 14], [6, 7]]</td>\n",
       "      <td>[[0, 20], [9, 10], [9, 17], [11, 16], [19, 19]...</td>\n",
       "      <td>[[0, 20], [11, 14], [6, 15], [11, 14], [10, 12...</td>\n",
       "      <td>[[0, 20], [12, 17], [9, 14], [15, 16], [0, 3],...</td>\n",
       "      <td>[[0, 20], [11, 15], [12, 19], [15, 15], [2, 10...</td>\n",
       "      <td>[[0, 20], [2, 14], [0, 9], [0, 5], [14, 19], [...</td>\n",
       "    </tr>\n",
       "    <tr>\n",
       "      <th>4998</th>\n",
       "      <td>[[0, 20], [3, 11], [16, 17]]</td>\n",
       "      <td>[[0, 20], [11, 13], [7, 16], [13, 16], [18, 18...</td>\n",
       "      <td>[[0, 20], [4, 18], [17, 19], [1, 1], [16, 17],...</td>\n",
       "      <td>[[0, 20], [16, 19], [12, 17], [17, 18], [16, 1...</td>\n",
       "      <td>[[0, 20], [3, 4], [6, 12], [1, 10], [9, 19], [...</td>\n",
       "      <td>[[0, 20], [12, 14], [2, 7], [11, 12], [12, 18]...</td>\n",
       "    </tr>\n",
       "    <tr>\n",
       "      <th>4999</th>\n",
       "      <td>[[0, 20], [13, 19], [7, 19]]</td>\n",
       "      <td>[[0, 20], [16, 16], [9, 12], [18, 18], [6, 7],...</td>\n",
       "      <td>[[0, 20], [0, 19], [4, 10], [19, 19], [13, 14]...</td>\n",
       "      <td>[[0, 20], [2, 10], [4, 4], [2, 9], [16, 16], [...</td>\n",
       "      <td>[[0, 20], [13, 13], [17, 19], [16, 17], [5, 16...</td>\n",
       "      <td>[[0, 20], [14, 17], [9, 12], [14, 15], [8, 15]...</td>\n",
       "    </tr>\n",
       "  </tbody>\n",
       "</table>\n",
       "<p>5000 rows × 6 columns</p>\n",
       "</div>"
      ],
      "text/plain": [
       "                      Length 3 dgms  \\\n",
       "0      [[0, 20], [14, 19], [8, 19]]   \n",
       "1      [[0, 20], [8, 19], [19, 19]]   \n",
       "2      [[0, 20], [10, 11], [5, 11]]   \n",
       "3     [[0, 20], [16, 17], [10, 19]]   \n",
       "4      [[0, 20], [13, 19], [1, 10]]   \n",
       "...                             ...   \n",
       "4995     [[0, 20], [5, 14], [6, 7]]   \n",
       "4996  [[0, 20], [16, 19], [11, 11]]   \n",
       "4997    [[0, 20], [14, 14], [6, 7]]   \n",
       "4998   [[0, 20], [3, 11], [16, 17]]   \n",
       "4999   [[0, 20], [13, 19], [7, 19]]   \n",
       "\n",
       "                                          Length 6 dgms  \\\n",
       "0     [[0, 20], [15, 17], [11, 14], [5, 15], [18, 19...   \n",
       "1     [[0, 20], [5, 18], [8, 14], [3, 17], [16, 16],...   \n",
       "2     [[0, 20], [6, 13], [8, 9], [1, 5], [12, 13], [...   \n",
       "3     [[0, 20], [19, 19], [0, 5], [14, 16], [18, 19]...   \n",
       "4     [[0, 20], [1, 2], [10, 11], [5, 11], [19, 19],...   \n",
       "...                                                 ...   \n",
       "4995  [[0, 20], [17, 17], [12, 12], [18, 18], [14, 1...   \n",
       "4996  [[0, 20], [9, 12], [19, 19], [11, 16], [3, 13]...   \n",
       "4997  [[0, 20], [9, 10], [9, 17], [11, 16], [19, 19]...   \n",
       "4998  [[0, 20], [11, 13], [7, 16], [13, 16], [18, 18...   \n",
       "4999  [[0, 20], [16, 16], [9, 12], [18, 18], [6, 7],...   \n",
       "\n",
       "                                         Length 10 dgms  \\\n",
       "0     [[0, 20], [19, 19], [2, 6], [9, 13], [9, 10], ...   \n",
       "1     [[0, 20], [11, 14], [2, 5], [17, 19], [7, 7], ...   \n",
       "2     [[0, 20], [9, 18], [2, 15], [17, 18], [14, 14]...   \n",
       "3     [[0, 20], [10, 11], [0, 15], [11, 15], [19, 19...   \n",
       "4     [[0, 20], [13, 14], [19, 19], [15, 18], [8, 16...   \n",
       "...                                                 ...   \n",
       "4995  [[0, 20], [17, 17], [10, 13], [16, 16], [9, 18...   \n",
       "4996  [[0, 20], [1, 3], [3, 16], [9, 16], [2, 9], [1...   \n",
       "4997  [[0, 20], [11, 14], [6, 15], [11, 14], [10, 12...   \n",
       "4998  [[0, 20], [4, 18], [17, 19], [1, 1], [16, 17],...   \n",
       "4999  [[0, 20], [0, 19], [4, 10], [19, 19], [13, 14]...   \n",
       "\n",
       "                                         Length 20 dgms  \\\n",
       "0     [[0, 20], [3, 4], [15, 15], [13, 17], [8, 14],...   \n",
       "1     [[0, 20], [7, 7], [6, 18], [4, 17], [0, 11], [...   \n",
       "2     [[0, 20], [14, 15], [7, 13], [14, 18], [8, 11]...   \n",
       "3     [[0, 20], [17, 19], [13, 19], [1, 6], [17, 17]...   \n",
       "4     [[0, 20], [3, 8], [8, 19], [15, 15], [19, 19],...   \n",
       "...                                                 ...   \n",
       "4995  [[0, 20], [14, 14], [12, 15], [2, 6], [4, 5], ...   \n",
       "4996  [[0, 20], [1, 4], [9, 13], [8, 10], [17, 17], ...   \n",
       "4997  [[0, 20], [12, 17], [9, 14], [15, 16], [0, 3],...   \n",
       "4998  [[0, 20], [16, 19], [12, 17], [17, 18], [16, 1...   \n",
       "4999  [[0, 20], [2, 10], [4, 4], [2, 9], [16, 16], [...   \n",
       "\n",
       "                                         Length 40 dgms  \\\n",
       "0     [[0, 20], [8, 10], [13, 15], [2, 14], [4, 17],...   \n",
       "1     [[0, 20], [19, 19], [14, 15], [9, 16], [7, 19]...   \n",
       "2     [[0, 20], [16, 17], [17, 17], [18, 18], [4, 4]...   \n",
       "3     [[0, 20], [15, 17], [19, 19], [12, 13], [18, 1...   \n",
       "4     [[0, 20], [11, 15], [6, 12], [7, 10], [11, 19]...   \n",
       "...                                                 ...   \n",
       "4995  [[0, 20], [3, 15], [12, 14], [10, 16], [2, 3],...   \n",
       "4996  [[0, 20], [8, 16], [15, 18], [16, 18], [6, 15]...   \n",
       "4997  [[0, 20], [11, 15], [12, 19], [15, 15], [2, 10...   \n",
       "4998  [[0, 20], [3, 4], [6, 12], [1, 10], [9, 19], [...   \n",
       "4999  [[0, 20], [13, 13], [17, 19], [16, 17], [5, 16...   \n",
       "\n",
       "                                         Length 80 dgms  \n",
       "0     [[0, 20], [13, 14], [6, 18], [1, 18], [5, 11],...  \n",
       "1     [[0, 20], [18, 18], [17, 18], [2, 9], [4, 14],...  \n",
       "2     [[0, 20], [0, 5], [15, 18], [17, 19], [13, 16]...  \n",
       "3     [[0, 20], [0, 7], [15, 19], [5, 18], [8, 13], ...  \n",
       "4     [[0, 20], [6, 9], [8, 11], [16, 16], [11, 14],...  \n",
       "...                                                 ...  \n",
       "4995  [[0, 20], [5, 9], [16, 17], [8, 15], [7, 10], ...  \n",
       "4996  [[0, 20], [17, 18], [16, 19], [8, 13], [2, 11]...  \n",
       "4997  [[0, 20], [2, 14], [0, 9], [0, 5], [14, 19], [...  \n",
       "4998  [[0, 20], [12, 14], [2, 7], [11, 12], [12, 18]...  \n",
       "4999  [[0, 20], [14, 17], [9, 12], [14, 15], [8, 15]...  \n",
       "\n",
       "[5000 rows x 6 columns]"
      ]
     },
     "execution_count": 11,
     "metadata": {},
     "output_type": "execute_result"
    }
   ],
   "source": [
    "timing_dgms = np.empty([5000,6], dtype=object)\n",
    "for j in range(0,5000):\n",
    "    three_dgms = []\n",
    "    six_dgms = []\n",
    "    ten_dgms = []\n",
    "    twenty_dgms = []\n",
    "    forty_dgms = []\n",
    "    eighty_dgms = []\n",
    "    point = [0, 20]\n",
    "    three_dgms.append(point)\n",
    "    six_dgms.append(point)\n",
    "    ten_dgms.append(point)\n",
    "    twenty_dgms.append(point)\n",
    "    forty_dgms.append(point)\n",
    "    eighty_dgms.append(point)\n",
    "    for i in range(0,2):\n",
    "        birth = np.random.randint(0, 20, size=1)\n",
    "        death = np.random.randint(birth, 20, size=1)\n",
    "        point = [birth[0], death[0]]\n",
    "        three_dgms.append(point)\n",
    "    for i in range(0,5):\n",
    "        birth = np.random.randint(0, 20, size=1)\n",
    "        death = np.random.randint(birth, 20, size=1)\n",
    "        point = [birth[0], death[0]]\n",
    "        six_dgms.append(point)\n",
    "    for i in range(0,9):\n",
    "        birth = np.random.randint(0, 20, size=1)\n",
    "        death = np.random.randint(birth, 20, size=1)\n",
    "        point = [birth[0], death[0]]\n",
    "        ten_dgms.append(point)\n",
    "    for i in range(0,19):\n",
    "        birth = np.random.randint(0, 20, size=1)\n",
    "        death = np.random.randint(birth, 20, size=1)\n",
    "        point = [birth[0], death[0]]\n",
    "        twenty_dgms.append(point)\n",
    "    for i in range(0,39):\n",
    "        birth = np.random.randint(0, 20, size=1)\n",
    "        death = np.random.randint(birth, 20, size=1)\n",
    "        point = [birth[0], death[0]]\n",
    "        forty_dgms.append(point)\n",
    "    for i in range(0,79):\n",
    "        birth = np.random.randint(0, 20, size=1)\n",
    "        death = np.random.randint(birth, 20, size=1)\n",
    "        point = [birth[0], death[0]]\n",
    "        eighty_dgms.append(point)\n",
    "    timing_dgms[j,0]=three_dgms\n",
    "    timing_dgms[j,1]=six_dgms\n",
    "    timing_dgms[j,2]=ten_dgms\n",
    "    timing_dgms[j,3]=twenty_dgms\n",
    "    timing_dgms[j,4]=forty_dgms\n",
    "    timing_dgms[j,5]=eighty_dgms\n",
    "timing_dgms = pd.DataFrame(timing_dgms)\n",
    "timing_dgms.columns = ['Length 3 dgms', 'Length 6 dgms', 'Length 10 dgms', 'Length 20 dgms', 'Length 40 dgms', 'Length 80 dgms']\n",
    "timing_dgms"
   ]
  },
  {
   "cell_type": "markdown",
   "metadata": {},
   "source": [
    "### Choose Dimension for Timing Test"
   ]
  },
  {
   "cell_type": "code",
   "execution_count": 12,
   "metadata": {},
   "outputs": [],
   "source": [
    "dgms_3 = timing_dgms['Length 3 dgms']\n",
    "dgms_6 = timing_dgms['Length 6 dgms']\n",
    "dgms_10 = timing_dgms['Length 10 dgms']\n",
    "dgms_20 = timing_dgms['Length 20 dgms']\n",
    "dgms_40 = timing_dgms['Length 40 dgms']\n",
    "dgms_80 = timing_dgms['Length 80 dgms']"
   ]
  },
  {
   "cell_type": "markdown",
   "metadata": {},
   "source": [
    "### Load original persistence images method function from teaspoon and update for parallel flag"
   ]
  },
  {
   "cell_type": "code",
   "execution_count": 13,
   "metadata": {},
   "outputs": [],
   "source": [
    "import numpy as np\n",
    "import matplotlib.pyplot as plt\n",
    "import pandas as pd\n",
    "import matplotlib.pyplot as plt\n",
    "from persim import PersistenceImager\n",
    "from math import pi\n",
    "\n",
    "def F_Image(PD1, PS, var, plot, D_Img=[], pers_imager=None, training=True, parallel=False):\n",
    "    \n",
    "    output = {}\n",
    "    # number of persistence diagrams\n",
    "    N1 = len(PD1)\n",
    "\n",
    "    if training == True:\n",
    "        # adjust the image parameters and compute images\n",
    "        pers_imager = PersistenceImager()\n",
    "        pers_imager.pixel_size = PS\n",
    "        pers_imager.kernel_params = {'sigma': var}\n",
    "\n",
    "        PDs = PD1.tolist()\n",
    "        pers_imager.fit(PDs, skew=True)\n",
    "        if parallel==True:\n",
    "            pers_img = pers_imager.transform(PD1, skew=True, n_jobs=-1)\n",
    "        else:\n",
    "            pers_img = pers_imager.transform(PD1, skew=True)\n",
    "    else:\n",
    "        if parallel==True:\n",
    "            pers_img = pers_imager.transform(PD1, skew=True, n_jobs=-1)\n",
    "        else:\n",
    "            pers_img = pers_imager.transform(PD1, skew=True)\n",
    "\n",
    "    # generate feature matrix\n",
    "    feature_PI = np.zeros(\n",
    "        (N1, len(pers_img[0][:, 0])*len(pers_img[0][0, :])))\n",
    "    for i in range(N1):\n",
    "        feature_PI[i, :] = pers_img[i].flatten()\n",
    "\n",
    "    # plot all images or images of certain persistence diagrams\n",
    "    if plot == True:\n",
    "        fig = []\n",
    "        if D_Img == []:\n",
    "            D_Img = np.arange(1, 2, 1)\n",
    "        for i in range(len(D_Img)):\n",
    "            plt.figure()\n",
    "            ax = plt.gca()\n",
    "            pimgr = PersistenceImager()\n",
    "            pimgr.pixel_size = PS\n",
    "            pimgr.kernel_params = {'sigma': var}\n",
    "            pimgr.fit(PD1[D_Img[i]-1], skew=True)\n",
    "            imgs = pimgr.transform(PD1[D_Img[i]-1], skew=True)\n",
    "            pers_imager.plot_image(imgs, ax)\n",
    "            fig.append(plt.gcf())\n",
    "        output['figures'] = fig\n",
    "\n",
    "    output['F_Matrix'] = feature_PI\n",
    "    output['pers_imager'] = pers_imager\n",
    "\n",
    "    return output"
   ]
  },
  {
   "cell_type": "code",
   "execution_count": 14,
   "metadata": {},
   "outputs": [
    {
     "data": {
      "text/plain": [
       "8"
      ]
     },
     "execution_count": 14,
     "metadata": {},
     "output_type": "execute_result"
    }
   ],
   "source": [
    "import os\n",
    "os.cpu_count()"
   ]
  },
  {
   "cell_type": "markdown",
   "metadata": {},
   "source": [
    "Test Initial Timings for Parallel Performance"
   ]
  },
  {
   "cell_type": "code",
   "execution_count": 15,
   "metadata": {},
   "outputs": [
    {
     "name": "stdout",
     "output_type": "stream",
     "text": [
      "10.3 ms ± 206 µs per loop (mean ± std. dev. of 7 runs, 100 loops each)\n",
      "26 ms ± 987 µs per loop (mean ± std. dev. of 7 runs, 1 loop each)\n"
     ]
    }
   ],
   "source": [
    "dgms_3_train = dgms_3[0:100]\n",
    "%timeit output0 = F_Image(dgms_3_train, PS=1, var=2, plot=False, training=True)\n",
    "%timeit output0 = F_Image(dgms_3_train, PS=1, var=2, plot=False, training=True, parallel=True)"
   ]
  },
  {
   "cell_type": "markdown",
   "metadata": {},
   "source": [
    "### Timing with simulated Datasets"
   ]
  },
  {
   "cell_type": "markdown",
   "metadata": {},
   "source": [
    "Timing for 80 Diagrams"
   ]
  },
  {
   "cell_type": "code",
   "execution_count": 16,
   "metadata": {},
   "outputs": [
    {
     "name": "stdout",
     "output_type": "stream",
     "text": [
      "Finished Training  0\n",
      "Finished Training  1\n",
      "Finished Training  2\n",
      "Finished Training  3\n",
      "Finished Training  4\n",
      "Finished Training  5\n",
      "Finished Training  6\n",
      "Finished Training  7\n",
      "Finished Training  8\n",
      "Finished Training  9\n",
      "Finished Training  10\n",
      "    Observations  Parallel (8 cores)  Single Core\n",
      "0          100.0            0.107374     0.212608\n",
      "1          500.0            0.507855     1.141343\n",
      "2         1000.0            1.014234     2.294976\n",
      "3         1500.0            1.260928     3.215595\n",
      "4         2000.0            1.592594     4.325739\n",
      "5         2500.0            1.898004     5.486685\n",
      "6         3000.0            2.336546     6.502477\n",
      "7         3500.0            2.852809     7.638441\n",
      "8         4000.0            3.132142     8.387134\n",
      "9         4500.0            3.571582     9.502727\n",
      "10        5000.0            4.029349    10.518145\n"
     ]
    }
   ],
   "source": [
    "import time\n",
    "seed = [0,1,2,3,4]\n",
    "train_size = [100, 500,1000,1500, 2000, 2500, 3000, 3500, 4000, 4500, 5000]\n",
    "n = len(train_size)\n",
    "dgm80_timing = np.zeros((n,3))\n",
    "for i in range(0,n):\n",
    "    for j in seed:\n",
    "        dgms_train = dgms_80[0:train_size[i]]\n",
    "        xdgm0_train = np.array(dgms_train)\n",
    "        dgm80_timing[i,0] += len(xdgm0_train)\n",
    "\n",
    "        start = time.time()\n",
    "        output = F_Image(xdgm0_train, PS=1, var=1, plot=False, training=True, parallel=True)\n",
    "        end = time.time()-start\n",
    "        dgm80_timing[i,1] +=end\n",
    "\n",
    "        start = time.time()\n",
    "        output = F_Image(xdgm0_train, PS=1, var=1, plot=False, training=True)\n",
    "        end = time.time()-start\n",
    "        dgm80_timing[i,2] +=end\n",
    "\n",
    "    print(\"Finished Training \", i)\n",
    "dgm80_timing_ps1 = pd.DataFrame(dgm80_timing/5)\n",
    "dgm80_timing_ps1.columns=['Observations', 'Parallel (8 cores)', 'Single Core']\n",
    "print(dgm80_timing_ps1)"
   ]
  },
  {
   "cell_type": "code",
   "execution_count": 17,
   "metadata": {},
   "outputs": [
    {
     "data": {
      "text/plain": [
       "Text(0.5, 1.0, 'Persistence Images Timing - Pixel Size 1')"
      ]
     },
     "execution_count": 17,
     "metadata": {},
     "output_type": "execute_result"
    },
    {
     "data": {
      "image/png": "[encoded data removed]",
      "text/plain": [
       "<Figure size 432x288 with 1 Axes>"
      ]
     },
     "metadata": {
      "needs_background": "light"
     },
     "output_type": "display_data"
    }
   ],
   "source": [
    "t = dgm80_timing_ps1.plot(x='Observations', loglog=True)\n",
    "t.set_xlabel(\"Sample Size (log)\")\n",
    "t.set_ylabel(\"Time in Seconds (log)\")\n",
    "t.set_title(\"Persistence Images Timing - Pixel Size 1\")"
   ]
  },
  {
   "cell_type": "code",
   "execution_count": 18,
   "metadata": {},
   "outputs": [
    {
     "name": "stdout",
     "output_type": "stream",
     "text": [
      "Finished Training  0\n",
      "Finished Training  1\n",
      "Finished Training  2\n",
      "Finished Training  3\n",
      "Finished Training  4\n",
      "Finished Training  5\n",
      "Finished Training  6\n",
      "Finished Training  7\n",
      "Finished Training  8\n",
      "Finished Training  9\n",
      "Finished Training  10\n",
      "    Observations  Parallel (8 cores)  Single Core\n",
      "0          100.0            0.399759     1.249947\n",
      "1          500.0            1.793721     6.231011\n",
      "2         1000.0            3.406255    12.265625\n",
      "3         1500.0            5.240167    18.547642\n",
      "4         2000.0            6.960790    24.742271\n",
      "5         2500.0            9.147125    34.165844\n",
      "6         3000.0           12.287266    43.275872\n",
      "7         3500.0           11.959029    47.868815\n",
      "8         4000.0           16.000203    54.353350\n",
      "9         4500.0           17.861273    62.059095\n",
      "10        5000.0           16.474164    68.658045\n"
     ]
    }
   ],
   "source": [
    "import time\n",
    "seed = [0,1,2,3,4]\n",
    "train_size = [100, 500,1000,1500, 2000, 2500, 3000, 3500, 4000, 4500, 5000]\n",
    "n = len(train_size)\n",
    "dgm80_timing = np.zeros((n,3))\n",
    "for i in range(0,n):\n",
    "    for j in seed:\n",
    "        dgms_train = dgms_80[0:train_size[i]]\n",
    "        xdgm0_train = np.array(dgms_train)\n",
    "        dgm80_timing[i,0] += len(xdgm0_train)\n",
    "\n",
    "        start = time.time()\n",
    "        output = F_Image(xdgm0_train, PS=.1, var=1, plot=False, training=True, parallel=True)\n",
    "        end = time.time()-start\n",
    "        dgm80_timing[i,1] +=end\n",
    "\n",
    "        start = time.time()\n",
    "        output = F_Image(xdgm0_train, PS=.1, var=1, plot=False, training=True)\n",
    "        end = time.time()-start\n",
    "        dgm80_timing[i,2] +=end\n",
    "\n",
    "    print(\"Finished Training \", i)\n",
    "dgm80_timing_ps1 = pd.DataFrame(dgm80_timing/5)\n",
    "dgm80_timing_ps1.columns=['Observations', 'Parallel (8 cores)', 'Single Core']\n",
    "print(dgm80_timing_ps1)"
   ]
  },
  {
   "cell_type": "code",
   "execution_count": 19,
   "metadata": {},
   "outputs": [
    {
     "data": {
      "text/plain": [
       "Text(0.5, 1.0, 'Persistence Images Timing - Pixel Size .1')"
      ]
     },
     "execution_count": 19,
     "metadata": {},
     "output_type": "execute_result"
    },
    {
     "data": {
      "image/png": "[encoded data removed]",
      "text/plain": [
       "<Figure size 432x288 with 1 Axes>"
      ]
     },
     "metadata": {
      "needs_background": "light"
     },
     "output_type": "display_data"
    }
   ],
   "source": [
    "t = dgm80_timing_ps1.plot(x='Observations',loglog=True)\n",
    "t.set_xlabel(\"Sample Size (log)\")\n",
    "t.set_ylabel(\"Time in Seconds (log)\")\n",
    "t.set_title(\"Persistence Images Timing - Pixel Size .1\")"
   ]
  }
 ],
 "metadata": {
  "kernelspec": {
   "display_name": ".venv",
   "language": "python",
   "name": "python3"
  },
  "language_info": {
   "codemirror_mode": {
    "name": "ipython",
    "version": 3
   },
   "file_extension": ".py",
   "mimetype": "text/x-python",
   "name": "python",
   "nbconvert_exporter": "python",
   "pygments_lexer": "ipython3",
   "version": "3.8.8"
  }
 },
 "nbformat": 4,
 "nbformat_minor": 2
}
