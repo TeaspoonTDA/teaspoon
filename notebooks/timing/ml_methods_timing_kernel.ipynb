{
 "cells": [
  {
   "cell_type": "markdown",
   "metadata": {},
   "source": [
    "## Load Libraries"
   ]
  },
  {
   "cell_type": "code",
   "execution_count": 1,
   "metadata": {},
   "outputs": [],
   "source": [
    "import numpy as np\n",
    "import pandas as pd\n",
    "import numba"
   ]
  },
  {
   "cell_type": "markdown",
   "metadata": {},
   "source": [
    "Create Dataset for Timing"
   ]
  },
  {
   "cell_type": "code",
   "execution_count": 2,
   "metadata": {},
   "outputs": [
    {
     "data": {
      "text/html": [
       "<div>\n",
       "<style scoped>\n",
       "    .dataframe tbody tr th:only-of-type {\n",
       "        vertical-align: middle;\n",
       "    }\n",
       "\n",
       "    .dataframe tbody tr th {\n",
       "        vertical-align: top;\n",
       "    }\n",
       "\n",
       "    .dataframe thead th {\n",
       "        text-align: right;\n",
       "    }\n",
       "</style>\n",
       "<table border=\"1\" class=\"dataframe\">\n",
       "  <thead>\n",
       "    <tr style=\"text-align: right;\">\n",
       "      <th></th>\n",
       "      <th>Length 3 dgms</th>\n",
       "      <th>Length 6 dgms</th>\n",
       "      <th>Length 10 dgms</th>\n",
       "      <th>Length 20 dgms</th>\n",
       "      <th>Length 40 dgms</th>\n",
       "      <th>Length 80 dgms</th>\n",
       "      <th>Length 300 dgms</th>\n",
       "      <th>Random Diagram Size</th>\n",
       "    </tr>\n",
       "  </thead>\n",
       "  <tbody>\n",
       "    <tr>\n",
       "      <th>0</th>\n",
       "      <td>[[0, 20], [19, 19], [11, 16]]</td>\n",
       "      <td>[[0, 20], [11, 13], [1, 19], [8, 11], [7, 15],...</td>\n",
       "      <td>[[0, 20], [13, 16], [7, 9], [11, 11], [16, 16]...</td>\n",
       "      <td>[[0, 20], [16, 16], [11, 18], [10, 19], [7, 13...</td>\n",
       "      <td>[[0, 20], [13, 16], [14, 15], [12, 17], [15, 1...</td>\n",
       "      <td>[[0, 20], [4, 14], [14, 18], [12, 18], [1, 7],...</td>\n",
       "      <td>[[0, 20], [9, 11], [8, 14], [18, 18], [5, 18],...</td>\n",
       "      <td>[[0, 20], [13, 19], [11, 18], [11, 18], [13, 1...</td>\n",
       "    </tr>\n",
       "    <tr>\n",
       "      <th>1</th>\n",
       "      <td>[[0, 20], [3, 17], [10, 14]]</td>\n",
       "      <td>[[0, 20], [15, 17], [4, 14], [8, 9], [10, 15],...</td>\n",
       "      <td>[[0, 20], [10, 11], [18, 18], [18, 18], [17, 1...</td>\n",
       "      <td>[[0, 20], [8, 10], [14, 19], [1, 8], [0, 1], [...</td>\n",
       "      <td>[[0, 20], [8, 16], [5, 19], [18, 19], [8, 9], ...</td>\n",
       "      <td>[[0, 20], [6, 15], [17, 19], [16, 19], [9, 17]...</td>\n",
       "      <td>[[0, 20], [14, 16], [4, 15], [13, 19], [11, 15...</td>\n",
       "      <td>[[0, 20], [1, 18], [14, 17], [18, 18], [17, 19...</td>\n",
       "    </tr>\n",
       "    <tr>\n",
       "      <th>2</th>\n",
       "      <td>[[0, 20], [4, 13], [12, 19]]</td>\n",
       "      <td>[[0, 20], [3, 14], [17, 18], [14, 14], [1, 17]...</td>\n",
       "      <td>[[0, 20], [9, 10], [1, 15], [9, 12], [6, 13], ...</td>\n",
       "      <td>[[0, 20], [4, 15], [4, 12], [4, 11], [0, 10], ...</td>\n",
       "      <td>[[0, 20], [7, 13], [2, 7], [19, 19], [4, 13], ...</td>\n",
       "      <td>[[0, 20], [8, 12], [3, 10], [5, 8], [12, 13], ...</td>\n",
       "      <td>[[0, 20], [0, 15], [16, 17], [17, 17], [14, 15...</td>\n",
       "      <td>[[0, 20], [17, 17], [10, 11], [9, 12], [9, 18]...</td>\n",
       "    </tr>\n",
       "    <tr>\n",
       "      <th>3</th>\n",
       "      <td>[[0, 20], [3, 4], [0, 10]]</td>\n",
       "      <td>[[0, 20], [4, 8], [13, 14], [12, 14], [7, 18],...</td>\n",
       "      <td>[[0, 20], [7, 13], [2, 18], [18, 19], [8, 14],...</td>\n",
       "      <td>[[0, 20], [13, 17], [6, 7], [7, 13], [8, 11], ...</td>\n",
       "      <td>[[0, 20], [13, 14], [0, 18], [1, 19], [17, 19]...</td>\n",
       "      <td>[[0, 20], [12, 18], [19, 19], [2, 9], [15, 16]...</td>\n",
       "      <td>[[0, 20], [8, 19], [3, 9], [14, 16], [11, 19],...</td>\n",
       "      <td>[[0, 20], [17, 17], [16, 18], [9, 18], [10, 13...</td>\n",
       "    </tr>\n",
       "    <tr>\n",
       "      <th>4</th>\n",
       "      <td>[[0, 20], [6, 7], [19, 19]]</td>\n",
       "      <td>[[0, 20], [15, 16], [6, 17], [1, 18], [6, 10],...</td>\n",
       "      <td>[[0, 20], [7, 19], [2, 19], [9, 12], [13, 19],...</td>\n",
       "      <td>[[0, 20], [0, 9], [14, 17], [6, 13], [3, 16], ...</td>\n",
       "      <td>[[0, 20], [12, 18], [15, 15], [0, 3], [5, 6], ...</td>\n",
       "      <td>[[0, 20], [4, 19], [10, 13], [0, 9], [8, 19], ...</td>\n",
       "      <td>[[0, 20], [12, 16], [16, 16], [11, 17], [0, 5]...</td>\n",
       "      <td>[[0, 20], [9, 9], [8, 16], [14, 19], [7, 11], ...</td>\n",
       "    </tr>\n",
       "    <tr>\n",
       "      <th>...</th>\n",
       "      <td>...</td>\n",
       "      <td>...</td>\n",
       "      <td>...</td>\n",
       "      <td>...</td>\n",
       "      <td>...</td>\n",
       "      <td>...</td>\n",
       "      <td>...</td>\n",
       "      <td>...</td>\n",
       "    </tr>\n",
       "    <tr>\n",
       "      <th>995</th>\n",
       "      <td>[[0, 20], [10, 18], [12, 13]]</td>\n",
       "      <td>[[0, 20], [4, 9], [13, 15], [7, 15], [16, 19],...</td>\n",
       "      <td>[[0, 20], [7, 16], [2, 2], [2, 9], [9, 9], [12...</td>\n",
       "      <td>[[0, 20], [16, 18], [3, 11], [17, 17], [8, 16]...</td>\n",
       "      <td>[[0, 20], [14, 18], [14, 18], [8, 12], [6, 6],...</td>\n",
       "      <td>[[0, 20], [0, 6], [6, 11], [16, 19], [2, 6], [...</td>\n",
       "      <td>[[0, 20], [4, 14], [17, 18], [6, 17], [2, 18],...</td>\n",
       "      <td>[[0, 20], [0, 3], [18, 18], [9, 18], [3, 5], [...</td>\n",
       "    </tr>\n",
       "    <tr>\n",
       "      <th>996</th>\n",
       "      <td>[[0, 20], [4, 11], [0, 5]]</td>\n",
       "      <td>[[0, 20], [4, 13], [11, 18], [19, 19], [14, 17...</td>\n",
       "      <td>[[0, 20], [4, 4], [3, 12], [7, 9], [10, 13], [...</td>\n",
       "      <td>[[0, 20], [11, 14], [7, 11], [13, 19], [9, 19]...</td>\n",
       "      <td>[[0, 20], [14, 15], [10, 19], [10, 17], [1, 2]...</td>\n",
       "      <td>[[0, 20], [13, 17], [10, 14], [3, 18], [18, 18...</td>\n",
       "      <td>[[0, 20], [10, 10], [11, 17], [6, 8], [6, 13],...</td>\n",
       "      <td>[[0, 20], [18, 19], [16, 17], [6, 6], [1, 15],...</td>\n",
       "    </tr>\n",
       "    <tr>\n",
       "      <th>997</th>\n",
       "      <td>[[0, 20], [14, 15], [17, 17]]</td>\n",
       "      <td>[[0, 20], [3, 8], [8, 14], [10, 16], [1, 17], ...</td>\n",
       "      <td>[[0, 20], [6, 12], [14, 15], [19, 19], [10, 18...</td>\n",
       "      <td>[[0, 20], [4, 13], [15, 18], [1, 14], [16, 16]...</td>\n",
       "      <td>[[0, 20], [11, 16], [2, 19], [12, 19], [5, 9],...</td>\n",
       "      <td>[[0, 20], [0, 12], [4, 5], [18, 19], [5, 16], ...</td>\n",
       "      <td>[[0, 20], [18, 19], [7, 12], [16, 17], [1, 18]...</td>\n",
       "      <td>[[0, 20], [14, 16], [16, 19], [2, 2], [9, 19],...</td>\n",
       "    </tr>\n",
       "    <tr>\n",
       "      <th>998</th>\n",
       "      <td>[[0, 20], [13, 16], [17, 19]]</td>\n",
       "      <td>[[0, 20], [4, 19], [0, 8], [19, 19], [1, 18], ...</td>\n",
       "      <td>[[0, 20], [3, 14], [6, 18], [12, 16], [13, 17]...</td>\n",
       "      <td>[[0, 20], [2, 5], [7, 8], [2, 16], [9, 10], [4...</td>\n",
       "      <td>[[0, 20], [2, 16], [13, 19], [11, 17], [1, 17]...</td>\n",
       "      <td>[[0, 20], [12, 14], [5, 13], [9, 13], [2, 12],...</td>\n",
       "      <td>[[0, 20], [17, 19], [16, 19], [7, 19], [7, 19]...</td>\n",
       "      <td>[[0, 20], [9, 15], [14, 17], [8, 16], [10, 10]...</td>\n",
       "    </tr>\n",
       "    <tr>\n",
       "      <th>999</th>\n",
       "      <td>[[0, 20], [3, 8], [10, 12]]</td>\n",
       "      <td>[[0, 20], [3, 9], [14, 18], [18, 19], [13, 15]...</td>\n",
       "      <td>[[0, 20], [10, 16], [7, 8], [4, 13], [14, 14],...</td>\n",
       "      <td>[[0, 20], [9, 10], [3, 5], [13, 17], [3, 16], ...</td>\n",
       "      <td>[[0, 20], [1, 12], [18, 18], [15, 16], [15, 16...</td>\n",
       "      <td>[[0, 20], [16, 16], [2, 2], [18, 18], [1, 16],...</td>\n",
       "      <td>[[0, 20], [8, 12], [8, 19], [14, 17], [15, 18]...</td>\n",
       "      <td>[[0, 20], [3, 10], [17, 18], [5, 10], [3, 4], ...</td>\n",
       "    </tr>\n",
       "  </tbody>\n",
       "</table>\n",
       "<p>1000 rows × 8 columns</p>\n",
       "</div>"
      ],
      "text/plain": [
       "                     Length 3 dgms  \\\n",
       "0    [[0, 20], [19, 19], [11, 16]]   \n",
       "1     [[0, 20], [3, 17], [10, 14]]   \n",
       "2     [[0, 20], [4, 13], [12, 19]]   \n",
       "3       [[0, 20], [3, 4], [0, 10]]   \n",
       "4      [[0, 20], [6, 7], [19, 19]]   \n",
       "..                             ...   \n",
       "995  [[0, 20], [10, 18], [12, 13]]   \n",
       "996     [[0, 20], [4, 11], [0, 5]]   \n",
       "997  [[0, 20], [14, 15], [17, 17]]   \n",
       "998  [[0, 20], [13, 16], [17, 19]]   \n",
       "999    [[0, 20], [3, 8], [10, 12]]   \n",
       "\n",
       "                                         Length 6 dgms  \\\n",
       "0    [[0, 20], [11, 13], [1, 19], [8, 11], [7, 15],...   \n",
       "1    [[0, 20], [15, 17], [4, 14], [8, 9], [10, 15],...   \n",
       "2    [[0, 20], [3, 14], [17, 18], [14, 14], [1, 17]...   \n",
       "3    [[0, 20], [4, 8], [13, 14], [12, 14], [7, 18],...   \n",
       "4    [[0, 20], [15, 16], [6, 17], [1, 18], [6, 10],...   \n",
       "..                                                 ...   \n",
       "995  [[0, 20], [4, 9], [13, 15], [7, 15], [16, 19],...   \n",
       "996  [[0, 20], [4, 13], [11, 18], [19, 19], [14, 17...   \n",
       "997  [[0, 20], [3, 8], [8, 14], [10, 16], [1, 17], ...   \n",
       "998  [[0, 20], [4, 19], [0, 8], [19, 19], [1, 18], ...   \n",
       "999  [[0, 20], [3, 9], [14, 18], [18, 19], [13, 15]...   \n",
       "\n",
       "                                        Length 10 dgms  \\\n",
       "0    [[0, 20], [13, 16], [7, 9], [11, 11], [16, 16]...   \n",
       "1    [[0, 20], [10, 11], [18, 18], [18, 18], [17, 1...   \n",
       "2    [[0, 20], [9, 10], [1, 15], [9, 12], [6, 13], ...   \n",
       "3    [[0, 20], [7, 13], [2, 18], [18, 19], [8, 14],...   \n",
       "4    [[0, 20], [7, 19], [2, 19], [9, 12], [13, 19],...   \n",
       "..                                                 ...   \n",
       "995  [[0, 20], [7, 16], [2, 2], [2, 9], [9, 9], [12...   \n",
       "996  [[0, 20], [4, 4], [3, 12], [7, 9], [10, 13], [...   \n",
       "997  [[0, 20], [6, 12], [14, 15], [19, 19], [10, 18...   \n",
       "998  [[0, 20], [3, 14], [6, 18], [12, 16], [13, 17]...   \n",
       "999  [[0, 20], [10, 16], [7, 8], [4, 13], [14, 14],...   \n",
       "\n",
       "                                        Length 20 dgms  \\\n",
       "0    [[0, 20], [16, 16], [11, 18], [10, 19], [7, 13...   \n",
       "1    [[0, 20], [8, 10], [14, 19], [1, 8], [0, 1], [...   \n",
       "2    [[0, 20], [4, 15], [4, 12], [4, 11], [0, 10], ...   \n",
       "3    [[0, 20], [13, 17], [6, 7], [7, 13], [8, 11], ...   \n",
       "4    [[0, 20], [0, 9], [14, 17], [6, 13], [3, 16], ...   \n",
       "..                                                 ...   \n",
       "995  [[0, 20], [16, 18], [3, 11], [17, 17], [8, 16]...   \n",
       "996  [[0, 20], [11, 14], [7, 11], [13, 19], [9, 19]...   \n",
       "997  [[0, 20], [4, 13], [15, 18], [1, 14], [16, 16]...   \n",
       "998  [[0, 20], [2, 5], [7, 8], [2, 16], [9, 10], [4...   \n",
       "999  [[0, 20], [9, 10], [3, 5], [13, 17], [3, 16], ...   \n",
       "\n",
       "                                        Length 40 dgms  \\\n",
       "0    [[0, 20], [13, 16], [14, 15], [12, 17], [15, 1...   \n",
       "1    [[0, 20], [8, 16], [5, 19], [18, 19], [8, 9], ...   \n",
       "2    [[0, 20], [7, 13], [2, 7], [19, 19], [4, 13], ...   \n",
       "3    [[0, 20], [13, 14], [0, 18], [1, 19], [17, 19]...   \n",
       "4    [[0, 20], [12, 18], [15, 15], [0, 3], [5, 6], ...   \n",
       "..                                                 ...   \n",
       "995  [[0, 20], [14, 18], [14, 18], [8, 12], [6, 6],...   \n",
       "996  [[0, 20], [14, 15], [10, 19], [10, 17], [1, 2]...   \n",
       "997  [[0, 20], [11, 16], [2, 19], [12, 19], [5, 9],...   \n",
       "998  [[0, 20], [2, 16], [13, 19], [11, 17], [1, 17]...   \n",
       "999  [[0, 20], [1, 12], [18, 18], [15, 16], [15, 16...   \n",
       "\n",
       "                                        Length 80 dgms  \\\n",
       "0    [[0, 20], [4, 14], [14, 18], [12, 18], [1, 7],...   \n",
       "1    [[0, 20], [6, 15], [17, 19], [16, 19], [9, 17]...   \n",
       "2    [[0, 20], [8, 12], [3, 10], [5, 8], [12, 13], ...   \n",
       "3    [[0, 20], [12, 18], [19, 19], [2, 9], [15, 16]...   \n",
       "4    [[0, 20], [4, 19], [10, 13], [0, 9], [8, 19], ...   \n",
       "..                                                 ...   \n",
       "995  [[0, 20], [0, 6], [6, 11], [16, 19], [2, 6], [...   \n",
       "996  [[0, 20], [13, 17], [10, 14], [3, 18], [18, 18...   \n",
       "997  [[0, 20], [0, 12], [4, 5], [18, 19], [5, 16], ...   \n",
       "998  [[0, 20], [12, 14], [5, 13], [9, 13], [2, 12],...   \n",
       "999  [[0, 20], [16, 16], [2, 2], [18, 18], [1, 16],...   \n",
       "\n",
       "                                       Length 300 dgms  \\\n",
       "0    [[0, 20], [9, 11], [8, 14], [18, 18], [5, 18],...   \n",
       "1    [[0, 20], [14, 16], [4, 15], [13, 19], [11, 15...   \n",
       "2    [[0, 20], [0, 15], [16, 17], [17, 17], [14, 15...   \n",
       "3    [[0, 20], [8, 19], [3, 9], [14, 16], [11, 19],...   \n",
       "4    [[0, 20], [12, 16], [16, 16], [11, 17], [0, 5]...   \n",
       "..                                                 ...   \n",
       "995  [[0, 20], [4, 14], [17, 18], [6, 17], [2, 18],...   \n",
       "996  [[0, 20], [10, 10], [11, 17], [6, 8], [6, 13],...   \n",
       "997  [[0, 20], [18, 19], [7, 12], [16, 17], [1, 18]...   \n",
       "998  [[0, 20], [17, 19], [16, 19], [7, 19], [7, 19]...   \n",
       "999  [[0, 20], [8, 12], [8, 19], [14, 17], [15, 18]...   \n",
       "\n",
       "                                   Random Diagram Size  \n",
       "0    [[0, 20], [13, 19], [11, 18], [11, 18], [13, 1...  \n",
       "1    [[0, 20], [1, 18], [14, 17], [18, 18], [17, 19...  \n",
       "2    [[0, 20], [17, 17], [10, 11], [9, 12], [9, 18]...  \n",
       "3    [[0, 20], [17, 17], [16, 18], [9, 18], [10, 13...  \n",
       "4    [[0, 20], [9, 9], [8, 16], [14, 19], [7, 11], ...  \n",
       "..                                                 ...  \n",
       "995  [[0, 20], [0, 3], [18, 18], [9, 18], [3, 5], [...  \n",
       "996  [[0, 20], [18, 19], [16, 17], [6, 6], [1, 15],...  \n",
       "997  [[0, 20], [14, 16], [16, 19], [2, 2], [9, 19],...  \n",
       "998  [[0, 20], [9, 15], [14, 17], [8, 16], [10, 10]...  \n",
       "999  [[0, 20], [3, 10], [17, 18], [5, 10], [3, 4], ...  \n",
       "\n",
       "[1000 rows x 8 columns]"
      ]
     },
     "execution_count": 2,
     "metadata": {},
     "output_type": "execute_result"
    }
   ],
   "source": [
    "timing_dgms = np.empty([1000,8], dtype=object)\n",
    "for j in range(0,1000):\n",
    "    three_dgms = []\n",
    "    six_dgms = []\n",
    "    ten_dgms = []\n",
    "    twenty_dgms = []\n",
    "    forty_dgms = []\n",
    "    eighty_dgms = []\n",
    "    threehundred_dgms = []\n",
    "    random_dgms = []\n",
    "    point = [0, 20]\n",
    "    three_dgms.append(point)\n",
    "    six_dgms.append(point)\n",
    "    ten_dgms.append(point)\n",
    "    twenty_dgms.append(point)\n",
    "    forty_dgms.append(point)\n",
    "    eighty_dgms.append(point)\n",
    "    threehundred_dgms.append(point)\n",
    "    random_dgms.append(point)\n",
    "    for i in range(0,2):\n",
    "        birth = np.random.randint(0, 20, size=1)\n",
    "        death = np.random.randint(birth, 20, size=1)\n",
    "        point = [birth[0], death[0]]\n",
    "        three_dgms.append(point)\n",
    "    for i in range(0,5):\n",
    "        birth = np.random.randint(0, 20, size=1)\n",
    "        death = np.random.randint(birth, 20, size=1)\n",
    "        point = [birth[0], death[0]]\n",
    "        six_dgms.append(point)\n",
    "    for i in range(0,9):\n",
    "        birth = np.random.randint(0, 20, size=1)\n",
    "        death = np.random.randint(birth, 20, size=1)\n",
    "        point = [birth[0], death[0]]\n",
    "        ten_dgms.append(point)\n",
    "    for i in range(0,19):\n",
    "        birth = np.random.randint(0, 20, size=1)\n",
    "        death = np.random.randint(birth, 20, size=1)\n",
    "        point = [birth[0], death[0]]\n",
    "        twenty_dgms.append(point)\n",
    "    for i in range(0,39):\n",
    "        birth = np.random.randint(0, 20, size=1)\n",
    "        death = np.random.randint(birth, 20, size=1)\n",
    "        point = [birth[0], death[0]]\n",
    "        forty_dgms.append(point)\n",
    "    for i in range(0,79):\n",
    "        birth = np.random.randint(0, 20, size=1)\n",
    "        death = np.random.randint(birth, 20, size=1)\n",
    "        point = [birth[0], death[0]]\n",
    "        eighty_dgms.append(point)\n",
    "    for i in range(0,299):\n",
    "        birth = np.random.randint(0, 20, size=1)\n",
    "        death = np.random.randint(birth, 20, size=1)\n",
    "        point = [birth[0], death[0]]\n",
    "        threehundred_dgms.append(point)\n",
    "    r = np.random.randint(low=2, high=100, size=1)\n",
    "    for i in range(0,r[0]):\n",
    "        birth = np.random.randint(0, 20, size=1)\n",
    "        death = np.random.randint(birth, 20, size=1)\n",
    "        point = [birth[0], death[0]]\n",
    "        random_dgms.append(point)\n",
    "    timing_dgms[j,0]=three_dgms\n",
    "    timing_dgms[j,1]=six_dgms\n",
    "    timing_dgms[j,2]=ten_dgms\n",
    "    timing_dgms[j,3]=twenty_dgms\n",
    "    timing_dgms[j,4]=forty_dgms\n",
    "    timing_dgms[j,5]=eighty_dgms\n",
    "    timing_dgms[j,6]=threehundred_dgms\n",
    "    timing_dgms[j,7]=random_dgms\n",
    "timing_dgms = pd.DataFrame(timing_dgms)\n",
    "timing_dgms.columns = ['Length 3 dgms', 'Length 6 dgms', 'Length 10 dgms', 'Length 20 dgms', 'Length 40 dgms', 'Length 80 dgms', 'Length 300 dgms','Random Diagram Size']\n",
    "timing_dgms"
   ]
  },
  {
   "cell_type": "code",
   "execution_count": 3,
   "metadata": {},
   "outputs": [],
   "source": [
    "dgms_3 = timing_dgms['Length 3 dgms']\n",
    "dgms_6 = timing_dgms['Length 6 dgms']\n",
    "dgms_10 = timing_dgms['Length 10 dgms']\n",
    "dgms_20 = timing_dgms['Length 20 dgms']\n",
    "dgms_40 = timing_dgms['Length 40 dgms']\n",
    "dgms_80 = timing_dgms['Length 80 dgms']\n",
    "dgms_300 = timing_dgms['Length 300 dgms']\n",
    "dgms_random = timing_dgms['Random Diagram Size']"
   ]
  },
  {
   "cell_type": "markdown",
   "metadata": {},
   "source": [
    "### Load original kernel method function from teaspoon"
   ]
  },
  {
   "cell_type": "code",
   "execution_count": 4,
   "metadata": {},
   "outputs": [],
   "source": [
    "import numpy as np\n",
    "import math\n",
    "from numpy.linalg import norm as lnorm\n",
    "from math import pi\n",
    "\n",
    "def KernelMethod(perDgm1, perDgm2, sigma):\n",
    "    \n",
    "    L1 = len(perDgm1)\n",
    "    L2 = len(perDgm2)\n",
    "    kernel = np.zeros((L2, L1))\n",
    "\n",
    "    Kernel = 0\n",
    "\n",
    "    for i in range(0, L1):\n",
    "        p = np.array(perDgm1[i])\n",
    "        for j in range(0, L2):\n",
    "            q = perDgm2[j]\n",
    "            q_bar = np.zeros((1, 2))\n",
    "            q_bar[0,0] = np.array(q[1])\n",
    "            q_bar[0,1] = np.array(q[0])\n",
    "            dist1 = lnorm(p-q)\n",
    "            dist2 = lnorm(p-q_bar)\n",
    "            kernel[j, i] = np.exp(-(math.pow(dist1, 2))/(8*sigma)) - \\\n",
    "                    np.exp(-(math.pow(dist2, 2))/(8*sigma))\n",
    "            Kernel = Kernel+kernel[j, i]\n",
    "    Kernel = Kernel*(1/(8*pi*sigma))\n",
    "\n",
    "    return Kernel\n",
    "\n",
    "def heat_kernel_distance(dgm0, dgm1, sigma=.4):\n",
    "    return np.sqrt(KernelMethod(dgm0, dgm0, sigma) + KernelMethod(dgm1, dgm1, sigma) - 2*KernelMethod(dgm0, dgm1, sigma))\n",
    "\n",
    "def kernel_features(train, s, distance=True):\n",
    "    import time\n",
    "    import numpy as np\n",
    "    n_train = len(train)\n",
    "    X_train_features = np.zeros((n_train, n_train))\n",
    "\n",
    "    for i in range(0,n_train):\n",
    "        for j in range(0,i+1):\n",
    "            dgm0 = train[i]\n",
    "            dgm1 = train[j]\n",
    "            if distance==True:\n",
    "                hka = heat_kernel_distance(dgm0, dgm1, sigma = s) \n",
    "                X_train_features[i,j] = hka\n",
    "                X_train_features[j,i] = hka\n",
    "            else:\n",
    "                hka = KernelMethod(dgm0, dgm1, sigma=s)\n",
    "                X_train_features[i,j] = hka\n",
    "                X_train_features[j,i] = hka\n",
    "\n",
    "    return X_train_features"
   ]
  },
  {
   "cell_type": "code",
   "execution_count": 5,
   "metadata": {},
   "outputs": [],
   "source": [
    "test_rdm = dgms_random[0:5]"
   ]
  },
  {
   "cell_type": "code",
   "execution_count": 6,
   "metadata": {},
   "outputs": [
    {
     "data": {
      "text/plain": [
       "array([[0.        , 1.8174386 , 2.5536096 , 5.29837334, 3.83799544],\n",
       "       [1.8174386 , 0.        , 2.54395078, 5.2576182 , 3.64498814],\n",
       "       [2.5536096 , 2.54395078, 0.        , 4.74804473, 3.26268255],\n",
       "       [5.29837334, 5.2576182 , 4.74804473, 0.        , 3.34280283],\n",
       "       [3.83799544, 3.64498814, 3.26268255, 3.34280283, 0.        ]])"
      ]
     },
     "execution_count": 6,
     "metadata": {},
     "output_type": "execute_result"
    }
   ],
   "source": [
    "kernel_features(test_rdm, .4)"
   ]
  },
  {
   "cell_type": "code",
   "execution_count": 7,
   "metadata": {},
   "outputs": [],
   "source": [
    "import copy\n",
    "def reshape_to_array(diagrams):\n",
    "    dgms = copy.deepcopy(diagrams)\n",
    "    d0 = len(dgms)\n",
    "    d1 = 0\n",
    "    d2 = 2\n",
    "    for i in range(0, d0):\n",
    "        d1 = max(d1, len(dgms[i]))\n",
    "    for i in range(0,d0):\n",
    "        d = len(dgms[i])\n",
    "        if d==d1:\n",
    "            continue\n",
    "        for k in range(0, d1-d):\n",
    "            dgms[i].append([-1,-1])\n",
    "    dgms_array = []\n",
    "    for i in range(0, d0):\n",
    "        dgms_array.append(np.array(dgms[i]))\n",
    "    return np.reshape(dgms_array, (d0, d1, d2))\n"
   ]
  },
  {
   "cell_type": "code",
   "execution_count": 8,
   "metadata": {},
   "outputs": [
    {
     "name": "stderr",
     "output_type": "stream",
     "text": [
      "OMP: Info #270: omp_set_nested routine deprecated, please use omp_set_max_active_levels instead.\n"
     ]
    }
   ],
   "source": [
    "from numba import guvectorize\n",
    "@guvectorize([\"void(float64[:,:,:], float64[:,:], float64, float64[:])\",],\"(p,m,n), (m,n), ()->(p)\", target='parallel', nopython=True)\n",
    "def guvectorize_kernel_parallel(dgms0, dgms1, s, result):\n",
    "    n_train = len(dgms0)\n",
    "    n_test = len(dgms1)\n",
    "    for i in range(n_train):\n",
    "        dgm0=dgms0[i]\n",
    "        dgm1 = dgms1\n",
    "        kSigma0 = 0\n",
    "        kSigma1 = 0\n",
    "        kSigma2 = 0\n",
    "        sigma = s\n",
    "        for k in range(dgm0.shape[0]):\n",
    "            p = dgm0[k,0:2]\n",
    "            if np.sum(p)==-2:\n",
    "                continue\n",
    "            for l in range(dgm0.shape[0]):\n",
    "                q = dgm0[l,0:2]\n",
    "                if np.sum(q)==-2:\n",
    "                    continue\n",
    "                qc = dgm0[l, 1::-1]\n",
    "                pq = (p[0] - q[0])**2 + (p[1] - q[1])**2\n",
    "                pqc = (p[0] - qc[0])**2 + (p[1] - qc[1])**2\n",
    "                kSigma0 += math.exp(-( pq) / (8 * sigma)) - math.exp(-(pqc) / (8 * sigma))\n",
    "        for k in range(dgm1.shape[0]):\n",
    "            p = dgm1[k,0:2]\n",
    "            if np.sum(p)==-2:\n",
    "                continue\n",
    "            for l in range(dgm1.shape[0]):\n",
    "                q = dgm1[l,0:2]\n",
    "                if np.sum(q)==-2:\n",
    "                    continue\n",
    "                qc = dgm1[l, 1::-1]\n",
    "                pq = (p[0] - q[0])**2 + (p[1] - q[1])**2\n",
    "                pqc = (p[0] - qc[0])**2 + (p[1] - qc[1])**2\n",
    "                kSigma1 += math.exp(-( pq) / (8 * sigma)) - math.exp(-(pqc) / (8 * sigma))\n",
    "        for k in range(dgm0.shape[0]):\n",
    "            p = dgm0[k,0:2]\n",
    "            if np.sum(p)==-2:\n",
    "                continue\n",
    "            for l in range(dgm1.shape[0]):\n",
    "                q = dgm1[l,0:2]\n",
    "                if np.sum(q)==-2:\n",
    "                    continue\n",
    "                qc = dgm1[l, 1::-1]\n",
    "                pq = (p[0] - q[0])**2 + (p[1] - q[1])**2\n",
    "                pqc = (p[0] - qc[0])**2 + (p[1] - qc[1])**2\n",
    "                kSigma2 += math.exp(-( pq) / (8 * sigma)) - math.exp(-(pqc) / (8 * sigma))\n",
    "\n",
    "        kSigma0 = kSigma0/(8 * np.pi * sigma)\n",
    "        kSigma1 = kSigma1/(8 * np.pi * sigma)\n",
    "        kSigma2 = kSigma2/(8 * np.pi * sigma)\n",
    "        result[i] = math.sqrt(kSigma1 + kSigma0-2*kSigma2)"
   ]
  },
  {
   "cell_type": "code",
   "execution_count": 9,
   "metadata": {},
   "outputs": [],
   "source": [
    "from numba import guvectorize\n",
    "@guvectorize([\"void(float64[:,:,:], float64[:,:], float64, float64[:])\",],\"(p,m,n), (m,n), ()->(p)\", target='cpu', nopython=True)\n",
    "def guvectorize_kernel(dgms0, dgms1, s, result):\n",
    "    n_train = len(dgms0)\n",
    "    n_test = len(dgms1)\n",
    "    for i in range(n_train):\n",
    "        dgm0=dgms0[i]\n",
    "        dgm1 = dgms1\n",
    "        kSigma0 = 0\n",
    "        kSigma1 = 0\n",
    "        kSigma2 = 0\n",
    "        sigma = s\n",
    "        for k in range(dgm0.shape[0]):\n",
    "            p = dgm0[k,0:2]\n",
    "            if np.sum(p)==-2:\n",
    "                continue\n",
    "            for l in range(dgm0.shape[0]):\n",
    "                q = dgm0[l,0:2]\n",
    "                if np.sum(q)==-2:\n",
    "                    continue\n",
    "                qc = dgm0[l, 1::-1]\n",
    "                pq = (p[0] - q[0])**2 + (p[1] - q[1])**2\n",
    "                pqc = (p[0] - qc[0])**2 + (p[1] - qc[1])**2\n",
    "                kSigma0 += math.exp(-( pq) / (8 * sigma)) - math.exp(-(pqc) / (8 * sigma))\n",
    "        for k in range(dgm1.shape[0]):\n",
    "            p = dgm1[k,0:2]\n",
    "            if np.sum(p)==-2:\n",
    "                continue\n",
    "            for l in range(dgm1.shape[0]):\n",
    "                q = dgm1[l,0:2]\n",
    "                if np.sum(q)==-2:\n",
    "                    continue\n",
    "                qc = dgm1[l, 1::-1]\n",
    "                pq = (p[0] - q[0])**2 + (p[1] - q[1])**2\n",
    "                pqc = (p[0] - qc[0])**2 + (p[1] - qc[1])**2\n",
    "                kSigma1 += math.exp(-( pq) / (8 * sigma)) - math.exp(-(pqc) / (8 * sigma))\n",
    "        for k in range(dgm0.shape[0]):\n",
    "            p = dgm0[k,0:2]\n",
    "            if np.sum(p)==-2:\n",
    "                continue\n",
    "            for l in range(dgm1.shape[0]):\n",
    "                q = dgm1[l,0:2]\n",
    "                if np.sum(q)==-2:\n",
    "                    continue\n",
    "                qc = dgm1[l, 1::-1]\n",
    "                pq = (p[0] - q[0])**2 + (p[1] - q[1])**2\n",
    "                pqc = (p[0] - qc[0])**2 + (p[1] - qc[1])**2\n",
    "                kSigma2 += math.exp(-( pq) / (8 * sigma)) - math.exp(-(pqc) / (8 * sigma))\n",
    "\n",
    "        kSigma0 = kSigma0/(8 * np.pi * sigma)\n",
    "        kSigma1 = kSigma1/(8 * np.pi * sigma)\n",
    "        kSigma2 = kSigma2/(8 * np.pi * sigma)\n",
    "        result[i] = math.sqrt(kSigma1 + kSigma0-2*kSigma2)"
   ]
  },
  {
   "cell_type": "code",
   "execution_count": 10,
   "metadata": {},
   "outputs": [],
   "source": [
    "test_dgms = reshape_to_array(test_rdm)"
   ]
  },
  {
   "cell_type": "code",
   "execution_count": 11,
   "metadata": {},
   "outputs": [
    {
     "data": {
      "text/plain": [
       "array([[0.        , 2.14245849, 2.90690792, 5.80970784, 4.27000208],\n",
       "       [2.14245849, 0.        , 2.94728002, 5.82486806, 4.06870691],\n",
       "       [2.90690792, 2.94728002, 0.        , 5.24336969, 3.73957208],\n",
       "       [5.80970784, 5.82486806, 5.24336969, 0.        , 3.97842676],\n",
       "       [4.27000208, 4.06870691, 3.73957208, 3.97842676, 0.        ]])"
      ]
     },
     "execution_count": 11,
     "metadata": {},
     "output_type": "execute_result"
    }
   ],
   "source": [
    "kernel_features(test_dgms, .3)"
   ]
  },
  {
   "cell_type": "code",
   "execution_count": 12,
   "metadata": {},
   "outputs": [
    {
     "data": {
      "text/plain": [
       "array([0.        , 2.14245849, 2.90690792, 5.80970784, 4.27000208])"
      ]
     },
     "execution_count": 12,
     "metadata": {},
     "output_type": "execute_result"
    }
   ],
   "source": [
    "guvectorize_kernel(test_dgms, test_dgms[0], .3)"
   ]
  },
  {
   "cell_type": "code",
   "execution_count": 13,
   "metadata": {},
   "outputs": [
    {
     "data": {
      "text/plain": [
       "array([0.        , 2.14245849, 2.90690792, 5.80970784, 4.27000208])"
      ]
     },
     "execution_count": 13,
     "metadata": {},
     "output_type": "execute_result"
    }
   ],
   "source": [
    "guvectorize_kernel_parallel(test_dgms, test_dgms[0], .3)"
   ]
  },
  {
   "cell_type": "markdown",
   "metadata": {},
   "source": [
    "guvectorize"
   ]
  },
  {
   "cell_type": "markdown",
   "metadata": {},
   "source": [
    "First run to compile"
   ]
  },
  {
   "cell_type": "code",
   "execution_count": 14,
   "metadata": {},
   "outputs": [
    {
     "name": "stdout",
     "output_type": "stream",
     "text": [
      "5.5 s ± 26.4 ms per loop (mean ± std. dev. of 7 runs, 1 loop each)\n",
      "143 µs ± 739 ns per loop (mean ± std. dev. of 7 runs, 10000 loops each)\n",
      "4.16 ms ± 1.6 µs per loop (mean ± std. dev. of 7 runs, 100 loops each)\n",
      "2.02 ms ± 62.4 µs per loop (mean ± std. dev. of 7 runs, 100 loops each)\n"
     ]
    }
   ],
   "source": [
    "\n",
    "%timeit X_train_features_original = kernel_features(test_rdm, s = .3)\n",
    "%timeit test_dgms = reshape_to_array(test_rdm)\n",
    "%timeit X_train_features_gu = guvectorize_kernel(test_dgms, test_dgms, .3)\n",
    "%timeit X_train_features_gu = guvectorize_kernel_parallel(test_dgms, test_dgms, .3)"
   ]
  },
  {
   "cell_type": "code",
   "execution_count": 15,
   "metadata": {},
   "outputs": [
    {
     "data": {
      "text/plain": [
       "[[0, 20],\n",
       " [13, 19],\n",
       " [11, 18],\n",
       " [11, 18],\n",
       " [13, 15],\n",
       " [7, 11],\n",
       " [17, 17],\n",
       " [0, 1],\n",
       " [18, 19],\n",
       " [5, 9],\n",
       " [14, 19],\n",
       " [4, 15],\n",
       " [1, 15],\n",
       " [3, 13],\n",
       " [4, 15],\n",
       " [4, 12],\n",
       " [10, 15],\n",
       " [0, 4],\n",
       " [19, 19],\n",
       " [18, 19],\n",
       " [15, 16],\n",
       " [10, 10],\n",
       " [3, 3],\n",
       " [16, 17],\n",
       " [14, 17],\n",
       " [16, 19],\n",
       " [-1, -1],\n",
       " [-1, -1],\n",
       " [-1, -1],\n",
       " [-1, -1],\n",
       " [-1, -1],\n",
       " [-1, -1],\n",
       " [-1, -1],\n",
       " [-1, -1],\n",
       " [-1, -1],\n",
       " [-1, -1],\n",
       " [-1, -1],\n",
       " [-1, -1],\n",
       " [-1, -1],\n",
       " [-1, -1],\n",
       " [-1, -1],\n",
       " [-1, -1],\n",
       " [-1, -1],\n",
       " [-1, -1],\n",
       " [-1, -1],\n",
       " [-1, -1],\n",
       " [-1, -1],\n",
       " [-1, -1],\n",
       " [-1, -1],\n",
       " [-1, -1],\n",
       " [-1, -1],\n",
       " [-1, -1],\n",
       " [-1, -1],\n",
       " [-1, -1],\n",
       " [-1, -1],\n",
       " [-1, -1],\n",
       " [-1, -1],\n",
       " [-1, -1],\n",
       " [-1, -1],\n",
       " [-1, -1],\n",
       " [-1, -1],\n",
       " [-1, -1],\n",
       " [-1, -1],\n",
       " [-1, -1],\n",
       " [-1, -1],\n",
       " [-1, -1],\n",
       " [-1, -1],\n",
       " [-1, -1],\n",
       " [-1, -1],\n",
       " [-1, -1],\n",
       " [-1, -1],\n",
       " [-1, -1],\n",
       " [-1, -1],\n",
       " [-1, -1],\n",
       " [-1, -1],\n",
       " [-1, -1],\n",
       " [-1, -1],\n",
       " [-1, -1],\n",
       " [-1, -1],\n",
       " [-1, -1],\n",
       " [-1, -1],\n",
       " [-1, -1],\n",
       " [-1, -1],\n",
       " [-1, -1],\n",
       " [-1, -1],\n",
       " [-1, -1],\n",
       " [-1, -1],\n",
       " [-1, -1],\n",
       " [-1, -1],\n",
       " [-1, -1],\n",
       " [-1, -1],\n",
       " [-1, -1],\n",
       " [-1, -1],\n",
       " [-1, -1],\n",
       " [-1, -1],\n",
       " [-1, -1],\n",
       " [-1, -1]]"
      ]
     },
     "execution_count": 15,
     "metadata": {},
     "output_type": "execute_result"
    }
   ],
   "source": [
    "test_rdm[0]"
   ]
  },
  {
   "cell_type": "code",
   "execution_count": 16,
   "metadata": {},
   "outputs": [
    {
     "data": {
      "text/plain": [
       "array([[0.        , 2.14245849, 2.90690792, 5.80970784, 4.27000208],\n",
       "       [2.14245849, 0.        , 2.94728002, 5.82486806, 4.06870691],\n",
       "       [2.90690792, 2.94728002, 0.        , 5.24336969, 3.73957208],\n",
       "       [5.80970784, 5.82486806, 5.24336969, 0.        , 3.97842676],\n",
       "       [4.27000208, 4.06870691, 3.73957208, 3.97842676, 0.        ]])"
      ]
     },
     "execution_count": 16,
     "metadata": {},
     "output_type": "execute_result"
    }
   ],
   "source": [
    "kernel_features(test_rdm, s = .3)"
   ]
  },
  {
   "cell_type": "code",
   "execution_count": 17,
   "metadata": {},
   "outputs": [
    {
     "data": {
      "text/plain": [
       "array([0.        , 2.14245849, 2.90690792, 5.80970784, 4.27000208])"
      ]
     },
     "execution_count": 17,
     "metadata": {},
     "output_type": "execute_result"
    }
   ],
   "source": [
    "guvectorize_kernel(test_dgms, test_dgms[0], .3)"
   ]
  },
  {
   "cell_type": "code",
   "execution_count": 18,
   "metadata": {},
   "outputs": [
    {
     "data": {
      "text/plain": [
       "array([0.        , 2.14245849, 2.90690792, 5.80970784, 4.27000208])"
      ]
     },
     "execution_count": 18,
     "metadata": {},
     "output_type": "execute_result"
    }
   ],
   "source": [
    "guvectorize_kernel_parallel(test_dgms, test_dgms[0], .3)"
   ]
  },
  {
   "cell_type": "markdown",
   "metadata": {},
   "source": [
    "### Loop for random samples and timing"
   ]
  },
  {
   "cell_type": "code",
   "execution_count": 20,
   "metadata": {},
   "outputs": [],
   "source": [
    "import time\n",
    "seed = [0,1,2,3,4]\n",
    "train_size = [10, 20, 30, 40, 50]\n",
    "n = len(train_size)\n",
    "timing_rdm = np.zeros((n,5))\n",
    "for i in range(0,n):\n",
    "    for j in seed:\n",
    "        dgms = np.array(dgms_random[0:train_size[i]])\n",
    "        timing_rdm[i,0] += len(dgms)\n",
    "\n",
    "        start = time.time()\n",
    "        X_train_features = kernel_features(dgms, s = .3)\n",
    "        end = time.time()-start\n",
    "        timing_rdm[i,1] +=end\n",
    "        print(\"Finished Kernel\")\n",
    "\n",
    "        start = time.time()\n",
    "        tdgms= reshape_to_array(dgms)\n",
    "        X_train_features = guvectorize_kernel(tdgms, tdgms, .3)\n",
    "        end = time.time()-start\n",
    "        timing_rdm[i,2] +=end\n",
    "        print(\"Finished Vectorized\")\n",
    "\n",
    "        start = time.time()\n",
    "        tdgms= reshape_to_array(dgms)\n",
    "        X_train_features = guvectorize_kernel_parallel(tdgms, tdgms, .3)\n",
    "        end = time.time()-start\n",
    "        timing_rdm[i,3] +=end\n",
    "        print(\"Finished Parallel\")\n",
    "\n",
    "        #start = time.time()\n",
    "        # tdgms= reshape_to_array(dgms)\n",
    "        # X_train_features = guvectorize_kernel_gpu(tdgms, tdgms, .3)\n",
    "        # end = time.time()-start\n",
    "        # timing_rdm[i,4] +=end\n",
    "        # print(\"Finished GPU\")\n",
    "\n",
    "    print(\"Finished Training \", i)\n",
    "timing_rdm = pd.DataFrame(timing_rdm/5)\n",
    "timing_rdm.columns=['Observations', 'Original', 'Vectorized', 'Vectorized and Parallel']\n",
    "print(timing_rdm)"
   ]
  },
  {
   "cell_type": "markdown",
   "metadata": {},
   "source": [
    "Plot Timing"
   ]
  },
  {
   "cell_type": "code",
   "execution_count": 331,
   "metadata": {},
   "outputs": [
    {
     "data": {
      "text/plain": [
       "Text(0.5, 1.0, 'Kernel Method Timing - Vectorized')"
      ]
     },
     "execution_count": 331,
     "metadata": {},
     "output_type": "execute_result"
    },
    {
     "data": {
      "image/png": "[encoded data removed]",
      "text/plain": [
       "<Figure size 432x288 with 1 Axes>"
      ]
     },
     "metadata": {
      "needs_background": "light"
     },
     "output_type": "display_data"
    }
   ],
   "source": [
    "t = timing_rdm.plot(x='Observations',loglog=True)\n",
    "t.set_xlabel(\"Sample Size\")\n",
    "t.set_ylabel(\"Time in Seconds\")\n",
    "t.set_title(\"Kernel Method Timing - Vectorized\")"
   ]
  },
  {
   "cell_type": "code",
   "execution_count": 16,
   "metadata": {},
   "outputs": [
    {
     "name": "stdout",
     "output_type": "stream",
     "text": [
      "1.406662940979004\n",
      "Finished Vectorized\n",
      "0.33628320693969727\n",
      "Finished Parallel\n",
      "1.405393123626709\n",
      "Finished Vectorized\n",
      "0.33411192893981934\n",
      "Finished Parallel\n",
      "1.3763549327850342\n",
      "Finished Vectorized\n",
      "0.37796998023986816\n",
      "Finished Parallel\n",
      "1.3745100498199463\n",
      "Finished Vectorized\n",
      "0.33745527267456055\n",
      "Finished Parallel\n",
      "1.385796070098877\n",
      "Finished Vectorized\n",
      "0.3316609859466553\n",
      "Finished Parallel\n",
      "Finished Training  0\n",
      "6.028337717056274\n",
      "Finished Vectorized\n",
      "1.3913798332214355\n",
      "Finished Parallel\n",
      "6.014202117919922\n",
      "Finished Vectorized\n",
      "1.420280933380127\n",
      "Finished Parallel\n",
      "6.033769845962524\n",
      "Finished Vectorized\n",
      "1.4420301914215088\n",
      "Finished Parallel\n",
      "6.045596122741699\n",
      "Finished Vectorized\n",
      "1.5307111740112305\n",
      "Finished Parallel\n",
      "6.068624258041382\n",
      "Finished Vectorized\n",
      "1.4555020332336426\n",
      "Finished Parallel\n",
      "Finished Training  1\n",
      "13.722980737686157\n",
      "Finished Vectorized\n",
      "3.1458890438079834\n",
      "Finished Parallel\n",
      "13.718559265136719\n",
      "Finished Vectorized\n",
      "3.1241068840026855\n",
      "Finished Parallel\n",
      "13.723814010620117\n",
      "Finished Vectorized\n",
      "3.1574840545654297\n",
      "Finished Parallel\n",
      "13.724805116653442\n",
      "Finished Vectorized\n",
      "3.1430130004882812\n",
      "Finished Parallel\n",
      "13.721322774887085\n",
      "Finished Vectorized\n",
      "3.135664939880371\n",
      "Finished Parallel\n",
      "Finished Training  2\n",
      "23.999033212661743\n",
      "Finished Vectorized\n",
      "5.508373022079468\n",
      "Finished Parallel\n",
      "24.052125930786133\n",
      "Finished Vectorized\n",
      "5.3520188331604\n",
      "Finished Parallel\n",
      "24.154276132583618\n",
      "Finished Vectorized\n",
      "5.521899938583374\n",
      "Finished Parallel\n",
      "24.05868101119995\n",
      "Finished Vectorized\n",
      "5.57121467590332\n",
      "Finished Parallel\n",
      "23.993165016174316\n",
      "Finished Vectorized\n",
      "5.584301233291626\n",
      "Finished Parallel\n",
      "Finished Training  3\n",
      "37.231383085250854\n",
      "Finished Vectorized\n",
      "8.557798862457275\n",
      "Finished Parallel\n",
      "37.193037033081055\n",
      "Finished Vectorized\n",
      "8.604862928390503\n",
      "Finished Parallel\n",
      "37.20608472824097\n",
      "Finished Vectorized\n",
      "8.701270818710327\n",
      "Finished Parallel\n",
      "37.17475414276123\n",
      "Finished Vectorized\n",
      "8.648469924926758\n",
      "Finished Parallel\n",
      "37.13521218299866\n",
      "Finished Vectorized\n",
      "8.716933012008667\n",
      "Finished Parallel\n",
      "Finished Training  4\n",
      "54.902780294418335\n",
      "Finished Vectorized\n",
      "12.498152017593384\n",
      "Finished Parallel\n",
      "55.22676396369934\n",
      "Finished Vectorized\n",
      "12.756198167800903\n",
      "Finished Parallel\n",
      "54.94365406036377\n",
      "Finished Vectorized\n",
      "12.568373918533325\n",
      "Finished Parallel\n",
      "55.000866174697876\n",
      "Finished Vectorized\n",
      "12.449311017990112\n",
      "Finished Parallel\n",
      "54.9420850276947\n",
      "Finished Vectorized\n",
      "12.695528030395508\n",
      "Finished Parallel\n",
      "Finished Training  5\n",
      "74.79266095161438\n",
      "Finished Vectorized\n",
      "17.32573914527893\n",
      "Finished Parallel\n",
      "74.71787738800049\n",
      "Finished Vectorized\n",
      "17.255693197250366\n",
      "Finished Parallel\n",
      "74.74147295951843\n",
      "Finished Vectorized\n",
      "17.550020694732666\n",
      "Finished Parallel\n",
      "74.81263399124146\n",
      "Finished Vectorized\n",
      "17.457498788833618\n",
      "Finished Parallel\n",
      "74.84762072563171\n",
      "Finished Vectorized\n",
      "17.328136920928955\n",
      "Finished Parallel\n",
      "Finished Training  6\n",
      "97.70678806304932\n",
      "Finished Vectorized\n",
      "22.79828405380249\n",
      "Finished Parallel\n",
      "97.66182708740234\n",
      "Finished Vectorized\n",
      "22.844690084457397\n",
      "Finished Parallel\n",
      "97.59393811225891\n",
      "Finished Vectorized\n",
      "22.81897807121277\n",
      "Finished Parallel\n",
      "97.79823112487793\n",
      "Finished Vectorized\n",
      "22.642021894454956\n",
      "Finished Parallel\n",
      "97.6020998954773\n",
      "Finished Vectorized\n",
      "21.948498010635376\n",
      "Finished Parallel\n",
      "Finished Training  7\n",
      "123.94056916236877\n",
      "Finished Vectorized\n",
      "27.76846694946289\n",
      "Finished Parallel\n",
      "123.97789287567139\n",
      "Finished Vectorized\n",
      "27.65255308151245\n",
      "Finished Parallel\n",
      "124.06412506103516\n",
      "Finished Vectorized\n",
      "27.59041404724121\n",
      "Finished Parallel\n",
      "123.96441197395325\n",
      "Finished Vectorized\n",
      "27.319629907608032\n",
      "Finished Parallel\n",
      "123.95833802223206\n",
      "Finished Vectorized\n",
      "27.393079042434692\n",
      "Finished Parallel\n",
      "Finished Training  8\n",
      "   Observations  Vectorized  Vectorized and Parallel\n",
      "0         100.0    1.389743                 0.343496\n",
      "1         200.0    6.038106                 1.447981\n",
      "2         300.0   13.722296                 3.141232\n",
      "3         400.0   24.051456                 5.507562\n",
      "4         500.0   37.188094                 8.645867\n",
      "5         600.0   55.003230                12.593513\n",
      "6         700.0   74.782453                17.383418\n",
      "7         800.0   97.672577                22.610494\n",
      "8         900.0  123.981067                27.544829\n"
     ]
    }
   ],
   "source": [
    "import time\n",
    "seed = [0,1,2,3,4]\n",
    "train_size = [100, 200, 300, 400, 500, 600, 700, 800, 900]\n",
    "n = len(train_size)\n",
    "timing_rdmv = np.zeros((n,3))\n",
    "for i in range(0,n):\n",
    "    for j in seed:\n",
    "        dgms = np.array(dgms_random[0:train_size[i]])\n",
    "        timing_rdmv[i,0] += len(dgms)\n",
    "\n",
    "        start = time.time()\n",
    "        tdgms= reshape_to_array(dgms)\n",
    "        X_train_features = guvectorize_kernel(tdgms, tdgms, .3)\n",
    "        end = time.time()-start\n",
    "        print(end)\n",
    "        timing_rdmv[i,1] +=end\n",
    "        print(\"Finished Vectorized\")\n",
    "\n",
    "        start = time.time()\n",
    "        tdgms= reshape_to_array(dgms)\n",
    "        X_train_features = guvectorize_kernel_parallel(tdgms, tdgms, .3)\n",
    "        end = time.time()-start\n",
    "        print(end)\n",
    "        timing_rdmv[i,2] +=end\n",
    "        print(\"Finished Parallel\")\n",
    "\n",
    "    print(\"Finished Training \", i)\n",
    "timing_rdmv = pd.DataFrame(timing_rdmv/5)\n",
    "timing_rdmv.columns=['Observations', 'Vectorized', 'Vectorized and Parallel']\n",
    "print(timing_rdmv)"
   ]
  },
  {
   "cell_type": "code",
   "execution_count": 17,
   "metadata": {},
   "outputs": [
    {
     "data": {
      "text/plain": [
       "Text(0.5, 1.0, 'Kernel Method Timing - Vectorized')"
      ]
     },
     "execution_count": 17,
     "metadata": {},
     "output_type": "execute_result"
    },
    {
     "data": {
      "image/png": "[encoded data removed]",
      "text/plain": [
       "<Figure size 432x288 with 1 Axes>"
      ]
     },
     "metadata": {
      "needs_background": "light"
     },
     "output_type": "display_data"
    }
   ],
   "source": [
    "t = timing_rdmv.plot(x='Observations')\n",
    "t.set_xlabel(\"Sample Size\")\n",
    "t.set_ylabel(\"Time in Seconds\")\n",
    "t.set_title(\"Kernel Method Timing - Vectorized\")"
   ]
  },
  {
   "cell_type": "markdown",
   "metadata": {},
   "source": [
    "### Timing with 80 dgms"
   ]
  },
  {
   "cell_type": "code",
   "execution_count": 16,
   "metadata": {},
   "outputs": [
    {
     "name": "stdout",
     "output_type": "stream",
     "text": [
      "Finished Kernel\n",
      "Finished Jit Optimized Kernel\n",
      "Finished Jit Optimized and Parallel Kernel\n",
      "Finished gu vectorize\n",
      "Finished Kernel\n",
      "Finished Jit Optimized Kernel\n",
      "Finished Jit Optimized and Parallel Kernel\n",
      "Finished gu vectorize\n",
      "Finished Kernel\n",
      "Finished Jit Optimized Kernel\n",
      "Finished Jit Optimized and Parallel Kernel\n",
      "Finished gu vectorize\n",
      "Finished Kernel\n",
      "Finished Jit Optimized Kernel\n",
      "Finished Jit Optimized and Parallel Kernel\n",
      "Finished gu vectorize\n",
      "Finished Kernel\n",
      "Finished Jit Optimized Kernel\n",
      "Finished Jit Optimized and Parallel Kernel\n",
      "Finished gu vectorize\n",
      "Finished Training  0\n"
     ]
    },
    {
     "ename": "KeyboardInterrupt",
     "evalue": "",
     "output_type": "error",
     "traceback": [
      "\u001b[0;31m---------------------------------------------------------------------------\u001b[0m",
      "\u001b[0;31mKeyboardInterrupt\u001b[0m                         Traceback (most recent call last)",
      "Cell \u001b[0;32mIn[16], line 11\u001b[0m\n\u001b[1;32m      8\u001b[0m timing_80[i,\u001b[39m0\u001b[39m] \u001b[39m+\u001b[39m\u001b[39m=\u001b[39m \u001b[39mlen\u001b[39m(dgms)\n\u001b[1;32m     10\u001b[0m start \u001b[39m=\u001b[39m time\u001b[39m.\u001b[39mtime()\n\u001b[0;32m---> 11\u001b[0m X_train_features \u001b[39m=\u001b[39m kernel_features(dgms, s \u001b[39m=\u001b[39;49m \u001b[39m.3\u001b[39;49m)\n\u001b[1;32m     12\u001b[0m end \u001b[39m=\u001b[39m time\u001b[39m.\u001b[39mtime()\u001b[39m-\u001b[39mstart\n\u001b[1;32m     13\u001b[0m timing_80[i,\u001b[39m1\u001b[39m] \u001b[39m+\u001b[39m\u001b[39m=\u001b[39mend\n",
      "Cell \u001b[0;32mIn[4], line 46\u001b[0m, in \u001b[0;36mkernel_features\u001b[0;34m(train, s, distance)\u001b[0m\n\u001b[1;32m     44\u001b[0m dgm1 \u001b[39m=\u001b[39m train[j]\n\u001b[1;32m     45\u001b[0m \u001b[39mif\u001b[39;00m distance\u001b[39m==\u001b[39m\u001b[39mTrue\u001b[39;00m:\n\u001b[0;32m---> 46\u001b[0m     hka \u001b[39m=\u001b[39m heat_kernel_distance(dgm0, dgm1, sigma \u001b[39m=\u001b[39;49m s) \n\u001b[1;32m     47\u001b[0m     X_train_features[i,j] \u001b[39m=\u001b[39m hka\n\u001b[1;32m     48\u001b[0m     X_train_features[j,i] \u001b[39m=\u001b[39m hka\n",
      "Cell \u001b[0;32mIn[4], line 33\u001b[0m, in \u001b[0;36mheat_kernel_distance\u001b[0;34m(dgm0, dgm1, sigma)\u001b[0m\n\u001b[1;32m     32\u001b[0m \u001b[39mdef\u001b[39;00m \u001b[39mheat_kernel_distance\u001b[39m(dgm0, dgm1, sigma\u001b[39m=\u001b[39m\u001b[39m.4\u001b[39m):\n\u001b[0;32m---> 33\u001b[0m     \u001b[39mreturn\u001b[39;00m np\u001b[39m.\u001b[39msqrt(KernelMethod(dgm0, dgm0, sigma) \u001b[39m+\u001b[39m KernelMethod(dgm1, dgm1, sigma) \u001b[39m-\u001b[39m \u001b[39m2\u001b[39m\u001b[39m*\u001b[39mKernelMethod(dgm0, dgm1, sigma))\n",
      "Cell \u001b[0;32mIn[4], line 22\u001b[0m, in \u001b[0;36mKernelMethod\u001b[0;34m(perDgm1, perDgm2, sigma)\u001b[0m\n\u001b[1;32m     20\u001b[0m q_bar \u001b[39m=\u001b[39m np\u001b[39m.\u001b[39mzeros((\u001b[39m2\u001b[39m, \u001b[39m1\u001b[39m))\n\u001b[1;32m     21\u001b[0m q_bar[\u001b[39m0\u001b[39m] \u001b[39m=\u001b[39m q[\u001b[39m1\u001b[39m]\n\u001b[0;32m---> 22\u001b[0m q_bar[\u001b[39m1\u001b[39;49m] \u001b[39m=\u001b[39m q[\u001b[39m0\u001b[39m]\n\u001b[1;32m     23\u001b[0m dist1 \u001b[39m=\u001b[39m lnorm(p\u001b[39m-\u001b[39mq)\n\u001b[1;32m     24\u001b[0m dist2 \u001b[39m=\u001b[39m lnorm(p\u001b[39m-\u001b[39mq_bar)\n",
      "\u001b[0;31mKeyboardInterrupt\u001b[0m: "
     ]
    }
   ],
   "source": [
    "seed = [0,1,2,3,4]\n",
    "train_size = [10, 20, 30, 40, 50]\n",
    "n = len(train_size)\n",
    "timing_80 = np.zeros((n,5))\n",
    "for i in range(0,n):\n",
    "    for j in seed:\n",
    "        dgms = np.array(dgms_80[0:train_size[i]])\n",
    "        timing_80[i,0] += len(dgms)\n",
    "\n",
    "        start = time.time()\n",
    "        X_train_features = kernel_features(dgms, s = .3)\n",
    "        end = time.time()-start\n",
    "        timing_80[i,1] +=end\n",
    "        print(\"Finished Kernel\")\n",
    "\n",
    "        start = time.time()\n",
    "        train, dummy_train, dummy = reshape_persistence_diagrams(dgms)\n",
    "        X_train_features = optimized_kernel_features(train, dummy_train, s = .3)\n",
    "        end = time.time()-start\n",
    "        timing_80[i,2] +=end\n",
    "        print(\"Finished Jit Optimized Kernel\")\n",
    "\n",
    "        start = time.time()\n",
    "        train, dummy_train, dummy = reshape_persistence_diagrams(dgms)\n",
    "        result1 = parallel_optimized_kernel_features(train, dummy_train, .3)\n",
    "        end = time.time()-start\n",
    "        timing_80[i,3] +=end\n",
    "        print(\"Finished Jit Optimized and Parallel Kernel\")\n",
    "\n",
    "        start = time.time()\n",
    "        train, dummy_train, dummy = reshape_persistence_diagrams(dgms)\n",
    "        X_train_features_gu = guvectorize_kernel_distance(train, dummy, .3)\n",
    "        end = time.time()-start\n",
    "        timing_80[i,4] +=end\n",
    "        print(\"Finished gu vectorize\")\n",
    "\n",
    "\n",
    "    print(\"Finished Training \", i)\n",
    "timing_80 = pd.DataFrame(timing_80/5)\n",
    "timing_80.columns=['Observations', 'Original', 'Jit optimized', 'Jit optimized, parallel', 'Vectorized']\n",
    "print(timing_80)"
   ]
  },
  {
   "cell_type": "code",
   "execution_count": 20,
   "metadata": {},
   "outputs": [
    {
     "data": {
      "text/plain": [
       "Text(0.5, 1.0, 'Kernel Method Timing - 80 dgms')"
      ]
     },
     "execution_count": 20,
     "metadata": {},
     "output_type": "execute_result"
    },
    {
     "data": {
      "image/png": "[encoded data removed]",
      "text/plain": [
       "<Figure size 432x288 with 1 Axes>"
      ]
     },
     "metadata": {
      "needs_background": "light"
     },
     "output_type": "display_data"
    }
   ],
   "source": [
    "t = timing_80.plot(x='Observations')\n",
    "t.set_xlabel(\"Sample Size\")\n",
    "t.set_ylabel(\"Time in Seconds\")\n",
    "t.set_title(\"Kernel Method Timing - 80 dgms\")"
   ]
  },
  {
   "cell_type": "code",
   "execution_count": 21,
   "metadata": {},
   "outputs": [
    {
     "data": {
      "text/plain": [
       "Text(0.5, 1.0, 'Kernel Method Timing - 80 dgms')"
      ]
     },
     "execution_count": 21,
     "metadata": {},
     "output_type": "execute_result"
    },
    {
     "data": {
      "image/png": "[encoded data removed]",
      "text/plain": [
       "<Figure size 432x288 with 1 Axes>"
      ]
     },
     "metadata": {
      "needs_background": "light"
     },
     "output_type": "display_data"
    }
   ],
   "source": [
    "timingnoog = timing_80.drop(['Original'], axis=1)\n",
    "t = timingnoog.plot(x='Observations')\n",
    "t.set_xlabel(\"Sample Size\")\n",
    "t.set_ylabel(\"Time in Seconds\")\n",
    "t.set_title(\"Kernel Method Timing - 80 dgms\")"
   ]
  },
  {
   "cell_type": "code",
   "execution_count": 22,
   "metadata": {},
   "outputs": [
    {
     "name": "stdout",
     "output_type": "stream",
     "text": [
      "Finished gu vectorize\n",
      "Finished gu vectorize\n",
      "Finished gu vectorize\n",
      "Finished gu vectorize\n",
      "Finished gu vectorize\n",
      "Finished Training  0\n",
      "Finished gu vectorize\n",
      "Finished gu vectorize\n",
      "Finished gu vectorize\n",
      "Finished gu vectorize\n",
      "Finished gu vectorize\n",
      "Finished Training  1\n",
      "Finished gu vectorize\n",
      "Finished gu vectorize\n",
      "Finished gu vectorize\n",
      "Finished gu vectorize\n",
      "Finished gu vectorize\n",
      "Finished Training  2\n",
      "Finished gu vectorize\n",
      "Finished gu vectorize\n",
      "Finished gu vectorize\n",
      "Finished gu vectorize\n",
      "Finished gu vectorize\n",
      "Finished Training  3\n",
      "Finished gu vectorize\n",
      "Finished gu vectorize\n",
      "Finished gu vectorize\n",
      "Finished gu vectorize\n",
      "Finished gu vectorize\n",
      "Finished Training  4\n",
      "Finished gu vectorize\n",
      "Finished gu vectorize\n",
      "Finished gu vectorize\n",
      "Finished gu vectorize\n",
      "Finished gu vectorize\n",
      "Finished Training  5\n"
     ]
    }
   ],
   "source": [
    "seed = [0,1,2,3,4]\n",
    "train_size = [100, 200, 300, 400, 500, 600, 700]\n",
    "n = len(train_size)\n",
    "timing_300_vec = np.zeros((n,2))\n",
    "for i in range(0,n):\n",
    "    for j in seed:\n",
    "        dgms = np.array(dgms_300[0:train_size[i]])\n",
    "        timing_300_vec[i,0] += len(dgms)\n",
    "\n",
    "        start = time.time()\n",
    "        train, dummy_train, dummy = reshape_persistence_diagrams(dgms)\n",
    "        X_train_features_gu = guvectorize_kernel(train, dummy, .3)\n",
    "        end = time.time()-start\n",
    "        timing_300_vec[i,1] +=end\n",
    "        print(\"Finished gu vectorize\")\n",
    "\n",
    "    print(\"Finished Training \", i)\n",
    "timing_300_vec = pd.DataFrame(timing_300_vec/5)\n",
    "timing_300_vec.columns=['Observations','Vectorized']\n",
    "print(timing_300_vec)"
   ]
  },
  {
   "cell_type": "code",
   "execution_count": null,
   "metadata": {},
   "outputs": [
    {
     "data": {
      "text/plain": [
       "Text(0.5, 1.0, 'Vectorized - 300 dgms')"
      ]
     },
     "execution_count": 295,
     "metadata": {},
     "output_type": "execute_result"
    },
    {
     "data": {
      "image/png": "[encoded data removed]",
      "text/plain": [
       "<Figure size 640x480 with 1 Axes>"
      ]
     },
     "metadata": {},
     "output_type": "display_data"
    }
   ],
   "source": [
    "t = timing_300_vec.plot(x='Observations')\n",
    "t.set_xlabel(\"Sample Size\")\n",
    "t.set_ylabel(\"Time in Seconds\")\n",
    "t.set_title(\"Vectorized - 300 dgms\")"
   ]
  },
  {
   "cell_type": "code",
   "execution_count": null,
   "metadata": {},
   "outputs": [
    {
     "name": "stdout",
     "output_type": "stream",
     "text": [
      "Finished 10 dgms\n",
      "Finished 20 dgms\n",
      "Finished 20 dgms\n",
      "Finished 10 dgms\n",
      "Finished 20 dgms\n",
      "Finished 20 dgms\n",
      "Finished 10 dgms\n",
      "Finished 20 dgms\n",
      "Finished 20 dgms\n",
      "Finished 10 dgms\n",
      "Finished 20 dgms\n",
      "Finished 20 dgms\n",
      "Finished 10 dgms\n",
      "Finished 20 dgms\n",
      "Finished 20 dgms\n",
      "Finished Training  0\n",
      "Finished 10 dgms\n",
      "Finished 20 dgms\n",
      "Finished 20 dgms\n",
      "Finished 10 dgms\n",
      "Finished 20 dgms\n",
      "Finished 20 dgms\n",
      "Finished 10 dgms\n",
      "Finished 20 dgms\n",
      "Finished 20 dgms\n",
      "Finished 10 dgms\n",
      "Finished 20 dgms\n",
      "Finished 20 dgms\n",
      "Finished 10 dgms\n",
      "Finished 20 dgms\n",
      "Finished 20 dgms\n",
      "Finished Training  1\n",
      "Finished 10 dgms\n",
      "Finished 20 dgms\n",
      "Finished 20 dgms\n",
      "Finished 10 dgms\n",
      "Finished 20 dgms\n",
      "Finished 20 dgms\n",
      "Finished 10 dgms\n",
      "Finished 20 dgms\n",
      "Finished 20 dgms\n",
      "Finished 10 dgms\n",
      "Finished 20 dgms\n",
      "Finished 20 dgms\n",
      "Finished 10 dgms\n",
      "Finished 20 dgms\n",
      "Finished 20 dgms\n",
      "Finished Training  2\n",
      "Finished 10 dgms\n",
      "Finished 20 dgms\n",
      "Finished 20 dgms\n",
      "Finished 10 dgms\n",
      "Finished 20 dgms\n",
      "Finished 20 dgms\n",
      "Finished 10 dgms\n",
      "Finished 20 dgms\n",
      "Finished 20 dgms\n",
      "Finished 10 dgms\n",
      "Finished 20 dgms\n",
      "Finished 20 dgms\n",
      "Finished 10 dgms\n",
      "Finished 20 dgms\n",
      "Finished 20 dgms\n",
      "Finished Training  3\n",
      "Finished 10 dgms\n",
      "Finished 20 dgms\n",
      "Finished 20 dgms\n",
      "Finished 10 dgms\n",
      "Finished 20 dgms\n",
      "Finished 20 dgms\n",
      "Finished 10 dgms\n",
      "Finished 20 dgms\n",
      "Finished 20 dgms\n",
      "Finished 10 dgms\n",
      "Finished 20 dgms\n",
      "Finished 20 dgms\n",
      "Finished 10 dgms\n",
      "Finished 20 dgms\n",
      "Finished 20 dgms\n",
      "Finished Training  4\n",
      "Finished 10 dgms\n",
      "Finished 20 dgms\n",
      "Finished 20 dgms\n",
      "Finished 10 dgms\n",
      "Finished 20 dgms\n",
      "Finished 20 dgms\n",
      "Finished 10 dgms\n",
      "Finished 20 dgms\n",
      "Finished 20 dgms\n",
      "Finished 10 dgms\n",
      "Finished 20 dgms\n",
      "Finished 20 dgms\n",
      "Finished 10 dgms\n",
      "Finished 20 dgms\n",
      "Finished 20 dgms\n",
      "Finished Training  5\n",
      "Finished 10 dgms\n",
      "Finished 20 dgms\n",
      "Finished 20 dgms\n",
      "Finished 10 dgms\n",
      "Finished 20 dgms\n",
      "Finished 20 dgms\n",
      "Finished 10 dgms\n",
      "Finished 20 dgms\n",
      "Finished 20 dgms\n",
      "Finished 10 dgms\n",
      "Finished 20 dgms\n",
      "Finished 20 dgms\n",
      "Finished 10 dgms\n",
      "Finished 20 dgms\n",
      "Finished 20 dgms\n",
      "Finished Training  6\n",
      "   Observations   10 dgms   20 dgms    30 dgms\n",
      "0         100.0  0.027094  0.064329   0.199017\n",
      "1         200.0  0.129646  0.329025   0.944021\n",
      "2         300.0  0.382681  0.936934   2.477855\n",
      "3         400.0  0.821660  1.926164   4.915452\n",
      "4         500.0  1.536726  3.435765   8.651521\n",
      "5         600.0  2.593165  5.649603  13.783784\n",
      "6         700.0  3.961421  8.619387  20.694822\n"
     ]
    }
   ],
   "source": [
    "seed = [0,1,2,3,4]\n",
    "train_size = [100, 200, 300, 400, 500, 600, 700]\n",
    "n = len(train_size)\n",
    "timing_var_vec = np.zeros((n,4))\n",
    "for i in range(0,n):\n",
    "    for j in seed:\n",
    "        dgms = np.array(dgms_10[0:train_size[i]])\n",
    "        timing_var_vec[i,0] += len(dgms)\n",
    "\n",
    "        start = time.time()\n",
    "        train, dummy_train, dummy = reshape_persistence_diagrams(dgms)\n",
    "        X_train_features_gu = guvectorize_kernel(train, dummy, .3)\n",
    "        end = time.time()-start\n",
    "        timing_var_vec[i,1] +=end\n",
    "        print(\"Finished 10 dgms\")\n",
    "\n",
    "        dgms = np.array(dgms_20[0:train_size[i]])\n",
    "        start = time.time()\n",
    "        train, dummy_train, dummy = reshape_persistence_diagrams(dgms)\n",
    "        X_train_features_gu = guvectorize_kernel(train, dummy, .3)\n",
    "        end = time.time()-start\n",
    "        timing_var_vec[i,2] +=end\n",
    "        print(\"Finished 20 dgms\")\n",
    "\n",
    "        dgms = np.array(dgms_40[0:train_size[i]])\n",
    "        start = time.time()\n",
    "        train, dummy_train, dummy = reshape_persistence_diagrams(dgms)\n",
    "        X_train_features_gu = guvectorize_kernel(train, dummy, .3)\n",
    "        end = time.time()-start\n",
    "        timing_var_vec[i,3] +=end\n",
    "        print(\"Finished 20 dgms\")\n",
    "\n",
    "    print(\"Finished Training \", i)\n",
    "timing_var_vec = pd.DataFrame(timing_var_vec/5)\n",
    "timing_var_vec.columns=['Observations','10 dgms', '20 dgms', '30 dgms']\n",
    "print(timing_var_vec)"
   ]
  },
  {
   "cell_type": "code",
   "execution_count": null,
   "metadata": {},
   "outputs": [
    {
     "data": {
      "text/plain": [
       "Text(0.5, 1.0, 'Vectorized - Variable dgms size')"
      ]
     },
     "execution_count": 296,
     "metadata": {},
     "output_type": "execute_result"
    },
    {
     "data": {
      "image/png": "[encoded data removed]",
      "text/plain": [
       "<Figure size 640x480 with 1 Axes>"
      ]
     },
     "metadata": {},
     "output_type": "display_data"
    }
   ],
   "source": [
    "t = timing_var_vec.plot(x='Observations')\n",
    "t.set_xlabel(\"Sample Size\")\n",
    "t.set_ylabel(\"Time in Seconds\")\n",
    "t.set_title(\"Vectorized - Variable dgms size\")"
   ]
  }
 ],
 "metadata": {
  "kernelspec": {
   "display_name": ".venv",
   "language": "python",
   "name": "python3"
  },
  "language_info": {
   "codemirror_mode": {
    "name": "ipython",
    "version": 3
   },
   "file_extension": ".py",
   "mimetype": "text/x-python",
   "name": "python",
   "nbconvert_exporter": "python",
   "pygments_lexer": "ipython3",
   "version": "3.8.8"
  }
 },
 "nbformat": 4,
 "nbformat_minor": 2
}
