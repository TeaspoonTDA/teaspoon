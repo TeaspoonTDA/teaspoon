{
 "cells": [
  {
   "cell_type": "markdown",
   "metadata": {},
   "source": [
    "## Load Libraries"
   ]
  },
  {
   "cell_type": "code",
   "execution_count": 2,
   "metadata": {},
   "outputs": [],
   "source": [
    "import numpy as np\n",
    "import pandas as pd\n",
    "import numba"
   ]
  },
  {
   "cell_type": "markdown",
   "metadata": {},
   "source": [
    "Create Dataset for Timing"
   ]
  },
  {
   "cell_type": "code",
   "execution_count": 3,
   "metadata": {},
   "outputs": [
    {
     "data": {
      "text/html": [
       "<div>\n",
       "<style scoped>\n",
       "    .dataframe tbody tr th:only-of-type {\n",
       "        vertical-align: middle;\n",
       "    }\n",
       "\n",
       "    .dataframe tbody tr th {\n",
       "        vertical-align: top;\n",
       "    }\n",
       "\n",
       "    .dataframe thead th {\n",
       "        text-align: right;\n",
       "    }\n",
       "</style>\n",
       "<table border=\"1\" class=\"dataframe\">\n",
       "  <thead>\n",
       "    <tr style=\"text-align: right;\">\n",
       "      <th></th>\n",
       "      <th>Length 3 dgms</th>\n",
       "      <th>Length 6 dgms</th>\n",
       "      <th>Length 10 dgms</th>\n",
       "      <th>Length 20 dgms</th>\n",
       "      <th>Length 40 dgms</th>\n",
       "      <th>Length 80 dgms</th>\n",
       "      <th>Length 300 dgms</th>\n",
       "    </tr>\n",
       "  </thead>\n",
       "  <tbody>\n",
       "    <tr>\n",
       "      <th>0</th>\n",
       "      <td>[[0, 20], [10, 12], [4, 13]]</td>\n",
       "      <td>[[0, 20], [5, 12], [18, 19], [12, 14], [7, 7],...</td>\n",
       "      <td>[[0, 20], [0, 16], [15, 15], [10, 13], [1, 17]...</td>\n",
       "      <td>[[0, 20], [9, 12], [15, 17], [3, 18], [7, 18],...</td>\n",
       "      <td>[[0, 20], [19, 19], [19, 19], [11, 13], [18, 1...</td>\n",
       "      <td>[[0, 20], [11, 14], [16, 18], [16, 19], [12, 1...</td>\n",
       "      <td>[[0, 20], [2, 17], [16, 19], [5, 18], [13, 18]...</td>\n",
       "    </tr>\n",
       "    <tr>\n",
       "      <th>1</th>\n",
       "      <td>[[0, 20], [3, 11], [6, 19]]</td>\n",
       "      <td>[[0, 20], [0, 4], [5, 7], [14, 17], [5, 18], [...</td>\n",
       "      <td>[[0, 20], [12, 15], [16, 16], [3, 8], [11, 14]...</td>\n",
       "      <td>[[0, 20], [4, 17], [0, 8], [10, 14], [3, 15], ...</td>\n",
       "      <td>[[0, 20], [1, 17], [9, 13], [16, 18], [15, 17]...</td>\n",
       "      <td>[[0, 20], [1, 8], [14, 17], [14, 15], [6, 18],...</td>\n",
       "      <td>[[0, 20], [4, 10], [16, 16], [15, 15], [11, 11...</td>\n",
       "    </tr>\n",
       "    <tr>\n",
       "      <th>2</th>\n",
       "      <td>[[0, 20], [18, 18], [7, 16]]</td>\n",
       "      <td>[[0, 20], [15, 18], [14, 17], [1, 4], [6, 18],...</td>\n",
       "      <td>[[0, 20], [5, 19], [3, 18], [12, 13], [14, 19]...</td>\n",
       "      <td>[[0, 20], [0, 14], [7, 8], [7, 15], [8, 13], [...</td>\n",
       "      <td>[[0, 20], [1, 4], [16, 19], [1, 15], [6, 6], [...</td>\n",
       "      <td>[[0, 20], [19, 19], [7, 11], [19, 19], [14, 19...</td>\n",
       "      <td>[[0, 20], [15, 17], [7, 19], [2, 19], [9, 14],...</td>\n",
       "    </tr>\n",
       "    <tr>\n",
       "      <th>3</th>\n",
       "      <td>[[0, 20], [15, 16], [17, 19]]</td>\n",
       "      <td>[[0, 20], [7, 8], [6, 14], [4, 11], [1, 2], [1...</td>\n",
       "      <td>[[0, 20], [16, 17], [2, 5], [5, 19], [15, 17],...</td>\n",
       "      <td>[[0, 20], [15, 18], [12, 15], [17, 17], [10, 1...</td>\n",
       "      <td>[[0, 20], [0, 17], [18, 18], [4, 4], [10, 10],...</td>\n",
       "      <td>[[0, 20], [16, 19], [9, 10], [17, 18], [1, 2],...</td>\n",
       "      <td>[[0, 20], [4, 9], [13, 14], [1, 2], [6, 12], [...</td>\n",
       "    </tr>\n",
       "    <tr>\n",
       "      <th>4</th>\n",
       "      <td>[[0, 20], [3, 4], [6, 8]]</td>\n",
       "      <td>[[0, 20], [2, 13], [11, 15], [4, 12], [13, 15]...</td>\n",
       "      <td>[[0, 20], [3, 5], [13, 14], [15, 15], [17, 17]...</td>\n",
       "      <td>[[0, 20], [9, 18], [7, 19], [5, 15], [4, 12], ...</td>\n",
       "      <td>[[0, 20], [13, 15], [3, 5], [17, 19], [6, 15],...</td>\n",
       "      <td>[[0, 20], [0, 0], [7, 17], [7, 12], [12, 19], ...</td>\n",
       "      <td>[[0, 20], [17, 18], [11, 12], [16, 18], [1, 11...</td>\n",
       "    </tr>\n",
       "    <tr>\n",
       "      <th>...</th>\n",
       "      <td>...</td>\n",
       "      <td>...</td>\n",
       "      <td>...</td>\n",
       "      <td>...</td>\n",
       "      <td>...</td>\n",
       "      <td>...</td>\n",
       "      <td>...</td>\n",
       "    </tr>\n",
       "    <tr>\n",
       "      <th>9995</th>\n",
       "      <td>[[0, 20], [8, 11], [5, 6]]</td>\n",
       "      <td>[[0, 20], [0, 3], [19, 19], [1, 13], [13, 19],...</td>\n",
       "      <td>[[0, 20], [0, 0], [2, 12], [8, 16], [4, 9], [1...</td>\n",
       "      <td>[[0, 20], [4, 4], [15, 19], [11, 18], [3, 13],...</td>\n",
       "      <td>[[0, 20], [13, 14], [0, 5], [13, 18], [13, 16]...</td>\n",
       "      <td>[[0, 20], [11, 15], [13, 18], [1, 6], [2, 14],...</td>\n",
       "      <td>[[0, 20], [12, 13], [8, 10], [10, 16], [14, 17...</td>\n",
       "    </tr>\n",
       "    <tr>\n",
       "      <th>9996</th>\n",
       "      <td>[[0, 20], [0, 14], [1, 6]]</td>\n",
       "      <td>[[0, 20], [5, 13], [16, 16], [3, 13], [4, 15],...</td>\n",
       "      <td>[[0, 20], [17, 19], [1, 15], [5, 16], [5, 10],...</td>\n",
       "      <td>[[0, 20], [2, 2], [19, 19], [18, 19], [4, 15],...</td>\n",
       "      <td>[[0, 20], [19, 19], [18, 18], [16, 17], [9, 17...</td>\n",
       "      <td>[[0, 20], [3, 12], [13, 18], [4, 7], [4, 5], [...</td>\n",
       "      <td>[[0, 20], [12, 13], [1, 3], [8, 9], [15, 19], ...</td>\n",
       "    </tr>\n",
       "    <tr>\n",
       "      <th>9997</th>\n",
       "      <td>[[0, 20], [6, 6], [2, 13]]</td>\n",
       "      <td>[[0, 20], [14, 19], [9, 14], [5, 16], [18, 19]...</td>\n",
       "      <td>[[0, 20], [7, 15], [17, 17], [6, 15], [0, 10],...</td>\n",
       "      <td>[[0, 20], [7, 13], [17, 18], [7, 9], [13, 18],...</td>\n",
       "      <td>[[0, 20], [0, 1], [8, 17], [4, 11], [0, 11], [...</td>\n",
       "      <td>[[0, 20], [7, 10], [3, 5], [17, 17], [15, 17],...</td>\n",
       "      <td>[[0, 20], [1, 8], [11, 12], [7, 7], [12, 19], ...</td>\n",
       "    </tr>\n",
       "    <tr>\n",
       "      <th>9998</th>\n",
       "      <td>[[0, 20], [16, 16], [12, 12]]</td>\n",
       "      <td>[[0, 20], [14, 18], [8, 10], [18, 19], [7, 15]...</td>\n",
       "      <td>[[0, 20], [18, 19], [17, 17], [19, 19], [15, 1...</td>\n",
       "      <td>[[0, 20], [14, 18], [2, 19], [6, 8], [18, 19],...</td>\n",
       "      <td>[[0, 20], [1, 11], [5, 9], [3, 8], [8, 13], [4...</td>\n",
       "      <td>[[0, 20], [18, 18], [1, 4], [15, 18], [11, 15]...</td>\n",
       "      <td>[[0, 20], [4, 5], [1, 4], [19, 19], [12, 13], ...</td>\n",
       "    </tr>\n",
       "    <tr>\n",
       "      <th>9999</th>\n",
       "      <td>[[0, 20], [4, 15], [16, 17]]</td>\n",
       "      <td>[[0, 20], [16, 17], [7, 7], [2, 14], [4, 10], ...</td>\n",
       "      <td>[[0, 20], [18, 19], [10, 19], [14, 18], [1, 16...</td>\n",
       "      <td>[[0, 20], [2, 3], [12, 14], [18, 18], [16, 19]...</td>\n",
       "      <td>[[0, 20], [13, 18], [8, 11], [19, 19], [1, 16]...</td>\n",
       "      <td>[[0, 20], [13, 15], [13, 19], [11, 18], [2, 8]...</td>\n",
       "      <td>[[0, 20], [2, 15], [11, 17], [9, 19], [0, 0], ...</td>\n",
       "    </tr>\n",
       "  </tbody>\n",
       "</table>\n",
       "<p>10000 rows × 7 columns</p>\n",
       "</div>"
      ],
      "text/plain": [
       "                      Length 3 dgms  \\\n",
       "0      [[0, 20], [10, 12], [4, 13]]   \n",
       "1       [[0, 20], [3, 11], [6, 19]]   \n",
       "2      [[0, 20], [18, 18], [7, 16]]   \n",
       "3     [[0, 20], [15, 16], [17, 19]]   \n",
       "4         [[0, 20], [3, 4], [6, 8]]   \n",
       "...                             ...   \n",
       "9995     [[0, 20], [8, 11], [5, 6]]   \n",
       "9996     [[0, 20], [0, 14], [1, 6]]   \n",
       "9997     [[0, 20], [6, 6], [2, 13]]   \n",
       "9998  [[0, 20], [16, 16], [12, 12]]   \n",
       "9999   [[0, 20], [4, 15], [16, 17]]   \n",
       "\n",
       "                                          Length 6 dgms  \\\n",
       "0     [[0, 20], [5, 12], [18, 19], [12, 14], [7, 7],...   \n",
       "1     [[0, 20], [0, 4], [5, 7], [14, 17], [5, 18], [...   \n",
       "2     [[0, 20], [15, 18], [14, 17], [1, 4], [6, 18],...   \n",
       "3     [[0, 20], [7, 8], [6, 14], [4, 11], [1, 2], [1...   \n",
       "4     [[0, 20], [2, 13], [11, 15], [4, 12], [13, 15]...   \n",
       "...                                                 ...   \n",
       "9995  [[0, 20], [0, 3], [19, 19], [1, 13], [13, 19],...   \n",
       "9996  [[0, 20], [5, 13], [16, 16], [3, 13], [4, 15],...   \n",
       "9997  [[0, 20], [14, 19], [9, 14], [5, 16], [18, 19]...   \n",
       "9998  [[0, 20], [14, 18], [8, 10], [18, 19], [7, 15]...   \n",
       "9999  [[0, 20], [16, 17], [7, 7], [2, 14], [4, 10], ...   \n",
       "\n",
       "                                         Length 10 dgms  \\\n",
       "0     [[0, 20], [0, 16], [15, 15], [10, 13], [1, 17]...   \n",
       "1     [[0, 20], [12, 15], [16, 16], [3, 8], [11, 14]...   \n",
       "2     [[0, 20], [5, 19], [3, 18], [12, 13], [14, 19]...   \n",
       "3     [[0, 20], [16, 17], [2, 5], [5, 19], [15, 17],...   \n",
       "4     [[0, 20], [3, 5], [13, 14], [15, 15], [17, 17]...   \n",
       "...                                                 ...   \n",
       "9995  [[0, 20], [0, 0], [2, 12], [8, 16], [4, 9], [1...   \n",
       "9996  [[0, 20], [17, 19], [1, 15], [5, 16], [5, 10],...   \n",
       "9997  [[0, 20], [7, 15], [17, 17], [6, 15], [0, 10],...   \n",
       "9998  [[0, 20], [18, 19], [17, 17], [19, 19], [15, 1...   \n",
       "9999  [[0, 20], [18, 19], [10, 19], [14, 18], [1, 16...   \n",
       "\n",
       "                                         Length 20 dgms  \\\n",
       "0     [[0, 20], [9, 12], [15, 17], [3, 18], [7, 18],...   \n",
       "1     [[0, 20], [4, 17], [0, 8], [10, 14], [3, 15], ...   \n",
       "2     [[0, 20], [0, 14], [7, 8], [7, 15], [8, 13], [...   \n",
       "3     [[0, 20], [15, 18], [12, 15], [17, 17], [10, 1...   \n",
       "4     [[0, 20], [9, 18], [7, 19], [5, 15], [4, 12], ...   \n",
       "...                                                 ...   \n",
       "9995  [[0, 20], [4, 4], [15, 19], [11, 18], [3, 13],...   \n",
       "9996  [[0, 20], [2, 2], [19, 19], [18, 19], [4, 15],...   \n",
       "9997  [[0, 20], [7, 13], [17, 18], [7, 9], [13, 18],...   \n",
       "9998  [[0, 20], [14, 18], [2, 19], [6, 8], [18, 19],...   \n",
       "9999  [[0, 20], [2, 3], [12, 14], [18, 18], [16, 19]...   \n",
       "\n",
       "                                         Length 40 dgms  \\\n",
       "0     [[0, 20], [19, 19], [19, 19], [11, 13], [18, 1...   \n",
       "1     [[0, 20], [1, 17], [9, 13], [16, 18], [15, 17]...   \n",
       "2     [[0, 20], [1, 4], [16, 19], [1, 15], [6, 6], [...   \n",
       "3     [[0, 20], [0, 17], [18, 18], [4, 4], [10, 10],...   \n",
       "4     [[0, 20], [13, 15], [3, 5], [17, 19], [6, 15],...   \n",
       "...                                                 ...   \n",
       "9995  [[0, 20], [13, 14], [0, 5], [13, 18], [13, 16]...   \n",
       "9996  [[0, 20], [19, 19], [18, 18], [16, 17], [9, 17...   \n",
       "9997  [[0, 20], [0, 1], [8, 17], [4, 11], [0, 11], [...   \n",
       "9998  [[0, 20], [1, 11], [5, 9], [3, 8], [8, 13], [4...   \n",
       "9999  [[0, 20], [13, 18], [8, 11], [19, 19], [1, 16]...   \n",
       "\n",
       "                                         Length 80 dgms  \\\n",
       "0     [[0, 20], [11, 14], [16, 18], [16, 19], [12, 1...   \n",
       "1     [[0, 20], [1, 8], [14, 17], [14, 15], [6, 18],...   \n",
       "2     [[0, 20], [19, 19], [7, 11], [19, 19], [14, 19...   \n",
       "3     [[0, 20], [16, 19], [9, 10], [17, 18], [1, 2],...   \n",
       "4     [[0, 20], [0, 0], [7, 17], [7, 12], [12, 19], ...   \n",
       "...                                                 ...   \n",
       "9995  [[0, 20], [11, 15], [13, 18], [1, 6], [2, 14],...   \n",
       "9996  [[0, 20], [3, 12], [13, 18], [4, 7], [4, 5], [...   \n",
       "9997  [[0, 20], [7, 10], [3, 5], [17, 17], [15, 17],...   \n",
       "9998  [[0, 20], [18, 18], [1, 4], [15, 18], [11, 15]...   \n",
       "9999  [[0, 20], [13, 15], [13, 19], [11, 18], [2, 8]...   \n",
       "\n",
       "                                        Length 300 dgms  \n",
       "0     [[0, 20], [2, 17], [16, 19], [5, 18], [13, 18]...  \n",
       "1     [[0, 20], [4, 10], [16, 16], [15, 15], [11, 11...  \n",
       "2     [[0, 20], [15, 17], [7, 19], [2, 19], [9, 14],...  \n",
       "3     [[0, 20], [4, 9], [13, 14], [1, 2], [6, 12], [...  \n",
       "4     [[0, 20], [17, 18], [11, 12], [16, 18], [1, 11...  \n",
       "...                                                 ...  \n",
       "9995  [[0, 20], [12, 13], [8, 10], [10, 16], [14, 17...  \n",
       "9996  [[0, 20], [12, 13], [1, 3], [8, 9], [15, 19], ...  \n",
       "9997  [[0, 20], [1, 8], [11, 12], [7, 7], [12, 19], ...  \n",
       "9998  [[0, 20], [4, 5], [1, 4], [19, 19], [12, 13], ...  \n",
       "9999  [[0, 20], [2, 15], [11, 17], [9, 19], [0, 0], ...  \n",
       "\n",
       "[10000 rows x 7 columns]"
      ]
     },
     "execution_count": 3,
     "metadata": {},
     "output_type": "execute_result"
    }
   ],
   "source": [
    "timing_dgms = np.empty([10000,7], dtype=object)\n",
    "for j in range(0,10000):\n",
    "    three_dgms = []\n",
    "    six_dgms = []\n",
    "    ten_dgms = []\n",
    "    twenty_dgms = []\n",
    "    forty_dgms = []\n",
    "    eighty_dgms = []\n",
    "    threehundred_dgms = []\n",
    "    point = [0, 20]\n",
    "    three_dgms.append(point)\n",
    "    six_dgms.append(point)\n",
    "    ten_dgms.append(point)\n",
    "    twenty_dgms.append(point)\n",
    "    forty_dgms.append(point)\n",
    "    eighty_dgms.append(point)\n",
    "    threehundred_dgms.append(point)\n",
    "    for i in range(0,2):\n",
    "        birth = np.random.randint(0, 20, size=1)\n",
    "        death = np.random.randint(birth, 20, size=1)\n",
    "        point = [birth[0], death[0]]\n",
    "        three_dgms.append(point)\n",
    "    for i in range(0,5):\n",
    "        birth = np.random.randint(0, 20, size=1)\n",
    "        death = np.random.randint(birth, 20, size=1)\n",
    "        point = [birth[0], death[0]]\n",
    "        six_dgms.append(point)\n",
    "    for i in range(0,9):\n",
    "        birth = np.random.randint(0, 20, size=1)\n",
    "        death = np.random.randint(birth, 20, size=1)\n",
    "        point = [birth[0], death[0]]\n",
    "        ten_dgms.append(point)\n",
    "    for i in range(0,19):\n",
    "        birth = np.random.randint(0, 20, size=1)\n",
    "        death = np.random.randint(birth, 20, size=1)\n",
    "        point = [birth[0], death[0]]\n",
    "        twenty_dgms.append(point)\n",
    "    for i in range(0,39):\n",
    "        birth = np.random.randint(0, 20, size=1)\n",
    "        death = np.random.randint(birth, 20, size=1)\n",
    "        point = [birth[0], death[0]]\n",
    "        forty_dgms.append(point)\n",
    "    for i in range(0,79):\n",
    "        birth = np.random.randint(0, 20, size=1)\n",
    "        death = np.random.randint(birth, 20, size=1)\n",
    "        point = [birth[0], death[0]]\n",
    "        eighty_dgms.append(point)\n",
    "    for i in range(0,299):\n",
    "        birth = np.random.randint(0, 20, size=1)\n",
    "        death = np.random.randint(birth, 20, size=1)\n",
    "        point = [birth[0], death[0]]\n",
    "        threehundred_dgms.append(point)\n",
    "    timing_dgms[j,0]=three_dgms\n",
    "    timing_dgms[j,1]=six_dgms\n",
    "    timing_dgms[j,2]=ten_dgms\n",
    "    timing_dgms[j,3]=twenty_dgms\n",
    "    timing_dgms[j,4]=forty_dgms\n",
    "    timing_dgms[j,5]=eighty_dgms\n",
    "    timing_dgms[j,6]=threehundred_dgms\n",
    "timing_dgms = pd.DataFrame(timing_dgms)\n",
    "timing_dgms.columns = ['Length 3 dgms', 'Length 6 dgms', 'Length 10 dgms', 'Length 20 dgms', 'Length 40 dgms', 'Length 80 dgms', 'Length 300 dgms']\n",
    "timing_dgms"
   ]
  },
  {
   "cell_type": "code",
   "execution_count": 4,
   "metadata": {},
   "outputs": [],
   "source": [
    "dgms_3 = timing_dgms['Length 3 dgms']\n",
    "dgms_6 = timing_dgms['Length 6 dgms']\n",
    "dgms_10 = timing_dgms['Length 10 dgms']\n",
    "dgms_20 = timing_dgms['Length 20 dgms']\n",
    "dgms_40 = timing_dgms['Length 40 dgms']\n",
    "dgms_80 = timing_dgms['Length 80 dgms']\n",
    "dgms_300 = timing_dgms['Length 300 dgms']"
   ]
  },
  {
   "cell_type": "markdown",
   "metadata": {},
   "source": [
    "### Load original kernel method function from teaspoon"
   ]
  },
  {
   "cell_type": "code",
   "execution_count": 5,
   "metadata": {},
   "outputs": [],
   "source": [
    "import numpy as np\n",
    "import math\n",
    "from numpy.linalg import norm as lnorm\n",
    "from math import pi\n",
    "\n",
    "def KernelMethod(perDgm1, perDgm2, sigma):\n",
    "    \n",
    "    L1 = len(perDgm1)\n",
    "    L2 = len(perDgm2)\n",
    "    kernel = np.zeros((L2, L1))\n",
    "\n",
    "    Kernel = 0\n",
    "\n",
    "    for i in range(0, L1):\n",
    "        p = perDgm1[i]\n",
    "        p = np.reshape(p, (2, 1))\n",
    "        for j in range(0, L2):\n",
    "            q = perDgm2[j]\n",
    "            q = np.reshape(q, (2, 1))\n",
    "            q_bar = np.zeros((2, 1))\n",
    "            q_bar[0] = q[1]\n",
    "            q_bar[1] = q[0]\n",
    "            dist1 = lnorm(p-q)\n",
    "            dist2 = lnorm(p-q_bar)\n",
    "            kernel[j, i] = np.exp(-(math.pow(dist1, 2))/(8*sigma)) - \\\n",
    "                    np.exp(-(math.pow(dist2, 2))/(8*sigma))\n",
    "            Kernel = Kernel+kernel[j, i]\n",
    "    Kernel = Kernel*(1/(8*pi*sigma))\n",
    "\n",
    "    return Kernel\n",
    "\n",
    "def heat_kernel_distance(dgm0, dgm1, sigma=.4):\n",
    "    return np.sqrt(KernelMethod(dgm0, dgm0, sigma) + KernelMethod(dgm1, dgm1, sigma) - 2*KernelMethod(dgm0, dgm1, sigma))\n",
    "\n",
    "def kernel_features(train, s):\n",
    "    import time\n",
    "    import numpy as np\n",
    "    n_train = len(train)\n",
    "    X_train_features = np.zeros((n_train, n_train))\n",
    "\n",
    "    for i in range(0,n_train):\n",
    "        for j in range(0,i):\n",
    "            dgm0 = train[i]\n",
    "            dgm1 = train[j]\n",
    "            hka = heat_kernel_distance(dgm0, dgm1, sigma = s) \n",
    "            X_train_features[i,j] = hka\n",
    "            X_train_features[j,i] = hka\n",
    "\n",
    "    return X_train_features"
   ]
  },
  {
   "cell_type": "markdown",
   "metadata": {},
   "source": [
    "Optimized with Numba"
   ]
  },
  {
   "cell_type": "code",
   "execution_count": 6,
   "metadata": {},
   "outputs": [],
   "source": [
    "import numpy as np\n",
    "import math\n",
    "from numpy.linalg import norm as lnorm\n",
    "from math import pi\n",
    "from numba import jit\n",
    "import time\n",
    "\n",
    "@jit(nopython=True)\n",
    "def optimizedKernelMethod(perDgm1, perDgm2, sigma):\n",
    "    L1 = len(perDgm1)\n",
    "    L2 = len(perDgm2)\n",
    "    kernel = np.zeros((L2, L1))\n",
    "\n",
    "    Kernel = 0\n",
    "\n",
    "    for i in range(0, L1):\n",
    "        p = perDgm1[i]\n",
    "        p = np.reshape(p, (2, 1))\n",
    "        for j in range(0, L2):\n",
    "            q = perDgm2[j]\n",
    "            q = np.reshape(q, (2, 1))\n",
    "            q_bar = np.zeros((2, 1))\n",
    "            q_bar[0] = q[1]\n",
    "            q_bar[1] = q[0]\n",
    "            dist1 = lnorm(p-q)\n",
    "            dist2 = lnorm(p-q_bar)\n",
    "            kernel[j, i] = np.exp(-(np.power(dist1, 2))/(8*sigma)) - \\\n",
    "                np.exp(-(np.power(dist2, 2))/(8*sigma))\n",
    "            Kernel = Kernel+kernel[j, i]\n",
    "    Kernel = Kernel*(1/(8*pi*sigma))\n",
    "\n",
    "    return Kernel\n",
    "\n",
    "@jit(nopython=True)\n",
    "def optimized_heat_kernel_distance(dgm0, dgm1, sigma=.4):\n",
    "    return np.sqrt(optimizedKernelMethod(dgm0, dgm0, sigma) + optimizedKernelMethod(dgm1, dgm1, sigma) - 2*optimizedKernelMethod(dgm0, dgm1, sigma))\n",
    "\n",
    "@jit(nopython=True, parallel=True)\n",
    "def parallel_optimized_kernel_features(train, num_dgms, s):\n",
    "    X_train_features = np.zeros((num_dgms, num_dgms))\n",
    "    \n",
    "    for i in range(0,num_dgms):\n",
    "        for j in range(0,i):\n",
    "            dgm0 = train[train[:,0]==i,1:3]\n",
    "            dgm1 = train[train[:,0]==j,1:3]\n",
    "            hka = optimized_heat_kernel_distance(dgm0, dgm1, sigma = s) \n",
    "            X_train_features[i,j] = hka\n",
    "            X_train_features[j,i] = hka\n",
    "\n",
    "    return X_train_features\n",
    "\n",
    "@jit(nopython=True)\n",
    "def optimized_kernel_features(train, num_dgms, s):\n",
    "    X_train_features = np.zeros((num_dgms, num_dgms))\n",
    "    \n",
    "    for i in range(0,num_dgms):\n",
    "        for j in range(0,i):\n",
    "            dgm0 = train[train[:,0]==i,1:3]\n",
    "            dgm1 = train[train[:,0]==j,1:3]\n",
    "            hka = optimized_heat_kernel_distance(dgm0, dgm1, sigma = s) \n",
    "            X_train_features[i,j] = hka\n",
    "            X_train_features[j,i] = hka\n",
    "\n",
    "    return X_train_features"
   ]
  },
  {
   "cell_type": "code",
   "execution_count": 7,
   "metadata": {},
   "outputs": [
    {
     "ename": "NameError",
     "evalue": "name 'guvectorize' is not defined",
     "output_type": "error",
     "traceback": [
      "\u001b[0;31m---------------------------------------------------------------------------\u001b[0m",
      "\u001b[0;31mNameError\u001b[0m                                 Traceback (most recent call last)",
      "\u001b[0;32m/var/folders/p6/pn26dbmx4jj67d6nh7m6557h0000gn/T/ipykernel_23227/3525272442.py\u001b[0m in \u001b[0;36m<module>\u001b[0;34m\u001b[0m\n\u001b[0;32m----> 1\u001b[0;31m \u001b[0;34m@\u001b[0m\u001b[0mguvectorize\u001b[0m\u001b[0;34m(\u001b[0m\u001b[0;34m[\u001b[0m\u001b[0;34m\"void(float64[:,:], float64[:], float64, float64[:])\"\u001b[0m\u001b[0;34m,\u001b[0m\u001b[0;34m]\u001b[0m\u001b[0;34m,\u001b[0m\u001b[0;34m\"(m,n),(p),()->(m)\"\u001b[0m\u001b[0;34m,\u001b[0m \u001b[0mtarget\u001b[0m\u001b[0;34m=\u001b[0m\u001b[0;34m'parallel'\u001b[0m\u001b[0;34m,\u001b[0m \u001b[0mnopython\u001b[0m\u001b[0;34m=\u001b[0m\u001b[0;32mTrue\u001b[0m\u001b[0;34m)\u001b[0m\u001b[0;34m\u001b[0m\u001b[0;34m\u001b[0m\u001b[0m\n\u001b[0m\u001b[1;32m      2\u001b[0m \u001b[0;32mdef\u001b[0m \u001b[0mparallel_kernel_exponents\u001b[0m\u001b[0;34m(\u001b[0m\u001b[0mdgm0\u001b[0m\u001b[0;34m,\u001b[0m \u001b[0mdgm1\u001b[0m\u001b[0;34m,\u001b[0m \u001b[0ms\u001b[0m\u001b[0;34m,\u001b[0m \u001b[0mresult\u001b[0m\u001b[0;34m)\u001b[0m\u001b[0;34m:\u001b[0m\u001b[0;34m\u001b[0m\u001b[0;34m\u001b[0m\u001b[0m\n\u001b[1;32m      3\u001b[0m     \u001b[0mresult\u001b[0m\u001b[0;34m[\u001b[0m\u001b[0;34m:\u001b[0m\u001b[0;34m]\u001b[0m \u001b[0;34m=\u001b[0m \u001b[0mnp\u001b[0m\u001b[0;34m.\u001b[0m\u001b[0mexp\u001b[0m\u001b[0;34m(\u001b[0m\u001b[0;34m-\u001b[0m\u001b[0mnp\u001b[0m\u001b[0;34m.\u001b[0m\u001b[0msum\u001b[0m\u001b[0;34m(\u001b[0m\u001b[0;34m(\u001b[0m\u001b[0mdgm0\u001b[0m\u001b[0;34m[\u001b[0m\u001b[0;34m:\u001b[0m\u001b[0;34m]\u001b[0m\u001b[0;34m-\u001b[0m\u001b[0mdgm1\u001b[0m\u001b[0;34m[\u001b[0m\u001b[0;34m:\u001b[0m\u001b[0;34m]\u001b[0m\u001b[0;34m)\u001b[0m\u001b[0;34m*\u001b[0m\u001b[0;34m(\u001b[0m\u001b[0mdgm0\u001b[0m\u001b[0;34m[\u001b[0m\u001b[0;34m:\u001b[0m\u001b[0;34m]\u001b[0m\u001b[0;34m-\u001b[0m\u001b[0mdgm1\u001b[0m\u001b[0;34m[\u001b[0m\u001b[0;34m:\u001b[0m\u001b[0;34m]\u001b[0m\u001b[0;34m)\u001b[0m\u001b[0;34m,\u001b[0m \u001b[0maxis\u001b[0m\u001b[0;34m=\u001b[0m\u001b[0;36m1\u001b[0m\u001b[0;34m)\u001b[0m\u001b[0;34m/\u001b[0m\u001b[0;34m(\u001b[0m\u001b[0;36m8\u001b[0m\u001b[0;34m*\u001b[0m\u001b[0ms\u001b[0m\u001b[0;34m)\u001b[0m\u001b[0;34m)\u001b[0m\u001b[0;34m\u001b[0m\u001b[0;34m\u001b[0m\u001b[0m\n\u001b[1;32m      4\u001b[0m \u001b[0;34m\u001b[0m\u001b[0m\n\u001b[1;32m      5\u001b[0m \u001b[0;34m@\u001b[0m\u001b[0mjit\u001b[0m\u001b[0;34m\u001b[0m\u001b[0;34m\u001b[0m\u001b[0m\n",
      "\u001b[0;31mNameError\u001b[0m: name 'guvectorize' is not defined"
     ]
    }
   ],
   "source": [
    "@guvectorize([\"void(float64[:,:], float64[:], float64, float64[:])\",],\"(m,n),(p),()->(m)\", target='parallel', nopython=True)\n",
    "def parallel_kernel_exponents(dgm0, dgm1, s, result):\n",
    "    result[:] = np.exp(-np.sum((dgm0[:]-dgm1[:])*(dgm0[:]-dgm1[:]), axis=1)/(8*s))\n",
    "\n",
    "@jit\n",
    "def kernel_method_parallel(dgm0, dgm1, sigma=.3):\n",
    "    kSigma=0\n",
    "    sigma=sigma\n",
    "    for i in range(len(dgm1)):\n",
    "        dgm11 = dgm1[i,:]\n",
    "        dgm12 = np.flip(dgm1[i,:])\n",
    "        k = parallel_kernel_exponents(dgm0, dgm11, sigma)\n",
    "        k2 = parallel_kernel_exponents(dgm0, dgm12, sigma)\n",
    "        kSigma += np.sum(k) - np.sum(k2)\n",
    "    return kSigma/(8*pi*sigma)\n",
    "\n",
    "@jit\n",
    "def heat_kernel_distance_par(dgm0, dgm1, sigma=.4):\n",
    "    return np.sqrt(kernel_method_parallel(dgm0, dgm0, sigma) + kernel_method_parallel(dgm1, dgm1, sigma) - 2*kernel_method_parallel(dgm0, dgm1, sigma))\n",
    "\n",
    "@jit\n",
    "def parallel_kernel_features(train, num_dgms, s):\n",
    "    X_train_features = np.zeros((num_dgms, num_dgms))\n",
    "    \n",
    "    for i in range(0,num_dgms):\n",
    "        for j in range(0,i):\n",
    "            dgm0 = train[train[:,0]==i,1:3]\n",
    "            dgm1 = train[train[:,0]==j,1:3]\n",
    "            hka = optimized_heat_kernel_distance(dgm0, dgm1, sigma = s) \n",
    "            X_train_features[i,j] = hka\n",
    "            X_train_features[j,i] = hka\n",
    "\n",
    "    return X_train_features"
   ]
  },
  {
   "cell_type": "code",
   "execution_count": null,
   "metadata": {},
   "outputs": [
    {
     "name": "stdout",
     "output_type": "stream",
     "text": [
      "5.385164807134504\n"
     ]
    },
    {
     "data": {
      "text/plain": [
       "0.15768274387316614"
      ]
     },
     "execution_count": 506,
     "metadata": {},
     "output_type": "execute_result"
    }
   ],
   "source": [
    "dgm1 = np.array(dgms_3[0])\n",
    "dgm2 = np.array(dgms_3[1])\n",
    "print(lnorm(dgm1-dgm2))\n",
    "\n",
    "KernelMethod(dgm1, dgm2, sigma=.3)"
   ]
  },
  {
   "cell_type": "code",
   "execution_count": null,
   "metadata": {},
   "outputs": [
    {
     "name": "stdout",
     "output_type": "stream",
     "text": [
      "2.14 ms ± 52 µs per loop (mean ± std. dev. of 7 runs, 100 loops each)\n"
     ]
    },
    {
     "data": {
      "image/png": "[encoded data removed]",
      "text/plain": [
       "<Figure size 640x480 with 2 Axes>"
      ]
     },
     "metadata": {},
     "output_type": "display_data"
    }
   ],
   "source": [
    "import matplotlib.pyplot as plt\n",
    "import seaborn as sns\n",
    "train = dgms_3[0:5]\n",
    "%timeit kernel_features(train, s=.3)\n",
    "check = kernel_features(train, s=.3)\n",
    "ax=sns.heatmap(check, cmap='viridis')"
   ]
  },
  {
   "cell_type": "code",
   "execution_count": null,
   "metadata": {},
   "outputs": [
    {
     "name": "stdout",
     "output_type": "stream",
     "text": [
      "151 µs ± 511 ns per loop (mean ± std. dev. of 7 runs, 10,000 loops each)\n"
     ]
    }
   ],
   "source": [
    "train_test = np.array(dgms_3[0:5])\n",
    "train, dummy_train, dummy = reshape_persistence_diagrams(train_test)\n",
    "%timeit parallel_kernel_features(train,dummy_train,.3)\n",
    "check2 = parallel_kernel_features(train,dummy_train,.3)"
   ]
  },
  {
   "cell_type": "markdown",
   "metadata": {},
   "source": [
    "Parallel with guvectorize"
   ]
  },
  {
   "cell_type": "code",
   "execution_count": 8,
   "metadata": {},
   "outputs": [
    {
     "name": "stderr",
     "output_type": "stream",
     "text": [
      "/Users/daniellebarnes/development/tda_env/lib/python3.8/site-packages/numba/np/ufunc/parallel.py:366: NumbaWarning: The TBB threading layer requires TBB version 2021 update 1 or later i.e., TBB_INTERFACE_VERSION >= 12010. Found TBB_INTERFACE_VERSION = 11103. The TBB threading layer is disabled.\n",
      "  warnings.warn(problem)\n",
      "OMP: Info #270: omp_set_nested routine deprecated, please use omp_set_max_active_levels instead.\n"
     ]
    }
   ],
   "source": [
    "from numba import guvectorize\n",
    "\n",
    "@jit(nopython=True)\n",
    "def guvectorize_kernel_par(dgm0, dgm1, sigma):\n",
    "    kSigma0 = 0\n",
    "    kSigma1 = 0\n",
    "    kSigma2 = 0\n",
    "    for k in range(dgm0.shape[0]):\n",
    "        p = dgm0[k,0:2]\n",
    "        for l in range(dgm0.shape[0]):\n",
    "            q = dgm0[l,0:2]\n",
    "            qc = dgm0[l, 1::-1]\n",
    "            pq = (p[0] - q[0])**2 + (p[1] - q[1])**2\n",
    "            pqc = (p[0] - qc[0])**2 + (p[1] - qc[1])**2\n",
    "            kSigma0 += math.exp(-( pq) / (8 * sigma)) - math.exp(-(pqc) / (8 * sigma))\n",
    "    for k in range(dgm1.shape[0]):\n",
    "        p = dgm1[k,0:2]\n",
    "        for l in range(dgm1.shape[0]):\n",
    "            q = dgm1[l,0:2]\n",
    "            qc = dgm1[l, 1::-1]\n",
    "            pq = (p[0] - q[0])**2 + (p[1] - q[1])**2\n",
    "            pqc = (p[0] - qc[0])**2 + (p[1] - qc[1])**2\n",
    "            kSigma1 += math.exp(-( pq) / (8 * sigma)) - math.exp(-(pqc) / (8 * sigma))\n",
    "    for k in range(dgm0.shape[0]):\n",
    "        p = dgm0[k,0:2]\n",
    "        for l in range(dgm1.shape[0]):\n",
    "            q = dgm1[l,0:2]\n",
    "            qc = dgm1[l, 1::-1]\n",
    "            pq = (p[0] - q[0])**2 + (p[1] - q[1])**2\n",
    "            pqc = (p[0] - qc[0])**2 + (p[1] - qc[1])**2\n",
    "            kSigma2 += math.exp(-( pq) / (8 * sigma)) - math.exp(-(pqc) / (8 * sigma))\n",
    "    return(kSigma0, kSigma1, kSigma2)\n",
    "\n",
    "\n",
    "\n",
    "@guvectorize([\"void(float64[:,:], float64[:], float64, float64[:,:])\",],\"(m,n),(p),()->(p,p)\", target='parallel', nopython=True)\n",
    "def parallel_gu_vectorize(train, num_dgms, s, result):\n",
    "    n_train = len(num_dgms)\n",
    "    for i in range(n_train):\n",
    "        for j in range(i):\n",
    "            dgm0 = train[train[:,0]==i,1:3]\n",
    "            dgm1 = train[train[:,0]==j,1:3]\n",
    "            sigma = s\n",
    "            kSigma0, kSigma1, kSigma2 = guvectorize_kernel_par(dgm0, dgm1, sigma)\n",
    "            kSigma0 = kSigma0/(8 * np.pi * sigma)\n",
    "            kSigma1 = kSigma1/(8 * np.pi * sigma)\n",
    "            kSigma2 = kSigma2/(8 * np.pi * sigma)\n",
    "            result[i,j] = math.sqrt(kSigma1 + kSigma0-2*kSigma2)\n",
    "            result[j,i] = math.sqrt(kSigma1 + kSigma0-2*kSigma2)"
   ]
  },
  {
   "cell_type": "code",
   "execution_count": 9,
   "metadata": {},
   "outputs": [],
   "source": [
    "from numba import guvectorize\n",
    "\n",
    "@jit(nopython=True)\n",
    "def guvectorize_kernel(dgm0, dgm1, sigma):\n",
    "    kSigma0 = 0\n",
    "    kSigma1 = 0\n",
    "    kSigma2 = 0\n",
    "    for k in range(dgm0.shape[0]):\n",
    "        p = dgm0[k,0:2]\n",
    "        for l in range(dgm0.shape[0]):\n",
    "            q = dgm0[l,0:2]\n",
    "            qc = dgm0[l, 1::-1]\n",
    "            pq = (p[0] - q[0])**2 + (p[1] - q[1])**2\n",
    "            pqc = (p[0] - qc[0])**2 + (p[1] - qc[1])**2\n",
    "            kSigma0 += math.exp(-( pq) / (8 * sigma)) - math.exp(-(pqc) / (8 * sigma))\n",
    "    for k in range(dgm1.shape[0]):\n",
    "        p = dgm1[k,0:2]\n",
    "        for l in range(dgm1.shape[0]):\n",
    "            q = dgm1[l,0:2]\n",
    "            qc = dgm1[l, 1::-1]\n",
    "            pq = (p[0] - q[0])**2 + (p[1] - q[1])**2\n",
    "            pqc = (p[0] - qc[0])**2 + (p[1] - qc[1])**2\n",
    "            kSigma1 += math.exp(-( pq) / (8 * sigma)) - math.exp(-(pqc) / (8 * sigma))\n",
    "    for k in range(dgm0.shape[0]):\n",
    "        p = dgm0[k,0:2]\n",
    "        for l in range(dgm1.shape[0]):\n",
    "            q = dgm1[l,0:2]\n",
    "            qc = dgm1[l, 1::-1]\n",
    "            pq = (p[0] - q[0])**2 + (p[1] - q[1])**2\n",
    "            pqc = (p[0] - qc[0])**2 + (p[1] - qc[1])**2\n",
    "            kSigma2 += math.exp(-( pq) / (8 * sigma)) - math.exp(-(pqc) / (8 * sigma))\n",
    "    return(kSigma0, kSigma1, kSigma2)\n",
    "\n",
    "@guvectorize([\"void(float64[:,:], float64[:], float64, float64[:,:])\",],\"(m,n),(p),()->(p,p)\", target='parallel', nopython=True)\n",
    "def parallel_gu_vectorize(train, num_dgms, s, result):\n",
    "    n_train = len(num_dgms)\n",
    "    for i in range(n_train):\n",
    "        for j in range(i):\n",
    "            dgm0 = train[train[:,0]==i,1:3]\n",
    "            dgm1 = train[train[:,0]==j,1:3]\n",
    "            sigma = s\n",
    "            kSigma0, kSigma1, kSigma2 = guvectorize_kernel(dgm0, dgm1, sigma)\n",
    "            kSigma0 = kSigma0/(8 * np.pi * sigma)\n",
    "            kSigma1 = kSigma1/(8 * np.pi * sigma)\n",
    "            kSigma2 = kSigma2/(8 * np.pi * sigma)\n",
    "            result[i,j] = math.sqrt(kSigma1 + kSigma0-2*kSigma2)\n",
    "            result[j,i] = math.sqrt(kSigma1 + kSigma0-2*kSigma2)"
   ]
  },
  {
   "cell_type": "code",
   "execution_count": 10,
   "metadata": {},
   "outputs": [],
   "source": [
    "from numba import guvectorize\n",
    "@guvectorize([\"void(float64[:,:], float64[:], float64, float64[:,:])\",],\"(m,n),(p),()->(p,p)\", target='cpu', nopython=True)\n",
    "def guvectorize_kernel(train, num_dgms, s, result):\n",
    "    n_train = len(num_dgms)\n",
    "    for i in range(n_train):\n",
    "        for j in range(i):\n",
    "            dgm0 = train[train[:,0]==i,1:3]\n",
    "            dgm1 = train[train[:,0]==j,1:3]\n",
    "            kSigma0 = 0\n",
    "            kSigma1 = 0\n",
    "            kSigma2 = 0\n",
    "            sigma = s\n",
    "            for k in range(dgm0.shape[0]):\n",
    "                p = dgm0[k,0:2]\n",
    "                for l in range(dgm0.shape[0]):\n",
    "                    q = dgm0[l,0:2]\n",
    "                    qc = dgm0[l, 1::-1]\n",
    "                    pq = (p[0] - q[0])**2 + (p[1] - q[1])**2\n",
    "                    pqc = (p[0] - qc[0])**2 + (p[1] - qc[1])**2\n",
    "                    kSigma0 += math.exp(-( pq) / (8 * sigma)) - math.exp(-(pqc) / (8 * sigma))\n",
    "            for k in range(dgm1.shape[0]):\n",
    "                p = dgm1[k,0:2]\n",
    "                for l in range(dgm1.shape[0]):\n",
    "                    q = dgm1[l,0:2]\n",
    "                    qc = dgm1[l, 1::-1]\n",
    "                    pq = (p[0] - q[0])**2 + (p[1] - q[1])**2\n",
    "                    pqc = (p[0] - qc[0])**2 + (p[1] - qc[1])**2\n",
    "                    kSigma1 += math.exp(-( pq) / (8 * sigma)) - math.exp(-(pqc) / (8 * sigma))\n",
    "            for k in range(dgm0.shape[0]):\n",
    "                p = dgm0[k,0:2]\n",
    "                for l in range(dgm1.shape[0]):\n",
    "                    q = dgm1[l,0:2]\n",
    "                    qc = dgm1[l, 1::-1]\n",
    "                    pq = (p[0] - q[0])**2 + (p[1] - q[1])**2\n",
    "                    pqc = (p[0] - qc[0])**2 + (p[1] - qc[1])**2\n",
    "                    kSigma2 += math.exp(-( pq) / (8 * sigma)) - math.exp(-(pqc) / (8 * sigma))\n",
    "\n",
    "            kSigma0 = kSigma0/(8 * np.pi * sigma)\n",
    "            kSigma1 = kSigma1/(8 * np.pi * sigma)\n",
    "            kSigma2 = kSigma2/(8 * np.pi * sigma)\n",
    "            result[i,j] = math.sqrt(kSigma1 + kSigma0-2*kSigma2)\n",
    "            result[j,i] = math.sqrt(kSigma1 + kSigma0-2*kSigma2)"
   ]
  },
  {
   "cell_type": "code",
   "execution_count": 11,
   "metadata": {},
   "outputs": [],
   "source": [
    "@jit\n",
    "def reshape_persistence_diagrams(dgm):\n",
    "    dgm_reshape = np.array([], dtype='float')\n",
    "    num_dgms = len(dgm)\n",
    "    for i in range(0,num_dgms):\n",
    "        t = np.repeat(i, len(dgm[i]))\n",
    "        t = t.reshape(len(dgm[i]),1)\n",
    "        t1 = np.concatenate((t,dgm[i]),1)\n",
    "        if i == 0:\n",
    "            dgm_reshape = t1\n",
    "        else:\n",
    "            dgm_reshape = np.append(dgm_reshape, t1, 0)\n",
    "    dummy = np.zeros((num_dgms))\n",
    "    dgm_reshape = np.array(dgm_reshape, dtype='float')\n",
    "    return dgm_reshape, num_dgms, dummy"
   ]
  },
  {
   "cell_type": "markdown",
   "metadata": {},
   "source": [
    "First run to compile"
   ]
  },
  {
   "cell_type": "code",
   "execution_count": 13,
   "metadata": {},
   "outputs": [
    {
     "name": "stdout",
     "output_type": "stream",
     "text": [
      "14.5 ms ± 88.8 µs per loop (mean ± std. dev. of 7 runs, 100 loops each)\n",
      "1.99 ms ± 10.5 µs per loop (mean ± std. dev. of 7 runs, 1000 loops each)\n",
      "2.04 ms ± 23.4 µs per loop (mean ± std. dev. of 7 runs, 100 loops each)\n",
      "15.8 µs ± 168 ns per loop (mean ± std. dev. of 7 runs, 100000 loops each)\n",
      "15.8 µs ± 63.7 ns per loop (mean ± std. dev. of 7 runs, 100000 loops each)\n"
     ]
    }
   ],
   "source": [
    "train_test = np.array(dgms_10[0:3])\n",
    "%timeit X_train_features_original = kernel_features(train_test, s = .3)\n",
    "train, dummy_train, dummy = reshape_persistence_diagrams(train_test)\n",
    "%timeit X_train_features_optimized = optimized_kernel_features(train, dummy_train, s = .3)\n",
    "%timeit X_train_features_optimized_parallel = parallel_optimized_kernel_features(train, dummy_train, .3)\n",
    "%timeit X_train_features_gu_parallel = parallel_gu_vectorize(train, dummy, .3)\n",
    "%timeit X_train_features_gu = guvectorize_kernel(train, dummy, .3)"
   ]
  },
  {
   "cell_type": "code",
   "execution_count": 14,
   "metadata": {},
   "outputs": [
    {
     "name": "stdout",
     "output_type": "stream",
     "text": [
      "1.05 s ± 11.4 ms per loop (mean ± std. dev. of 7 runs, 1 loop each)\n",
      "1.03 s ± 5.33 ms per loop (mean ± std. dev. of 7 runs, 1 loop each)\n"
     ]
    }
   ],
   "source": [
    "train_test = np.array(dgms_300[0:25])\n",
    "train, dummy_train, dummy = reshape_persistence_diagrams(train_test)\n",
    "%timeit X_train_features_gu_parallel = parallel_gu_vectorize(train, dummy, .3)\n",
    "%timeit X_train_features_gu = guvectorize_kernel(train, dummy, .3)"
   ]
  },
  {
   "cell_type": "markdown",
   "metadata": {},
   "source": [
    "### Loop for random samples and timing"
   ]
  },
  {
   "cell_type": "code",
   "execution_count": 15,
   "metadata": {},
   "outputs": [
    {
     "name": "stdout",
     "output_type": "stream",
     "text": [
      "Finished Kernel\n",
      "Finished Jit Optimized Kernel\n",
      "Finished Jit Optimized and Parallel Kernel\n",
      "Finished gu vectorize\n",
      "Finished Kernel\n",
      "Finished Jit Optimized Kernel\n",
      "Finished Jit Optimized and Parallel Kernel\n",
      "Finished gu vectorize\n",
      "Finished Kernel\n",
      "Finished Jit Optimized Kernel\n",
      "Finished Jit Optimized and Parallel Kernel\n",
      "Finished gu vectorize\n",
      "Finished Kernel\n",
      "Finished Jit Optimized Kernel\n",
      "Finished Jit Optimized and Parallel Kernel\n",
      "Finished gu vectorize\n",
      "Finished Kernel\n",
      "Finished Jit Optimized Kernel\n",
      "Finished Jit Optimized and Parallel Kernel\n",
      "Finished gu vectorize\n",
      "Finished Training  0\n",
      "Finished Kernel\n",
      "Finished Jit Optimized Kernel\n",
      "Finished Jit Optimized and Parallel Kernel\n",
      "Finished gu vectorize\n",
      "Finished Kernel\n",
      "Finished Jit Optimized Kernel\n",
      "Finished Jit Optimized and Parallel Kernel\n",
      "Finished gu vectorize\n",
      "Finished Kernel\n",
      "Finished Jit Optimized Kernel\n",
      "Finished Jit Optimized and Parallel Kernel\n",
      "Finished gu vectorize\n",
      "Finished Kernel\n",
      "Finished Jit Optimized Kernel\n",
      "Finished Jit Optimized and Parallel Kernel\n",
      "Finished gu vectorize\n",
      "Finished Kernel\n",
      "Finished Jit Optimized Kernel\n",
      "Finished Jit Optimized and Parallel Kernel\n",
      "Finished gu vectorize\n",
      "Finished Training  1\n",
      "Finished Kernel\n",
      "Finished Jit Optimized Kernel\n",
      "Finished Jit Optimized and Parallel Kernel\n",
      "Finished gu vectorize\n",
      "Finished Kernel\n",
      "Finished Jit Optimized Kernel\n",
      "Finished Jit Optimized and Parallel Kernel\n",
      "Finished gu vectorize\n",
      "Finished Kernel\n",
      "Finished Jit Optimized Kernel\n",
      "Finished Jit Optimized and Parallel Kernel\n",
      "Finished gu vectorize\n",
      "Finished Kernel\n",
      "Finished Jit Optimized Kernel\n",
      "Finished Jit Optimized and Parallel Kernel\n",
      "Finished gu vectorize\n",
      "Finished Kernel\n",
      "Finished Jit Optimized Kernel\n",
      "Finished Jit Optimized and Parallel Kernel\n",
      "Finished gu vectorize\n",
      "Finished Training  2\n",
      "Finished Kernel\n",
      "Finished Jit Optimized Kernel\n",
      "Finished Jit Optimized and Parallel Kernel\n",
      "Finished gu vectorize\n",
      "Finished Kernel\n",
      "Finished Jit Optimized Kernel\n",
      "Finished Jit Optimized and Parallel Kernel\n",
      "Finished gu vectorize\n",
      "Finished Kernel\n",
      "Finished Jit Optimized Kernel\n",
      "Finished Jit Optimized and Parallel Kernel\n",
      "Finished gu vectorize\n",
      "Finished Kernel\n",
      "Finished Jit Optimized Kernel\n",
      "Finished Jit Optimized and Parallel Kernel\n",
      "Finished gu vectorize\n",
      "Finished Kernel\n",
      "Finished Jit Optimized Kernel\n",
      "Finished Jit Optimized and Parallel Kernel\n",
      "Finished gu vectorize\n",
      "Finished Training  3\n",
      "   Observations   Original  Jit optimized  Jit optimized, parallel  Vectorized\n",
      "0          25.0   1.455492       0.199530                 0.202142    0.002246\n",
      "1          50.0   5.896868       0.819198                 0.826977    0.008892\n",
      "2          75.0  13.309879       1.855435                 1.877224    0.021955\n",
      "3         100.0  23.590023       3.296384                 3.334748    0.041799\n"
     ]
    }
   ],
   "source": [
    "seed = [0,1,2,3,4]\n",
    "train_size = [25, 50, 75, 100]\n",
    "n = len(train_size)\n",
    "timing10 = np.zeros((n,5))\n",
    "for i in range(0,n):\n",
    "    for j in seed:\n",
    "        dgms = np.array(dgms_10[0:train_size[i]])\n",
    "        timing10[i,0] += len(dgms)\n",
    "\n",
    "        start = time.time()\n",
    "        X_train_features = kernel_features(dgms, s = .3)\n",
    "        end = time.time()-start\n",
    "        timing10[i,1] +=end\n",
    "        print(\"Finished Kernel\")\n",
    "\n",
    "        start = time.time()\n",
    "        train, dummy_train, dummy = reshape_persistence_diagrams(dgms)\n",
    "        X_train_features = optimized_kernel_features(train, dummy_train, s = .3)\n",
    "        end = time.time()-start\n",
    "        timing10[i,2] +=end\n",
    "        print(\"Finished Jit Optimized Kernel\")\n",
    "\n",
    "        start = time.time()\n",
    "        train, dummy_train, dummy = reshape_persistence_diagrams(dgms)\n",
    "        result1 = parallel_optimized_kernel_features(train, dummy_train, .3)\n",
    "        end = time.time()-start\n",
    "        timing10[i,3] +=end\n",
    "        print(\"Finished Jit Optimized and Parallel Kernel\")\n",
    "\n",
    "        start = time.time()\n",
    "        train, dummy_train, dummy = reshape_persistence_diagrams(dgms)\n",
    "        X_train_features_gu = guvectorize_kernel(train, dummy, .3)\n",
    "        end = time.time()-start\n",
    "        timing10[i,4] +=end\n",
    "        print(\"Finished gu vectorize\")\n",
    "\n",
    "    print(\"Finished Training \", i)\n",
    "timing10 = pd.DataFrame(timing10/5)\n",
    "timing10.columns=['Observations', 'Original', 'Jit optimized', 'Jit optimized, parallel', 'Vectorized']\n",
    "print(timing10)"
   ]
  },
  {
   "cell_type": "markdown",
   "metadata": {},
   "source": [
    "Plot Timing"
   ]
  },
  {
   "cell_type": "code",
   "execution_count": 16,
   "metadata": {},
   "outputs": [
    {
     "data": {
      "text/plain": [
       "Text(0.5, 1.0, 'Kernel Method Timing - 10 dgms')"
      ]
     },
     "execution_count": 16,
     "metadata": {},
     "output_type": "execute_result"
    },
    {
     "data": {
      "image/png": "[encoded data removed]",
      "text/plain": [
       "<Figure size 432x288 with 1 Axes>"
      ]
     },
     "metadata": {
      "needs_background": "light"
     },
     "output_type": "display_data"
    }
   ],
   "source": [
    "t = timing10.plot(x='Observations')\n",
    "t.set_xlabel(\"Sample Size\")\n",
    "t.set_ylabel(\"Time in Seconds\")\n",
    "t.set_title(\"Kernel Method Timing - 10 dgms\")"
   ]
  },
  {
   "cell_type": "code",
   "execution_count": 17,
   "metadata": {},
   "outputs": [
    {
     "data": {
      "text/plain": [
       "Text(0.5, 1.0, 'Kernel Method Timing - 10 dgms')"
      ]
     },
     "execution_count": 17,
     "metadata": {},
     "output_type": "execute_result"
    },
    {
     "data": {
      "image/png": "[encoded data removed]",
      "text/plain": [
       "<Figure size 432x288 with 1 Axes>"
      ]
     },
     "metadata": {
      "needs_background": "light"
     },
     "output_type": "display_data"
    }
   ],
   "source": [
    "#timing.columns=['Observations', 'Original', 'Jit optimized', 'Vectorized', 'None']\n",
    "timing_noog = timing10.drop(['Original'], axis=1)\n",
    "t = timing_noog.plot(x='Observations')\n",
    "t.set_xlabel(\"Sample Size\")\n",
    "t.set_ylabel(\"Time in Seconds\")\n",
    "t.set_title(\"Kernel Method Timing - 10 dgms\")"
   ]
  },
  {
   "cell_type": "code",
   "execution_count": 18,
   "metadata": {},
   "outputs": [
    {
     "data": {
      "text/plain": [
       "Text(0.5, 1.0, 'Kernel Method Timing - 10 dgms')"
      ]
     },
     "execution_count": 18,
     "metadata": {},
     "output_type": "execute_result"
    },
    {
     "data": {
      "image/png": "[encoded data removed]",
      "text/plain": [
       "<Figure size 432x288 with 1 Axes>"
      ]
     },
     "metadata": {
      "needs_background": "light"
     },
     "output_type": "display_data"
    }
   ],
   "source": [
    "timing_vectorized = timing10.drop(['Original', 'Jit optimized', 'Jit optimized, parallel'], axis=1)\n",
    "t = timing_vectorized.plot(x='Observations')\n",
    "t.set_xlabel(\"Sample Size\")\n",
    "t.set_ylabel(\"Time in Seconds\")\n",
    "t.set_title(\"Kernel Method Timing - 10 dgms\")"
   ]
  },
  {
   "cell_type": "markdown",
   "metadata": {},
   "source": [
    "### Timing with 80 dgms"
   ]
  },
  {
   "cell_type": "code",
   "execution_count": 19,
   "metadata": {},
   "outputs": [
    {
     "name": "stdout",
     "output_type": "stream",
     "text": [
      "Finished Kernel\n",
      "Finished Jit Optimized Kernel\n",
      "Finished Jit Optimized and Parallel Kernel\n",
      "Finished gu vectorize\n",
      "Finished Kernel\n",
      "Finished Jit Optimized Kernel\n",
      "Finished Jit Optimized and Parallel Kernel\n",
      "Finished gu vectorize\n",
      "Finished Kernel\n",
      "Finished Jit Optimized Kernel\n",
      "Finished Jit Optimized and Parallel Kernel\n",
      "Finished gu vectorize\n",
      "Finished Kernel\n",
      "Finished Jit Optimized Kernel\n",
      "Finished Jit Optimized and Parallel Kernel\n",
      "Finished gu vectorize\n",
      "Finished Kernel\n",
      "Finished Jit Optimized Kernel\n",
      "Finished Jit Optimized and Parallel Kernel\n",
      "Finished gu vectorize\n",
      "Finished Training  0\n",
      "Finished Kernel\n",
      "Finished Jit Optimized Kernel\n",
      "Finished Jit Optimized and Parallel Kernel\n",
      "Finished gu vectorize\n",
      "Finished Kernel\n",
      "Finished Jit Optimized Kernel\n",
      "Finished Jit Optimized and Parallel Kernel\n",
      "Finished gu vectorize\n",
      "Finished Kernel\n",
      "Finished Jit Optimized Kernel\n",
      "Finished Jit Optimized and Parallel Kernel\n",
      "Finished gu vectorize\n",
      "Finished Kernel\n",
      "Finished Jit Optimized Kernel\n",
      "Finished Jit Optimized and Parallel Kernel\n",
      "Finished gu vectorize\n",
      "Finished Kernel\n",
      "Finished Jit Optimized Kernel\n",
      "Finished Jit Optimized and Parallel Kernel\n",
      "Finished gu vectorize\n",
      "Finished Training  1\n",
      "Finished Kernel\n",
      "Finished Jit Optimized Kernel\n",
      "Finished Jit Optimized and Parallel Kernel\n",
      "Finished gu vectorize\n",
      "Finished Kernel\n",
      "Finished Jit Optimized Kernel\n",
      "Finished Jit Optimized and Parallel Kernel\n",
      "Finished gu vectorize\n",
      "Finished Kernel\n",
      "Finished Jit Optimized Kernel\n",
      "Finished Jit Optimized and Parallel Kernel\n",
      "Finished gu vectorize\n",
      "Finished Kernel\n",
      "Finished Jit Optimized Kernel\n",
      "Finished Jit Optimized and Parallel Kernel\n",
      "Finished gu vectorize\n",
      "Finished Kernel\n",
      "Finished Jit Optimized Kernel\n",
      "Finished Jit Optimized and Parallel Kernel\n",
      "Finished gu vectorize\n",
      "Finished Training  2\n",
      "Finished Kernel\n",
      "Finished Jit Optimized Kernel\n",
      "Finished Jit Optimized and Parallel Kernel\n",
      "Finished gu vectorize\n",
      "Finished Kernel\n",
      "Finished Jit Optimized Kernel\n",
      "Finished Jit Optimized and Parallel Kernel\n",
      "Finished gu vectorize\n",
      "Finished Kernel\n",
      "Finished Jit Optimized Kernel\n",
      "Finished Jit Optimized and Parallel Kernel\n",
      "Finished gu vectorize\n",
      "Finished Kernel\n",
      "Finished Jit Optimized Kernel\n",
      "Finished Jit Optimized and Parallel Kernel\n",
      "Finished gu vectorize\n",
      "Finished Kernel\n",
      "Finished Jit Optimized Kernel\n",
      "Finished Jit Optimized and Parallel Kernel\n",
      "Finished gu vectorize\n",
      "Finished Training  3\n",
      "Finished Kernel\n",
      "Finished Jit Optimized Kernel\n",
      "Finished Jit Optimized and Parallel Kernel\n",
      "Finished gu vectorize\n",
      "Finished Kernel\n",
      "Finished Jit Optimized Kernel\n",
      "Finished Jit Optimized and Parallel Kernel\n",
      "Finished gu vectorize\n",
      "Finished Kernel\n",
      "Finished Jit Optimized Kernel\n",
      "Finished Jit Optimized and Parallel Kernel\n",
      "Finished gu vectorize\n",
      "Finished Kernel\n",
      "Finished Jit Optimized Kernel\n",
      "Finished Jit Optimized and Parallel Kernel\n",
      "Finished gu vectorize\n",
      "Finished Kernel\n",
      "Finished Jit Optimized Kernel\n",
      "Finished Jit Optimized and Parallel Kernel\n",
      "Finished gu vectorize\n",
      "Finished Training  4\n",
      "   Observations    Original  Jit optimized  Jit optimized, parallel  \\\n",
      "0          10.0   13.613010       1.929892                 1.944881   \n",
      "1          20.0   57.186641       8.234073                 8.228520   \n",
      "2          30.0  131.376447      18.847702                18.767268   \n",
      "3          40.0  241.001289      34.777815                34.727478   \n",
      "4          50.0  394.416276      56.557445                55.499973   \n",
      "\n",
      "   Vectorized  \n",
      "0    0.012048  \n",
      "1    0.048555  \n",
      "2    0.111108  \n",
      "3    0.215040  \n",
      "4    0.337416  \n"
     ]
    }
   ],
   "source": [
    "seed = [0,1,2,3,4]\n",
    "train_size = [10, 20, 30, 40, 50]\n",
    "n = len(train_size)\n",
    "timing_80 = np.zeros((n,5))\n",
    "for i in range(0,n):\n",
    "    for j in seed:\n",
    "        dgms = np.array(dgms_80[0:train_size[i]])\n",
    "        timing_80[i,0] += len(dgms)\n",
    "\n",
    "        start = time.time()\n",
    "        X_train_features = kernel_features(dgms, s = .3)\n",
    "        end = time.time()-start\n",
    "        timing_80[i,1] +=end\n",
    "        print(\"Finished Kernel\")\n",
    "\n",
    "        start = time.time()\n",
    "        train, dummy_train, dummy = reshape_persistence_diagrams(dgms)\n",
    "        X_train_features = optimized_kernel_features(train, dummy_train, s = .3)\n",
    "        end = time.time()-start\n",
    "        timing_80[i,2] +=end\n",
    "        print(\"Finished Jit Optimized Kernel\")\n",
    "\n",
    "        start = time.time()\n",
    "        train, dummy_train, dummy = reshape_persistence_diagrams(dgms)\n",
    "        result1 = parallel_optimized_kernel_features(train, dummy_train, .3)\n",
    "        end = time.time()-start\n",
    "        timing_80[i,3] +=end\n",
    "        print(\"Finished Jit Optimized and Parallel Kernel\")\n",
    "\n",
    "        start = time.time()\n",
    "        train, dummy_train, dummy = reshape_persistence_diagrams(dgms)\n",
    "        X_train_features_gu = guvectorize_kernel(train, dummy, .3)\n",
    "        end = time.time()-start\n",
    "        timing_80[i,4] +=end\n",
    "        print(\"Finished gu vectorize\")\n",
    "\n",
    "\n",
    "    print(\"Finished Training \", i)\n",
    "timing_80 = pd.DataFrame(timing_80/5)\n",
    "timing_80.columns=['Observations', 'Original', 'Jit optimized', 'Jit optimized, parallel', 'Vectorized']\n",
    "print(timing_80)"
   ]
  },
  {
   "cell_type": "code",
   "execution_count": 20,
   "metadata": {},
   "outputs": [
    {
     "data": {
      "text/plain": [
       "Text(0.5, 1.0, 'Kernel Method Timing - 80 dgms')"
      ]
     },
     "execution_count": 20,
     "metadata": {},
     "output_type": "execute_result"
    },
    {
     "data": {
      "image/png": "[encoded data removed]",
      "text/plain": [
       "<Figure size 432x288 with 1 Axes>"
      ]
     },
     "metadata": {
      "needs_background": "light"
     },
     "output_type": "display_data"
    }
   ],
   "source": [
    "t = timing_80.plot(x='Observations')\n",
    "t.set_xlabel(\"Sample Size\")\n",
    "t.set_ylabel(\"Time in Seconds\")\n",
    "t.set_title(\"Kernel Method Timing - 80 dgms\")"
   ]
  },
  {
   "cell_type": "code",
   "execution_count": 21,
   "metadata": {},
   "outputs": [
    {
     "data": {
      "text/plain": [
       "Text(0.5, 1.0, 'Kernel Method Timing - 80 dgms')"
      ]
     },
     "execution_count": 21,
     "metadata": {},
     "output_type": "execute_result"
    },
    {
     "data": {
      "image/png": "[encoded data removed]",
      "text/plain": [
       "<Figure size 432x288 with 1 Axes>"
      ]
     },
     "metadata": {
      "needs_background": "light"
     },
     "output_type": "display_data"
    }
   ],
   "source": [
    "timingnoog = timing_80.drop(['Original'], axis=1)\n",
    "t = timingnoog.plot(x='Observations')\n",
    "t.set_xlabel(\"Sample Size\")\n",
    "t.set_ylabel(\"Time in Seconds\")\n",
    "t.set_title(\"Kernel Method Timing - 80 dgms\")"
   ]
  },
  {
   "cell_type": "code",
   "execution_count": 22,
   "metadata": {},
   "outputs": [
    {
     "name": "stdout",
     "output_type": "stream",
     "text": [
      "Finished gu vectorize\n",
      "Finished gu vectorize\n",
      "Finished gu vectorize\n",
      "Finished gu vectorize\n",
      "Finished gu vectorize\n",
      "Finished Training  0\n",
      "Finished gu vectorize\n",
      "Finished gu vectorize\n",
      "Finished gu vectorize\n",
      "Finished gu vectorize\n",
      "Finished gu vectorize\n",
      "Finished Training  1\n",
      "Finished gu vectorize\n",
      "Finished gu vectorize\n",
      "Finished gu vectorize\n",
      "Finished gu vectorize\n",
      "Finished gu vectorize\n",
      "Finished Training  2\n",
      "Finished gu vectorize\n",
      "Finished gu vectorize\n",
      "Finished gu vectorize\n",
      "Finished gu vectorize\n",
      "Finished gu vectorize\n",
      "Finished Training  3\n",
      "Finished gu vectorize\n",
      "Finished gu vectorize\n",
      "Finished gu vectorize\n",
      "Finished gu vectorize\n",
      "Finished gu vectorize\n",
      "Finished Training  4\n",
      "Finished gu vectorize\n",
      "Finished gu vectorize\n",
      "Finished gu vectorize\n",
      "Finished gu vectorize\n",
      "Finished gu vectorize\n",
      "Finished Training  5\n"
     ]
    }
   ],
   "source": [
    "seed = [0,1,2,3,4]\n",
    "train_size = [100, 200, 300, 400, 500, 600, 700]\n",
    "n = len(train_size)\n",
    "timing_300_vec = np.zeros((n,2))\n",
    "for i in range(0,n):\n",
    "    for j in seed:\n",
    "        dgms = np.array(dgms_300[0:train_size[i]])\n",
    "        timing_300_vec[i,0] += len(dgms)\n",
    "\n",
    "        start = time.time()\n",
    "        train, dummy_train, dummy = reshape_persistence_diagrams(dgms)\n",
    "        X_train_features_gu = guvectorize_kernel(train, dummy, .3)\n",
    "        end = time.time()-start\n",
    "        timing_300_vec[i,1] +=end\n",
    "        print(\"Finished gu vectorize\")\n",
    "\n",
    "    print(\"Finished Training \", i)\n",
    "timing_300_vec = pd.DataFrame(timing_300_vec/5)\n",
    "timing_300_vec.columns=['Observations','Vectorized']\n",
    "print(timing_300_vec)"
   ]
  },
  {
   "cell_type": "code",
   "execution_count": null,
   "metadata": {},
   "outputs": [
    {
     "data": {
      "text/plain": [
       "Text(0.5, 1.0, 'Vectorized - 300 dgms')"
      ]
     },
     "execution_count": 295,
     "metadata": {},
     "output_type": "execute_result"
    },
    {
     "data": {
      "image/png": "[encoded data removed]",
      "text/plain": [
       "<Figure size 640x480 with 1 Axes>"
      ]
     },
     "metadata": {},
     "output_type": "display_data"
    }
   ],
   "source": [
    "t = timing_300_vec.plot(x='Observations')\n",
    "t.set_xlabel(\"Sample Size\")\n",
    "t.set_ylabel(\"Time in Seconds\")\n",
    "t.set_title(\"Vectorized - 300 dgms\")"
   ]
  },
  {
   "cell_type": "code",
   "execution_count": null,
   "metadata": {},
   "outputs": [
    {
     "name": "stdout",
     "output_type": "stream",
     "text": [
      "Finished 10 dgms\n",
      "Finished 20 dgms\n",
      "Finished 20 dgms\n",
      "Finished 10 dgms\n",
      "Finished 20 dgms\n",
      "Finished 20 dgms\n",
      "Finished 10 dgms\n",
      "Finished 20 dgms\n",
      "Finished 20 dgms\n",
      "Finished 10 dgms\n",
      "Finished 20 dgms\n",
      "Finished 20 dgms\n",
      "Finished 10 dgms\n",
      "Finished 20 dgms\n",
      "Finished 20 dgms\n",
      "Finished Training  0\n",
      "Finished 10 dgms\n",
      "Finished 20 dgms\n",
      "Finished 20 dgms\n",
      "Finished 10 dgms\n",
      "Finished 20 dgms\n",
      "Finished 20 dgms\n",
      "Finished 10 dgms\n",
      "Finished 20 dgms\n",
      "Finished 20 dgms\n",
      "Finished 10 dgms\n",
      "Finished 20 dgms\n",
      "Finished 20 dgms\n",
      "Finished 10 dgms\n",
      "Finished 20 dgms\n",
      "Finished 20 dgms\n",
      "Finished Training  1\n",
      "Finished 10 dgms\n",
      "Finished 20 dgms\n",
      "Finished 20 dgms\n",
      "Finished 10 dgms\n",
      "Finished 20 dgms\n",
      "Finished 20 dgms\n",
      "Finished 10 dgms\n",
      "Finished 20 dgms\n",
      "Finished 20 dgms\n",
      "Finished 10 dgms\n",
      "Finished 20 dgms\n",
      "Finished 20 dgms\n",
      "Finished 10 dgms\n",
      "Finished 20 dgms\n",
      "Finished 20 dgms\n",
      "Finished Training  2\n",
      "Finished 10 dgms\n",
      "Finished 20 dgms\n",
      "Finished 20 dgms\n",
      "Finished 10 dgms\n",
      "Finished 20 dgms\n",
      "Finished 20 dgms\n",
      "Finished 10 dgms\n",
      "Finished 20 dgms\n",
      "Finished 20 dgms\n",
      "Finished 10 dgms\n",
      "Finished 20 dgms\n",
      "Finished 20 dgms\n",
      "Finished 10 dgms\n",
      "Finished 20 dgms\n",
      "Finished 20 dgms\n",
      "Finished Training  3\n",
      "Finished 10 dgms\n",
      "Finished 20 dgms\n",
      "Finished 20 dgms\n",
      "Finished 10 dgms\n",
      "Finished 20 dgms\n",
      "Finished 20 dgms\n",
      "Finished 10 dgms\n",
      "Finished 20 dgms\n",
      "Finished 20 dgms\n",
      "Finished 10 dgms\n",
      "Finished 20 dgms\n",
      "Finished 20 dgms\n",
      "Finished 10 dgms\n",
      "Finished 20 dgms\n",
      "Finished 20 dgms\n",
      "Finished Training  4\n",
      "Finished 10 dgms\n",
      "Finished 20 dgms\n",
      "Finished 20 dgms\n",
      "Finished 10 dgms\n",
      "Finished 20 dgms\n",
      "Finished 20 dgms\n",
      "Finished 10 dgms\n",
      "Finished 20 dgms\n",
      "Finished 20 dgms\n",
      "Finished 10 dgms\n",
      "Finished 20 dgms\n",
      "Finished 20 dgms\n",
      "Finished 10 dgms\n",
      "Finished 20 dgms\n",
      "Finished 20 dgms\n",
      "Finished Training  5\n",
      "Finished 10 dgms\n",
      "Finished 20 dgms\n",
      "Finished 20 dgms\n",
      "Finished 10 dgms\n",
      "Finished 20 dgms\n",
      "Finished 20 dgms\n",
      "Finished 10 dgms\n",
      "Finished 20 dgms\n",
      "Finished 20 dgms\n",
      "Finished 10 dgms\n",
      "Finished 20 dgms\n",
      "Finished 20 dgms\n",
      "Finished 10 dgms\n",
      "Finished 20 dgms\n",
      "Finished 20 dgms\n",
      "Finished Training  6\n",
      "   Observations   10 dgms   20 dgms    30 dgms\n",
      "0         100.0  0.027094  0.064329   0.199017\n",
      "1         200.0  0.129646  0.329025   0.944021\n",
      "2         300.0  0.382681  0.936934   2.477855\n",
      "3         400.0  0.821660  1.926164   4.915452\n",
      "4         500.0  1.536726  3.435765   8.651521\n",
      "5         600.0  2.593165  5.649603  13.783784\n",
      "6         700.0  3.961421  8.619387  20.694822\n"
     ]
    }
   ],
   "source": [
    "seed = [0,1,2,3,4]\n",
    "train_size = [100, 200, 300, 400, 500, 600, 700]\n",
    "n = len(train_size)\n",
    "timing_var_vec = np.zeros((n,4))\n",
    "for i in range(0,n):\n",
    "    for j in seed:\n",
    "        dgms = np.array(dgms_10[0:train_size[i]])\n",
    "        timing_var_vec[i,0] += len(dgms)\n",
    "\n",
    "        start = time.time()\n",
    "        train, dummy_train, dummy = reshape_persistence_diagrams(dgms)\n",
    "        X_train_features_gu = guvectorize_kernel(train, dummy, .3)\n",
    "        end = time.time()-start\n",
    "        timing_var_vec[i,1] +=end\n",
    "        print(\"Finished 10 dgms\")\n",
    "\n",
    "        dgms = np.array(dgms_20[0:train_size[i]])\n",
    "        start = time.time()\n",
    "        train, dummy_train, dummy = reshape_persistence_diagrams(dgms)\n",
    "        X_train_features_gu = guvectorize_kernel(train, dummy, .3)\n",
    "        end = time.time()-start\n",
    "        timing_var_vec[i,2] +=end\n",
    "        print(\"Finished 20 dgms\")\n",
    "\n",
    "        dgms = np.array(dgms_40[0:train_size[i]])\n",
    "        start = time.time()\n",
    "        train, dummy_train, dummy = reshape_persistence_diagrams(dgms)\n",
    "        X_train_features_gu = guvectorize_kernel(train, dummy, .3)\n",
    "        end = time.time()-start\n",
    "        timing_var_vec[i,3] +=end\n",
    "        print(\"Finished 20 dgms\")\n",
    "\n",
    "    print(\"Finished Training \", i)\n",
    "timing_var_vec = pd.DataFrame(timing_var_vec/5)\n",
    "timing_var_vec.columns=['Observations','10 dgms', '20 dgms', '30 dgms']\n",
    "print(timing_var_vec)"
   ]
  },
  {
   "cell_type": "code",
   "execution_count": null,
   "metadata": {},
   "outputs": [
    {
     "data": {
      "text/plain": [
       "Text(0.5, 1.0, 'Vectorized - Variable dgms size')"
      ]
     },
     "execution_count": 296,
     "metadata": {},
     "output_type": "execute_result"
    },
    {
     "data": {
      "image/png": "[encoded data removed]",
      "text/plain": [
       "<Figure size 640x480 with 1 Axes>"
      ]
     },
     "metadata": {},
     "output_type": "display_data"
    }
   ],
   "source": [
    "t = timing_var_vec.plot(x='Observations')\n",
    "t.set_xlabel(\"Sample Size\")\n",
    "t.set_ylabel(\"Time in Seconds\")\n",
    "t.set_title(\"Vectorized - Variable dgms size\")"
   ]
  }
 ],
 "metadata": {
  "kernelspec": {
   "display_name": ".venv",
   "language": "python",
   "name": "python3"
  },
  "language_info": {
   "codemirror_mode": {
    "name": "ipython",
    "version": 3
   },
   "file_extension": ".py",
   "mimetype": "text/x-python",
   "name": "python",
   "nbconvert_exporter": "python",
   "pygments_lexer": "ipython3",
   "version": "3.8.8"
  }
 },
 "nbformat": 4,
 "nbformat_minor": 2
}
