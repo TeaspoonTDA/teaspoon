{
 "cells": [
  {
   "cell_type": "markdown",
   "metadata": {},
   "source": [
    "# Example Pipeline for Featurization and Machine Learning from Persistence Diagrams"
   ]
  },
  {
   "cell_type": "markdown",
   "metadata": {},
   "source": [
    "Import MNIST Dataset"
   ]
  },
  {
   "cell_type": "code",
   "execution_count": 2,
   "metadata": {},
   "outputs": [
    {
     "data": {
      "text/html": [
       "<div>\n",
       "<style scoped>\n",
       "    .dataframe tbody tr th:only-of-type {\n",
       "        vertical-align: middle;\n",
       "    }\n",
       "\n",
       "    .dataframe tbody tr th {\n",
       "        vertical-align: top;\n",
       "    }\n",
       "\n",
       "    .dataframe thead th {\n",
       "        text-align: right;\n",
       "    }\n",
       "</style>\n",
       "<table border=\"1\" class=\"dataframe\">\n",
       "  <thead>\n",
       "    <tr style=\"text-align: right;\">\n",
       "      <th></th>\n",
       "      <th>zero_dim_rtl</th>\n",
       "      <th>zero_dim_ltr</th>\n",
       "      <th>zero_dim_btt</th>\n",
       "      <th>zero_dim_ttb</th>\n",
       "      <th>one_dim_rtl</th>\n",
       "      <th>one_dim_ltr</th>\n",
       "      <th>one_dim_btt</th>\n",
       "      <th>one_dim_ttb</th>\n",
       "      <th>labels</th>\n",
       "    </tr>\n",
       "  </thead>\n",
       "  <tbody>\n",
       "    <tr>\n",
       "      <th>0</th>\n",
       "      <td>[[23.0, 50.0], [13.0, 20.0]]</td>\n",
       "      <td>[[24.0, 50.0], [11.0, 21.0]]</td>\n",
       "      <td>[[24.0, 50.0], [8.0, 9.0]]</td>\n",
       "      <td>[[23.0, 50.0]]</td>\n",
       "      <td>[]</td>\n",
       "      <td>[]</td>\n",
       "      <td>[]</td>\n",
       "      <td>[]</td>\n",
       "      <td>5</td>\n",
       "    </tr>\n",
       "    <tr>\n",
       "      <th>1</th>\n",
       "      <td>[[22.0, 50.0]]</td>\n",
       "      <td>[[22.0, 50.0]]</td>\n",
       "      <td>[[23.0, 50.0]]</td>\n",
       "      <td>[[24.0, 50.0]]</td>\n",
       "      <td>[[0.0, 8.0]]</td>\n",
       "      <td>[[0.0, 8.0]]</td>\n",
       "      <td>[[0.0, 9.0]]</td>\n",
       "      <td>[[0.0, 8.0]]</td>\n",
       "      <td>0</td>\n",
       "    </tr>\n",
       "    <tr>\n",
       "      <th>2</th>\n",
       "      <td>[[22.0, 50.0]]</td>\n",
       "      <td>[[25.0, 50.0]]</td>\n",
       "      <td>[[24.0, 50.0], [15.0, 16.0]]</td>\n",
       "      <td>[[23.0, 50.0], [13.0, 22.0]]</td>\n",
       "      <td>[]</td>\n",
       "      <td>[]</td>\n",
       "      <td>[]</td>\n",
       "      <td>[]</td>\n",
       "      <td>4</td>\n",
       "    </tr>\n",
       "    <tr>\n",
       "      <th>3</th>\n",
       "      <td>[[21.0, 50.0]]</td>\n",
       "      <td>[[20.0, 50.0]]</td>\n",
       "      <td>[[24.0, 50.0]]</td>\n",
       "      <td>[[23.0, 50.0]]</td>\n",
       "      <td>[]</td>\n",
       "      <td>[]</td>\n",
       "      <td>[]</td>\n",
       "      <td>[]</td>\n",
       "      <td>1</td>\n",
       "    </tr>\n",
       "    <tr>\n",
       "      <th>4</th>\n",
       "      <td>[[20.0, 50.0], [16.0, 18.0]]</td>\n",
       "      <td>[[22.0, 50.0], [14.0, 15.0]]</td>\n",
       "      <td>[[26.0, 50.0]]</td>\n",
       "      <td>[[21.0, 50.0]]</td>\n",
       "      <td>[[0.0, 9.0]]</td>\n",
       "      <td>[[0.0, 12.0]]</td>\n",
       "      <td>[[0.0, 9.0]]</td>\n",
       "      <td>[[0.0, 14.0]]</td>\n",
       "      <td>9</td>\n",
       "    </tr>\n",
       "    <tr>\n",
       "      <th>...</th>\n",
       "      <td>...</td>\n",
       "      <td>...</td>\n",
       "      <td>...</td>\n",
       "      <td>...</td>\n",
       "      <td>...</td>\n",
       "      <td>...</td>\n",
       "      <td>...</td>\n",
       "      <td>...</td>\n",
       "      <td>...</td>\n",
       "    </tr>\n",
       "    <tr>\n",
       "      <th>59995</th>\n",
       "      <td>[[23.0, 50.0], [16.0, 17.0]]</td>\n",
       "      <td>[[22.0, 50.0], [16.0, 18.0]]</td>\n",
       "      <td>[[24.0, 50.0]]</td>\n",
       "      <td>[[23.0, 50.0]]</td>\n",
       "      <td>[[0.0, 13.0], [0.0, 7.0]]</td>\n",
       "      <td>[[0.0, 13.0], [0.0, 9.0]]</td>\n",
       "      <td>[[0.0, 16.0], [0.0, 6.0]]</td>\n",
       "      <td>[[0.0, 17.0], [0.0, 5.0]]</td>\n",
       "      <td>8</td>\n",
       "    </tr>\n",
       "    <tr>\n",
       "      <th>59996</th>\n",
       "      <td>[[21.0, 50.0], [17.0, 18.0]]</td>\n",
       "      <td>[[24.0, 50.0], [12.0, 18.0], [9.0, 17.0]]</td>\n",
       "      <td>[[23.0, 50.0]]</td>\n",
       "      <td>[[24.0, 50.0], [7.0, 10.0]]</td>\n",
       "      <td>[]</td>\n",
       "      <td>[]</td>\n",
       "      <td>[]</td>\n",
       "      <td>[]</td>\n",
       "      <td>3</td>\n",
       "    </tr>\n",
       "    <tr>\n",
       "      <th>59997</th>\n",
       "      <td>[[24.0, 50.0], [13.0, 18.0]]</td>\n",
       "      <td>[[23.0, 50.0], [12.0, 20.0]]</td>\n",
       "      <td>[[24.0, 50.0]]</td>\n",
       "      <td>[[23.0, 50.0], [5.0, 7.0]]</td>\n",
       "      <td>[]</td>\n",
       "      <td>[]</td>\n",
       "      <td>[]</td>\n",
       "      <td>[]</td>\n",
       "      <td>5</td>\n",
       "    </tr>\n",
       "    <tr>\n",
       "      <th>59998</th>\n",
       "      <td>[[23.0, 50.0], [8.0, 21.0]]</td>\n",
       "      <td>[[22.0, 50.0], [11.0, 15.0]]</td>\n",
       "      <td>[[21.0, 50.0]]</td>\n",
       "      <td>[[26.0, 50.0], [8.0, 15.0]]</td>\n",
       "      <td>[[0.0, 17.0]]</td>\n",
       "      <td>[[0.0, 8.0]]</td>\n",
       "      <td>[[0.0, 15.0]]</td>\n",
       "      <td>[[0.0, 10.0]]</td>\n",
       "      <td>6</td>\n",
       "    </tr>\n",
       "    <tr>\n",
       "      <th>59999</th>\n",
       "      <td>[[25.0, 50.0]]</td>\n",
       "      <td>[[22.0, 50.0]]</td>\n",
       "      <td>[[24.0, 50.0]]</td>\n",
       "      <td>[[22.0, 50.0], [19.0, 20.0]]</td>\n",
       "      <td>[[0.0, 11.0], [0.0, 8.0]]</td>\n",
       "      <td>[[0.0, 18.0], [0.0, 9.0]]</td>\n",
       "      <td>[[0.0, 20.0], [0.0, 8.0]]</td>\n",
       "      <td>[[0.0, 14.0], [0.0, 5.0]]</td>\n",
       "      <td>8</td>\n",
       "    </tr>\n",
       "  </tbody>\n",
       "</table>\n",
       "<p>60000 rows × 9 columns</p>\n",
       "</div>"
      ],
      "text/plain": [
       "                       zero_dim_rtl  \\\n",
       "0      [[23.0, 50.0], [13.0, 20.0]]   \n",
       "1                    [[22.0, 50.0]]   \n",
       "2                    [[22.0, 50.0]]   \n",
       "3                    [[21.0, 50.0]]   \n",
       "4      [[20.0, 50.0], [16.0, 18.0]]   \n",
       "...                             ...   \n",
       "59995  [[23.0, 50.0], [16.0, 17.0]]   \n",
       "59996  [[21.0, 50.0], [17.0, 18.0]]   \n",
       "59997  [[24.0, 50.0], [13.0, 18.0]]   \n",
       "59998   [[23.0, 50.0], [8.0, 21.0]]   \n",
       "59999                [[25.0, 50.0]]   \n",
       "\n",
       "                                    zero_dim_ltr  \\\n",
       "0                   [[24.0, 50.0], [11.0, 21.0]]   \n",
       "1                                 [[22.0, 50.0]]   \n",
       "2                                 [[25.0, 50.0]]   \n",
       "3                                 [[20.0, 50.0]]   \n",
       "4                   [[22.0, 50.0], [14.0, 15.0]]   \n",
       "...                                          ...   \n",
       "59995               [[22.0, 50.0], [16.0, 18.0]]   \n",
       "59996  [[24.0, 50.0], [12.0, 18.0], [9.0, 17.0]]   \n",
       "59997               [[23.0, 50.0], [12.0, 20.0]]   \n",
       "59998               [[22.0, 50.0], [11.0, 15.0]]   \n",
       "59999                             [[22.0, 50.0]]   \n",
       "\n",
       "                       zero_dim_btt                  zero_dim_ttb  \\\n",
       "0        [[24.0, 50.0], [8.0, 9.0]]                [[23.0, 50.0]]   \n",
       "1                    [[23.0, 50.0]]                [[24.0, 50.0]]   \n",
       "2      [[24.0, 50.0], [15.0, 16.0]]  [[23.0, 50.0], [13.0, 22.0]]   \n",
       "3                    [[24.0, 50.0]]                [[23.0, 50.0]]   \n",
       "4                    [[26.0, 50.0]]                [[21.0, 50.0]]   \n",
       "...                             ...                           ...   \n",
       "59995                [[24.0, 50.0]]                [[23.0, 50.0]]   \n",
       "59996                [[23.0, 50.0]]   [[24.0, 50.0], [7.0, 10.0]]   \n",
       "59997                [[24.0, 50.0]]    [[23.0, 50.0], [5.0, 7.0]]   \n",
       "59998                [[21.0, 50.0]]   [[26.0, 50.0], [8.0, 15.0]]   \n",
       "59999                [[24.0, 50.0]]  [[22.0, 50.0], [19.0, 20.0]]   \n",
       "\n",
       "                     one_dim_rtl                one_dim_ltr  \\\n",
       "0                             []                         []   \n",
       "1                   [[0.0, 8.0]]               [[0.0, 8.0]]   \n",
       "2                             []                         []   \n",
       "3                             []                         []   \n",
       "4                   [[0.0, 9.0]]              [[0.0, 12.0]]   \n",
       "...                          ...                        ...   \n",
       "59995  [[0.0, 13.0], [0.0, 7.0]]  [[0.0, 13.0], [0.0, 9.0]]   \n",
       "59996                         []                         []   \n",
       "59997                         []                         []   \n",
       "59998              [[0.0, 17.0]]               [[0.0, 8.0]]   \n",
       "59999  [[0.0, 11.0], [0.0, 8.0]]  [[0.0, 18.0], [0.0, 9.0]]   \n",
       "\n",
       "                     one_dim_btt                one_dim_ttb  labels  \n",
       "0                             []                         []       5  \n",
       "1                   [[0.0, 9.0]]               [[0.0, 8.0]]       0  \n",
       "2                             []                         []       4  \n",
       "3                             []                         []       1  \n",
       "4                   [[0.0, 9.0]]              [[0.0, 14.0]]       9  \n",
       "...                          ...                        ...     ...  \n",
       "59995  [[0.0, 16.0], [0.0, 6.0]]  [[0.0, 17.0], [0.0, 5.0]]       8  \n",
       "59996                         []                         []       3  \n",
       "59997                         []                         []       5  \n",
       "59998              [[0.0, 15.0]]              [[0.0, 10.0]]       6  \n",
       "59999  [[0.0, 20.0], [0.0, 8.0]]  [[0.0, 14.0], [0.0, 5.0]]       8  \n",
       "\n",
       "[60000 rows x 9 columns]"
      ]
     },
     "execution_count": 2,
     "metadata": {},
     "output_type": "execute_result"
    }
   ],
   "source": [
    "from teaspoon.ML import load_datasets\n",
    "mnist = load_datasets.mnist()\n",
    "mnist"
   ]
  },
  {
   "cell_type": "markdown",
   "metadata": {},
   "source": [
    "Import MPEG7 Dataset"
   ]
  },
  {
   "cell_type": "code",
   "execution_count": 3,
   "metadata": {},
   "outputs": [
    {
     "data": {
      "text/html": [
       "<div>\n",
       "<style scoped>\n",
       "    .dataframe tbody tr th:only-of-type {\n",
       "        vertical-align: middle;\n",
       "    }\n",
       "\n",
       "    .dataframe tbody tr th {\n",
       "        vertical-align: top;\n",
       "    }\n",
       "\n",
       "    .dataframe thead th {\n",
       "        text-align: right;\n",
       "    }\n",
       "</style>\n",
       "<table border=\"1\" class=\"dataframe\">\n",
       "  <thead>\n",
       "    <tr style=\"text-align: right;\">\n",
       "      <th></th>\n",
       "      <th>Name</th>\n",
       "      <th>Outline</th>\n",
       "      <th>DistCurve</th>\n",
       "      <th>persistence_outline</th>\n",
       "      <th>lower_star_persistence</th>\n",
       "    </tr>\n",
       "  </thead>\n",
       "  <tbody>\n",
       "    <tr>\n",
       "      <th>0</th>\n",
       "      <td>children-3</td>\n",
       "      <td>[[53, 53], [52, 54], [51, 54], [50, 55], [49, ...</td>\n",
       "      <td>[85.96516601726907, 85.13296759468336, 85.3009...</td>\n",
       "      <td>[[[0.0, 1.0], [0.0, 1.0], [0.0, 1.0], [0.0, 1....</td>\n",
       "      <td>[[23.230436325073242, 23.85972023010254], [23....</td>\n",
       "    </tr>\n",
       "    <tr>\n",
       "      <th>1</th>\n",
       "      <td>face-5</td>\n",
       "      <td>[[120, 19], [116, 20], [114, 21], [112, 21], [...</td>\n",
       "      <td>[143.7745961566229, 143.48851696215974, 142.90...</td>\n",
       "      <td>[[[0.0, 1.0], [0.0, 1.0], [0.0, 1.0], [0.0, 1....</td>\n",
       "      <td>[[81.50592041015625, 82.11488342285156], [85.3...</td>\n",
       "    </tr>\n",
       "    <tr>\n",
       "      <th>2</th>\n",
       "      <td>watch-9</td>\n",
       "      <td>[[201, 50], [198, 50], [197, 50], [196, 50], [...</td>\n",
       "      <td>[57.567426970466556, 59.85646705244138, 60.633...</td>\n",
       "      <td>[[[0.0, 1.0], [0.0, 1.0], [0.0, 1.0], [0.0, 1....</td>\n",
       "      <td>[[28.19802474975586, 28.563064575195312], [29....</td>\n",
       "    </tr>\n",
       "    <tr>\n",
       "      <th>3</th>\n",
       "      <td>apple-5</td>\n",
       "      <td>[[77, 5], [74, 6], [74, 6], [74, 6], [74, 6], ...</td>\n",
       "      <td>[109.32372730564943, 109.43742208221099, 109.4...</td>\n",
       "      <td>[[[0.0, 1.0], [0.0, 1.0], [0.0, 1.0], [0.0, 1....</td>\n",
       "      <td>[[55.072872161865234, 55.41954040527344], [57....</td>\n",
       "    </tr>\n",
       "    <tr>\n",
       "      <th>4</th>\n",
       "      <td>pencil-12</td>\n",
       "      <td>[[103, 58], [102, 58], [101, 58], [98, 58], [9...</td>\n",
       "      <td>[145.5690498011167, 146.5490097544163, 147.529...</td>\n",
       "      <td>[[[0.0, 1.0], [0.0, 1.0], [0.0, 1.0], [0.0, 1....</td>\n",
       "      <td>[[18.90958023071289, 18.976306915283203], [20....</td>\n",
       "    </tr>\n",
       "    <tr>\n",
       "      <th>...</th>\n",
       "      <td>...</td>\n",
       "      <td>...</td>\n",
       "      <td>...</td>\n",
       "      <td>...</td>\n",
       "      <td>...</td>\n",
       "    </tr>\n",
       "    <tr>\n",
       "      <th>1395</th>\n",
       "      <td>key-11</td>\n",
       "      <td>[[387, 39], [384, 40], [378, 40], [377, 40], [...</td>\n",
       "      <td>[182.99554698407283, 179.83332899104104, 174.1...</td>\n",
       "      <td>[[[0.0, 1.0], [0.0, 1.0], [0.0, 1.0], [0.0, 1....</td>\n",
       "      <td>[[66.03109741210938, 66.24383544921875], [164....</td>\n",
       "    </tr>\n",
       "    <tr>\n",
       "      <th>1396</th>\n",
       "      <td>face-8</td>\n",
       "      <td>[[132, 22], [132, 22], [131, 23], [131, 23], [...</td>\n",
       "      <td>[143.75974451841518, 143.75974451841518, 142.8...</td>\n",
       "      <td>[[[0.0, 1.0], [0.0, 1.0], [0.0, 1.0], [0.0, 1....</td>\n",
       "      <td>[[82.66665649414062, 83.22379302978516], [84.8...</td>\n",
       "    </tr>\n",
       "    <tr>\n",
       "      <th>1397</th>\n",
       "      <td>device4-6</td>\n",
       "      <td>[[283, 65], [282, 68], [282, 69], [281, 73], [...</td>\n",
       "      <td>[260.70086454785684, 257.7437269382128, 256.74...</td>\n",
       "      <td>[[[0.0, 1.0], [0.0, 1.0], [0.0, 1.0], [0.0, 1....</td>\n",
       "      <td>[[87.59607696533203, 87.66992950439453], [87.9...</td>\n",
       "    </tr>\n",
       "    <tr>\n",
       "      <th>1398</th>\n",
       "      <td>watch-4</td>\n",
       "      <td>[[231, 32], [230, 33], [225, 35], [222, 35], [...</td>\n",
       "      <td>[52.103841624202715, 51.574124442398436, 52.03...</td>\n",
       "      <td>[[[0.0, 1.0], [0.0, 1.0], [0.0, 1.0], [0.0, 1....</td>\n",
       "      <td>[[41.62799835205078, 42.050994873046875], [41....</td>\n",
       "    </tr>\n",
       "    <tr>\n",
       "      <th>1399</th>\n",
       "      <td>apple-8</td>\n",
       "      <td>[[79, 37], [79, 37], [79, 37], [78, 38], [74, ...</td>\n",
       "      <td>[104.04587074939592, 104.04587074939592, 104.0...</td>\n",
       "      <td>[[[0.0, 1.0], [0.0, 1.0], [0.0, 1.0], [0.0, 1....</td>\n",
       "      <td>[[71.81865692138672, 72.46485137939453], [74.1...</td>\n",
       "    </tr>\n",
       "  </tbody>\n",
       "</table>\n",
       "<p>1400 rows × 5 columns</p>\n",
       "</div>"
      ],
      "text/plain": [
       "            Name                                            Outline  \\\n",
       "0     children-3  [[53, 53], [52, 54], [51, 54], [50, 55], [49, ...   \n",
       "1         face-5  [[120, 19], [116, 20], [114, 21], [112, 21], [...   \n",
       "2        watch-9  [[201, 50], [198, 50], [197, 50], [196, 50], [...   \n",
       "3        apple-5  [[77, 5], [74, 6], [74, 6], [74, 6], [74, 6], ...   \n",
       "4      pencil-12  [[103, 58], [102, 58], [101, 58], [98, 58], [9...   \n",
       "...          ...                                                ...   \n",
       "1395      key-11  [[387, 39], [384, 40], [378, 40], [377, 40], [...   \n",
       "1396      face-8  [[132, 22], [132, 22], [131, 23], [131, 23], [...   \n",
       "1397   device4-6  [[283, 65], [282, 68], [282, 69], [281, 73], [...   \n",
       "1398     watch-4  [[231, 32], [230, 33], [225, 35], [222, 35], [...   \n",
       "1399     apple-8  [[79, 37], [79, 37], [79, 37], [78, 38], [74, ...   \n",
       "\n",
       "                                              DistCurve  \\\n",
       "0     [85.96516601726907, 85.13296759468336, 85.3009...   \n",
       "1     [143.7745961566229, 143.48851696215974, 142.90...   \n",
       "2     [57.567426970466556, 59.85646705244138, 60.633...   \n",
       "3     [109.32372730564943, 109.43742208221099, 109.4...   \n",
       "4     [145.5690498011167, 146.5490097544163, 147.529...   \n",
       "...                                                 ...   \n",
       "1395  [182.99554698407283, 179.83332899104104, 174.1...   \n",
       "1396  [143.75974451841518, 143.75974451841518, 142.8...   \n",
       "1397  [260.70086454785684, 257.7437269382128, 256.74...   \n",
       "1398  [52.103841624202715, 51.574124442398436, 52.03...   \n",
       "1399  [104.04587074939592, 104.04587074939592, 104.0...   \n",
       "\n",
       "                                    persistence_outline  \\\n",
       "0     [[[0.0, 1.0], [0.0, 1.0], [0.0, 1.0], [0.0, 1....   \n",
       "1     [[[0.0, 1.0], [0.0, 1.0], [0.0, 1.0], [0.0, 1....   \n",
       "2     [[[0.0, 1.0], [0.0, 1.0], [0.0, 1.0], [0.0, 1....   \n",
       "3     [[[0.0, 1.0], [0.0, 1.0], [0.0, 1.0], [0.0, 1....   \n",
       "4     [[[0.0, 1.0], [0.0, 1.0], [0.0, 1.0], [0.0, 1....   \n",
       "...                                                 ...   \n",
       "1395  [[[0.0, 1.0], [0.0, 1.0], [0.0, 1.0], [0.0, 1....   \n",
       "1396  [[[0.0, 1.0], [0.0, 1.0], [0.0, 1.0], [0.0, 1....   \n",
       "1397  [[[0.0, 1.0], [0.0, 1.0], [0.0, 1.0], [0.0, 1....   \n",
       "1398  [[[0.0, 1.0], [0.0, 1.0], [0.0, 1.0], [0.0, 1....   \n",
       "1399  [[[0.0, 1.0], [0.0, 1.0], [0.0, 1.0], [0.0, 1....   \n",
       "\n",
       "                                 lower_star_persistence  \n",
       "0     [[23.230436325073242, 23.85972023010254], [23....  \n",
       "1     [[81.50592041015625, 82.11488342285156], [85.3...  \n",
       "2     [[28.19802474975586, 28.563064575195312], [29....  \n",
       "3     [[55.072872161865234, 55.41954040527344], [57....  \n",
       "4     [[18.90958023071289, 18.976306915283203], [20....  \n",
       "...                                                 ...  \n",
       "1395  [[66.03109741210938, 66.24383544921875], [164....  \n",
       "1396  [[82.66665649414062, 83.22379302978516], [84.8...  \n",
       "1397  [[87.59607696533203, 87.66992950439453], [87.9...  \n",
       "1398  [[41.62799835205078, 42.050994873046875], [41....  \n",
       "1399  [[71.81865692138672, 72.46485137939453], [74.1...  \n",
       "\n",
       "[1400 rows x 5 columns]"
      ]
     },
     "execution_count": 3,
     "metadata": {},
     "output_type": "execute_result"
    }
   ],
   "source": [
    "from teaspoon.ML import load_datasets\n",
    "mpeg7 = load_datasets.mpeg7()\n",
    "mpeg7"
   ]
  },
  {
   "cell_type": "code",
   "execution_count": 4,
   "metadata": {},
   "outputs": [
    {
     "data": {
      "text/plain": [
       "<matplotlib.collections.PathCollection at 0x13cc90d30>"
      ]
     },
     "execution_count": 4,
     "metadata": {},
     "output_type": "execute_result"
    },
    {
     "data": {
      "image/png": "[encoded data removed]",
      "text/plain": [
       "<Figure size 640x480 with 1 Axes>"
      ]
     },
     "metadata": {},
     "output_type": "display_data"
    }
   ],
   "source": [
    "import matplotlib.pyplot as plt\n",
    "plt.scatter(mpeg7['lower_star_persistence'][3][:,0], mpeg7['lower_star_persistence'][3][:,1])"
   ]
  },
  {
   "cell_type": "code",
   "execution_count": 5,
   "metadata": {},
   "outputs": [
    {
     "data": {
      "text/plain": [
       "<matplotlib.collections.PathCollection at 0x102fecb80>"
      ]
     },
     "execution_count": 5,
     "metadata": {},
     "output_type": "execute_result"
    },
    {
     "data": {
      "image/png": "[encoded data removed]",
      "text/plain": [
       "<Figure size 640x480 with 1 Axes>"
      ]
     },
     "metadata": {},
     "output_type": "display_data"
    }
   ],
   "source": [
    "plt.scatter(mpeg7['Outline'][3][:,0], -mpeg7['Outline'][3][:,1])"
   ]
  },
  {
   "cell_type": "code",
   "execution_count": 6,
   "metadata": {},
   "outputs": [
    {
     "data": {
      "text/plain": [
       "[<matplotlib.lines.Line2D at 0x13cf6c6d0>]"
      ]
     },
     "execution_count": 6,
     "metadata": {},
     "output_type": "execute_result"
    },
    {
     "data": {
      "image/png": "[encoded data removed]",
      "text/plain": [
       "<Figure size 640x480 with 1 Axes>"
      ]
     },
     "metadata": {},
     "output_type": "display_data"
    }
   ],
   "source": [
    "plt.plot(mpeg7['DistCurve'][3])"
   ]
  },
  {
   "cell_type": "code",
   "execution_count": 7,
   "metadata": {},
   "outputs": [
    {
     "data": {
      "text/plain": [
       "<matplotlib.collections.PathCollection at 0x13d0c65b0>"
      ]
     },
     "execution_count": 7,
     "metadata": {},
     "output_type": "execute_result"
    },
    {
     "data": {
      "image/png": "[encoded data removed]",
      "text/plain": [
       "<Figure size 640x480 with 1 Axes>"
      ]
     },
     "metadata": {},
     "output_type": "display_data"
    }
   ],
   "source": [
    "plt.scatter(mpeg7['lower_star_persistence'][3][:,0], mpeg7['lower_star_persistence'][3][:,1])"
   ]
  },
  {
   "cell_type": "code",
   "execution_count": 8,
   "metadata": {},
   "outputs": [
    {
     "data": {
      "text/plain": [
       "array([[ 55.07287216,  55.41954041],\n",
       "       [ 57.03568649,  57.26581192],\n",
       "       [ 58.72418213,  58.86283493],\n",
       "       [ 59.96166611,  60.03086853],\n",
       "       [ 65.68032837,  65.83686829],\n",
       "       [ 61.33851624,  66.29504395],\n",
       "       [ 86.99743652,  87.07149506],\n",
       "       [ 87.88263702,  87.93321228],\n",
       "       [ 85.27509308,  88.64073944],\n",
       "       [ 91.42131805,  91.99000549],\n",
       "       [ 63.02759171,  94.97002411],\n",
       "       [109.32373047, 109.43742371],\n",
       "       [121.04624176, 121.14319611],\n",
       "       [122.26794434, 122.37814331],\n",
       "       [126.13536072, 126.29855347],\n",
       "       [127.68463135, 127.74412537],\n",
       "       [130.05958557, 130.07270813],\n",
       "       [130.59832764, 131.07444763],\n",
       "       [130.98997498, 131.44184875],\n",
       "       [131.47937012, 131.90682983],\n",
       "       [132.03639221, 132.39472961],\n",
       "       [132.22045898, 132.50869751],\n",
       "       [132.44854736, 132.5872345 ],\n",
       "       [132.20140076, 132.58882141],\n",
       "       [132.00967407, 132.74685669],\n",
       "       [132.51057434, 132.77558899],\n",
       "       [132.8019104 , 132.83450317],\n",
       "       [132.43814087, 132.91273499],\n",
       "       [132.84461975, 133.14007568],\n",
       "       [127.73847198, 133.23522949],\n",
       "       [134.51049805, 134.66023254],\n",
       "       [135.01806641, 135.14503479],\n",
       "       [135.33576965, 135.56062317],\n",
       "       [135.65592957, 135.70118713],\n",
       "       [135.64750671, 136.09533691],\n",
       "       [136.90132141, 137.21388245],\n",
       "       [136.98902893, 137.22131348],\n",
       "       [136.99020386, 137.30381775],\n",
       "       [ 48.64316177, 137.5769043 ],\n",
       "       [ 47.97955322,          inf]])"
      ]
     },
     "execution_count": 8,
     "metadata": {},
     "output_type": "execute_result"
    }
   ],
   "source": [
    "mpeg7['lower_star_persistence'][3]"
   ]
  },
  {
   "cell_type": "code",
   "execution_count": 9,
   "metadata": {},
   "outputs": [
    {
     "data": {
      "text/html": [
       "<div>\n",
       "<style scoped>\n",
       "    .dataframe tbody tr th:only-of-type {\n",
       "        vertical-align: middle;\n",
       "    }\n",
       "\n",
       "    .dataframe tbody tr th {\n",
       "        vertical-align: top;\n",
       "    }\n",
       "\n",
       "    .dataframe thead th {\n",
       "        text-align: right;\n",
       "    }\n",
       "</style>\n",
       "<table border=\"1\" class=\"dataframe\">\n",
       "  <thead>\n",
       "    <tr style=\"text-align: right;\">\n",
       "      <th></th>\n",
       "      <th>Name</th>\n",
       "      <th>Outline</th>\n",
       "      <th>DistCurve</th>\n",
       "      <th>persistence_outline</th>\n",
       "      <th>lower_star_persistence</th>\n",
       "    </tr>\n",
       "  </thead>\n",
       "  <tbody>\n",
       "    <tr>\n",
       "      <th>0</th>\n",
       "      <td>children-3</td>\n",
       "      <td>[[53, 53], [52, 54], [51, 54], [50, 55], [49, ...</td>\n",
       "      <td>[85.96516601726907, 85.13296759468336, 85.3009...</td>\n",
       "      <td>[[[0.0, 1.0], [0.0, 1.0], [0.0, 1.0], [0.0, 1....</td>\n",
       "      <td>[[23.230436325073242, 23.85972023010254], [23....</td>\n",
       "    </tr>\n",
       "    <tr>\n",
       "      <th>1</th>\n",
       "      <td>face-5</td>\n",
       "      <td>[[120, 19], [116, 20], [114, 21], [112, 21], [...</td>\n",
       "      <td>[143.7745961566229, 143.48851696215974, 142.90...</td>\n",
       "      <td>[[[0.0, 1.0], [0.0, 1.0], [0.0, 1.0], [0.0, 1....</td>\n",
       "      <td>[[81.50592041015625, 82.11488342285156], [85.3...</td>\n",
       "    </tr>\n",
       "    <tr>\n",
       "      <th>2</th>\n",
       "      <td>watch-9</td>\n",
       "      <td>[[201, 50], [198, 50], [197, 50], [196, 50], [...</td>\n",
       "      <td>[57.567426970466556, 59.85646705244138, 60.633...</td>\n",
       "      <td>[[[0.0, 1.0], [0.0, 1.0], [0.0, 1.0], [0.0, 1....</td>\n",
       "      <td>[[28.19802474975586, 28.563064575195312], [29....</td>\n",
       "    </tr>\n",
       "    <tr>\n",
       "      <th>3</th>\n",
       "      <td>apple-5</td>\n",
       "      <td>[[77, 5], [74, 6], [74, 6], [74, 6], [74, 6], ...</td>\n",
       "      <td>[109.32372730564943, 109.43742208221099, 109.4...</td>\n",
       "      <td>[[[0.0, 1.0], [0.0, 1.0], [0.0, 1.0], [0.0, 1....</td>\n",
       "      <td>[[55.072872161865234, 55.41954040527344], [57....</td>\n",
       "    </tr>\n",
       "    <tr>\n",
       "      <th>4</th>\n",
       "      <td>pencil-12</td>\n",
       "      <td>[[103, 58], [102, 58], [101, 58], [98, 58], [9...</td>\n",
       "      <td>[145.5690498011167, 146.5490097544163, 147.529...</td>\n",
       "      <td>[[[0.0, 1.0], [0.0, 1.0], [0.0, 1.0], [0.0, 1....</td>\n",
       "      <td>[[18.90958023071289, 18.976306915283203], [20....</td>\n",
       "    </tr>\n",
       "    <tr>\n",
       "      <th>...</th>\n",
       "      <td>...</td>\n",
       "      <td>...</td>\n",
       "      <td>...</td>\n",
       "      <td>...</td>\n",
       "      <td>...</td>\n",
       "    </tr>\n",
       "    <tr>\n",
       "      <th>1395</th>\n",
       "      <td>key-11</td>\n",
       "      <td>[[387, 39], [384, 40], [378, 40], [377, 40], [...</td>\n",
       "      <td>[182.99554698407283, 179.83332899104104, 174.1...</td>\n",
       "      <td>[[[0.0, 1.0], [0.0, 1.0], [0.0, 1.0], [0.0, 1....</td>\n",
       "      <td>[[66.03109741210938, 66.24383544921875], [164....</td>\n",
       "    </tr>\n",
       "    <tr>\n",
       "      <th>1396</th>\n",
       "      <td>face-8</td>\n",
       "      <td>[[132, 22], [132, 22], [131, 23], [131, 23], [...</td>\n",
       "      <td>[143.75974451841518, 143.75974451841518, 142.8...</td>\n",
       "      <td>[[[0.0, 1.0], [0.0, 1.0], [0.0, 1.0], [0.0, 1....</td>\n",
       "      <td>[[82.66665649414062, 83.22379302978516], [84.8...</td>\n",
       "    </tr>\n",
       "    <tr>\n",
       "      <th>1397</th>\n",
       "      <td>device4-6</td>\n",
       "      <td>[[283, 65], [282, 68], [282, 69], [281, 73], [...</td>\n",
       "      <td>[260.70086454785684, 257.7437269382128, 256.74...</td>\n",
       "      <td>[[[0.0, 1.0], [0.0, 1.0], [0.0, 1.0], [0.0, 1....</td>\n",
       "      <td>[[87.59607696533203, 87.66992950439453], [87.9...</td>\n",
       "    </tr>\n",
       "    <tr>\n",
       "      <th>1398</th>\n",
       "      <td>watch-4</td>\n",
       "      <td>[[231, 32], [230, 33], [225, 35], [222, 35], [...</td>\n",
       "      <td>[52.103841624202715, 51.574124442398436, 52.03...</td>\n",
       "      <td>[[[0.0, 1.0], [0.0, 1.0], [0.0, 1.0], [0.0, 1....</td>\n",
       "      <td>[[41.62799835205078, 42.050994873046875], [41....</td>\n",
       "    </tr>\n",
       "    <tr>\n",
       "      <th>1399</th>\n",
       "      <td>apple-8</td>\n",
       "      <td>[[79, 37], [79, 37], [79, 37], [78, 38], [74, ...</td>\n",
       "      <td>[104.04587074939592, 104.04587074939592, 104.0...</td>\n",
       "      <td>[[[0.0, 1.0], [0.0, 1.0], [0.0, 1.0], [0.0, 1....</td>\n",
       "      <td>[[71.81865692138672, 72.46485137939453], [74.1...</td>\n",
       "    </tr>\n",
       "  </tbody>\n",
       "</table>\n",
       "<p>1400 rows × 5 columns</p>\n",
       "</div>"
      ],
      "text/plain": [
       "            Name                                            Outline  \\\n",
       "0     children-3  [[53, 53], [52, 54], [51, 54], [50, 55], [49, ...   \n",
       "1         face-5  [[120, 19], [116, 20], [114, 21], [112, 21], [...   \n",
       "2        watch-9  [[201, 50], [198, 50], [197, 50], [196, 50], [...   \n",
       "3        apple-5  [[77, 5], [74, 6], [74, 6], [74, 6], [74, 6], ...   \n",
       "4      pencil-12  [[103, 58], [102, 58], [101, 58], [98, 58], [9...   \n",
       "...          ...                                                ...   \n",
       "1395      key-11  [[387, 39], [384, 40], [378, 40], [377, 40], [...   \n",
       "1396      face-8  [[132, 22], [132, 22], [131, 23], [131, 23], [...   \n",
       "1397   device4-6  [[283, 65], [282, 68], [282, 69], [281, 73], [...   \n",
       "1398     watch-4  [[231, 32], [230, 33], [225, 35], [222, 35], [...   \n",
       "1399     apple-8  [[79, 37], [79, 37], [79, 37], [78, 38], [74, ...   \n",
       "\n",
       "                                              DistCurve  \\\n",
       "0     [85.96516601726907, 85.13296759468336, 85.3009...   \n",
       "1     [143.7745961566229, 143.48851696215974, 142.90...   \n",
       "2     [57.567426970466556, 59.85646705244138, 60.633...   \n",
       "3     [109.32372730564943, 109.43742208221099, 109.4...   \n",
       "4     [145.5690498011167, 146.5490097544163, 147.529...   \n",
       "...                                                 ...   \n",
       "1395  [182.99554698407283, 179.83332899104104, 174.1...   \n",
       "1396  [143.75974451841518, 143.75974451841518, 142.8...   \n",
       "1397  [260.70086454785684, 257.7437269382128, 256.74...   \n",
       "1398  [52.103841624202715, 51.574124442398436, 52.03...   \n",
       "1399  [104.04587074939592, 104.04587074939592, 104.0...   \n",
       "\n",
       "                                    persistence_outline  \\\n",
       "0     [[[0.0, 1.0], [0.0, 1.0], [0.0, 1.0], [0.0, 1....   \n",
       "1     [[[0.0, 1.0], [0.0, 1.0], [0.0, 1.0], [0.0, 1....   \n",
       "2     [[[0.0, 1.0], [0.0, 1.0], [0.0, 1.0], [0.0, 1....   \n",
       "3     [[[0.0, 1.0], [0.0, 1.0], [0.0, 1.0], [0.0, 1....   \n",
       "4     [[[0.0, 1.0], [0.0, 1.0], [0.0, 1.0], [0.0, 1....   \n",
       "...                                                 ...   \n",
       "1395  [[[0.0, 1.0], [0.0, 1.0], [0.0, 1.0], [0.0, 1....   \n",
       "1396  [[[0.0, 1.0], [0.0, 1.0], [0.0, 1.0], [0.0, 1....   \n",
       "1397  [[[0.0, 1.0], [0.0, 1.0], [0.0, 1.0], [0.0, 1....   \n",
       "1398  [[[0.0, 1.0], [0.0, 1.0], [0.0, 1.0], [0.0, 1....   \n",
       "1399  [[[0.0, 1.0], [0.0, 1.0], [0.0, 1.0], [0.0, 1....   \n",
       "\n",
       "                                 lower_star_persistence  \n",
       "0     [[23.230436325073242, 23.85972023010254], [23....  \n",
       "1     [[81.50592041015625, 82.11488342285156], [85.3...  \n",
       "2     [[28.19802474975586, 28.563064575195312], [29....  \n",
       "3     [[55.072872161865234, 55.41954040527344], [57....  \n",
       "4     [[18.90958023071289, 18.976306915283203], [20....  \n",
       "...                                                 ...  \n",
       "1395  [[66.03109741210938, 66.24383544921875], [164....  \n",
       "1396  [[82.66665649414062, 83.22379302978516], [84.8...  \n",
       "1397  [[87.59607696533203, 87.66992950439453], [87.9...  \n",
       "1398  [[41.62799835205078, 42.050994873046875], [41....  \n",
       "1399  [[71.81865692138672, 72.46485137939453], [74.1...  \n",
       "\n",
       "[1400 rows x 5 columns]"
      ]
     },
     "execution_count": 9,
     "metadata": {},
     "output_type": "execute_result"
    }
   ],
   "source": [
    "shrec14 = load_datasets.shrec14()\n",
    "mpeg7"
   ]
  },
  {
   "cell_type": "code",
   "execution_count": 10,
   "metadata": {},
   "outputs": [],
   "source": [
    "import numpy as np\n",
    "import pandas as pd\n",
    "Data = load_datasets.mpeg7()\n",
    "X_dgm0 = [Data['persistence_outline'][d][0] for d in range(0,len(Data))]\n",
    "X_dgm1 = [Data['persistence_outline'][d][1] for d in range(0,len(Data))]\n",
    "\n",
    "# We need to perturbate H_0 to use CDER.\n",
    "for h0 in X_dgm0:\n",
    "    h0[:,1][h0[:,1]==np.inf] = 2 # Changge all inf values in H_0 for 10.\n",
    "\n",
    "labels = [Data['Name'][d] for d in range(0,len(Data))]\n",
    "labels = [d.split('-',1)[0] for d in labels]\n",
    "labels = pd.DataFrame(labels)\n",
    "label_names = labels.copy()\n",
    "\n",
    "label_unique = pd.DataFrame(labels)\n",
    "label_unique = label_unique[0].unique()\n",
    "\n",
    "i=0\n",
    "for l in label_unique:\n",
    "    labels[labels == l]=i\n",
    "    i += 1\n",
    "\n",
    "labels = labels[0].tolist()\n",
    "label_names = label_names[0].tolist()\n"
   ]
  },
  {
   "cell_type": "code",
   "execution_count": 11,
   "metadata": {},
   "outputs": [],
   "source": [
    "mpeg7_trim = pd.DataFrame([X_dgm0, X_dgm1, label_names])\n",
    "mpeg7_trim = mpeg7_trim.transpose()\n",
    "mpeg7_trim.columns = ['Xdgm0', 'Xdgm1', 'label']"
   ]
  },
  {
   "cell_type": "code",
   "execution_count": 12,
   "metadata": {},
   "outputs": [
    {
     "data": {
      "text/html": [
       "<div>\n",
       "<style scoped>\n",
       "    .dataframe tbody tr th:only-of-type {\n",
       "        vertical-align: middle;\n",
       "    }\n",
       "\n",
       "    .dataframe tbody tr th {\n",
       "        vertical-align: top;\n",
       "    }\n",
       "\n",
       "    .dataframe thead th {\n",
       "        text-align: right;\n",
       "    }\n",
       "</style>\n",
       "<table border=\"1\" class=\"dataframe\">\n",
       "  <thead>\n",
       "    <tr style=\"text-align: right;\">\n",
       "      <th></th>\n",
       "      <th>Xdgm0</th>\n",
       "      <th>Xdgm1</th>\n",
       "      <th>label</th>\n",
       "    </tr>\n",
       "  </thead>\n",
       "  <tbody>\n",
       "    <tr>\n",
       "      <th>0</th>\n",
       "      <td>[[0.0, 1.0], [0.0, 1.0], [0.0, 1.0], [0.0, 1.0...</td>\n",
       "      <td>[[47.29693603515625, 47.434165954589844], [29....</td>\n",
       "      <td>children</td>\n",
       "    </tr>\n",
       "    <tr>\n",
       "      <th>1</th>\n",
       "      <td>[[0.0, 1.0], [0.0, 1.0], [0.0, 1.0], [0.0, 1.0...</td>\n",
       "      <td>[[10.29563045501709, 158.8080596923828]]</td>\n",
       "      <td>face</td>\n",
       "    </tr>\n",
       "    <tr>\n",
       "      <th>2</th>\n",
       "      <td>[[0.0, 1.0], [0.0, 1.0], [0.0, 1.0], [0.0, 1.0...</td>\n",
       "      <td>[[46.097721099853516, 46.173583984375], [46.09...</td>\n",
       "      <td>watch</td>\n",
       "    </tr>\n",
       "    <tr>\n",
       "      <th>3</th>\n",
       "      <td>[[0.0, 1.0], [0.0, 1.0], [0.0, 1.0], [0.0, 1.0...</td>\n",
       "      <td>[[20.124610900878906, 20.248456954956055], [18...</td>\n",
       "      <td>apple</td>\n",
       "    </tr>\n",
       "    <tr>\n",
       "      <th>4</th>\n",
       "      <td>[[0.0, 1.0], [0.0, 1.0], [0.0, 1.0], [0.0, 1.0...</td>\n",
       "      <td>[[54.00925827026367, 54.037025451660156], [54....</td>\n",
       "      <td>pencil</td>\n",
       "    </tr>\n",
       "    <tr>\n",
       "      <th>...</th>\n",
       "      <td>...</td>\n",
       "      <td>...</td>\n",
       "      <td>...</td>\n",
       "    </tr>\n",
       "    <tr>\n",
       "      <th>1395</th>\n",
       "      <td>[[0.0, 1.0], [0.0, 1.0], [0.0, 1.0], [0.0, 1.0...</td>\n",
       "      <td>[[62.0, 62.032249450683594], [61.8142395019531...</td>\n",
       "      <td>key</td>\n",
       "    </tr>\n",
       "    <tr>\n",
       "      <th>1396</th>\n",
       "      <td>[[0.0, 1.0], [0.0, 1.0], [0.0, 1.0], [0.0, 1.0...</td>\n",
       "      <td>[[11.313708305358887, 164.28329467773438]]</td>\n",
       "      <td>face</td>\n",
       "    </tr>\n",
       "    <tr>\n",
       "      <th>1397</th>\n",
       "      <td>[[0.0, 1.0], [0.0, 1.0], [0.0, 1.0], [0.0, 1.0...</td>\n",
       "      <td>[[44.72135925292969, 44.92215347290039], [40.0...</td>\n",
       "      <td>device4</td>\n",
       "    </tr>\n",
       "    <tr>\n",
       "      <th>1398</th>\n",
       "      <td>[[0.0, 1.0], [0.0, 1.0], [0.0, 1.0], [0.0, 1.0...</td>\n",
       "      <td>[[49.09175109863281, 49.648765563964844], [49....</td>\n",
       "      <td>watch</td>\n",
       "    </tr>\n",
       "    <tr>\n",
       "      <th>1399</th>\n",
       "      <td>[[0.0, 1.0], [0.0, 1.0], [0.0, 1.0], [0.0, 1.0...</td>\n",
       "      <td>[[8.062257766723633, 165.1241912841797], [7.61...</td>\n",
       "      <td>apple</td>\n",
       "    </tr>\n",
       "  </tbody>\n",
       "</table>\n",
       "<p>1400 rows × 3 columns</p>\n",
       "</div>"
      ],
      "text/plain": [
       "                                                  Xdgm0  \\\n",
       "0     [[0.0, 1.0], [0.0, 1.0], [0.0, 1.0], [0.0, 1.0...   \n",
       "1     [[0.0, 1.0], [0.0, 1.0], [0.0, 1.0], [0.0, 1.0...   \n",
       "2     [[0.0, 1.0], [0.0, 1.0], [0.0, 1.0], [0.0, 1.0...   \n",
       "3     [[0.0, 1.0], [0.0, 1.0], [0.0, 1.0], [0.0, 1.0...   \n",
       "4     [[0.0, 1.0], [0.0, 1.0], [0.0, 1.0], [0.0, 1.0...   \n",
       "...                                                 ...   \n",
       "1395  [[0.0, 1.0], [0.0, 1.0], [0.0, 1.0], [0.0, 1.0...   \n",
       "1396  [[0.0, 1.0], [0.0, 1.0], [0.0, 1.0], [0.0, 1.0...   \n",
       "1397  [[0.0, 1.0], [0.0, 1.0], [0.0, 1.0], [0.0, 1.0...   \n",
       "1398  [[0.0, 1.0], [0.0, 1.0], [0.0, 1.0], [0.0, 1.0...   \n",
       "1399  [[0.0, 1.0], [0.0, 1.0], [0.0, 1.0], [0.0, 1.0...   \n",
       "\n",
       "                                                  Xdgm1     label  \n",
       "0     [[47.29693603515625, 47.434165954589844], [29....  children  \n",
       "1              [[10.29563045501709, 158.8080596923828]]      face  \n",
       "2     [[46.097721099853516, 46.173583984375], [46.09...     watch  \n",
       "3     [[20.124610900878906, 20.248456954956055], [18...     apple  \n",
       "4     [[54.00925827026367, 54.037025451660156], [54....    pencil  \n",
       "...                                                 ...       ...  \n",
       "1395  [[62.0, 62.032249450683594], [61.8142395019531...       key  \n",
       "1396         [[11.313708305358887, 164.28329467773438]]      face  \n",
       "1397  [[44.72135925292969, 44.92215347290039], [40.0...   device4  \n",
       "1398  [[49.09175109863281, 49.648765563964844], [49....     watch  \n",
       "1399  [[8.062257766723633, 165.1241912841797], [7.61...     apple  \n",
       "\n",
       "[1400 rows x 3 columns]"
      ]
     },
     "execution_count": 12,
     "metadata": {},
     "output_type": "execute_result"
    }
   ],
   "source": [
    "mpeg7_trim"
   ]
  },
  {
   "cell_type": "code",
   "execution_count": 28,
   "metadata": {},
   "outputs": [],
   "source": [
    "def persistence_image_features(X_train, X_test, pixels=[20,20], spread=1):\n",
    "    \"\"\"This function computes a training and testing set of features\n",
    "    from persistence images when given a training and testing set of persistence diagrams\n",
    "    \n",
    "    Args:\n",
    "       train (array):  training set\n",
    "       test (array):  testing set\n",
    "       pixels ([int, int]): pixel value, default [20,20]\n",
    "       spread (int): default 1\n",
    "\n",
    "    Returns:\n",
    "       (array): X_train_features, features from the training set\n",
    "       (array): X_test_features, features from the testing set\n",
    "\n",
    "    \"\"\"\n",
    "\n",
    "    import numpy as np\n",
    "    import time\n",
    "    from persim import PersImage\n",
    "\n",
    "    start = time.time()\n",
    "    pim = PersImage(pixels=pixels, spread=spread)\n",
    "    imgs_train = pim.transform(X_train)\n",
    "    X_train_features = np.array([img.flatten() for img in imgs_train])\n",
    "    pim = PersImage(pixels=pixels, spread=spread)\n",
    "    imgs_test = pim.transform(X_test)\n",
    "    X_test_features = np.array([img.flatten() for img in imgs_test])\n",
    "    print(\"Total Time (Persistence Images): \", time.time()-start)\n",
    "    return X_train_features, X_test_features"
   ]
  },
  {
   "cell_type": "code",
   "execution_count": 14,
   "metadata": {},
   "outputs": [],
   "source": [
    "def train_test_split_basic(DgmsFD, labels_col, train_size=.5, seed=12):\n",
    "    from sklearn.model_selection import train_test_split\n",
    "    labels = DgmsFD[labels_col]\n",
    "    training_dgms, testing_dgms = train_test_split(DgmsFD, train_size=train_size, random_state=seed, stratify=labels)\n",
    "    return training_dgms.reset_index(), testing_dgms.reset_index()"
   ]
  },
  {
   "cell_type": "code",
   "execution_count": 15,
   "metadata": {},
   "outputs": [],
   "source": [
    "dgms_train, dgms_test = train_test_split_basic(mpeg7_trim, 'label', train_size = .8)"
   ]
  },
  {
   "cell_type": "code",
   "execution_count": 16,
   "metadata": {},
   "outputs": [
    {
     "data": {
      "text/plain": [
       "0       [[28.23118782043457, 28.635643005371094], [20....\n",
       "1               [[1.4142135381698608, 69.37578582763672]]\n",
       "2       [[36.0, 36.055511474609375], [36.0, 36.2215423...\n",
       "3       [[35.22782897949219, 36.24913787841797], [32.8...\n",
       "4       [[12.369317054748535, 12.529964447021484], [12...\n",
       "                              ...                        \n",
       "1115    [[100.68763732910156, 114.38968658447266], [22...\n",
       "1116    [[40.0, 40.01249694824219], [13.60147094726562...\n",
       "1117    [[146.68673706054688, 195.3100128173828], [24....\n",
       "1118            [[26.90724754333496, 233.34951782226562]]\n",
       "1119    [[53.0, 60.0333251953125], [23.53720474243164,...\n",
       "Name: Xdgm1, Length: 1120, dtype: object"
      ]
     },
     "execution_count": 16,
     "metadata": {},
     "output_type": "execute_result"
    }
   ],
   "source": [
    "dgms_train['Xdgm1']"
   ]
  },
  {
   "cell_type": "code",
   "execution_count": 17,
   "metadata": {},
   "outputs": [],
   "source": [
    "xdgm0_train = dgms_train['Xdgm0']\n",
    "xdgm0_test = dgms_test['Xdgm0']\n",
    "xdgm1_train = dgms_train['Xdgm1']\n",
    "xdgm1_test = dgms_test['Xdgm1']\n",
    "labels_train = dgms_train['label']\n",
    "labels_test = dgms_test['label']"
   ]
  },
  {
   "cell_type": "code",
   "execution_count": 18,
   "metadata": {},
   "outputs": [
    {
     "name": "stderr",
     "output_type": "stream",
     "text": [
      "/var/folders/p6/pn26dbmx4jj67d6nh7m6557h0000gn/T/ipykernel_50498/3998043319.py:22: DeprecationWarning: Call to deprecated class PersImage. (Replaced with the class `persim.PersistenceImager`.) -- Deprecated since version 0.1.5.\n",
      "  pim = PersImage(pixels=pixels, spread=spread)\n"
     ]
    },
    {
     "name": "stdout",
     "output_type": "stream",
     "text": [
      "PersImage(pixels=[20, 20], spread=1, specs=None, kernel_type=\"gaussian\", weighting_type=\"linear\")\n"
     ]
    },
    {
     "name": "stderr",
     "output_type": "stream",
     "text": [
      "/var/folders/p6/pn26dbmx4jj67d6nh7m6557h0000gn/T/ipykernel_50498/3998043319.py:25: DeprecationWarning: Call to deprecated class PersImage. (Replaced with the class `persim.PersistenceImager`.) -- Deprecated since version 0.1.5.\n",
      "  pim = PersImage(pixels=pixels, spread=spread)\n"
     ]
    },
    {
     "name": "stdout",
     "output_type": "stream",
     "text": [
      "PersImage(pixels=[20, 20], spread=1, specs=None, kernel_type=\"gaussian\", weighting_type=\"linear\")\n",
      "Total Time (Persistence Images):  2.7753419876098633\n"
     ]
    }
   ],
   "source": [
    "X_train_features, X_test_features = persistence_image_features(xdgm1_train, xdgm1_test, pixels=[20,20], spread=1)"
   ]
  },
  {
   "cell_type": "code",
   "execution_count": 19,
   "metadata": {},
   "outputs": [],
   "source": [
    "dgms_train, dgms_test = train_test_split_basic(mnist, 'labels', train_size = .95)"
   ]
  },
  {
   "cell_type": "code",
   "execution_count": 20,
   "metadata": {},
   "outputs": [],
   "source": [
    "xdgm0_train = dgms_train['zero_dim_rtl']\n",
    "xdgm0_test = dgms_test['zero_dim_rtl']\n",
    "xdgm1_train = dgms_train['one_dim_rtl']\n",
    "xdgm1_test = dgms_test['one_dim_rtl']\n",
    "labels_train = dgms_train['labels']\n",
    "labels_test = dgms_test['labels']"
   ]
  },
  {
   "cell_type": "code",
   "execution_count": 29,
   "metadata": {},
   "outputs": [
    {
     "name": "stderr",
     "output_type": "stream",
     "text": [
      "/var/folders/p6/pn26dbmx4jj67d6nh7m6557h0000gn/T/ipykernel_50498/3998043319.py:22: DeprecationWarning: Call to deprecated class PersImage. (Replaced with the class `persim.PersistenceImager`.) -- Deprecated since version 0.1.5.\n",
      "  pim = PersImage(pixels=pixels, spread=spread)\n"
     ]
    },
    {
     "name": "stdout",
     "output_type": "stream",
     "text": [
      "PersImage(pixels=[100, 100], spread=1, specs=None, kernel_type=\"gaussian\", weighting_type=\"linear\")\n"
     ]
    },
    {
     "name": "stderr",
     "output_type": "stream",
     "text": [
      "/var/folders/p6/pn26dbmx4jj67d6nh7m6557h0000gn/T/ipykernel_50498/3998043319.py:25: DeprecationWarning: Call to deprecated class PersImage. (Replaced with the class `persim.PersistenceImager`.) -- Deprecated since version 0.1.5.\n",
      "  pim = PersImage(pixels=pixels, spread=spread)\n"
     ]
    },
    {
     "name": "stdout",
     "output_type": "stream",
     "text": [
      "PersImage(pixels=[100, 100], spread=1, specs=None, kernel_type=\"gaussian\", weighting_type=\"linear\")\n",
      "Total Time (Persistence Images):  20.354303121566772\n"
     ]
    }
   ],
   "source": [
    "X_train_features, X_test_features = persistence_image_features(xdgm0_train, xdgm0_test, pixels=[100,100], spread=1)"
   ]
  },
  {
   "cell_type": "code",
   "execution_count": 33,
   "metadata": {},
   "outputs": [
    {
     "name": "stderr",
     "output_type": "stream",
     "text": [
      "/var/folders/p6/pn26dbmx4jj67d6nh7m6557h0000gn/T/ipykernel_50498/2713629744.py:7: NumbaDeprecationWarning: The 'nopython' keyword argument was not supplied to the 'numba.jit' decorator. The implicit default value for this argument is currently False, but it will be changed to True in Numba 0.59.0. See https://numba.readthedocs.io/en/stable/reference/deprecation.html#deprecation-of-object-mode-fall-back-behaviour-when-using-jit for details.\n",
      "  def cuda_persistence_image_features(X_train, X_test, pixels=[20,20], spread=1):\n"
     ]
    }
   ],
   "source": [
    "import numpy as np\n",
    "import time\n",
    "from persim import PersImage\n",
    "\n",
    "from numba import jit\n",
    "@jit\n",
    "def cuda_persistence_image_features(X_train, X_test, pixels=[20,20], spread=1):\n",
    "    \"\"\"This function computes a training and testing set of features\n",
    "    from persistence images when given a training and testing set of persistence diagrams\n",
    "    \n",
    "    Args:\n",
    "       train (array):  training set\n",
    "       test (array):  testing set\n",
    "       pixels ([int, int]): pixel value, default [20,20]\n",
    "       spread (int): default 1\n",
    "\n",
    "    Returns:\n",
    "       (array): X_train_features, features from the training set\n",
    "       (array): X_test_features, features from the testing set\n",
    "\n",
    "    \"\"\"\n",
    "\n",
    "    start = time.time()\n",
    "    pim = PersImage(pixels=pixels, spread=spread)\n",
    "    imgs_train = pim.transform(X_train)\n",
    "    X_train_features = np.array([img.flatten() for img in imgs_train])\n",
    "    pim = PersImage(pixels=pixels, spread=spread)\n",
    "    imgs_test = pim.transform(X_test)\n",
    "    X_test_features = np.array([img.flatten() for img in imgs_test])\n",
    "    print(\"Total Time (Persistence Images): \", time.time()-start)\n",
    "    return X_train_features, X_test_features"
   ]
  },
  {
   "cell_type": "code",
   "execution_count": 37,
   "metadata": {},
   "outputs": [
    {
     "name": "stderr",
     "output_type": "stream",
     "text": [
      "/var/folders/p6/pn26dbmx4jj67d6nh7m6557h0000gn/T/ipykernel_50498/2060766808.py:1: DeprecationWarning: Call to deprecated class PersImage. (Replaced with the class `persim.PersistenceImager`.) -- Deprecated since version 0.1.5.\n",
      "  X_train_features, X_test_features = cuda_persistence_image_features(xdgm0_train, xdgm0_test, pixels=[200,200], spread=1)\n"
     ]
    },
    {
     "name": "stdout",
     "output_type": "stream",
     "text": [
      "PersImage(pixels=[200, 200], spread=1, specs=None, kernel_type=\"gaussian\", weighting_type=\"linear\")\n",
      "PersImage(pixels=[200, 200], spread=1, specs=None, kernel_type=\"gaussian\", weighting_type=\"linear\")\n",
      "Total Time (Persistence Images):  229.05265522003174\n"
     ]
    }
   ],
   "source": [
    "X_train_features, X_test_features = cuda_persistence_image_features(xdgm0_train, xdgm0_test, pixels=[200,200], spread=1)"
   ]
  }
 ],
 "metadata": {
  "kernelspec": {
   "display_name": ".venv",
   "language": "python",
   "name": "python3"
  },
  "language_info": {
   "codemirror_mode": {
    "name": "ipython",
    "version": 3
   },
   "file_extension": ".py",
   "mimetype": "text/x-python",
   "name": "python",
   "nbconvert_exporter": "python",
   "pygments_lexer": "ipython3",
   "version": "3.9.6"
  },
  "orig_nbformat": 4
 },
 "nbformat": 4,
 "nbformat_minor": 2
}
