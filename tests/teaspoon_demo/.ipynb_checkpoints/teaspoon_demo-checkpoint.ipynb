{
 "cells": [
  {
   "cell_type": "markdown",
   "metadata": {},
   "source": [
    "----\n",
    "\n",
    "<div align=\"center\">\n",
    "    \n",
    "\n",
    " \n",
    " # Welcome to the teaspoon (topological signal processing) demo!\n",
    "    \n",
    "<br />\n",
    " \n",
    " <img src=\"figures/teaspoon.png\" style=\"width:300px;\">\n",
    "</div>"
   ]
  },
  {
   "cell_type": "markdown",
   "metadata": {},
   "source": [
    "\n",
    "---\n",
    "\n",
    "## 1. Getting Started"
   ]
  },
  {
   "cell_type": "markdown",
   "metadata": {},
   "source": [
    "### 1.1 Documentation"
   ]
  },
  {
   "cell_type": "markdown",
   "metadata": {},
   "source": [
    "Source code:    https://github.com/lizliz/teaspoon"
   ]
  },
  {
   "cell_type": "markdown",
   "metadata": {},
   "source": [
    "Documentation:  http://elizabethmunch.com/code/teaspoon/index.html"
   ]
  },
  {
   "cell_type": "markdown",
   "metadata": {},
   "source": [
    "### 1.2 Installing teaspoon"
   ]
  },
  {
   "cell_type": "markdown",
   "metadata": {},
   "source": [
    "```\n",
    "pip install teaspoon\n",
    "```"
   ]
  },
  {
   "cell_type": "markdown",
   "metadata": {},
   "source": [
    "Pypi: https://pypi.org/project/teaspoon/\n",
    "\n",
    "\n",
    "\n"
   ]
  },
  {
   "cell_type": "markdown",
   "metadata": {},
   "source": [
    "----\n",
    "\n",
    "----\n",
    "\n",
    "## 2. [Dynamical Systems Library Module](http://elizabethmunch.com/code/teaspoon/DynSysLib.html)\n",
    "<br />\n",
    "<div align=\"center\"> \n",
    " <img src=\"figures/DSL_fig.png\" style=\"width:300px;\">\n",
    "</div>\n"
   ]
  },
  {
   "cell_type": "code",
   "execution_count": null,
   "metadata": {},
   "outputs": [],
   "source": [
    "import matplotlib.pyplot as plt\n",
    "import matplotlib.gridspec as gridspec\n",
    "import teaspoon.MakeData.DynSysLib.DynSysLib as DSL\n",
    "\n",
    "system = 'rossler'\n",
    "dynamic_state = 'periodic'\n",
    "t, ts = DSL.DynamicSystems(system, dynamic_state)\n",
    "\n",
    "TextSize = 15\n",
    "plt.figure(figsize = (12,4))\n",
    "gs = gridspec.GridSpec(1,2)\n",
    "\n",
    "ax = plt.subplot(gs[0, 0])\n",
    "plt.xticks(size = TextSize)\n",
    "plt.yticks(size = TextSize)\n",
    "plt.ylabel(r'$x(t)$', size = TextSize)\n",
    "plt.xlabel(r'$t$', size = TextSize)\n",
    "plt.plot(t,ts[0], 'k')\n",
    "\n",
    "ax = plt.subplot(gs[0, 1])\n",
    "plt.plot(ts[0], ts[1],'k.')\n",
    "plt.plot(ts[0], ts[1],'k', alpha = 0.25)\n",
    "plt.xticks(size = TextSize)\n",
    "plt.yticks(size = TextSize)\n",
    "plt.xlabel(r'$x(t)$', size = TextSize)\n",
    "plt.ylabel(r'$y(t)$', size = TextSize)\n",
    "\n",
    "plt.show()"
   ]
  },
  {
   "cell_type": "markdown",
   "metadata": {},
   "source": [
    "Result"
   ]
  },
  {
   "cell_type": "code",
   "execution_count": null,
   "metadata": {},
   "outputs": [],
   "source": [
    "import matplotlib.pyplot as plt\n",
    "import matplotlib.gridspec as gridspec\n",
    "import teaspoon.MakeData.DynSysLib.DynSysLib as DSL\n",
    "\n",
    "system = 'rossler'\n",
    "UserGuide = True\n",
    "L, fs, SampleSize = 1000, 20, 2000\n",
    "# the length (in seconds) of the time series, the sample rate, and the sample size of the time series of the simulated system.\n",
    "parameters = [0.1, 0.2, 13.0] # these are the a, b, and c parameters from the Rossler system model.\n",
    "InitialConditions = [1.0, 0.0, 0.0] # [x_0, y_0, x_0]\n",
    "t, ts = DSL.DynamicSystems(system, dynamic_state, L, fs, SampleSize, parameters,  InitialConditions, UserGuide)\n",
    "\n",
    "TextSize = 15\n",
    "plt.figure(figsize = (12,4))\n",
    "gs = gridspec.GridSpec(1,2)\n",
    "\n",
    "ax = plt.subplot(gs[0, 0])\n",
    "plt.xticks(size = TextSize)\n",
    "plt.yticks(size = TextSize)\n",
    "plt.ylabel(r'$x(t)$', size = TextSize)\n",
    "plt.xlabel(r'$t$', size = TextSize)\n",
    "plt.plot(t,ts[0], 'k')\n",
    "\n",
    "ax = plt.subplot(gs[0, 1])\n",
    "plt.plot(ts[0], ts[1],'k.')\n",
    "plt.plot(ts[0], ts[1],'k', alpha = 0.25)\n",
    "plt.xticks(size = TextSize)\n",
    "plt.yticks(size = TextSize)\n",
    "plt.xlabel(r'$x(t)$', size = TextSize)\n",
    "plt.ylabel(r'$y(t)$', size = TextSize)\n",
    "\n",
    "plt.show()"
   ]
  },
  {
   "cell_type": "markdown",
   "metadata": {},
   "source": [
    "result"
   ]
  },
  {
   "cell_type": "markdown",
   "metadata": {},
   "source": [
    "----\n",
    "\n",
    "---\n",
    "\n",
    "\n",
    "## 3. [Parameter Selection Module](http://elizabethmunch.com/code/teaspoon/parameter_selection.html)\n",
    "<br />\n",
    "<div align=\"center\"> \n",
    " <img src=\"figures/PS_fig.png\" style=\"width:300px;\">\n",
    "</div>"
   ]
  },
  {
   "cell_type": "markdown",
   "metadata": {},
   "source": [
    "### 3.1 Mutual Information"
   ]
  },
  {
   "cell_type": "code",
   "execution_count": null,
   "metadata": {},
   "outputs": [],
   "source": [
    "from teaspoon.parameter_selection.MI_delay import MI_for_delay\n",
    "import numpy as np\n",
    "\n",
    "fs = 10\n",
    "t = np.linspace(0, 100, fs*100)\n",
    "ts = np.sin(t) + np.sin((1/np.pi)*t)\n",
    "\n",
    "tau = MI_for_delay(ts, plotting = True, method = 'basic', h_method = 'sturge', k = 2, ranking = True)\n",
    "print('Delay from MI: ',tau)"
   ]
  },
  {
   "cell_type": "code",
   "execution_count": null,
   "metadata": {},
   "outputs": [],
   "source": []
  },
  {
   "cell_type": "markdown",
   "metadata": {},
   "source": [
    "### 3.2 False Nearest Neighbors"
   ]
  },
  {
   "cell_type": "code",
   "execution_count": null,
   "metadata": {},
   "outputs": [],
   "source": [
    "from teaspoon.parameter_selection.FNN_n import FNN_n\n",
    "import numpy as np\n",
    "\n",
    "fs = 10\n",
    "t = np.linspace(0, 100, fs*100)\n",
    "ts = np.sin(t)\n",
    "\n",
    "tau=15 #embedding delay\n",
    "\n",
    "perc_FNN, n = FNN_n(ts, tau, plotting = True)\n",
    "print('FNN embedding Dimension: ',n)"
   ]
  },
  {
   "cell_type": "code",
   "execution_count": null,
   "metadata": {},
   "outputs": [],
   "source": []
  },
  {
   "cell_type": "markdown",
   "metadata": {},
   "source": [
    "### 3.3 Multi-scale Permutation Entropy"
   ]
  },
  {
   "cell_type": "code",
   "execution_count": null,
   "metadata": {},
   "outputs": [],
   "source": [
    "import numpy as np\n",
    "from teaspoon.parameter_selection.MsPE import MsPE_n,  MsPE_tau\n",
    "\n",
    "t = np.linspace(0, 100, 1000)\n",
    "ts = np.sin(t)\n",
    "\n",
    "m_s, m_e, d_s, d_e = 3, 7, 1, 200\n",
    "#m_s and m_e are the starting and ending dimensions n to search through\n",
    "#d_e = max delay tau to search through\n",
    "\n",
    "#plotting option will show you how delay tau or dimension n were selected\n",
    "tau = int(MsPE_tau(ts, d_e, plotting = True))\n",
    "n = MsPE_n(ts, tau, m_s, m_e, plotting = True)\n",
    "\n",
    "print('Embedding Delay:       '+str(tau))\n",
    "print('Embedding Dimension:   '+str(n))\n"
   ]
  },
  {
   "cell_type": "code",
   "execution_count": null,
   "metadata": {},
   "outputs": [],
   "source": []
  },
  {
   "cell_type": "markdown",
   "metadata": {},
   "source": [
    "----\n",
    "---\n",
    "\n",
    "## 4. [Information Module](http://elizabethmunch.com/code/teaspoon/information.html)\n",
    "<br />\n",
    "<div align=\"center\"> \n",
    " <img src=\"figures/I_fig.png\" style=\"width:300px;\">\n",
    "</div>"
   ]
  },
  {
   "cell_type": "markdown",
   "metadata": {},
   "source": [
    "### 4.1 Permutation Entropy"
   ]
  },
  {
   "cell_type": "code",
   "execution_count": null,
   "metadata": {},
   "outputs": [],
   "source": [
    "import numpy as np\n",
    "t = np.linspace(0,100,2000)\n",
    "ts = np.sin(t)  #generate a simple time series\n",
    "\n",
    "from teaspoon.SP.information.entropy import PE\n",
    "h = PE(ts, n = 6, tau = 15, normalize = True)\n",
    "print('Permutation entropy: ', h)"
   ]
  },
  {
   "cell_type": "code",
   "execution_count": null,
   "metadata": {},
   "outputs": [],
   "source": [
    "import numpy as np\n",
    "t = np.linspace(0,100,2000)\n",
    "ts = np.sin(t)  #generate a simple time series\n",
    "\n",
    "from teaspoon.SP.information.entropy import MsPE\n",
    "delays,H = MsPE(ts, n = 6, delay_end = 40, normalize = True)\n",
    "\n",
    "import matplotlib.pyplot as plt\n",
    "plt.figure(2)\n",
    "TextSize = 17\n",
    "plt.figure(figsize=(8,3))\n",
    "plt.plot(delays, H, marker = '.')\n",
    "plt.xticks(size = TextSize)\n",
    "plt.yticks(size = TextSize)\n",
    "plt.ylabel(r'$h(3)$', size = TextSize)\n",
    "plt.xlabel(r'$\\tau$', size = TextSize)\n",
    "plt.show()"
   ]
  },
  {
   "cell_type": "markdown",
   "metadata": {},
   "source": [
    "### 4.2 Persistent Entropy"
   ]
  },
  {
   "cell_type": "code",
   "execution_count": null,
   "metadata": {},
   "outputs": [],
   "source": [
    "import numpy as np\n",
    "#generate a simple time series with noise\n",
    "t = np.linspace(0,20,200)\n",
    "ts = np.sin(t) +np.random.normal(0,0.1,len(t))\n",
    "\n",
    "from teaspoon.SP.tsa_tools import takens\n",
    "#embed the time series into 2 dimension space using takens embedding\n",
    "embedded_ts = takens(ts, n = 2, tau = 15)\n",
    "\n",
    "from ripser import ripser\n",
    "#calculate the rips filtration persistent homology\n",
    "result = ripser(embedded_ts, maxdim=1)\n",
    "diagram = result['dgms']\n",
    "\n",
    "#--------------------Plot embedding and persistence diagram---------------\n",
    "import matplotlib.pyplot as plt\n",
    "import matplotlib.gridspec as gridspec\n",
    "gs = gridspec.GridSpec(1, 2)\n",
    "plt.figure(figsize = (12,5))\n",
    "TextSize = 17\n",
    "MS = 4\n",
    "\n",
    "ax = plt.subplot(gs[0, 0])\n",
    "plt.yticks( size = TextSize)\n",
    "plt.xticks(size = TextSize)\n",
    "plt.xlabel(r'$x(t)$', size = TextSize)\n",
    "plt.ylabel(r'$x(t+\\tau)$', size = TextSize)\n",
    "plt.plot(embedded_ts.T[0], embedded_ts.T[1], 'k.')\n",
    "\n",
    "ax = plt.subplot(gs[0, 1])\n",
    "top = max(diagram[1].T[1])\n",
    "plt.plot([0,top*1.25],[0,top*1.25],'k--')\n",
    "plt.yticks( size = TextSize)\n",
    "plt.xticks(size = TextSize)\n",
    "plt.xlabel('Birth', size = TextSize)\n",
    "plt.ylabel('Death', size = TextSize)\n",
    "plt.plot(diagram[1].T[0],diagram[1].T[1] ,'go', markersize = MS+2)\n",
    "\n",
    "plt.show()\n",
    "#-------------------------------------------------------------------------\n",
    "\n",
    "#get lifetimes (L) as difference between birth (B) and death (D) times\n",
    "B, D = diagram[1].T[0], diagram[1].T[1]\n",
    "L = D - B\n",
    "\n",
    "from teaspoon.SP.information.entropy import PersistentEntropy\n",
    "h = PersistentEntropy(lifetimes = L)\n",
    "\n",
    "print('Persistent entropy: ', h)"
   ]
  },
  {
   "cell_type": "code",
   "execution_count": null,
   "metadata": {},
   "outputs": [],
   "source": []
  },
  {
   "cell_type": "markdown",
   "metadata": {},
   "source": [
    "----\n",
    "---\n",
    "\n",
    "## 5. [Persistent Homology of Complex Networks Module](http://elizabethmunch.com/code/teaspoon/PHN.html)\n",
    "<br />\n",
    "<div align=\"center\"> \n",
    " <img src=\"figures/CN_fig.png\" style=\"width:300px;\">\n",
    "</div>"
   ]
  },
  {
   "cell_type": "markdown",
   "metadata": {},
   "source": [
    "### [Persistent Homology of Ordinal Partition Networks](http://elizabethmunch.com/code/teaspoon/network.html)"
   ]
  },
  {
   "cell_type": "markdown",
   "metadata": {},
   "source": [
    "### Periodic Example"
   ]
  },
  {
   "cell_type": "code",
   "execution_count": null,
   "metadata": {},
   "outputs": [],
   "source": [
    "#import needed packages\n",
    "import numpy as np\n",
    "from teaspoon.SP.network import ordinal_partition_graph\n",
    "from teaspoon.TDA.PHN import PH_network\n",
    "from teaspoon.SP.network_tools import make_network\n",
    "from teaspoon.parameter_selection.MsPE import MsPE_tau\n",
    "\n",
    "\n",
    "#generate time series\n",
    "import teaspoon.MakeData.DynSysLib.DynSysLib as DSL\n",
    "system = 'rossler'\n",
    "dynamic_state = 'periodic'\n",
    "t, solution = DSL.DynamicSystems(system, dynamic_state)\n",
    "ts = solution[1]\n",
    "\n",
    "\n",
    "#Get appropriate dimension and delay parameters for permutations\n",
    "tau = int(MsPE_tau(ts))\n",
    "n = 5\n",
    "\n",
    "#create adjacency matrix, this\n",
    "A = ordinal_partition_graph(ts, n, tau)\n",
    "\n",
    "#get networkx representation of network for plotting\n",
    "G, pos = make_network(A, position_iterations = 2000, remove_deg_zero_nodes = True)\n",
    "\n",
    "#create distance matrix and calculate persistence diagram\n",
    "D, diagram = PH_network(A, method = 'unweighted', distance = 'shortest_path')\n",
    "print('1-D Persistent Homology (loops): ', diagram[1])\n",
    "\n",
    "import matplotlib.pyplot as plt\n",
    "import matplotlib.gridspec as gridspec\n",
    "import networkx as nx\n",
    "\n",
    "TextSize = 14\n",
    "plt.figure(2)\n",
    "plt.figure(figsize=(8,8))\n",
    "gs = gridspec.GridSpec(4, 2)\n",
    "\n",
    "ax = plt.subplot(gs[0:2, 0:2]) #plot time series\n",
    "plt.title('Time Series', size = TextSize)\n",
    "plt.plot(ts, 'k')\n",
    "plt.xticks(size = TextSize)\n",
    "plt.yticks(size = TextSize)\n",
    "plt.xlabel('$t$', size = TextSize)\n",
    "plt.ylabel('$x(t)$', size = TextSize)\n",
    "plt.xlim(0,len(ts))\n",
    "\n",
    "ax = plt.subplot(gs[2:4, 0])\n",
    "plt.title('Network', size = TextSize)\n",
    "nx.draw(G, pos, with_labels=False, font_weight='bold', node_color='blue',\n",
    "        width=1, font_size = 10, node_size = 30)\n",
    "\n",
    "ax = plt.subplot(gs[2:4, 1])\n",
    "plt.title('Persistence Diagram', size = TextSize)\n",
    "MS = 3\n",
    "top = max(diagram[1].T[1])\n",
    "plt.plot([0,top*1.25],[0,top*1.25],'k--')\n",
    "plt.yticks( size = TextSize)\n",
    "plt.xticks(size = TextSize)\n",
    "plt.xlabel('Birth', size = TextSize)\n",
    "plt.ylabel('Death', size = TextSize)\n",
    "plt.plot(diagram[1].T[0],diagram[1].T[1] ,'go', markersize = MS+2)\n",
    "plt.xlim(0,top*1.25)\n",
    "plt.ylim(0,top*1.25)\n",
    "\n",
    "plt.subplots_adjust(hspace= 0.8)\n",
    "plt.subplots_adjust(wspace= 0.35)\n",
    "plt.show()"
   ]
  },
  {
   "cell_type": "markdown",
   "metadata": {},
   "source": [
    "### Chaotic Example"
   ]
  },
  {
   "cell_type": "code",
   "execution_count": null,
   "metadata": {},
   "outputs": [],
   "source": [
    "#import needed packages\n",
    "import numpy as np\n",
    "from teaspoon.SP.network import ordinal_partition_graph\n",
    "from teaspoon.TDA.PHN import PH_network\n",
    "from teaspoon.SP.network_tools import make_network\n",
    "from teaspoon.parameter_selection.MsPE import MsPE_tau\n",
    "\n",
    "\n",
    "#generate time series\n",
    "import teaspoon.MakeData.DynSysLib.DynSysLib as DSL\n",
    "system = 'rossler'\n",
    "dynamic_state = 'chaotic'\n",
    "t, solution = DSL.DynamicSystems(system, dynamic_state)\n",
    "ts = solution[0]\n",
    "\n",
    "\n",
    "#Get appropriate dimension and delay parameters for permutations\n",
    "tau = int(MsPE_tau(ts))\n",
    "n = 5\n",
    "\n",
    "#create adjacency matrix, this\n",
    "A = ordinal_partition_graph(ts, n, tau)\n",
    "\n",
    "#get networkx representation of network for plotting\n",
    "G, pos = make_network(A, position_iterations = 1000, remove_deg_zero_nodes = True)\n",
    "\n",
    "#create distance matrix and calculate persistence diagram\n",
    "D, diagram = PH_network(A, method = 'unweighted', distance = 'shortest_path')\n",
    "print('1-D Persistent Homology (loops): ', diagram[1])\n",
    "\n",
    "import matplotlib.pyplot as plt\n",
    "import matplotlib.gridspec as gridspec\n",
    "import networkx as nx\n",
    "\n",
    "TextSize = 14\n",
    "plt.figure(2)\n",
    "plt.figure(figsize=(8,8))\n",
    "gs = gridspec.GridSpec(4, 2)\n",
    "\n",
    "ax = plt.subplot(gs[0:2, 0:2]) #plot time series\n",
    "plt.title('Time Series', size = TextSize)\n",
    "plt.plot(ts, 'k')\n",
    "plt.xticks(size = TextSize)\n",
    "plt.yticks(size = TextSize)\n",
    "plt.xlabel('$t$', size = TextSize)\n",
    "plt.ylabel('$x(t)$', size = TextSize)\n",
    "plt.xlim(0,len(ts))\n",
    "\n",
    "ax = plt.subplot(gs[2:4, 0])\n",
    "plt.title('Network', size = TextSize)\n",
    "nx.draw(G, pos, with_labels=False, font_weight='bold', node_color='red',\n",
    "        width=1, font_size = 10, node_size = 30)\n",
    "\n",
    "ax = plt.subplot(gs[2:4, 1])\n",
    "plt.title('Persistence Diagram', size = TextSize)\n",
    "MS = 3\n",
    "top = max(diagram[1].T[1])\n",
    "plt.plot([0,top*1.25],[0,top*1.25],'k--')\n",
    "plt.yticks( size = TextSize)\n",
    "plt.xticks(size = TextSize)\n",
    "plt.xlabel('Birth', size = TextSize)\n",
    "plt.ylabel('Death', size = TextSize)\n",
    "plt.plot(diagram[1].T[0],diagram[1].T[1] ,'go', markersize = MS+2)\n",
    "plt.xlim(0,top*1.25)\n",
    "plt.ylim(0,top*1.25)\n",
    "\n",
    "plt.subplots_adjust(hspace= 0.8)\n",
    "plt.subplots_adjust(wspace= 0.35)\n",
    "plt.show()"
   ]
  },
  {
   "cell_type": "markdown",
   "metadata": {},
   "source": [
    "### [Persistent Homology of k-NN Networks](http://elizabethmunch.com/code/teaspoon/network.html)"
   ]
  },
  {
   "cell_type": "code",
   "execution_count": null,
   "metadata": {},
   "outputs": [],
   "source": [
    "#import needed packages\n",
    "import numpy as np\n",
    "from teaspoon.SP.network import knn_graph\n",
    "from teaspoon.TDA.PHN import PH_network\n",
    "from teaspoon.SP.network_tools import make_network\n",
    "from teaspoon.parameter_selection.MsPE import MsPE_tau\n",
    "\n",
    "#generate a siple sinusoidal time series\n",
    "t = np.linspace(0,30,300)\n",
    "ts = np.sin(t) + np.sin(2*t)\n",
    "\n",
    "#Get appropriate dimension and delay parameters for permutations\n",
    "tau = int(MsPE_tau(ts))\n",
    "n = 3\n",
    "\n",
    "#create adjacency matrix, this\n",
    "A = knn_graph(ts, n, tau, k = 4)\n",
    "\n",
    "#get networkx representation of network for plotting\n",
    "G, pos = make_network(A, position_iterations = 1000, remove_deg_zero_nodes = True)\n",
    "\n",
    "#create distance matrix and calculate persistence diagram\n",
    "D, diagram = PH_network(A, method = 'unweighted', distance = 'shortest_path')\n",
    "print('1-D Persistent Homology (loops): ', diagram[1])\n",
    "\n",
    "stats = point_summaries(diagram, A)\n",
    "print('Persistent homology of network statistics: ', stats)\n",
    "\n",
    "import matplotlib.pyplot as plt\n",
    "import matplotlib.gridspec as gridspec\n",
    "import networkx as nx\n",
    "\n",
    "TextSize = 14\n",
    "plt.figure(2)\n",
    "plt.figure(figsize=(8,8))\n",
    "gs = gridspec.GridSpec(4, 2)\n",
    "\n",
    "ax = plt.subplot(gs[0:2, 0:2]) #plot time series\n",
    "plt.title('Time Series', size = TextSize)\n",
    "plt.plot(ts, 'k')\n",
    "plt.xticks(size = TextSize)\n",
    "plt.yticks(size = TextSize)\n",
    "plt.xlabel('$t$', size = TextSize)\n",
    "plt.ylabel('$x(t)$', size = TextSize)\n",
    "plt.xlim(0,len(ts))\n",
    "\n",
    "ax = plt.subplot(gs[2:4, 0])\n",
    "plt.title('Network', size = TextSize)\n",
    "nx.draw(G, pos, with_labels=False, font_weight='bold', node_color='blue',\n",
    "        width=1, font_size = 10, node_size = 30)\n",
    "\n",
    "ax = plt.subplot(gs[2:4, 1])\n",
    "plt.title('Persistence Diagram', size = TextSize)\n",
    "MS = 3\n",
    "top = max(diagram[1].T[1])\n",
    "plt.plot([0,top*1.25],[0,top*1.25],'k--')\n",
    "plt.yticks( size = TextSize)\n",
    "plt.xticks(size = TextSize)\n",
    "plt.xlabel('Birth', size = TextSize)\n",
    "plt.ylabel('Death', size = TextSize)\n",
    "plt.plot(diagram[1].T[0],diagram[1].T[1] ,'go', markersize = MS+2)\n",
    "plt.xlim(0,top*1.25)\n",
    "plt.ylim(0,top*1.25)\n",
    "\n",
    "plt.subplots_adjust(hspace= 0.8)\n",
    "plt.subplots_adjust(wspace= 0.35)\n",
    "plt.show()"
   ]
  },
  {
   "cell_type": "code",
   "execution_count": null,
   "metadata": {},
   "outputs": [],
   "source": []
  },
  {
   "cell_type": "markdown",
   "metadata": {},
   "source": [
    "----\n",
    "---\n",
    "\n",
    "## 5. [Machine Learning Module](http://elizabethmunch.com/code/teaspoon/ML.html)\n",
    "<br />\n",
    "<div align=\"center\"> \n",
    " <img src=\"figures/ML_fig.png\" style=\"width:300px;\">\n",
    "</div>"
   ]
  },
  {
   "cell_type": "markdown",
   "metadata": {},
   "source": [
    "### [Featurization](http://elizabethmunch.com/code/teaspoon/F_PD.html)"
   ]
  },
  {
   "cell_type": "markdown",
   "metadata": {},
   "source": [
    "**Persistent Landscapes**"
   ]
  },
  {
   "cell_type": "code",
   "execution_count": 3,
   "metadata": {},
   "outputs": [
    {
     "name": "stdout",
     "output_type": "stream",
     "text": [
      "Generating torus clouds...\n",
      "Generating annuli clouds...\n",
      "Generating cube clouds...\n",
      "Generating three cluster clouds...\n",
      "Generating three clusters of three clusters clouds...\n",
      "Generating sphere clouds...\n",
      "Finished generating clouds and computing persistence.\n",
      "\n",
      "13\n"
     ]
    },
    {
     "data": {
      "image/png": "[encoded data removed]",
      "text/plain": [
       "<Figure size 432x288 with 1 Axes>"
      ]
     },
     "metadata": {
      "needs_background": "light"
     },
     "output_type": "display_data"
    }
   ],
   "source": [
    "from teaspoon.ML.feature_functions import PLandscape\n",
    "from teaspoon.MakeData.PointCloud import testSetManifolds\n",
    "# generate persistence diagrams\n",
    "df = testSetManifolds(numDgms = 50, numPts = 100)\n",
    "Diagrams_H1 = df['Dgm1']\n",
    "# Compute the persistence landscapes\n",
    "PLC = PLandscape(Diagrams_H1[0])\n",
    "print(PLC.PL_number)\n",
    "fig = PLC.PLandscape_plot(PLC.AllPL['Points'])  "
   ]
  },
  {
   "cell_type": "code",
   "execution_count": 4,
   "metadata": {},
   "outputs": [
    {
     "data": {
      "image/png": "[encoded data removed]",
      "text/plain": [
       "<Figure size 432x288 with 1 Axes>"
      ]
     },
     "metadata": {
      "needs_background": "light"
     },
     "output_type": "display_data"
    }
   ],
   "source": [
    "PLC  = PLandscape(Diagrams_H1[0],[2,3])\n",
    "fig = PLC.PLandscape_plot(PLC.AllPL['Points'],[2,3])  "
   ]
  },
  {
   "cell_type": "markdown",
   "metadata": {},
   "source": [
    "**Persistence Images**\n",
    "\n",
    "Images are computed using [PersistenceImages](https://gitlab.com/csu-tda/PersistenceImages) package."
   ]
  },
  {
   "cell_type": "code",
   "execution_count": 5,
   "metadata": {},
   "outputs": [
    {
     "name": "stdout",
     "output_type": "stream",
     "text": [
      "Generating torus clouds...\n",
      "Generating annuli clouds...\n",
      "Generating cube clouds...\n",
      "Generating three cluster clouds...\n",
      "Generating three clusters of three clusters clouds...\n",
      "Generating sphere clouds...\n",
      "Finished generating clouds and computing persistence.\n",
      "\n"
     ]
    },
    {
     "data": {
      "image/png": "[encoded data removed]",
      "text/plain": [
       "<Figure size 432x288 with 1 Axes>"
      ]
     },
     "metadata": {},
     "output_type": "display_data"
    },
    {
     "data": {
      "text/plain": [
       "<Figure size 432x288 with 0 Axes>"
      ]
     },
     "metadata": {},
     "output_type": "display_data"
    },
    {
     "data": {
      "image/png": "[encoded data removed]",
      "text/plain": [
       "<Figure size 432x288 with 1 Axes>"
      ]
     },
     "metadata": {},
     "output_type": "display_data"
    },
    {
     "data": {
      "text/plain": [
       "<Figure size 432x288 with 0 Axes>"
      ]
     },
     "metadata": {},
     "output_type": "display_data"
    }
   ],
   "source": [
    "import teaspoon.ML.feature_functions as Ff\n",
    "from teaspoon.MakeData.PointCloud import testSetManifolds\n",
    "\n",
    "# generate persistence diagrams\n",
    "df = testSetManifolds(numDgms = 50, numPts = 100)\n",
    "Diagrams_H1= df['Dgm1'].sort_index().values\n",
    "\n",
    "TF_Learning = False\n",
    "D_Img=[1,75]\n",
    "plot=False\n",
    "feature_PI = Ff.F_Image(Diagrams_H1,0.01,0.15,plot,TF_Learning, D_Img)\n",
    "# if user wants to plot images\n",
    "plot=True\n",
    "feature_PI = Ff.F_Image(Diagrams_H1,0.01,0.15,plot,TF_Learning, D_Img)\n",
    "fig = feature_PI['figures']"
   ]
  },
  {
   "cell_type": "markdown",
   "metadata": {},
   "source": [
    "**Carlsson Coordinates**"
   ]
  },
  {
   "cell_type": "code",
   "execution_count": 6,
   "metadata": {},
   "outputs": [
    {
     "name": "stdout",
     "output_type": "stream",
     "text": [
      "Generating torus clouds...\n",
      "Generating annuli clouds...\n",
      "Generating cube clouds...\n",
      "Generating three cluster clouds...\n",
      "Generating three clusters of three clusters clouds...\n",
      "Generating sphere clouds...\n",
      "Finished generating clouds and computing persistence.\n",
      "\n",
      "7\n"
     ]
    }
   ],
   "source": [
    "import teaspoon.ML.feature_functions as Ff\n",
    "from teaspoon.MakeData.PointCloud import testSetManifolds\n",
    "# generate persistence diagrams\n",
    "df = testSetManifolds(numDgms = 50, numPts = 100)\n",
    "Diagrams_H1= df['Dgm1'].sort_index().values\n",
    "FN=3\n",
    "FeatureMatrix,TotalNumComb,CombList = Ff.F_CCoordinates(Diagrams_H1,FN)\n",
    "print(TotalNumComb)"
   ]
  },
  {
   "cell_type": "markdown",
   "metadata": {},
   "source": [
    "**Path Signatures**"
   ]
  },
  {
   "cell_type": "code",
   "execution_count": null,
   "metadata": {},
   "outputs": [],
   "source": [
    "import numpy as np\n",
    "import teaspoon.ML.feature_functions as Ff\n",
    "from teaspoon.ML.feature_functions import PLandscape\n",
    "from teaspoon.MakeData.PointCloud import testSetManifolds\n",
    "# generate persistence diagrams\n",
    "df = testSetManifolds(numDgms = 1, numPts = 100)\n",
    "Diagrams_H1= df['Dgm1'].sort_index().values\n",
    "#compute persistence landscapes\n",
    "PerLand=np.ndarray(shape=(6),dtype=object)\n",
    "for i in range(0, 6):\n",
    "    Land=PLandscape(Diagrams_H1[i])\n",
    "    PerLand[i]=Land.AllP\n",
    "#choose landscape number for which feature matrix will be computed\n",
    "L_number = [2]\n",
    "#compute feature matrix\n",
    "feature_PS = Ff.F_PSignature(PerLand,L_number)"
   ]
  },
  {
   "cell_type": "markdown",
   "metadata": {},
   "source": [
    "**Kernel Method**"
   ]
  },
  {
   "cell_type": "code",
   "execution_count": 7,
   "metadata": {},
   "outputs": [
    {
     "name": "stdout",
     "output_type": "stream",
     "text": [
      "Generating torus clouds...\n",
      "Generating annuli clouds...\n",
      "Generating cube clouds...\n",
      "Generating three cluster clouds...\n",
      "Generating three clusters of three clusters clouds...\n",
      "Generating sphere clouds...\n",
      "Finished generating clouds and computing persistence.\n",
      "\n",
      "1.2762399474187036\n"
     ]
    }
   ],
   "source": [
    "import teaspoon.ML.feature_functions as Ff\n",
    "from teaspoon.MakeData.PointCloud import testSetManifolds\n",
    "# generate persistence diagrams\n",
    "df = testSetManifolds(numDgms = 1, numPts = 100)\n",
    "Diagrams_H1 = df['Dgm1']\n",
    "#compute kernel between two persistence diagram\n",
    "sigma=0.25\n",
    "kernel = Ff.KernelMethod(Diagrams_H1[0], Diagrams_H1[1], sigma)\n",
    "print(kernel)"
   ]
  },
  {
   "cell_type": "markdown",
   "metadata": {},
   "source": [
    "### [Classification](http://elizabethmunch.com/code/teaspoon/CL.html)"
   ]
  },
  {
   "cell_type": "markdown",
   "metadata": {},
   "source": [
    "**Persistent Landscapes**"
   ]
  },
  {
   "cell_type": "code",
   "execution_count": 8,
   "metadata": {},
   "outputs": [
    {
     "name": "stdout",
     "output_type": "stream",
     "text": [
      "Generating torus clouds...\n",
      "Generating annuli clouds...\n",
      "Generating cube clouds...\n",
      "Generating three cluster clouds...\n",
      "Generating three clusters of three clusters clouds...\n",
      "Generating sphere clouds...\n",
      "Finished generating clouds and computing persistence.\n",
      "\n",
      "Variables in parameter bucket\n",
      "-----------------------------\n",
      "clf_model : <class 'sklearn.svm._classes.SVC'>\n",
      "feature_function : <function F_Landscape at 0x000001A3E48E21F0>\n",
      "PL_Number : [1, 2, 3, 4, 5, 6, 7, 8]\n",
      "test_size : 0.33\n",
      "-----------------------------\n",
      "\n",
      "Landscapes used in feature matrix generation: [1, 2, 3, 4, 5, 6, 7, 8]\n",
      "Test set score: 0.6950000000000001\n",
      "Test set deviation: 0.09069178573608527\n",
      "Training set score: 0.7725\n",
      "Training set deviation: 0.08905756565278439\n",
      "Total elapsed time: 0.6614749431610107\n"
     ]
    }
   ],
   "source": [
    "import numpy as np\n",
    "from teaspoon.ML.feature_functions import PLandscape\n",
    "import teaspoon.ML.PD_Classification as PD_CL\n",
    "from teaspoon.ML.Base import LandscapesParameterBucket\n",
    "from teaspoon.MakeData.PointCloud import testSetManifolds\n",
    "from sklearn.svm import SVC\n",
    "# generate persistence diagrams\n",
    "df = testSetManifolds(numDgms = 10, numPts = 100)\n",
    "Diagrams_H1= df['Dgm1'].sort_index().values\n",
    "Labels = df['trainingLabel'].sort_index().values\n",
    "#parameters for classification\n",
    "params = LandscapesParameterBucket()\n",
    "params.clf_model = SVC\n",
    "params.test_size = 0.33\n",
    "params.Labels = Labels\n",
    "params.PL_Number = [1,2,3,4,5,6,7,8]\n",
    "print(params)\n",
    "# Compute the persistence landscapes\n",
    "PerLand=np.ndarray(shape=(60),dtype=object)\n",
    "for i in range(0, 60):\n",
    "    Land=PLandscape(Diagrams_H1[i])\n",
    "    PerLand[i]=Land.AllPL\n",
    "# Perform classification\n",
    "result = PD_CL.CL_PL(PerLand,params)"
   ]
  },
  {
   "cell_type": "markdown",
   "metadata": {},
   "source": [
    "**Persistence Images**"
   ]
  },
  {
   "cell_type": "code",
   "execution_count": 9,
   "metadata": {},
   "outputs": [
    {
     "name": "stdout",
     "output_type": "stream",
     "text": [
      "Generating torus clouds...\n",
      "Generating annuli clouds...\n",
      "Generating cube clouds...\n",
      "Generating three cluster clouds...\n",
      "Generating three clusters of three clusters clouds...\n",
      "Generating sphere clouds...\n",
      "Finished generating clouds and computing persistence.\n",
      "\n",
      "Generating torus clouds...\n",
      "Generating annuli clouds...\n",
      "Generating cube clouds...\n",
      "Generating three cluster clouds...\n",
      "Generating three clusters of three clusters clouds...\n",
      "Generating sphere clouds...\n",
      "Finished generating clouds and computing persistence.\n",
      "\n",
      "Variables in parameter bucket\n",
      "-----------------------------\n",
      "clf_model : <class 'sklearn.svm._classes.SVC'>\n",
      "test_size : 0.33\n",
      "TF_Learning : False\n",
      "-----------------------------\n",
      "\n",
      "Test set score: 0.63\n",
      "Test set deviation: 0.09539392014169457\n",
      "Training set score: 0.7474999999999999\n",
      "Training set deviation: 0.06169481339626534\n",
      "Total elapsed time: 0.05997920036315918\n"
     ]
    }
   ],
   "source": [
    "import numpy as np\n",
    "import teaspoon.ML.feature_functions as Ff\n",
    "import teaspoon.ML.PD_Classification as CL_PD\n",
    "from teaspoon.ML.Base import CL_ParameterBucket\n",
    "from teaspoon.MakeData.PointCloud import testSetManifolds\n",
    "from sklearn.svm import SVC\n",
    "# generate two sets of persistence diagrams\n",
    "df_1 = testSetManifolds(numDgms = 10, numPts = 100)\n",
    "df_2 = testSetManifolds(numDgms = 10, numPts = 100)\n",
    "Diagrams_H1_1= df_1['Dgm1'].sort_index().values\n",
    "Diagrams_H1_2= df_2['Dgm1'].sort_index().values\n",
    "Labels_1 = df_1['trainingLabel'].sort_index().values\n",
    "Labels_2 = df_2['trainingLabel'].sort_index().values\n",
    "# classification without using transfer learning\n",
    "TF_Learning = False\n",
    "plot = False\n",
    "D_Img=[]\n",
    "#classification parameters\n",
    "params = CL_ParameterBucket()\n",
    "params.clf_model = SVC\n",
    "params.test_size =0.33\n",
    "params.Labels = Labels_1\n",
    "print(params)\n",
    "F_Images =Ff.F_Image(Diagrams_H1_1,0.1,0.10,plot,TF_Learning,D_Img)\n",
    "results = CL_PD.CL_PI(F_Images['F_Matrix'],params)"
   ]
  },
  {
   "cell_type": "markdown",
   "metadata": {},
   "source": [
    "Classification using transfer learning"
   ]
  },
  {
   "cell_type": "code",
   "execution_count": 10,
   "metadata": {},
   "outputs": [
    {
     "name": "stdout",
     "output_type": "stream",
     "text": [
      "Variables in parameter bucket\n",
      "-----------------------------\n",
      "clf_model : <class 'sklearn.svm._classes.SVC'>\n",
      "test_size : 0.33\n",
      "TF_Learning : True\n",
      "-----------------------------\n",
      "\n",
      "Test set score: 0.6642857142857144\n",
      "Test set deviation: 0.03603034750100371\n",
      "Training set score: 0.76\n",
      "Training set deviation: 0.06344288770224761\n",
      "Total elapsed time: 0.05372190475463867\n"
     ]
    }
   ],
   "source": [
    "TF_Learning =True\n",
    "F_Images_2 = Ff.F_Image(Diagrams_H1_1,0.1,0.10,plot,TF_Learning,D_Img,Diagrams_H1_2)\n",
    "params = CL_ParameterBucket()\n",
    "params.clf_model = SVC\n",
    "params.test_size =0.33\n",
    "params.training_labels = Labels_1\n",
    "params.test_labels = Labels_2\n",
    "params.TF_Learning  = True\n",
    "print(params)\n",
    "results = CL_PD.CL_PI(F_Images_2['F_train'],params,F_Images_2['F_test'])"
   ]
  },
  {
   "cell_type": "markdown",
   "metadata": {},
   "source": [
    "**Carlsson Coordinates**"
   ]
  },
  {
   "cell_type": "code",
   "execution_count": 11,
   "metadata": {},
   "outputs": [
    {
     "name": "stdout",
     "output_type": "stream",
     "text": [
      "Generating torus clouds...\n",
      "Generating annuli clouds...\n",
      "Generating cube clouds...\n",
      "Generating three cluster clouds...\n",
      "Generating three clusters of three clusters clouds...\n",
      "Generating sphere clouds...\n",
      "Finished generating clouds and computing persistence.\n",
      "\n",
      "Generating torus clouds...\n",
      "Generating annuli clouds...\n",
      "Generating cube clouds...\n",
      "Generating three cluster clouds...\n",
      "Generating three clusters of three clusters clouds...\n",
      "Generating sphere clouds...\n",
      "Finished generating clouds and computing persistence.\n",
      "\n",
      "Variables in parameter bucket\n",
      "-----------------------------\n",
      "clf_model : <class 'sklearn.svm._classes.SVC'>\n",
      "test_size : 0.33\n",
      "TF_Learning : False\n",
      "FN : 5\n",
      "-----------------------------\n",
      "\n",
      "Number of combinations: 31\n",
      "Highest accuracy among all combinations:\n",
      "Test set score: 0.5900000000000001\n",
      "Test set deviation: 0.05830951894845299\n",
      "Training set score: 0.6975\n",
      "Training set deviation: 0.037831864876053875\n",
      "Total elapsed time: 0.8846654891967773\n"
     ]
    }
   ],
   "source": [
    "import numpy as np\n",
    "import teaspoon.ML.feature_functions as Ff\n",
    "import teaspoon.ML.PD_Classification as CL_PD\n",
    "from teaspoon.ML.Base import CL_ParameterBucket\n",
    "from teaspoon.MakeData.PointCloud import testSetManifolds\n",
    "from sklearn.svm import SVC\n",
    "# generate two sets of persistence diagrams\n",
    "df_1 = testSetManifolds(numDgms = 10, numPts = 100)\n",
    "df_2 = testSetManifolds(numDgms = 10, numPts = 100)\n",
    "Diagrams_H1_1= df_1['Dgm1'].sort_index().values\n",
    "Diagrams_H1_2= df_2['Dgm1'].sort_index().values\n",
    "# labels\n",
    "Labels_1 = df_1['trainingLabel'].sort_index().values\n",
    "Labels_2 = df_2['trainingLabel'].sort_index().values\n",
    "# parameters used in classification without transfer learning\n",
    "params = CL_ParameterBucket()\n",
    "params.clf_model = SVC\n",
    "params.test_size =0.33\n",
    "params.Labels = Labels_1\n",
    "params.TF_Learning =False\n",
    "params.FN = 5\n",
    "print(params)\n",
    "results = CL_PD.CL_CC(Diagrams_H1_1,params)"
   ]
  },
  {
   "cell_type": "markdown",
   "metadata": {},
   "source": [
    "Classification using transfer learning"
   ]
  },
  {
   "cell_type": "code",
   "execution_count": 12,
   "metadata": {},
   "outputs": [
    {
     "name": "stdout",
     "output_type": "stream",
     "text": [
      "Variables in parameter bucket\n",
      "-----------------------------\n",
      "clf_model : <class 'sklearn.svm._classes.SVC'>\n",
      "test_size : 0.33\n",
      "TF_Learning : True\n",
      "FN : 5\n",
      "-----------------------------\n",
      "\n",
      "Number of combinations: 31\n",
      "Highest accuracy among all combinations:\n",
      "Test set score: 0.6857142857142857\n",
      "Test set deviation: 0.056142029155007614\n",
      "Training set score: 0.7025\n",
      "Training set deviation: 0.03944933459514875\n",
      "Total elapsed time: 0.5972194671630859\n"
     ]
    }
   ],
   "source": [
    "# parameters used in classification with transfer learning\n",
    "params = CL_ParameterBucket()\n",
    "params.clf_model = SVC\n",
    "params.test_size =0.33\n",
    "params.training_labels = Labels_1\n",
    "params.test_labels = Labels_2\n",
    "params.TF_Learning =True\n",
    "params.FN = 5\n",
    "print(params)\n",
    "results = CL_PD.CL_CC(Diagrams_H1_1,params,Diagrams_H1_2)"
   ]
  },
  {
   "cell_type": "markdown",
   "metadata": {},
   "source": [
    "**Path Signatures**"
   ]
  },
  {
   "cell_type": "code",
   "execution_count": null,
   "metadata": {},
   "outputs": [
    {
     "name": "stdout",
     "output_type": "stream",
     "text": [
      "Generating torus clouds...\n",
      "Generating annuli clouds...\n",
      "Generating cube clouds...\n",
      "Generating three cluster clouds...\n",
      "Generating three clusters of three clusters clouds...\n",
      "Generating sphere clouds...\n",
      "Finished generating clouds and computing persistence.\n",
      "\n",
      "Generating torus clouds...\n",
      "Generating annuli clouds...\n",
      "Generating cube clouds...\n",
      "Generating three cluster clouds...\n",
      "Generating three clusters of three clusters clouds...\n",
      "Generating sphere clouds...\n",
      "Finished generating clouds and computing persistence.\n",
      "\n"
     ]
    }
   ],
   "source": [
    "import numpy as np\n",
    "import teaspoon.ML.feature_functions as Ff\n",
    "import teaspoon.ML.PD_Classification as CL_PD\n",
    "from teaspoon.ML.Base import CL_ParameterBucket\n",
    "from teaspoon.MakeData.PointCloud import testSetManifolds\n",
    "from sklearn.svm import SVC\n",
    "# generate two sets of persistence diagrams\n",
    "df_1 = testSetManifolds(numDgms = 5, numPts = 100)\n",
    "df_2 = testSetManifolds(numDgms = 5, numPts = 100)\n",
    "Diagrams_H1_1= df_1['Dgm1'].sort_index().values\n",
    "Diagrams_H1_2= df_2['Dgm1'].sort_index().values\n",
    "# labels\n",
    "Labels_1 = df_1['trainingLabel'].sort_index().values\n",
    "Labels_2 = df_2['trainingLabel'].sort_index().values\n",
    "#compute persistence landscapes for both sets of persistence diagram\n",
    "PerLand1=np.ndarray(shape=(60),dtype=object)\n",
    "PerLand2=np.ndarray(shape=(60),dtype=object)\n",
    "for i in range(0, 30):\n",
    "    Land=Ff.PLandscape(Diagrams_H1_1[i])\n",
    "    PerLand1[i]=Land.AllPL\n",
    "    Land=Ff.PLandscape(Diagrams_H1_2[i])\n",
    "    PerLand2[i]=Land.AllPL\n",
    "# compute features using first landscapes\n",
    "features1 = Ff.F_PSignature(PerLand1,L_Number=[1])\n",
    "features2 = Ff.F_PSignature(PerLand2,L_Number=[1])\n",
    "# traditional classification\n",
    "# adjust parameters\n",
    "params = CL_ParameterBucket()\n",
    "params.clf_model = SVC\n",
    "params.test_size =0.33\n",
    "params.Labels = Labels1\n",
    "params.TF_Learning = False\n",
    "print(params)\n",
    "results = CL_PS(features,params)"
   ]
  },
  {
   "cell_type": "markdown",
   "metadata": {},
   "source": [
    "Classification using transfer learning"
   ]
  },
  {
   "cell_type": "code",
   "execution_count": null,
   "metadata": {},
   "outputs": [],
   "source": [
    "#transfer learning\n",
    "params = CL_ParameterBucket()\n",
    "params.clf_model = SVC\n",
    "params.test_size =0.33\n",
    "params.training_labels = Labels1\n",
    "params.test_labels = Labels2\n",
    "params.TF_Learning = True\n",
    "print(params)\n",
    "results = CL_PS(features1,params,features2)"
   ]
  },
  {
   "cell_type": "markdown",
   "metadata": {},
   "source": [
    "**Kernel Method**"
   ]
  },
  {
   "cell_type": "code",
   "execution_count": 13,
   "metadata": {},
   "outputs": [
    {
     "name": "stdout",
     "output_type": "stream",
     "text": [
      "Generating torus clouds...\n",
      "Generating annuli clouds...\n",
      "Generating cube clouds...\n",
      "Generating three cluster clouds...\n",
      "Generating three clusters of three clusters clouds...\n",
      "Generating sphere clouds...\n",
      "Finished generating clouds and computing persistence.\n",
      "\n",
      "Enter the path of the LIBSVM python folder: C:\\Users\\melih\\Desktop\\libsvm-3.24\\python\n",
      "Accuracy = 10% (1/10) (classification)\n",
      "Accuracy = 10% (1/10) (classification)\n",
      "Accuracy = 0% (0/10) (classification)\n",
      "Test set score: 6.666666666666667\n",
      "Test set deviation: 4.714045207910317\n",
      "Total elapsed time: 6.666666666666667\n"
     ]
    }
   ],
   "source": [
    "import numpy as np\n",
    "import teaspoon.ML.feature_functions as Ff\n",
    "from teaspoon.ML.PD_Classification import CL_KM\n",
    "from teaspoon.ML.Base import CL_ParameterBucket\n",
    "from teaspoon.MakeData.PointCloud import testSetManifolds\n",
    "# generate two sets of persistence diagrams\n",
    "df_1 = testSetManifolds(numDgms = 5, numPts = 100)\n",
    "Diagrams_H1_1= df_1['Dgm1'].sort_index().values\n",
    "Labels_1 = df_1['trainingLabel'].sort_index().values\n",
    "#convert string labels into integers ones\n",
    "Labels_ = np.zeros((len(Diagrams_H1_1)))\n",
    "for i in range(len(Diagrams_H1_1)):\n",
    "    if Labels_1[i]=='Torus':\n",
    "        Labels_[i]=0\n",
    "    elif Labels_1[i]=='Annulus':\n",
    "        Labels_[i]=1\n",
    "    elif Labels_1[i]=='Cube':\n",
    "        Labels_[i]=2\n",
    "    elif Labels_1[i]=='3Cluster':\n",
    "        Labels_[i]=3\n",
    "    elif Labels_1[i]=='3Clusters of 3Clusters':\n",
    "        Labels_[i]=4\n",
    "    elif Labels_1[i]=='Sphere':\n",
    "        Labels_[i]=5\n",
    "params = CL_ParameterBucket()\n",
    "params.test_size =0.33\n",
    "params.Labels = Labels_\n",
    "params.sigma = 0.25\n",
    "results = CL_KM(Diagrams_H1_1,params)"
   ]
  },
  {
   "cell_type": "code",
   "execution_count": null,
   "metadata": {},
   "outputs": [],
   "source": []
  },
  {
   "cell_type": "code",
   "execution_count": null,
   "metadata": {},
   "outputs": [],
   "source": []
  },
  {
   "cell_type": "code",
   "execution_count": 2,
   "metadata": {},
   "outputs": [],
   "source": [
    "import warnings\n",
    "warnings.filterwarnings('ignore')"
   ]
  },
  {
   "cell_type": "code",
   "execution_count": null,
   "metadata": {},
   "outputs": [],
   "source": []
  }
 ],
 "metadata": {
  "kernelspec": {
   "display_name": "Python 3",
   "language": "python",
   "name": "python3"
  },
  "language_info": {
   "codemirror_mode": {
    "name": "ipython",
    "version": 3
   },
   "file_extension": ".py",
   "mimetype": "text/x-python",
   "name": "python",
   "nbconvert_exporter": "python",
   "pygments_lexer": "ipython3",
   "version": "3.8.5"
  }
 },
 "nbformat": 4,
 "nbformat_minor": 4
}
