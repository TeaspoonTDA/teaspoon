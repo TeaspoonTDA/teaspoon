{
 "cells": [
  {
   "cell_type": "markdown",
   "metadata": {},
   "source": [
    "----\n",
    "\n",
    "<div align=\"center\">\n",
    "    \n",
    "\n",
    " \n",
    " # Welcome to the teaspoon (topological signal processing) demo!\n",
    "    \n",
    "<br />\n",
    " \n",
    " <img src=\"figures/teaspoon.png\" style=\"width:300px;\">\n",
    "</div>"
   ]
  },
  {
   "cell_type": "markdown",
   "metadata": {},
   "source": [
    "\n",
    "---\n",
    "\n",
    "## 1. Getting Started"
   ]
  },
  {
   "cell_type": "markdown",
   "metadata": {},
   "source": [
    "### 1.1 Documentation"
   ]
  },
  {
   "cell_type": "markdown",
   "metadata": {},
   "source": [
    "Source code:    https://github.com/lizliz/teaspoon"
   ]
  },
  {
   "cell_type": "markdown",
   "metadata": {},
   "source": [
    "Documentation:  http://elizabethmunch.com/code/teaspoon/index.html"
   ]
  },
  {
   "cell_type": "markdown",
   "metadata": {},
   "source": [
    "### 1.2 Installing teaspoon"
   ]
  },
  {
   "cell_type": "markdown",
   "metadata": {},
   "source": [
    "```\n",
    "pip install teaspoon\n",
    "```"
   ]
  },
  {
   "cell_type": "markdown",
   "metadata": {},
   "source": [
    "Pypi: https://pypi.org/project/teaspoon/\n",
    "\n",
    "\n",
    "\n"
   ]
  },
  {
   "cell_type": "markdown",
   "metadata": {},
   "source": [
    "----\n",
    "\n",
    "----\n",
    "\n",
    "## 2. [Dynamical Systems Library Module](http://elizabethmunch.com/code/teaspoon/DynSysLib.html)\n",
    "<br />\n",
    "<div align=\"center\"> \n",
    " <img src=\"figures/DSL_fig.png\" style=\"width:300px;\">\n",
    "</div>\n"
   ]
  },
  {
   "cell_type": "code",
   "execution_count": null,
   "metadata": {},
   "outputs": [],
   "source": [
    "import matplotlib.pyplot as plt\n",
    "import matplotlib.gridspec as gridspec\n",
    "import teaspoon.MakeData.DynSysLib.DynSysLib as DSL\n",
    "\n",
    "system = 'rossler'\n",
    "dynamic_state = 'periodic'\n",
    "t, ts = DSL.DynamicSystems(system, dynamic_state)\n",
    "\n",
    "TextSize = 15\n",
    "plt.figure(figsize = (12,4))\n",
    "gs = gridspec.GridSpec(1,2)\n",
    "\n",
    "ax = plt.subplot(gs[0, 0])\n",
    "plt.xticks(size = TextSize)\n",
    "plt.yticks(size = TextSize)\n",
    "plt.ylabel(r'$x(t)$', size = TextSize)\n",
    "plt.xlabel(r'$t$', size = TextSize)\n",
    "plt.plot(t,ts[0], 'k')\n",
    "\n",
    "ax = plt.subplot(gs[0, 1])\n",
    "plt.plot(ts[0], ts[1],'k.')\n",
    "plt.plot(ts[0], ts[1],'k', alpha = 0.25)\n",
    "plt.xticks(size = TextSize)\n",
    "plt.yticks(size = TextSize)\n",
    "plt.xlabel(r'$x(t)$', size = TextSize)\n",
    "plt.ylabel(r'$y(t)$', size = TextSize)\n",
    "\n",
    "plt.show()"
   ]
  },
  {
   "cell_type": "markdown",
   "metadata": {},
   "source": [
    "Result"
   ]
  },
  {
   "cell_type": "code",
   "execution_count": null,
   "metadata": {},
   "outputs": [],
   "source": [
    "import matplotlib.pyplot as plt\n",
    "import matplotlib.gridspec as gridspec\n",
    "import teaspoon.MakeData.DynSysLib.DynSysLib as DSL\n",
    "\n",
    "system = 'rossler'\n",
    "UserGuide = True\n",
    "L, fs, SampleSize = 1000, 20, 2000\n",
    "# the length (in seconds) of the time series, the sample rate, and the sample size of the time series of the simulated system.\n",
    "parameters = [0.1, 0.2, 13.0] # these are the a, b, and c parameters from the Rossler system model.\n",
    "InitialConditions = [1.0, 0.0, 0.0] # [x_0, y_0, x_0]\n",
    "t, ts = DSL.DynamicSystems(system, dynamic_state, L, fs, SampleSize, parameters,  InitialConditions, UserGuide)\n",
    "\n",
    "TextSize = 15\n",
    "plt.figure(figsize = (12,4))\n",
    "gs = gridspec.GridSpec(1,2)\n",
    "\n",
    "ax = plt.subplot(gs[0, 0])\n",
    "plt.xticks(size = TextSize)\n",
    "plt.yticks(size = TextSize)\n",
    "plt.ylabel(r'$x(t)$', size = TextSize)\n",
    "plt.xlabel(r'$t$', size = TextSize)\n",
    "plt.plot(t,ts[0], 'k')\n",
    "\n",
    "ax = plt.subplot(gs[0, 1])\n",
    "plt.plot(ts[0], ts[1],'k.')\n",
    "plt.plot(ts[0], ts[1],'k', alpha = 0.25)\n",
    "plt.xticks(size = TextSize)\n",
    "plt.yticks(size = TextSize)\n",
    "plt.xlabel(r'$x(t)$', size = TextSize)\n",
    "plt.ylabel(r'$y(t)$', size = TextSize)\n",
    "\n",
    "plt.show()"
   ]
  },
  {
   "cell_type": "markdown",
   "metadata": {},
   "source": [
    "result"
   ]
  },
  {
   "cell_type": "markdown",
   "metadata": {},
   "source": [
    "----\n",
    "\n",
    "---\n",
    "\n",
    "\n",
    "## 3. [Parameter Selection Module](http://elizabethmunch.com/code/teaspoon/parameter_selection.html)\n",
    "<br />\n",
    "<div align=\"center\"> \n",
    " <img src=\"figures/PS_fig.png\" style=\"width:300px;\">\n",
    "</div>"
   ]
  },
  {
   "cell_type": "markdown",
   "metadata": {},
   "source": [
    "### 3.1 Mutual Information"
   ]
  },
  {
   "cell_type": "code",
   "execution_count": null,
   "metadata": {},
   "outputs": [],
   "source": [
    "from teaspoon.parameter_selection.MI_delay import MI_for_delay\n",
    "import numpy as np\n",
    "\n",
    "fs = 10\n",
    "t = np.linspace(0, 100, fs*100)\n",
    "ts = np.sin(t) + np.sin((1/np.pi)*t)\n",
    "\n",
    "tau = MI_for_delay(ts, plotting = True, method = 'basic', h_method = 'sturge', k = 2, ranking = True)\n",
    "print('Delay from MI: ',tau)"
   ]
  },
  {
   "cell_type": "code",
   "execution_count": null,
   "metadata": {},
   "outputs": [],
   "source": []
  },
  {
   "cell_type": "markdown",
   "metadata": {},
   "source": [
    "### 3.2 False Nearest Neighbors"
   ]
  },
  {
   "cell_type": "code",
   "execution_count": null,
   "metadata": {},
   "outputs": [],
   "source": [
    "from teaspoon.parameter_selection.FNN_n import FNN_n\n",
    "import numpy as np\n",
    "\n",
    "fs = 10\n",
    "t = np.linspace(0, 100, fs*100)\n",
    "ts = np.sin(t)\n",
    "\n",
    "tau=15 #embedding delay\n",
    "\n",
    "perc_FNN, n = FNN_n(ts, tau, plotting = True)\n",
    "print('FNN embedding Dimension: ',n)"
   ]
  },
  {
   "cell_type": "code",
   "execution_count": null,
   "metadata": {},
   "outputs": [],
   "source": []
  },
  {
   "cell_type": "markdown",
   "metadata": {},
   "source": [
    "### 3.3 Multi-scale Permutation Entropy"
   ]
  },
  {
   "cell_type": "code",
   "execution_count": null,
   "metadata": {},
   "outputs": [],
   "source": [
    "import numpy as np\n",
    "from teaspoon.parameter_selection.MsPE import MsPE_n,  MsPE_tau\n",
    "\n",
    "t = np.linspace(0, 100, 1000)\n",
    "ts = np.sin(t)\n",
    "\n",
    "m_s, m_e, d_s, d_e = 3, 7, 1, 200\n",
    "#m_s and m_e are the starting and ending dimensions n to search through\n",
    "#d_e = max delay tau to search through\n",
    "\n",
    "#plotting option will show you how delay tau or dimension n were selected\n",
    "tau = int(MsPE_tau(ts, d_e, plotting = True))\n",
    "n = MsPE_n(ts, tau, m_s, m_e, plotting = True)\n",
    "\n",
    "print('Embedding Delay:       '+str(tau))\n",
    "print('Embedding Dimension:   '+str(n))\n"
   ]
  },
  {
   "cell_type": "code",
   "execution_count": null,
   "metadata": {},
   "outputs": [],
   "source": []
  },
  {
   "cell_type": "markdown",
   "metadata": {},
   "source": [
    "----\n",
    "---\n",
    "\n",
    "## 4. [Information Module](http://elizabethmunch.com/code/teaspoon/information.html)\n",
    "<br />\n",
    "<div align=\"center\"> \n",
    " <img src=\"figures/I_fig.png\" style=\"width:300px;\">\n",
    "</div>"
   ]
  },
  {
   "cell_type": "markdown",
   "metadata": {},
   "source": [
    "### 4.1 Permutation Entropy"
   ]
  },
  {
   "cell_type": "code",
   "execution_count": null,
   "metadata": {},
   "outputs": [],
   "source": [
    "import numpy as np\n",
    "t = np.linspace(0,100,2000)\n",
    "ts = np.sin(t)  #generate a simple time series\n",
    "\n",
    "from teaspoon.SP.information.entropy import PE\n",
    "h = PE(ts, n = 6, tau = 15, normalize = True)\n",
    "print('Permutation entropy: ', h)"
   ]
  },
  {
   "cell_type": "code",
   "execution_count": null,
   "metadata": {},
   "outputs": [],
   "source": [
    "import numpy as np\n",
    "t = np.linspace(0,100,2000)\n",
    "ts = np.sin(t)  #generate a simple time series\n",
    "\n",
    "from teaspoon.SP.information.entropy import MsPE\n",
    "delays,H = MsPE(ts, n = 6, delay_end = 40, normalize = True)\n",
    "\n",
    "import matplotlib.pyplot as plt\n",
    "plt.figure(2)\n",
    "TextSize = 17\n",
    "plt.figure(figsize=(8,3))\n",
    "plt.plot(delays, H, marker = '.')\n",
    "plt.xticks(size = TextSize)\n",
    "plt.yticks(size = TextSize)\n",
    "plt.ylabel(r'$h(3)$', size = TextSize)\n",
    "plt.xlabel(r'$\\tau$', size = TextSize)\n",
    "plt.show()"
   ]
  },
  {
   "cell_type": "markdown",
   "metadata": {},
   "source": [
    "### 4.2 Persistent Entropy"
   ]
  },
  {
   "cell_type": "code",
   "execution_count": null,
   "metadata": {},
   "outputs": [],
   "source": [
    "import numpy as np\n",
    "#generate a simple time series with noise\n",
    "t = np.linspace(0,20,200)\n",
    "ts = np.sin(t) +np.random.normal(0,0.1,len(t))\n",
    "\n",
    "from teaspoon.SP.tsa_tools import takens\n",
    "#embed the time series into 2 dimension space using takens embedding\n",
    "embedded_ts = takens(ts, n = 2, tau = 15)\n",
    "\n",
    "from ripser import ripser\n",
    "#calculate the rips filtration persistent homology\n",
    "result = ripser(embedded_ts, maxdim=1)\n",
    "diagram = result['dgms']\n",
    "\n",
    "#--------------------Plot embedding and persistence diagram---------------\n",
    "import matplotlib.pyplot as plt\n",
    "import matplotlib.gridspec as gridspec\n",
    "gs = gridspec.GridSpec(1, 2)\n",
    "plt.figure(figsize = (12,5))\n",
    "TextSize = 17\n",
    "MS = 4\n",
    "\n",
    "ax = plt.subplot(gs[0, 0])\n",
    "plt.yticks( size = TextSize)\n",
    "plt.xticks(size = TextSize)\n",
    "plt.xlabel(r'$x(t)$', size = TextSize)\n",
    "plt.ylabel(r'$x(t+\\tau)$', size = TextSize)\n",
    "plt.plot(embedded_ts.T[0], embedded_ts.T[1], 'k.')\n",
    "\n",
    "ax = plt.subplot(gs[0, 1])\n",
    "top = max(diagram[1].T[1])\n",
    "plt.plot([0,top*1.25],[0,top*1.25],'k--')\n",
    "plt.yticks( size = TextSize)\n",
    "plt.xticks(size = TextSize)\n",
    "plt.xlabel('Birth', size = TextSize)\n",
    "plt.ylabel('Death', size = TextSize)\n",
    "plt.plot(diagram[1].T[0],diagram[1].T[1] ,'go', markersize = MS+2)\n",
    "\n",
    "plt.show()\n",
    "#-------------------------------------------------------------------------\n",
    "\n",
    "#get lifetimes (L) as difference between birth (B) and death (D) times\n",
    "B, D = diagram[1].T[0], diagram[1].T[1]\n",
    "L = D - B\n",
    "\n",
    "from teaspoon.SP.information.entropy import PersistentEntropy\n",
    "h = PersistentEntropy(lifetimes = L)\n",
    "\n",
    "print('Persistent entropy: ', h)"
   ]
  },
  {
   "cell_type": "code",
   "execution_count": null,
   "metadata": {},
   "outputs": [],
   "source": []
  },
  {
   "cell_type": "markdown",
   "metadata": {},
   "source": [
    "----\n",
    "---\n",
    "\n",
    "## 5. [Persistent Homology of Complex Networks Module](http://elizabethmunch.com/code/teaspoon/PHN.html)\n",
    "<br />\n",
    "<div align=\"center\"> \n",
    " <img src=\"figures/CN_fig.png\" style=\"width:300px;\">\n",
    "</div>"
   ]
  },
  {
   "cell_type": "markdown",
   "metadata": {},
   "source": [
    "### [Persistent Homology of Ordinal Partition Networks](http://elizabethmunch.com/code/teaspoon/network.html)"
   ]
  },
  {
   "cell_type": "markdown",
   "metadata": {},
   "source": [
    "### Periodic Example"
   ]
  },
  {
   "cell_type": "code",
   "execution_count": null,
   "metadata": {},
   "outputs": [],
   "source": [
    "#import needed packages\n",
    "import numpy as np\n",
    "from teaspoon.SP.network import ordinal_partition_graph\n",
    "from teaspoon.TDA.PHN import PH_network\n",
    "from teaspoon.SP.network_tools import make_network\n",
    "from teaspoon.parameter_selection.MsPE import MsPE_tau\n",
    "\n",
    "\n",
    "#generate time series\n",
    "import teaspoon.MakeData.DynSysLib.DynSysLib as DSL\n",
    "system = 'rossler'\n",
    "dynamic_state = 'periodic'\n",
    "t, solution = DSL.DynamicSystems(system, dynamic_state)\n",
    "ts = solution[1]\n",
    "\n",
    "\n",
    "#Get appropriate dimension and delay parameters for permutations\n",
    "tau = int(MsPE_tau(ts))\n",
    "n = 5\n",
    "\n",
    "#create adjacency matrix, this\n",
    "A = ordinal_partition_graph(ts, n, tau)\n",
    "\n",
    "#get networkx representation of network for plotting\n",
    "G, pos = make_network(A, position_iterations = 2000, remove_deg_zero_nodes = True)\n",
    "\n",
    "#create distance matrix and calculate persistence diagram\n",
    "D, diagram = PH_network(A, method = 'unweighted', distance = 'shortest_path')\n",
    "print('1-D Persistent Homology (loops): ', diagram[1])\n",
    "\n",
    "import matplotlib.pyplot as plt\n",
    "import matplotlib.gridspec as gridspec\n",
    "import networkx as nx\n",
    "\n",
    "TextSize = 14\n",
    "plt.figure(2)\n",
    "plt.figure(figsize=(8,8))\n",
    "gs = gridspec.GridSpec(4, 2)\n",
    "\n",
    "ax = plt.subplot(gs[0:2, 0:2]) #plot time series\n",
    "plt.title('Time Series', size = TextSize)\n",
    "plt.plot(ts, 'k')\n",
    "plt.xticks(size = TextSize)\n",
    "plt.yticks(size = TextSize)\n",
    "plt.xlabel('$t$', size = TextSize)\n",
    "plt.ylabel('$x(t)$', size = TextSize)\n",
    "plt.xlim(0,len(ts))\n",
    "\n",
    "ax = plt.subplot(gs[2:4, 0])\n",
    "plt.title('Network', size = TextSize)\n",
    "nx.draw(G, pos, with_labels=False, font_weight='bold', node_color='blue',\n",
    "        width=1, font_size = 10, node_size = 30)\n",
    "\n",
    "ax = plt.subplot(gs[2:4, 1])\n",
    "plt.title('Persistence Diagram', size = TextSize)\n",
    "MS = 3\n",
    "top = max(diagram[1].T[1])\n",
    "plt.plot([0,top*1.25],[0,top*1.25],'k--')\n",
    "plt.yticks( size = TextSize)\n",
    "plt.xticks(size = TextSize)\n",
    "plt.xlabel('Birth', size = TextSize)\n",
    "plt.ylabel('Death', size = TextSize)\n",
    "plt.plot(diagram[1].T[0],diagram[1].T[1] ,'go', markersize = MS+2)\n",
    "plt.xlim(0,top*1.25)\n",
    "plt.ylim(0,top*1.25)\n",
    "\n",
    "plt.subplots_adjust(hspace= 0.8)\n",
    "plt.subplots_adjust(wspace= 0.35)\n",
    "plt.show()"
   ]
  },
  {
   "cell_type": "markdown",
   "metadata": {},
   "source": [
    "### Chaotic Example"
   ]
  },
  {
   "cell_type": "code",
   "execution_count": null,
   "metadata": {},
   "outputs": [],
   "source": [
    "#import needed packages\n",
    "import numpy as np\n",
    "from teaspoon.SP.network import ordinal_partition_graph\n",
    "from teaspoon.TDA.PHN import PH_network\n",
    "from teaspoon.SP.network_tools import make_network\n",
    "from teaspoon.parameter_selection.MsPE import MsPE_tau\n",
    "\n",
    "\n",
    "#generate time series\n",
    "import teaspoon.MakeData.DynSysLib.DynSysLib as DSL\n",
    "system = 'rossler'\n",
    "dynamic_state = 'chaotic'\n",
    "t, solution = DSL.DynamicSystems(system, dynamic_state)\n",
    "ts = solution[0]\n",
    "\n",
    "\n",
    "#Get appropriate dimension and delay parameters for permutations\n",
    "tau = int(MsPE_tau(ts))\n",
    "n = 5\n",
    "\n",
    "#create adjacency matrix, this\n",
    "A = ordinal_partition_graph(ts, n, tau)\n",
    "\n",
    "#get networkx representation of network for plotting\n",
    "G, pos = make_network(A, position_iterations = 1000, remove_deg_zero_nodes = True)\n",
    "\n",
    "#create distance matrix and calculate persistence diagram\n",
    "D, diagram = PH_network(A, method = 'unweighted', distance = 'shortest_path')\n",
    "print('1-D Persistent Homology (loops): ', diagram[1])\n",
    "\n",
    "import matplotlib.pyplot as plt\n",
    "import matplotlib.gridspec as gridspec\n",
    "import networkx as nx\n",
    "\n",
    "TextSize = 14\n",
    "plt.figure(2)\n",
    "plt.figure(figsize=(8,8))\n",
    "gs = gridspec.GridSpec(4, 2)\n",
    "\n",
    "ax = plt.subplot(gs[0:2, 0:2]) #plot time series\n",
    "plt.title('Time Series', size = TextSize)\n",
    "plt.plot(ts, 'k')\n",
    "plt.xticks(size = TextSize)\n",
    "plt.yticks(size = TextSize)\n",
    "plt.xlabel('$t$', size = TextSize)\n",
    "plt.ylabel('$x(t)$', size = TextSize)\n",
    "plt.xlim(0,len(ts))\n",
    "\n",
    "ax = plt.subplot(gs[2:4, 0])\n",
    "plt.title('Network', size = TextSize)\n",
    "nx.draw(G, pos, with_labels=False, font_weight='bold', node_color='red',\n",
    "        width=1, font_size = 10, node_size = 30)\n",
    "\n",
    "ax = plt.subplot(gs[2:4, 1])\n",
    "plt.title('Persistence Diagram', size = TextSize)\n",
    "MS = 3\n",
    "top = max(diagram[1].T[1])\n",
    "plt.plot([0,top*1.25],[0,top*1.25],'k--')\n",
    "plt.yticks( size = TextSize)\n",
    "plt.xticks(size = TextSize)\n",
    "plt.xlabel('Birth', size = TextSize)\n",
    "plt.ylabel('Death', size = TextSize)\n",
    "plt.plot(diagram[1].T[0],diagram[1].T[1] ,'go', markersize = MS+2)\n",
    "plt.xlim(0,top*1.25)\n",
    "plt.ylim(0,top*1.25)\n",
    "\n",
    "plt.subplots_adjust(hspace= 0.8)\n",
    "plt.subplots_adjust(wspace= 0.35)\n",
    "plt.show()"
   ]
  },
  {
   "cell_type": "markdown",
   "metadata": {},
   "source": [
    "### [Persistent Homology of k-NN Networks](http://elizabethmunch.com/code/teaspoon/network.html)"
   ]
  },
  {
   "cell_type": "code",
   "execution_count": null,
   "metadata": {},
   "outputs": [],
   "source": [
    "#import needed packages\n",
    "import numpy as np\n",
    "from teaspoon.SP.network import knn_graph\n",
    "from teaspoon.TDA.PHN import PH_network\n",
    "from teaspoon.SP.network_tools import make_network\n",
    "from teaspoon.parameter_selection.MsPE import MsPE_tau\n",
    "\n",
    "#generate a siple sinusoidal time series\n",
    "t = np.linspace(0,30,300)\n",
    "ts = np.sin(t) + np.sin(2*t)\n",
    "\n",
    "#Get appropriate dimension and delay parameters for permutations\n",
    "tau = int(MsPE_tau(ts))\n",
    "n = 3\n",
    "\n",
    "#create adjacency matrix, this\n",
    "A = knn_graph(ts, n, tau, k = 4)\n",
    "\n",
    "#get networkx representation of network for plotting\n",
    "G, pos = make_network(A, position_iterations = 1000, remove_deg_zero_nodes = True)\n",
    "\n",
    "#create distance matrix and calculate persistence diagram\n",
    "D, diagram = PH_network(A, method = 'unweighted', distance = 'shortest_path')\n",
    "print('1-D Persistent Homology (loops): ', diagram[1])\n",
    "\n",
    "stats = point_summaries(diagram, A)\n",
    "print('Persistent homology of network statistics: ', stats)\n",
    "\n",
    "import matplotlib.pyplot as plt\n",
    "import matplotlib.gridspec as gridspec\n",
    "import networkx as nx\n",
    "\n",
    "TextSize = 14\n",
    "plt.figure(2)\n",
    "plt.figure(figsize=(8,8))\n",
    "gs = gridspec.GridSpec(4, 2)\n",
    "\n",
    "ax = plt.subplot(gs[0:2, 0:2]) #plot time series\n",
    "plt.title('Time Series', size = TextSize)\n",
    "plt.plot(ts, 'k')\n",
    "plt.xticks(size = TextSize)\n",
    "plt.yticks(size = TextSize)\n",
    "plt.xlabel('$t$', size = TextSize)\n",
    "plt.ylabel('$x(t)$', size = TextSize)\n",
    "plt.xlim(0,len(ts))\n",
    "\n",
    "ax = plt.subplot(gs[2:4, 0])\n",
    "plt.title('Network', size = TextSize)\n",
    "nx.draw(G, pos, with_labels=False, font_weight='bold', node_color='blue',\n",
    "        width=1, font_size = 10, node_size = 30)\n",
    "\n",
    "ax = plt.subplot(gs[2:4, 1])\n",
    "plt.title('Persistence Diagram', size = TextSize)\n",
    "MS = 3\n",
    "top = max(diagram[1].T[1])\n",
    "plt.plot([0,top*1.25],[0,top*1.25],'k--')\n",
    "plt.yticks( size = TextSize)\n",
    "plt.xticks(size = TextSize)\n",
    "plt.xlabel('Birth', size = TextSize)\n",
    "plt.ylabel('Death', size = TextSize)\n",
    "plt.plot(diagram[1].T[0],diagram[1].T[1] ,'go', markersize = MS+2)\n",
    "plt.xlim(0,top*1.25)\n",
    "plt.ylim(0,top*1.25)\n",
    "\n",
    "plt.subplots_adjust(hspace= 0.8)\n",
    "plt.subplots_adjust(wspace= 0.35)\n",
    "plt.show()"
   ]
  },
  {
   "cell_type": "code",
   "execution_count": null,
   "metadata": {},
   "outputs": [],
   "source": []
  },
  {
   "cell_type": "markdown",
   "metadata": {},
   "source": [
    "----\n",
    "---\n",
    "\n",
    "## 5. [Machine Learning Module](http://elizabethmunch.com/code/teaspoon/ML.html)\n",
    "<br />\n",
    "<div align=\"center\"> \n",
    " <img src=\"figures/ML_fig.png\" style=\"width:300px;\">\n",
    "</div>"
   ]
  },
  {
   "cell_type": "markdown",
   "metadata": {},
   "source": [
    "### [Featurization](http://elizabethmunch.com/code/teaspoon/F_PD.html)"
   ]
  },
  {
   "cell_type": "markdown",
   "metadata": {},
   "source": [
    "**Persistent Landscapes**"
   ]
  },
  {
   "cell_type": "code",
   "execution_count": null,
   "metadata": {},
   "outputs": [],
   "source": [
    "import teaspoon.ML.feature_functions as Ff\n",
    "from teaspoon.MakeData.PointCloud import testSetManifolds\n",
    "# generate persistence diagrams\n",
    "df = testSetManifolds(numDgms = 50, numPts = 100)\n",
    "Diagrams_H1 = df['Dgm1']\n",
    "# Compute the persistence landscapes\n",
    "PLC = Ff.PLandscape(Diagrams_H1[0])\n",
    "print(PLC.PL_number)\n",
    "print(PLC.AllPL)\n",
    "PLC  = PLandscape(Diagrams_H1[0],[2,3])\n",
    "print(PLC.DesPL)"
   ]
  },
  {
   "cell_type": "code",
   "execution_count": null,
   "metadata": {},
   "outputs": [],
   "source": [
    "PLC  = PLandscape(Diagrams_H1[0],[2,3])\n",
    "PLC.PLandscape_plot(points['Points'])   "
   ]
  },
  {
   "cell_type": "markdown",
   "metadata": {},
   "source": [
    "**Persistence Images**\n",
    "\n",
    "Images are computed using [PersistenceImages](https://gitlab.com/csu-tda/PersistenceImages) package."
   ]
  },
  {
   "cell_type": "code",
   "execution_count": null,
   "metadata": {},
   "outputs": [],
   "source": [
    "import teaspoon.ML.feature_functions as Ff\n",
    "from teaspoon.MakeData.PointCloud import testSetManifolds\n",
    "\n",
    "# generate persistence diagrams\n",
    "df = testSetManifolds(numDgms = 50, numPts = 100)\n",
    "Diagrams_H1= df['Dgm1'].sort_index().values\n",
    "\n",
    "TF_Learning = False\n",
    "D_Img=[1,75]\n",
    "plot=False\n",
    "feature_PI = Ff.F_Image(Diagrams_H1,0.01,0.15,plot,TF_Learning, D_Img)\n",
    "# if user wants to plot images\n",
    "plot=True\n",
    "feature_PI = Ff.F_Image(Diagrams_H1,0.01,0.15,plot,TF_Learning, D_Img)\n",
    "fig = feature_PI['figures']"
   ]
  },
  {
   "cell_type": "markdown",
   "metadata": {},
   "source": [
    "**Carlsson Coordinates**"
   ]
  },
  {
   "cell_type": "code",
   "execution_count": null,
   "metadata": {},
   "outputs": [],
   "source": [
    "import teaspoon.ML.feature_functions as Ff\n",
    "from teaspoon.MakeData.PointCloud import testSetManifolds\n",
    "# generate persistence diagrams\n",
    "df = testSetManifolds(numDgms = 50, numPts = 100)\n",
    "Diagrams_H1= df['Dgm1'].sort_index().values\n",
    "FN=3\n",
    "FeatureMatrix,TotalNumComb,CombList = Ff.F_CCoordinates(Diagrams_H1,FN)\n",
    "print(TotalNumComb)"
   ]
  },
  {
   "cell_type": "markdown",
   "metadata": {},
   "source": [
    "**Path Signatures**"
   ]
  },
  {
   "cell_type": "code",
   "execution_count": null,
   "metadata": {},
   "outputs": [],
   "source": [
    "import numpy as np\n",
    "import teaspoon.ML.feature_functions as Ff\n",
    "from teaspoon.MakeData.PointCloud import testSetManifolds\n",
    "# generate persistence diagrams\n",
    "df = testSetManifolds(numDgms = 1, numPts = 100)\n",
    "Diagrams_H1= df['Dgm1'].sort_index().values\n",
    "#compute persistence landscapes\n",
    "PerLand=np.ndarray(shape=(6),dtype=object)\n",
    "for i in range(0, 6):\n",
    "    Land=Ff.PLandscape(Diagrams_H1[i])\n",
    "    PerLand[i]=Land.AllP\n",
    "#choose landscape number for which feature matrix will be computed\n",
    "L_number = [2]\n",
    "#compute feature matrix\n",
    "feature_PS = Ff.F_PSignature(PerLand,L_number)"
   ]
  },
  {
   "cell_type": "markdown",
   "metadata": {},
   "source": [
    "**Kernel Method**"
   ]
  },
  {
   "cell_type": "code",
   "execution_count": 1,
   "metadata": {},
   "outputs": [
    {
     "ename": "ModuleNotFoundError",
     "evalue": "No module named 'scipy.spatial.distance'",
     "output_type": "error",
     "traceback": [
      "\u001b[1;31m---------------------------------------------------------------------------\u001b[0m",
      "\u001b[1;31mModuleNotFoundError\u001b[0m                       Traceback (most recent call last)",
      "\u001b[1;32m<ipython-input-1-bee5ac1ae17b>\u001b[0m in \u001b[0;36m<module>\u001b[1;34m\u001b[0m\n\u001b[0;32m      1\u001b[0m \u001b[1;32mimport\u001b[0m \u001b[0mteaspoon\u001b[0m\u001b[1;33m.\u001b[0m\u001b[0mML\u001b[0m\u001b[1;33m.\u001b[0m\u001b[0mfeature_functions\u001b[0m \u001b[1;32mas\u001b[0m \u001b[0mFf\u001b[0m\u001b[1;33m\u001b[0m\u001b[1;33m\u001b[0m\u001b[0m\n\u001b[1;32m----> 2\u001b[1;33m \u001b[1;32mfrom\u001b[0m \u001b[0mteaspoon\u001b[0m\u001b[1;33m.\u001b[0m\u001b[0mMakeData\u001b[0m\u001b[1;33m.\u001b[0m\u001b[0mPointCloud\u001b[0m \u001b[1;32mimport\u001b[0m \u001b[0mtestSetManifolds\u001b[0m\u001b[1;33m\u001b[0m\u001b[1;33m\u001b[0m\u001b[0m\n\u001b[0m\u001b[0;32m      3\u001b[0m \u001b[1;31m# generate persistence diagrams\u001b[0m\u001b[1;33m\u001b[0m\u001b[1;33m\u001b[0m\u001b[1;33m\u001b[0m\u001b[0m\n\u001b[0;32m      4\u001b[0m \u001b[0mdf\u001b[0m \u001b[1;33m=\u001b[0m \u001b[0mtestSetManifolds\u001b[0m\u001b[1;33m(\u001b[0m\u001b[0mnumDgms\u001b[0m \u001b[1;33m=\u001b[0m \u001b[1;36m1\u001b[0m\u001b[1;33m,\u001b[0m \u001b[0mnumPts\u001b[0m \u001b[1;33m=\u001b[0m \u001b[1;36m100\u001b[0m\u001b[1;33m)\u001b[0m\u001b[1;33m\u001b[0m\u001b[1;33m\u001b[0m\u001b[0m\n\u001b[0;32m      5\u001b[0m \u001b[0mDiagrams_H1\u001b[0m \u001b[1;33m=\u001b[0m \u001b[0mdf\u001b[0m\u001b[1;33m[\u001b[0m\u001b[1;34m'Dgm1'\u001b[0m\u001b[1;33m]\u001b[0m\u001b[1;33m\u001b[0m\u001b[1;33m\u001b[0m\u001b[0m\n",
      "\u001b[1;32mC:\\ProgramData\\Anaconda3\\lib\\site-packages\\teaspoon\\MakeData\\PointCloud.py\u001b[0m in \u001b[0;36m<module>\u001b[1;34m\u001b[0m\n\u001b[0;32m      9\u001b[0m \u001b[1;32mimport\u001b[0m \u001b[0mpandas\u001b[0m \u001b[1;32mas\u001b[0m \u001b[0mpd\u001b[0m\u001b[1;33m\u001b[0m\u001b[1;33m\u001b[0m\u001b[0m\n\u001b[0;32m     10\u001b[0m \u001b[1;31m#import teaspoon.TDA.Persistence as pP\u001b[0m\u001b[1;33m\u001b[0m\u001b[1;33m\u001b[0m\u001b[1;33m\u001b[0m\u001b[0m\n\u001b[1;32m---> 11\u001b[1;33m \u001b[1;32mfrom\u001b[0m \u001b[0mteaspoon\u001b[0m\u001b[1;33m.\u001b[0m\u001b[0mTDA\u001b[0m \u001b[1;32mimport\u001b[0m \u001b[0mPersistence\u001b[0m \u001b[1;32mas\u001b[0m \u001b[0mpP\u001b[0m\u001b[1;33m\u001b[0m\u001b[1;33m\u001b[0m\u001b[0m\n\u001b[0m\u001b[0;32m     12\u001b[0m \u001b[1;32mfrom\u001b[0m \u001b[0mscipy\u001b[0m\u001b[1;33m.\u001b[0m\u001b[0mspatial\u001b[0m\u001b[1;33m.\u001b[0m\u001b[0mdistance\u001b[0m \u001b[1;32mimport\u001b[0m \u001b[0meuclidean\u001b[0m\u001b[1;33m\u001b[0m\u001b[1;33m\u001b[0m\u001b[0m\n\u001b[0;32m     13\u001b[0m \u001b[1;33m\u001b[0m\u001b[0m\n",
      "\u001b[1;32mC:\\ProgramData\\Anaconda3\\lib\\site-packages\\teaspoon\\TDA\\Persistence.py\u001b[0m in \u001b[0;36m<module>\u001b[1;34m\u001b[0m\n\u001b[0;32m     23\u001b[0m \u001b[1;32mimport\u001b[0m \u001b[0msubprocess\u001b[0m\u001b[1;33m\u001b[0m\u001b[1;33m\u001b[0m\u001b[0m\n\u001b[0;32m     24\u001b[0m \u001b[1;32mfrom\u001b[0m \u001b[0msubprocess\u001b[0m \u001b[1;32mimport\u001b[0m \u001b[0mDEVNULL\u001b[0m\u001b[1;33m,\u001b[0m \u001b[0mSTDOUT\u001b[0m\u001b[1;33m,\u001b[0m \u001b[0mcall\u001b[0m\u001b[1;33m\u001b[0m\u001b[1;33m\u001b[0m\u001b[0m\n\u001b[1;32m---> 25\u001b[1;33m \u001b[1;32mfrom\u001b[0m \u001b[0mscipy\u001b[0m\u001b[1;33m.\u001b[0m\u001b[0mspatial\u001b[0m\u001b[1;33m.\u001b[0m\u001b[0mdistance\u001b[0m \u001b[1;32mimport\u001b[0m \u001b[0mpdist\u001b[0m\u001b[1;33m,\u001b[0m \u001b[0msquareform\u001b[0m\u001b[1;33m\u001b[0m\u001b[1;33m\u001b[0m\u001b[0m\n\u001b[0m\u001b[0;32m     26\u001b[0m \u001b[1;32mimport\u001b[0m \u001b[0mglob\u001b[0m\u001b[1;33m\u001b[0m\u001b[1;33m\u001b[0m\u001b[0m\n\u001b[0;32m     27\u001b[0m \u001b[1;32mimport\u001b[0m \u001b[0mwarnings\u001b[0m\u001b[1;33m\u001b[0m\u001b[1;33m\u001b[0m\u001b[0m\n",
      "\u001b[1;31mModuleNotFoundError\u001b[0m: No module named 'scipy.spatial.distance'"
     ]
    }
   ],
   "source": [
    "import teaspoon.ML.feature_functions as Ff\n",
    "from teaspoon.MakeData.PointCloud import testSetManifolds\n",
    "# generate persistence diagrams\n",
    "df = testSetManifolds(numDgms = 1, numPts = 100)\n",
    "Diagrams_H1 = df['Dgm1']\n",
    "#compute kernel between two persistence diagram\n",
    "sigma=0.25\n",
    "kernel = Ff.KernelMethod(Diagrams_H1[0], Diagrams_H1[1], sigma)\n",
    "print(kernel)"
   ]
  },
  {
   "cell_type": "markdown",
   "metadata": {},
   "source": [
    "### [Classification](http://elizabethmunch.com/code/teaspoon/CL.html)"
   ]
  },
  {
   "cell_type": "markdown",
   "metadata": {},
   "source": [
    "**Persistent Landscapes**"
   ]
  },
  {
   "cell_type": "code",
   "execution_count": 4,
   "metadata": {},
   "outputs": [
    {
     "ename": "ModuleNotFoundError",
     "evalue": "No module named 'teaspoon.ML.PD_Classification'",
     "output_type": "error",
     "traceback": [
      "\u001b[1;31m---------------------------------------------------------------------------\u001b[0m",
      "\u001b[1;31mModuleNotFoundError\u001b[0m                       Traceback (most recent call last)",
      "\u001b[1;32m<ipython-input-4-4c1714c06986>\u001b[0m in \u001b[0;36m<module>\u001b[1;34m\u001b[0m\n\u001b[0;32m      1\u001b[0m \u001b[1;32mimport\u001b[0m \u001b[0mnumpy\u001b[0m \u001b[1;32mas\u001b[0m \u001b[0mnp\u001b[0m\u001b[1;33m\u001b[0m\u001b[1;33m\u001b[0m\u001b[0m\n\u001b[0;32m      2\u001b[0m \u001b[1;32mimport\u001b[0m \u001b[0mteaspoon\u001b[0m\u001b[1;33m.\u001b[0m\u001b[0mML\u001b[0m\u001b[1;33m.\u001b[0m\u001b[0mfeature_functions\u001b[0m \u001b[1;32mas\u001b[0m \u001b[0mFf\u001b[0m\u001b[1;33m\u001b[0m\u001b[1;33m\u001b[0m\u001b[0m\n\u001b[1;32m----> 3\u001b[1;33m \u001b[1;32mimport\u001b[0m \u001b[0mteaspoon\u001b[0m\u001b[1;33m.\u001b[0m\u001b[0mML\u001b[0m\u001b[1;33m.\u001b[0m\u001b[0mPD_Classification\u001b[0m \u001b[1;32mas\u001b[0m \u001b[0mPD_CL\u001b[0m\u001b[1;33m\u001b[0m\u001b[1;33m\u001b[0m\u001b[0m\n\u001b[0m\u001b[0;32m      4\u001b[0m \u001b[1;32mfrom\u001b[0m \u001b[0mteaspoon\u001b[0m\u001b[1;33m.\u001b[0m\u001b[0mML\u001b[0m\u001b[1;33m.\u001b[0m\u001b[0mBase\u001b[0m \u001b[1;32mimport\u001b[0m \u001b[0mLandscapesParameterBucket\u001b[0m\u001b[1;33m\u001b[0m\u001b[1;33m\u001b[0m\u001b[0m\n\u001b[0;32m      5\u001b[0m \u001b[1;32mfrom\u001b[0m \u001b[0mteaspoon\u001b[0m\u001b[1;33m.\u001b[0m\u001b[0mMakeData\u001b[0m\u001b[1;33m.\u001b[0m\u001b[0mPointCloud\u001b[0m \u001b[1;32mimport\u001b[0m \u001b[0mtestSetManifolds\u001b[0m\u001b[1;33m\u001b[0m\u001b[1;33m\u001b[0m\u001b[0m\n",
      "\u001b[1;31mModuleNotFoundError\u001b[0m: No module named 'teaspoon.ML.PD_Classification'"
     ]
    }
   ],
   "source": [
    "import numpy as np\n",
    "import teaspoon.ML.feature_functions as Ff\n",
    "import teaspoon.ML.PD_Classification as PD_CL\n",
    "from teaspoon.ML.Base import LandscapesParameterBucket\n",
    "from teaspoon.MakeData.PointCloud import testSetManifolds\n",
    "from sklearn.svm import SVC\n",
    "# generate persistence diagrams\n",
    "df = testSetManifolds(numDgms = 10, numPts = 100)\n",
    "Diagrams_H1= df['Dgm1'].sort_index().values\n",
    "Labels = df['trainingLabel'].sort_index().values\n",
    "#parameters for classification\n",
    "params = LandscapesParameterBucket()\n",
    "params.clf_model = SVC\n",
    "params.test_size = 0.33\n",
    "params.Labels = Labels\n",
    "params.PL_Number = [1,2,3,4,5,6,7,8]\n",
    "print(params)\n",
    "# Compute the persistence landscapes\n",
    "PerLand=np.ndarray(shape=(60),dtype=object)\n",
    "for i in range(0, 60):\n",
    "    Land=Ff.PLandscape(Diagrams_H1[i])\n",
    "    PerLand[i]=Land.AllPL\n",
    "# Perform classification\n",
    "result = PD_CL.CL_PL(PerLand,params)"
   ]
  },
  {
   "cell_type": "markdown",
   "metadata": {},
   "source": [
    "**Persistence Images**"
   ]
  },
  {
   "cell_type": "code",
   "execution_count": null,
   "metadata": {},
   "outputs": [],
   "source": [
    "import numpy as np\n",
    "import teaspoon.ML.feature_functions as Ff\n",
    "import teaspoon.ML.PD_Classification as CL_PD\n",
    "from teaspoon.ML.Base import CL_ParameterBucket\n",
    "from teaspoon.MakeData.PointCloud import testSetManifolds\n",
    "from sklearn.svm import SVC\n",
    "# generate two sets of persistence diagrams\n",
    "df_1 = testSetManifolds(numDgms = 10, numPts = 100)\n",
    "df_2 = testSetManifolds(numDgms = 10, numPts = 100)\n",
    "Diagrams_H1_1= df_1['Dgm1'].sort_index().values\n",
    "Diagrams_H1_2= df_2['Dgm1'].sort_index().values\n",
    "Labels_1 = df_1['trainingLabel'].sort_index().values\n",
    "Labels_2 = df_2['trainingLabel'].sort_index().values\n",
    "# classification without using transfer learning\n",
    "TF_Learning = False\n",
    "plot = False\n",
    "D_Img=[]\n",
    "#classification parameters\n",
    "params = CL_ParameterBucket()\n",
    "params.clf_model = SVC\n",
    "params.test_size =0.33\n",
    "params.Labels = Labels_1\n",
    "print(params)\n",
    "F_Images =Ff.F_Image(Diagrams_H1_1,0.1,0.10,plot,TF_Learning,D_Img)\n",
    "results = CL_PD.CL_PI(F_Images['F_Matrix'],params)"
   ]
  },
  {
   "cell_type": "markdown",
   "metadata": {},
   "source": [
    "Classification using transfer learning"
   ]
  },
  {
   "cell_type": "code",
   "execution_count": 5,
   "metadata": {},
   "outputs": [
    {
     "ename": "AttributeError",
     "evalue": "module 'teaspoon.ML.feature_functions' has no attribute 'F_Image'",
     "output_type": "error",
     "traceback": [
      "\u001b[1;31m---------------------------------------------------------------------------\u001b[0m",
      "\u001b[1;31mAttributeError\u001b[0m                            Traceback (most recent call last)",
      "\u001b[1;32m<ipython-input-5-bf19505b8fff>\u001b[0m in \u001b[0;36m<module>\u001b[1;34m\u001b[0m\n\u001b[0;32m      1\u001b[0m \u001b[0mTF_Learning\u001b[0m \u001b[1;33m=\u001b[0m\u001b[1;32mTrue\u001b[0m\u001b[1;33m\u001b[0m\u001b[1;33m\u001b[0m\u001b[0m\n\u001b[1;32m----> 2\u001b[1;33m \u001b[0mF_Images_2\u001b[0m \u001b[1;33m=\u001b[0m \u001b[0mFf\u001b[0m\u001b[1;33m.\u001b[0m\u001b[0mF_Image\u001b[0m\u001b[1;33m(\u001b[0m\u001b[0mDiagrams_H1_1\u001b[0m\u001b[1;33m,\u001b[0m\u001b[1;36m0.1\u001b[0m\u001b[1;33m,\u001b[0m\u001b[1;36m0.10\u001b[0m\u001b[1;33m,\u001b[0m\u001b[0mplot\u001b[0m\u001b[1;33m,\u001b[0m\u001b[0mTF_Learning\u001b[0m\u001b[1;33m,\u001b[0m\u001b[0mD_Img\u001b[0m\u001b[1;33m,\u001b[0m\u001b[0mDiagrams_H1_2\u001b[0m\u001b[1;33m)\u001b[0m\u001b[1;33m\u001b[0m\u001b[1;33m\u001b[0m\u001b[0m\n\u001b[0m\u001b[0;32m      3\u001b[0m \u001b[0mparams\u001b[0m \u001b[1;33m=\u001b[0m \u001b[0mCL_ParameterBucket\u001b[0m\u001b[1;33m(\u001b[0m\u001b[1;33m)\u001b[0m\u001b[1;33m\u001b[0m\u001b[1;33m\u001b[0m\u001b[0m\n\u001b[0;32m      4\u001b[0m \u001b[0mparams\u001b[0m\u001b[1;33m.\u001b[0m\u001b[0mclf_model\u001b[0m \u001b[1;33m=\u001b[0m \u001b[0mSVC\u001b[0m\u001b[1;33m\u001b[0m\u001b[1;33m\u001b[0m\u001b[0m\n\u001b[0;32m      5\u001b[0m \u001b[0mparams\u001b[0m\u001b[1;33m.\u001b[0m\u001b[0mtest_size\u001b[0m \u001b[1;33m=\u001b[0m\u001b[1;36m0.33\u001b[0m\u001b[1;33m\u001b[0m\u001b[1;33m\u001b[0m\u001b[0m\n",
      "\u001b[1;31mAttributeError\u001b[0m: module 'teaspoon.ML.feature_functions' has no attribute 'F_Image'"
     ]
    }
   ],
   "source": [
    "TF_Learning =True\n",
    "F_Images_2 = Ff.F_Image(Diagrams_H1_1,0.1,0.10,plot,TF_Learning,D_Img,Diagrams_H1_2)\n",
    "params = CL_ParameterBucket()\n",
    "params.clf_model = SVC\n",
    "params.test_size =0.33\n",
    "params.training_labels = Labels_1\n",
    "params.test_labels = Labels_2\n",
    "params.TF_Learning  = True\n",
    "print(params)\n",
    "results = CL_PD.CL_PI(F_Images_2['F_train'],params,F_Images_2['F_test'])"
   ]
  },
  {
   "cell_type": "markdown",
   "metadata": {},
   "source": [
    "**Carlsson Coordinates**"
   ]
  },
  {
   "cell_type": "code",
   "execution_count": 6,
   "metadata": {},
   "outputs": [
    {
     "ename": "ModuleNotFoundError",
     "evalue": "No module named 'teaspoon.ML.PD_Classification'",
     "output_type": "error",
     "traceback": [
      "\u001b[1;31m---------------------------------------------------------------------------\u001b[0m",
      "\u001b[1;31mModuleNotFoundError\u001b[0m                       Traceback (most recent call last)",
      "\u001b[1;32m<ipython-input-6-f7463e322bc7>\u001b[0m in \u001b[0;36m<module>\u001b[1;34m\u001b[0m\n\u001b[0;32m      1\u001b[0m \u001b[1;32mimport\u001b[0m \u001b[0mnumpy\u001b[0m \u001b[1;32mas\u001b[0m \u001b[0mnp\u001b[0m\u001b[1;33m\u001b[0m\u001b[1;33m\u001b[0m\u001b[0m\n\u001b[0;32m      2\u001b[0m \u001b[1;32mimport\u001b[0m \u001b[0mteaspoon\u001b[0m\u001b[1;33m.\u001b[0m\u001b[0mML\u001b[0m\u001b[1;33m.\u001b[0m\u001b[0mfeature_functions\u001b[0m \u001b[1;32mas\u001b[0m \u001b[0mFf\u001b[0m\u001b[1;33m\u001b[0m\u001b[1;33m\u001b[0m\u001b[0m\n\u001b[1;32m----> 3\u001b[1;33m \u001b[1;32mimport\u001b[0m \u001b[0mteaspoon\u001b[0m\u001b[1;33m.\u001b[0m\u001b[0mML\u001b[0m\u001b[1;33m.\u001b[0m\u001b[0mPD_Classification\u001b[0m \u001b[1;32mas\u001b[0m \u001b[0mCL_PD\u001b[0m\u001b[1;33m\u001b[0m\u001b[1;33m\u001b[0m\u001b[0m\n\u001b[0m\u001b[0;32m      4\u001b[0m \u001b[1;32mfrom\u001b[0m \u001b[0mteaspoon\u001b[0m\u001b[1;33m.\u001b[0m\u001b[0mML\u001b[0m\u001b[1;33m.\u001b[0m\u001b[0mBase\u001b[0m \u001b[1;32mimport\u001b[0m \u001b[0mCL_ParameterBucket\u001b[0m\u001b[1;33m\u001b[0m\u001b[1;33m\u001b[0m\u001b[0m\n\u001b[0;32m      5\u001b[0m \u001b[1;32mfrom\u001b[0m \u001b[0mteaspoon\u001b[0m\u001b[1;33m.\u001b[0m\u001b[0mMakeData\u001b[0m\u001b[1;33m.\u001b[0m\u001b[0mPointCloud\u001b[0m \u001b[1;32mimport\u001b[0m \u001b[0mtestSetManifolds\u001b[0m\u001b[1;33m\u001b[0m\u001b[1;33m\u001b[0m\u001b[0m\n",
      "\u001b[1;31mModuleNotFoundError\u001b[0m: No module named 'teaspoon.ML.PD_Classification'"
     ]
    }
   ],
   "source": [
    "import numpy as np\n",
    "import teaspoon.ML.feature_functions as Ff\n",
    "import teaspoon.ML.PD_Classification as CL_PD\n",
    "from teaspoon.ML.Base import CL_ParameterBucket\n",
    "from teaspoon.MakeData.PointCloud import testSetManifolds\n",
    "from sklearn.svm import SVC\n",
    "# generate two sets of persistence diagrams\n",
    "df_1 = testSetManifolds(numDgms = 10, numPts = 100)\n",
    "df_2 = testSetManifolds(numDgms = 10, numPts = 100)\n",
    "Diagrams_H1_1= df_1['Dgm1'].sort_index().values\n",
    "Diagrams_H1_2= df_2['Dgm1'].sort_index().values\n",
    "# labels\n",
    "Labels_1 = df_1['trainingLabel'].sort_index().values\n",
    "Labels_2 = df_2['trainingLabel'].sort_index().values\n",
    "# parameters used in classification without transfer learning\n",
    "params = CL_ParameterBucket()\n",
    "params.clf_model = SVC\n",
    "params.test_size =0.33\n",
    "params.Labels = Labels_1\n",
    "params.TF_Learning =False\n",
    "params.FN = 5\n",
    "print(params)\n",
    "results = CL_PD.CL_CC(Diagrams_H1_1,params)"
   ]
  },
  {
   "cell_type": "markdown",
   "metadata": {},
   "source": [
    "Classification using transfer learning"
   ]
  },
  {
   "cell_type": "code",
   "execution_count": 7,
   "metadata": {},
   "outputs": [
    {
     "ename": "NameError",
     "evalue": "name 'CL_ParameterBucket' is not defined",
     "output_type": "error",
     "traceback": [
      "\u001b[1;31m---------------------------------------------------------------------------\u001b[0m",
      "\u001b[1;31mNameError\u001b[0m                                 Traceback (most recent call last)",
      "\u001b[1;32m<ipython-input-7-4cb764425d6e>\u001b[0m in \u001b[0;36m<module>\u001b[1;34m\u001b[0m\n\u001b[0;32m      1\u001b[0m \u001b[1;31m# parameters used in classification with transfer learning\u001b[0m\u001b[1;33m\u001b[0m\u001b[1;33m\u001b[0m\u001b[1;33m\u001b[0m\u001b[0m\n\u001b[1;32m----> 2\u001b[1;33m \u001b[0mparams\u001b[0m \u001b[1;33m=\u001b[0m \u001b[0mCL_ParameterBucket\u001b[0m\u001b[1;33m(\u001b[0m\u001b[1;33m)\u001b[0m\u001b[1;33m\u001b[0m\u001b[1;33m\u001b[0m\u001b[0m\n\u001b[0m\u001b[0;32m      3\u001b[0m \u001b[0mparams\u001b[0m\u001b[1;33m.\u001b[0m\u001b[0mclf_model\u001b[0m \u001b[1;33m=\u001b[0m \u001b[0mSVC\u001b[0m\u001b[1;33m\u001b[0m\u001b[1;33m\u001b[0m\u001b[0m\n\u001b[0;32m      4\u001b[0m \u001b[0mparams\u001b[0m\u001b[1;33m.\u001b[0m\u001b[0mtest_size\u001b[0m \u001b[1;33m=\u001b[0m\u001b[1;36m0.33\u001b[0m\u001b[1;33m\u001b[0m\u001b[1;33m\u001b[0m\u001b[0m\n\u001b[0;32m      5\u001b[0m \u001b[0mparams\u001b[0m\u001b[1;33m.\u001b[0m\u001b[0mtraining_labels\u001b[0m \u001b[1;33m=\u001b[0m \u001b[0mLabels_1\u001b[0m\u001b[1;33m\u001b[0m\u001b[1;33m\u001b[0m\u001b[0m\n",
      "\u001b[1;31mNameError\u001b[0m: name 'CL_ParameterBucket' is not defined"
     ]
    }
   ],
   "source": [
    "# parameters used in classification with transfer learning\n",
    "params = CL_ParameterBucket()\n",
    "params.clf_model = SVC\n",
    "params.test_size =0.33\n",
    "params.training_labels = Labels_1\n",
    "params.test_labels = Labels_2\n",
    "params.TF_Learning =True\n",
    "params.FN = 5\n",
    "print(params)\n",
    "results = CL_PD.CL_CC(Diagrams_H1_1,params,Diagrams_H1_2)"
   ]
  },
  {
   "cell_type": "markdown",
   "metadata": {},
   "source": [
    "**Path Signatures**"
   ]
  },
  {
   "cell_type": "code",
   "execution_count": null,
   "metadata": {},
   "outputs": [],
   "source": [
    "import numpy as np\n",
    "import teaspoon.ML.feature_functions as Ff\n",
    "import teaspoon.ML.PD_Classification as CL_PD\n",
    "from teaspoon.ML.Base import CL_ParameterBucket\n",
    "from teaspoon.MakeData.PointCloud import testSetManifolds\n",
    "from sklearn.svm import SVC\n",
    "# generate two sets of persistence diagrams\n",
    "df_1 = testSetManifolds(numDgms = 5, numPts = 100)\n",
    "df_2 = testSetManifolds(numDgms = 5, numPts = 100)\n",
    "Diagrams_H1_1= df_1['Dgm1'].sort_index().values\n",
    "Diagrams_H1_2= df_2['Dgm1'].sort_index().values\n",
    "# labels\n",
    "Labels_1 = df_1['trainingLabel'].sort_index().values\n",
    "Labels_2 = df_2['trainingLabel'].sort_index().values\n",
    "#compute persistence landscapes for both sets of persistence diagram\n",
    "PerLand1=np.ndarray(shape=(60),dtype=object)\n",
    "PerLand2=np.ndarray(shape=(60),dtype=object)\n",
    "for i in range(0, 30):\n",
    "    Land=Ff.PLandscape(Diagrams_H1_1[i])\n",
    "    PerLand1[i]=Land.AllPL\n",
    "    Land=Ff.PLandscape(Diagrams_H1_2[i])\n",
    "    PerLand2[i]=Land.AllPL\n",
    "# compute features using first landscapes\n",
    "features1 = Ff.F_PSignature(PerLand1,L_Number=[1])\n",
    "features2 = Ff.F_PSignature(PerLand2,L_Number=[1])\n",
    "# traditional classification\n",
    "# adjust parameters\n",
    "params = CL_ParameterBucket()\n",
    "params.clf_model = SVC\n",
    "params.test_size =0.33\n",
    "params.Labels = Labels1\n",
    "params.TF_Learning = False\n",
    "print(params)\n",
    "results = CL_PS(features,params)"
   ]
  },
  {
   "cell_type": "markdown",
   "metadata": {},
   "source": [
    "Classification using transfer learning"
   ]
  },
  {
   "cell_type": "code",
   "execution_count": 10,
   "metadata": {},
   "outputs": [
    {
     "ename": "NameError",
     "evalue": "name 'CL_ParameterBucket' is not defined",
     "output_type": "error",
     "traceback": [
      "\u001b[1;31m---------------------------------------------------------------------------\u001b[0m",
      "\u001b[1;31mNameError\u001b[0m                                 Traceback (most recent call last)",
      "\u001b[1;32m<ipython-input-10-cb71afdbd9da>\u001b[0m in \u001b[0;36m<module>\u001b[1;34m\u001b[0m\n\u001b[0;32m      1\u001b[0m \u001b[1;31m#transfer learning\u001b[0m\u001b[1;33m\u001b[0m\u001b[1;33m\u001b[0m\u001b[1;33m\u001b[0m\u001b[0m\n\u001b[1;32m----> 2\u001b[1;33m \u001b[0mparams\u001b[0m \u001b[1;33m=\u001b[0m \u001b[0mCL_ParameterBucket\u001b[0m\u001b[1;33m(\u001b[0m\u001b[1;33m)\u001b[0m\u001b[1;33m\u001b[0m\u001b[1;33m\u001b[0m\u001b[0m\n\u001b[0m\u001b[0;32m      3\u001b[0m \u001b[0mparams\u001b[0m\u001b[1;33m.\u001b[0m\u001b[0mclf_model\u001b[0m \u001b[1;33m=\u001b[0m \u001b[0mSVC\u001b[0m\u001b[1;33m\u001b[0m\u001b[1;33m\u001b[0m\u001b[0m\n\u001b[0;32m      4\u001b[0m \u001b[0mparams\u001b[0m\u001b[1;33m.\u001b[0m\u001b[0mtest_size\u001b[0m \u001b[1;33m=\u001b[0m\u001b[1;36m0.33\u001b[0m\u001b[1;33m\u001b[0m\u001b[1;33m\u001b[0m\u001b[0m\n\u001b[0;32m      5\u001b[0m \u001b[0mparams\u001b[0m\u001b[1;33m.\u001b[0m\u001b[0mtraining_labels\u001b[0m \u001b[1;33m=\u001b[0m \u001b[0mLabels1\u001b[0m\u001b[1;33m\u001b[0m\u001b[1;33m\u001b[0m\u001b[0m\n",
      "\u001b[1;31mNameError\u001b[0m: name 'CL_ParameterBucket' is not defined"
     ]
    }
   ],
   "source": [
    "#transfer learning\n",
    "params = CL_ParameterBucket()\n",
    "params.clf_model = SVC\n",
    "params.test_size =0.33\n",
    "params.training_labels = Labels1\n",
    "params.test_labels = Labels2\n",
    "params.TF_Learning = True\n",
    "print(params)\n",
    "results = CL_PS(features1,params,features2)"
   ]
  },
  {
   "cell_type": "markdown",
   "metadata": {},
   "source": [
    "**Kernel Method**"
   ]
  },
  {
   "cell_type": "code",
   "execution_count": null,
   "metadata": {},
   "outputs": [],
   "source": [
    "import numpy as np\n",
    "import teaspoon.ML.feature_functions as Ff\n",
    "from teaspoon.ML.PD_Classification import CL_KM\n",
    "from teaspoon.ML.Base import CL_ParameterBucket\n",
    "from teaspoon.MakeData.PointCloud import testSetManifolds\n",
    "# generate two sets of persistence diagrams\n",
    "df_1 = testSetManifolds(numDgms = 5, numPts = 100)\n",
    "Diagrams_H1_1= df_1['Dgm1'].sort_index().values\n",
    "Labels_1 = df_1['trainingLabel'].sort_index().values\n",
    "#convert string labels into integers ones\n",
    "Labels_ = np.zeros((len(Diagrams_H1_1)))\n",
    "for i in range(len(Diagrams_H1_1)):\n",
    "    if Labels_1[i]=='Torus':\n",
    "        Labels_[i]=0\n",
    "    elif Labels_1[i]=='Annulus':\n",
    "        Labels_[i]=1\n",
    "    elif Labels_1[i]=='Cube':\n",
    "        Labels_[i]=2\n",
    "    elif Labels_1[i]=='3Cluster':\n",
    "        Labels_[i]=3\n",
    "    elif Labels_1[i]=='3Clusters of 3Clusters':\n",
    "        Labels_[i]=4\n",
    "    elif Labels_1[i]=='Sphere':\n",
    "        Labels_[i]=5\n",
    "params = CL_ParameterBucket()\n",
    "params.test_size =0.33\n",
    "params.Labels = Labels_\n",
    "params.sigma = 0.25\n",
    "results = CL_KM(Diagrams_H1_1,params)"
   ]
  },
  {
   "cell_type": "code",
   "execution_count": null,
   "metadata": {},
   "outputs": [],
   "source": []
  },
  {
   "cell_type": "code",
   "execution_count": null,
   "metadata": {},
   "outputs": [],
   "source": []
  },
  {
   "cell_type": "code",
   "execution_count": null,
   "metadata": {},
   "outputs": [],
   "source": [
    "import warnings\n",
    "warnings.filterwarnings('ignore')"
   ]
  },
  {
   "cell_type": "code",
   "execution_count": null,
   "metadata": {},
   "outputs": [],
   "source": []
  }
 ],
 "metadata": {
  "kernelspec": {
   "display_name": "Python 3",
   "language": "python",
   "name": "python3"
  },
  "language_info": {
   "codemirror_mode": {
    "name": "ipython",
    "version": 3
   },
   "file_extension": ".py",
   "mimetype": "text/x-python",
   "name": "python",
   "nbconvert_exporter": "python",
   "pygments_lexer": "ipython3",
   "version": "3.7.3"
  }
 },
 "nbformat": 4,
 "nbformat_minor": 4
}
